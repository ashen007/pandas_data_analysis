{
 "cells": [
  {
   "cell_type": "markdown",
   "metadata": {
    "collapsed": true,
    "pycharm": {
     "name": "#%% md\n"
    }
   },
   "source": [
    "## analysis"
   ]
  },
  {
   "cell_type": "markdown",
   "source": [
    "***import libraries needed***"
   ],
   "metadata": {
    "collapsed": false
   }
  },
  {
   "cell_type": "code",
   "execution_count": 1,
   "outputs": [],
   "source": [
    "import numpy as np\n",
    "import scipy as sp\n",
    "import pandas as pd\n",
    "import seaborn as sns\n",
    "from matplotlib import pyplot as plt"
   ],
   "metadata": {
    "collapsed": false,
    "pycharm": {
     "name": "#%%\n"
    }
   }
  },
  {
   "cell_type": "markdown",
   "source": [
    "***import train and test data sets***"
   ],
   "metadata": {
    "collapsed": false
   }
  },
  {
   "cell_type": "code",
   "execution_count": 2,
   "outputs": [],
   "source": [
    "train_data = pd.read_csv('../../../../../Machine Learning/case data/hose-price-prediction/train.csv')\n",
    "test_data = pd.read_csv('../../../../../Machine Learning/case data/hose-price-prediction/test.csv')"
   ],
   "metadata": {
    "collapsed": false,
    "pycharm": {
     "name": "#%%\n"
    }
   }
  },
  {
   "cell_type": "markdown",
   "source": [
    "***cleaning up data***"
   ],
   "metadata": {
    "collapsed": false,
    "pycharm": {
     "name": "#%% md\n"
    }
   }
  },
  {
   "cell_type": "code",
   "execution_count": 3,
   "outputs": [
    {
     "data": {
      "text/plain": "Index(['Id', 'MSSubClass', 'MSZoning', 'LotFrontage', 'LotArea', 'Street',\n       'Alley', 'LotShape', 'LandContour', 'Utilities', 'LotConfig',\n       'LandSlope', 'Neighborhood', 'Condition1', 'Condition2', 'BldgType',\n       'HouseStyle', 'OverallQual', 'OverallCond', 'YearBuilt', 'YearRemodAdd',\n       'RoofStyle', 'RoofMatl', 'Exterior1st', 'Exterior2nd', 'MasVnrType',\n       'MasVnrArea', 'ExterQual', 'ExterCond', 'Foundation', 'BsmtQual',\n       'BsmtCond', 'BsmtExposure', 'BsmtFinType1', 'BsmtFinSF1',\n       'BsmtFinType2', 'BsmtFinSF2', 'BsmtUnfSF', 'TotalBsmtSF', 'Heating',\n       'HeatingQC', 'CentralAir', 'Electrical', '1stFlrSF', '2ndFlrSF',\n       'LowQualFinSF', 'GrLivArea', 'BsmtFullBath', 'BsmtHalfBath', 'FullBath',\n       'HalfBath', 'BedroomAbvGr', 'KitchenAbvGr', 'KitchenQual',\n       'TotRmsAbvGrd', 'Functional', 'Fireplaces', 'FireplaceQu', 'GarageType',\n       'GarageYrBlt', 'GarageFinish', 'GarageCars', 'GarageArea', 'GarageQual',\n       'GarageCond', 'PavedDrive', 'WoodDeckSF', 'OpenPorchSF',\n       'EnclosedPorch', '3SsnPorch', 'ScreenPorch', 'PoolArea', 'PoolQC',\n       'Fence', 'MiscFeature', 'MiscVal', 'MoSold', 'YrSold', 'SaleType',\n       'SaleCondition', 'SalePrice'],\n      dtype='object')"
     },
     "execution_count": 3,
     "metadata": {},
     "output_type": "execute_result"
    }
   ],
   "source": [
    "# rename all feature label to lowercase\n",
    "train_data.columns"
   ],
   "metadata": {
    "collapsed": false,
    "pycharm": {
     "name": "#%%\n"
    }
   }
  },
  {
   "cell_type": "code",
   "execution_count": 7,
   "outputs": [
    {
     "data": {
      "text/plain": "Index(['id', 'mssubclass', 'mszoning', 'lotfrontage', 'lotarea', 'street',\n       'alley', 'lotshape', 'landcontour', 'utilities', 'lotconfig',\n       'landslope', 'neighborhood', 'condition1', 'condition2', 'bldgtype',\n       'housestyle', 'overallqual', 'overallcond', 'yearbuilt', 'yearremodadd',\n       'roofstyle', 'roofmatl', 'exterior1st', 'exterior2nd', 'masvnrtype',\n       'masvnrarea', 'exterqual', 'extercond', 'foundation', 'bsmtqual',\n       'bsmtcond', 'bsmtexposure', 'bsmtfintype1', 'bsmtfinsf1',\n       'bsmtfintype2', 'bsmtfinsf2', 'bsmtunfsf', 'totalbsmtsf', 'heating',\n       'heatingqc', 'centralair', 'electrical', '1stflrsf', '2ndflrsf',\n       'lowqualfinsf', 'grlivarea', 'bsmtfullbath', 'bsmthalfbath', 'fullbath',\n       'halfbath', 'bedroomabvgr', 'kitchenabvgr', 'kitchenqual',\n       'totrmsabvgrd', 'functional', 'fireplaces', 'fireplacequ', 'garagetype',\n       'garageyrblt', 'garagefinish', 'garagecars', 'garagearea', 'garagequal',\n       'garagecond', 'paveddrive', 'wooddecksf', 'openporchsf',\n       'enclosedporch', '3ssnporch', 'screenporch', 'poolarea', 'poolqc',\n       'fence', 'miscfeature', 'miscval', 'mosold', 'yrsold', 'saletype',\n       'salecondition', 'saleprice'],\n      dtype='object')"
     },
     "execution_count": 7,
     "metadata": {},
     "output_type": "execute_result"
    }
   ],
   "source": [
    "train_data.rename(str.lower,axis=1,inplace=True)\n",
    "train_data.columns"
   ],
   "metadata": {
    "collapsed": false,
    "pycharm": {
     "name": "#%%\n"
    }
   }
  },
  {
   "cell_type": "code",
   "execution_count": 8,
   "outputs": [
    {
     "data": {
      "text/plain": "    mssubclass mszoning  lotfrontage  lotarea street alley lotshape  \\\nid                                                                    \n1           60       RL         65.0     8450   Pave   NaN      Reg   \n2           20       RL         80.0     9600   Pave   NaN      Reg   \n3           60       RL         68.0    11250   Pave   NaN      IR1   \n4           70       RL         60.0     9550   Pave   NaN      IR1   \n5           60       RL         84.0    14260   Pave   NaN      IR1   \n\n   landcontour utilities lotconfig  ... poolarea poolqc fence miscfeature  \\\nid                                  ...                                     \n1          Lvl    AllPub    Inside  ...        0    NaN   NaN         NaN   \n2          Lvl    AllPub       FR2  ...        0    NaN   NaN         NaN   \n3          Lvl    AllPub    Inside  ...        0    NaN   NaN         NaN   \n4          Lvl    AllPub    Corner  ...        0    NaN   NaN         NaN   \n5          Lvl    AllPub       FR2  ...        0    NaN   NaN         NaN   \n\n   miscval mosold  yrsold  saletype  salecondition  saleprice  \nid                                                             \n1        0      2    2008        WD         Normal     208500  \n2        0      5    2007        WD         Normal     181500  \n3        0      9    2008        WD         Normal     223500  \n4        0      2    2006        WD        Abnorml     140000  \n5        0     12    2008        WD         Normal     250000  \n\n[5 rows x 80 columns]",
      "text/html": "<div>\n<style scoped>\n    .dataframe tbody tr th:only-of-type {\n        vertical-align: middle;\n    }\n\n    .dataframe tbody tr th {\n        vertical-align: top;\n    }\n\n    .dataframe thead th {\n        text-align: right;\n    }\n</style>\n<table border=\"1\" class=\"dataframe\">\n  <thead>\n    <tr style=\"text-align: right;\">\n      <th></th>\n      <th>mssubclass</th>\n      <th>mszoning</th>\n      <th>lotfrontage</th>\n      <th>lotarea</th>\n      <th>street</th>\n      <th>alley</th>\n      <th>lotshape</th>\n      <th>landcontour</th>\n      <th>utilities</th>\n      <th>lotconfig</th>\n      <th>...</th>\n      <th>poolarea</th>\n      <th>poolqc</th>\n      <th>fence</th>\n      <th>miscfeature</th>\n      <th>miscval</th>\n      <th>mosold</th>\n      <th>yrsold</th>\n      <th>saletype</th>\n      <th>salecondition</th>\n      <th>saleprice</th>\n    </tr>\n    <tr>\n      <th>id</th>\n      <th></th>\n      <th></th>\n      <th></th>\n      <th></th>\n      <th></th>\n      <th></th>\n      <th></th>\n      <th></th>\n      <th></th>\n      <th></th>\n      <th></th>\n      <th></th>\n      <th></th>\n      <th></th>\n      <th></th>\n      <th></th>\n      <th></th>\n      <th></th>\n      <th></th>\n      <th></th>\n      <th></th>\n    </tr>\n  </thead>\n  <tbody>\n    <tr>\n      <th>1</th>\n      <td>60</td>\n      <td>RL</td>\n      <td>65.0</td>\n      <td>8450</td>\n      <td>Pave</td>\n      <td>NaN</td>\n      <td>Reg</td>\n      <td>Lvl</td>\n      <td>AllPub</td>\n      <td>Inside</td>\n      <td>...</td>\n      <td>0</td>\n      <td>NaN</td>\n      <td>NaN</td>\n      <td>NaN</td>\n      <td>0</td>\n      <td>2</td>\n      <td>2008</td>\n      <td>WD</td>\n      <td>Normal</td>\n      <td>208500</td>\n    </tr>\n    <tr>\n      <th>2</th>\n      <td>20</td>\n      <td>RL</td>\n      <td>80.0</td>\n      <td>9600</td>\n      <td>Pave</td>\n      <td>NaN</td>\n      <td>Reg</td>\n      <td>Lvl</td>\n      <td>AllPub</td>\n      <td>FR2</td>\n      <td>...</td>\n      <td>0</td>\n      <td>NaN</td>\n      <td>NaN</td>\n      <td>NaN</td>\n      <td>0</td>\n      <td>5</td>\n      <td>2007</td>\n      <td>WD</td>\n      <td>Normal</td>\n      <td>181500</td>\n    </tr>\n    <tr>\n      <th>3</th>\n      <td>60</td>\n      <td>RL</td>\n      <td>68.0</td>\n      <td>11250</td>\n      <td>Pave</td>\n      <td>NaN</td>\n      <td>IR1</td>\n      <td>Lvl</td>\n      <td>AllPub</td>\n      <td>Inside</td>\n      <td>...</td>\n      <td>0</td>\n      <td>NaN</td>\n      <td>NaN</td>\n      <td>NaN</td>\n      <td>0</td>\n      <td>9</td>\n      <td>2008</td>\n      <td>WD</td>\n      <td>Normal</td>\n      <td>223500</td>\n    </tr>\n    <tr>\n      <th>4</th>\n      <td>70</td>\n      <td>RL</td>\n      <td>60.0</td>\n      <td>9550</td>\n      <td>Pave</td>\n      <td>NaN</td>\n      <td>IR1</td>\n      <td>Lvl</td>\n      <td>AllPub</td>\n      <td>Corner</td>\n      <td>...</td>\n      <td>0</td>\n      <td>NaN</td>\n      <td>NaN</td>\n      <td>NaN</td>\n      <td>0</td>\n      <td>2</td>\n      <td>2006</td>\n      <td>WD</td>\n      <td>Abnorml</td>\n      <td>140000</td>\n    </tr>\n    <tr>\n      <th>5</th>\n      <td>60</td>\n      <td>RL</td>\n      <td>84.0</td>\n      <td>14260</td>\n      <td>Pave</td>\n      <td>NaN</td>\n      <td>IR1</td>\n      <td>Lvl</td>\n      <td>AllPub</td>\n      <td>FR2</td>\n      <td>...</td>\n      <td>0</td>\n      <td>NaN</td>\n      <td>NaN</td>\n      <td>NaN</td>\n      <td>0</td>\n      <td>12</td>\n      <td>2008</td>\n      <td>WD</td>\n      <td>Normal</td>\n      <td>250000</td>\n    </tr>\n  </tbody>\n</table>\n<p>5 rows × 80 columns</p>\n</div>"
     },
     "execution_count": 8,
     "metadata": {},
     "output_type": "execute_result"
    }
   ],
   "source": [
    "# redefine index column\n",
    "train_data.set_index('id',inplace=True)\n",
    "train_data.head(5)"
   ],
   "metadata": {
    "collapsed": false,
    "pycharm": {
     "name": "#%%\n"
    }
   }
  },
  {
   "cell_type": "code",
   "execution_count": 9,
   "outputs": [
    {
     "data": {
      "text/plain": "mssubclass           20.0\nlotfrontage          80.0\nlotarea            9600.0\noverallqual           6.0\noverallcond           8.0\nyearbuilt          1976.0\nyearremodadd       1976.0\nmasvnrarea            0.0\nbsmtfinsf1          978.0\nbsmtfinsf2            0.0\nbsmtunfsf           284.0\ntotalbsmtsf        1262.0\n1stflrsf           1262.0\n2ndflrsf              0.0\nlowqualfinsf          0.0\ngrlivarea          1262.0\nbsmtfullbath          0.0\nbsmthalfbath          1.0\nfullbath              2.0\nhalfbath              0.0\nbedroomabvgr          3.0\nkitchenabvgr          1.0\ntotrmsabvgrd          6.0\nfireplaces            1.0\ngarageyrblt        1976.0\ngaragecars            2.0\ngaragearea          460.0\nwooddecksf          298.0\nopenporchsf           0.0\nenclosedporch         0.0\n3ssnporch             0.0\nscreenporch           0.0\npoolarea              0.0\nmiscval               0.0\nmosold                5.0\nyrsold             2007.0\nsaleprice        181500.0\nName: 2, dtype: float64"
     },
     "execution_count": 9,
     "metadata": {},
     "output_type": "execute_result"
    }
   ],
   "source": [
    "# type conversion\n",
    "train_data.select_dtypes(include=np.number).iloc[1].T"
   ],
   "metadata": {
    "collapsed": false,
    "pycharm": {
     "name": "#%%\n"
    }
   }
  },
  {
   "cell_type": "code",
   "execution_count": 10,
   "outputs": [
    {
     "data": {
      "text/plain": "mszoning              RL\nstreet              Pave\nalley                NaN\nlotshape             Reg\nlandcontour          Lvl\nutilities         AllPub\nlotconfig            FR2\nlandslope            Gtl\nneighborhood     Veenker\ncondition1         Feedr\ncondition2          Norm\nbldgtype            1Fam\nhousestyle        1Story\nroofstyle          Gable\nroofmatl         CompShg\nexterior1st      MetalSd\nexterior2nd      MetalSd\nmasvnrtype          None\nexterqual             TA\nextercond             TA\nfoundation        CBlock\nbsmtqual              Gd\nbsmtcond              TA\nbsmtexposure          Gd\nbsmtfintype1         ALQ\nbsmtfintype2         Unf\nheating             GasA\nheatingqc             Ex\ncentralair             Y\nelectrical         SBrkr\nkitchenqual           TA\nfunctional           Typ\nfireplacequ           TA\ngaragetype        Attchd\ngaragefinish         RFn\ngaragequal            TA\ngaragecond            TA\npaveddrive             Y\npoolqc               NaN\nfence                NaN\nmiscfeature          NaN\nsaletype              WD\nsalecondition     Normal\nName: 2, dtype: object"
     },
     "execution_count": 10,
     "metadata": {},
     "output_type": "execute_result"
    }
   ],
   "source": [
    "train_data.select_dtypes(include=np.object).iloc[1].T"
   ],
   "metadata": {
    "collapsed": false,
    "pycharm": {
     "name": "#%%\n"
    }
   }
  },
  {
   "cell_type": "code",
   "execution_count": null,
   "outputs": [],
   "source": [],
   "metadata": {
    "collapsed": false,
    "pycharm": {
     "name": "#%%\n"
    }
   }
  }
 ],
 "metadata": {
  "kernelspec": {
   "display_name": "Python 3",
   "language": "python",
   "name": "python3"
  },
  "language_info": {
   "codemirror_mode": {
    "name": "ipython",
    "version": 2
   },
   "file_extension": ".py",
   "mimetype": "text/x-python",
   "name": "python",
   "nbconvert_exporter": "python",
   "pygments_lexer": "ipython2",
   "version": "2.7.6"
  }
 },
 "nbformat": 4,
 "nbformat_minor": 0
}