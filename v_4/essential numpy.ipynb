{
 "cells": [
  {
   "cell_type": "markdown",
   "metadata": {
    "collapsed": true,
    "pycharm": {
     "name": "#%% md\n"
    }
   },
   "source": [
    "## multidimensional array object"
   ]
  },
  {
   "cell_type": "code",
   "source": [
    "import numpy as np\n",
    "from pandas import read_pickle"
   ],
   "metadata": {
    "collapsed": false,
    "pycharm": {
     "name": "#%%\n"
    }
   },
   "execution_count": 2,
   "outputs": []
  },
  {
   "cell_type": "code",
   "execution_count": 3,
   "outputs": [
    {
     "data": {
      "text/plain": "      mssubclass mszoning  lotfrontage  ...  saletype salecondition saleprice\nid                                      ...                                  \n1             60       RL         65.0  ...        WD        Normal    208500\n2             20       RL         80.0  ...        WD        Normal    181500\n3             60       RL         68.0  ...        WD        Normal    223500\n4             70       RL         60.0  ...        WD       Abnorml    140000\n5             60       RL         84.0  ...        WD        Normal    250000\n...          ...      ...          ...  ...       ...           ...       ...\n1456          60       RL         62.0  ...        WD        Normal    175000\n1457          20       RL         85.0  ...        WD        Normal    210000\n1458          70       RL         66.0  ...        WD        Normal    266500\n1459          20       RL         68.0  ...        WD        Normal    142125\n1460          20       RL         75.0  ...        WD        Normal    147500\n\n[1460 rows x 76 columns]",
      "text/html": "<div>\n<style scoped>\n    .dataframe tbody tr th:only-of-type {\n        vertical-align: middle;\n    }\n\n    .dataframe tbody tr th {\n        vertical-align: top;\n    }\n\n    .dataframe thead th {\n        text-align: right;\n    }\n</style>\n<table border=\"1\" class=\"dataframe\">\n  <thead>\n    <tr style=\"text-align: right;\">\n      <th></th>\n      <th>mssubclass</th>\n      <th>mszoning</th>\n      <th>lotfrontage</th>\n      <th>lotarea</th>\n      <th>street</th>\n      <th>lotshape</th>\n      <th>landcontour</th>\n      <th>utilities</th>\n      <th>lotconfig</th>\n      <th>landslope</th>\n      <th>neighborhood</th>\n      <th>condition1</th>\n      <th>condition2</th>\n      <th>bldgtype</th>\n      <th>housestyle</th>\n      <th>overallqual</th>\n      <th>overallcond</th>\n      <th>yearbuilt</th>\n      <th>yearremodadd</th>\n      <th>roofstyle</th>\n      <th>roofmatl</th>\n      <th>exterior1st</th>\n      <th>exterior2nd</th>\n      <th>masvnrtype</th>\n      <th>masvnrarea</th>\n      <th>exterqual</th>\n      <th>extercond</th>\n      <th>foundation</th>\n      <th>bsmtqual</th>\n      <th>bsmtcond</th>\n      <th>bsmtexposure</th>\n      <th>bsmtfintype1</th>\n      <th>bsmtfinsf1</th>\n      <th>bsmtfintype2</th>\n      <th>bsmtfinsf2</th>\n      <th>bsmtunfsf</th>\n      <th>totalbsmtsf</th>\n      <th>heating</th>\n      <th>heatingqc</th>\n      <th>centralair</th>\n      <th>electrical</th>\n      <th>1stflrsf</th>\n      <th>2ndflrsf</th>\n      <th>lowqualfinsf</th>\n      <th>grlivarea</th>\n      <th>bsmtfullbath</th>\n      <th>bsmthalfbath</th>\n      <th>fullbath</th>\n      <th>halfbath</th>\n      <th>bedroomabvgr</th>\n      <th>kitchenabvgr</th>\n      <th>kitchenqual</th>\n      <th>totrmsabvgrd</th>\n      <th>functional</th>\n      <th>fireplaces</th>\n      <th>fireplacequ</th>\n      <th>garagetype</th>\n      <th>garageyrblt</th>\n      <th>garagefinish</th>\n      <th>garagecars</th>\n      <th>garagearea</th>\n      <th>garagequal</th>\n      <th>garagecond</th>\n      <th>paveddrive</th>\n      <th>wooddecksf</th>\n      <th>openporchsf</th>\n      <th>enclosedporch</th>\n      <th>3ssnporch</th>\n      <th>screenporch</th>\n      <th>poolarea</th>\n      <th>miscval</th>\n      <th>mosold</th>\n      <th>yrsold</th>\n      <th>saletype</th>\n      <th>salecondition</th>\n      <th>saleprice</th>\n    </tr>\n    <tr>\n      <th>id</th>\n      <th></th>\n      <th></th>\n      <th></th>\n      <th></th>\n      <th></th>\n      <th></th>\n      <th></th>\n      <th></th>\n      <th></th>\n      <th></th>\n      <th></th>\n      <th></th>\n      <th></th>\n      <th></th>\n      <th></th>\n      <th></th>\n      <th></th>\n      <th></th>\n      <th></th>\n      <th></th>\n      <th></th>\n      <th></th>\n      <th></th>\n      <th></th>\n      <th></th>\n      <th></th>\n      <th></th>\n      <th></th>\n      <th></th>\n      <th></th>\n      <th></th>\n      <th></th>\n      <th></th>\n      <th></th>\n      <th></th>\n      <th></th>\n      <th></th>\n      <th></th>\n      <th></th>\n      <th></th>\n      <th></th>\n      <th></th>\n      <th></th>\n      <th></th>\n      <th></th>\n      <th></th>\n      <th></th>\n      <th></th>\n      <th></th>\n      <th></th>\n      <th></th>\n      <th></th>\n      <th></th>\n      <th></th>\n      <th></th>\n      <th></th>\n      <th></th>\n      <th></th>\n      <th></th>\n      <th></th>\n      <th></th>\n      <th></th>\n      <th></th>\n      <th></th>\n      <th></th>\n      <th></th>\n      <th></th>\n      <th></th>\n      <th></th>\n      <th></th>\n      <th></th>\n      <th></th>\n      <th></th>\n      <th></th>\n      <th></th>\n      <th></th>\n    </tr>\n  </thead>\n  <tbody>\n    <tr>\n      <th>1</th>\n      <td>60</td>\n      <td>RL</td>\n      <td>65.0</td>\n      <td>8450</td>\n      <td>Pave</td>\n      <td>Reg</td>\n      <td>Lvl</td>\n      <td>AllPub</td>\n      <td>Inside</td>\n      <td>Gtl</td>\n      <td>CollgCr</td>\n      <td>Norm</td>\n      <td>Norm</td>\n      <td>1Fam</td>\n      <td>2Story</td>\n      <td>7</td>\n      <td>5</td>\n      <td>2003</td>\n      <td>2003</td>\n      <td>Gable</td>\n      <td>CompShg</td>\n      <td>VinylSd</td>\n      <td>VinylSd</td>\n      <td>BrkFace</td>\n      <td>196.0</td>\n      <td>Gd</td>\n      <td>TA</td>\n      <td>PConc</td>\n      <td>Gd</td>\n      <td>TA</td>\n      <td>No</td>\n      <td>GLQ</td>\n      <td>706</td>\n      <td>Unf</td>\n      <td>0</td>\n      <td>150</td>\n      <td>856</td>\n      <td>GasA</td>\n      <td>Ex</td>\n      <td>Y</td>\n      <td>SBrkr</td>\n      <td>856</td>\n      <td>854</td>\n      <td>0</td>\n      <td>1710</td>\n      <td>1</td>\n      <td>0</td>\n      <td>2</td>\n      <td>1</td>\n      <td>3</td>\n      <td>1</td>\n      <td>Gd</td>\n      <td>8</td>\n      <td>Typ</td>\n      <td>0</td>\n      <td>None</td>\n      <td>Attchd</td>\n      <td>2003.0</td>\n      <td>RFn</td>\n      <td>2</td>\n      <td>548</td>\n      <td>TA</td>\n      <td>TA</td>\n      <td>Y</td>\n      <td>0</td>\n      <td>61</td>\n      <td>0</td>\n      <td>0</td>\n      <td>0</td>\n      <td>0</td>\n      <td>0</td>\n      <td>2</td>\n      <td>2008</td>\n      <td>WD</td>\n      <td>Normal</td>\n      <td>208500</td>\n    </tr>\n    <tr>\n      <th>2</th>\n      <td>20</td>\n      <td>RL</td>\n      <td>80.0</td>\n      <td>9600</td>\n      <td>Pave</td>\n      <td>Reg</td>\n      <td>Lvl</td>\n      <td>AllPub</td>\n      <td>FR2</td>\n      <td>Gtl</td>\n      <td>Veenker</td>\n      <td>Feedr</td>\n      <td>Norm</td>\n      <td>1Fam</td>\n      <td>1Story</td>\n      <td>6</td>\n      <td>8</td>\n      <td>1976</td>\n      <td>1976</td>\n      <td>Gable</td>\n      <td>CompShg</td>\n      <td>MetalSd</td>\n      <td>MetalSd</td>\n      <td>None</td>\n      <td>0.0</td>\n      <td>TA</td>\n      <td>TA</td>\n      <td>CBlock</td>\n      <td>Gd</td>\n      <td>TA</td>\n      <td>Gd</td>\n      <td>ALQ</td>\n      <td>978</td>\n      <td>Unf</td>\n      <td>0</td>\n      <td>284</td>\n      <td>1262</td>\n      <td>GasA</td>\n      <td>Ex</td>\n      <td>Y</td>\n      <td>SBrkr</td>\n      <td>1262</td>\n      <td>0</td>\n      <td>0</td>\n      <td>1262</td>\n      <td>0</td>\n      <td>1</td>\n      <td>2</td>\n      <td>0</td>\n      <td>3</td>\n      <td>1</td>\n      <td>TA</td>\n      <td>6</td>\n      <td>Typ</td>\n      <td>1</td>\n      <td>TA</td>\n      <td>Attchd</td>\n      <td>1976.0</td>\n      <td>RFn</td>\n      <td>2</td>\n      <td>460</td>\n      <td>TA</td>\n      <td>TA</td>\n      <td>Y</td>\n      <td>298</td>\n      <td>0</td>\n      <td>0</td>\n      <td>0</td>\n      <td>0</td>\n      <td>0</td>\n      <td>0</td>\n      <td>5</td>\n      <td>2007</td>\n      <td>WD</td>\n      <td>Normal</td>\n      <td>181500</td>\n    </tr>\n    <tr>\n      <th>3</th>\n      <td>60</td>\n      <td>RL</td>\n      <td>68.0</td>\n      <td>11250</td>\n      <td>Pave</td>\n      <td>IR1</td>\n      <td>Lvl</td>\n      <td>AllPub</td>\n      <td>Inside</td>\n      <td>Gtl</td>\n      <td>CollgCr</td>\n      <td>Norm</td>\n      <td>Norm</td>\n      <td>1Fam</td>\n      <td>2Story</td>\n      <td>7</td>\n      <td>5</td>\n      <td>2001</td>\n      <td>2002</td>\n      <td>Gable</td>\n      <td>CompShg</td>\n      <td>VinylSd</td>\n      <td>VinylSd</td>\n      <td>BrkFace</td>\n      <td>162.0</td>\n      <td>Gd</td>\n      <td>TA</td>\n      <td>PConc</td>\n      <td>Gd</td>\n      <td>TA</td>\n      <td>Mn</td>\n      <td>GLQ</td>\n      <td>486</td>\n      <td>Unf</td>\n      <td>0</td>\n      <td>434</td>\n      <td>920</td>\n      <td>GasA</td>\n      <td>Ex</td>\n      <td>Y</td>\n      <td>SBrkr</td>\n      <td>920</td>\n      <td>866</td>\n      <td>0</td>\n      <td>1786</td>\n      <td>1</td>\n      <td>0</td>\n      <td>2</td>\n      <td>1</td>\n      <td>3</td>\n      <td>1</td>\n      <td>Gd</td>\n      <td>6</td>\n      <td>Typ</td>\n      <td>1</td>\n      <td>TA</td>\n      <td>Attchd</td>\n      <td>2001.0</td>\n      <td>RFn</td>\n      <td>2</td>\n      <td>608</td>\n      <td>TA</td>\n      <td>TA</td>\n      <td>Y</td>\n      <td>0</td>\n      <td>42</td>\n      <td>0</td>\n      <td>0</td>\n      <td>0</td>\n      <td>0</td>\n      <td>0</td>\n      <td>9</td>\n      <td>2008</td>\n      <td>WD</td>\n      <td>Normal</td>\n      <td>223500</td>\n    </tr>\n    <tr>\n      <th>4</th>\n      <td>70</td>\n      <td>RL</td>\n      <td>60.0</td>\n      <td>9550</td>\n      <td>Pave</td>\n      <td>IR1</td>\n      <td>Lvl</td>\n      <td>AllPub</td>\n      <td>Corner</td>\n      <td>Gtl</td>\n      <td>Crawfor</td>\n      <td>Norm</td>\n      <td>Norm</td>\n      <td>1Fam</td>\n      <td>2Story</td>\n      <td>7</td>\n      <td>5</td>\n      <td>1915</td>\n      <td>1970</td>\n      <td>Gable</td>\n      <td>CompShg</td>\n      <td>Wd Sdng</td>\n      <td>Wd Shng</td>\n      <td>None</td>\n      <td>0.0</td>\n      <td>TA</td>\n      <td>TA</td>\n      <td>BrkTil</td>\n      <td>TA</td>\n      <td>Gd</td>\n      <td>No</td>\n      <td>ALQ</td>\n      <td>216</td>\n      <td>Unf</td>\n      <td>0</td>\n      <td>540</td>\n      <td>756</td>\n      <td>GasA</td>\n      <td>Gd</td>\n      <td>Y</td>\n      <td>SBrkr</td>\n      <td>961</td>\n      <td>756</td>\n      <td>0</td>\n      <td>1717</td>\n      <td>1</td>\n      <td>0</td>\n      <td>1</td>\n      <td>0</td>\n      <td>3</td>\n      <td>1</td>\n      <td>Gd</td>\n      <td>7</td>\n      <td>Typ</td>\n      <td>1</td>\n      <td>Gd</td>\n      <td>Detchd</td>\n      <td>1998.0</td>\n      <td>Unf</td>\n      <td>3</td>\n      <td>642</td>\n      <td>TA</td>\n      <td>TA</td>\n      <td>Y</td>\n      <td>0</td>\n      <td>35</td>\n      <td>272</td>\n      <td>0</td>\n      <td>0</td>\n      <td>0</td>\n      <td>0</td>\n      <td>2</td>\n      <td>2006</td>\n      <td>WD</td>\n      <td>Abnorml</td>\n      <td>140000</td>\n    </tr>\n    <tr>\n      <th>5</th>\n      <td>60</td>\n      <td>RL</td>\n      <td>84.0</td>\n      <td>14260</td>\n      <td>Pave</td>\n      <td>IR1</td>\n      <td>Lvl</td>\n      <td>AllPub</td>\n      <td>FR2</td>\n      <td>Gtl</td>\n      <td>NoRidge</td>\n      <td>Norm</td>\n      <td>Norm</td>\n      <td>1Fam</td>\n      <td>2Story</td>\n      <td>8</td>\n      <td>5</td>\n      <td>2000</td>\n      <td>2000</td>\n      <td>Gable</td>\n      <td>CompShg</td>\n      <td>VinylSd</td>\n      <td>VinylSd</td>\n      <td>BrkFace</td>\n      <td>350.0</td>\n      <td>Gd</td>\n      <td>TA</td>\n      <td>PConc</td>\n      <td>Gd</td>\n      <td>TA</td>\n      <td>Av</td>\n      <td>GLQ</td>\n      <td>655</td>\n      <td>Unf</td>\n      <td>0</td>\n      <td>490</td>\n      <td>1145</td>\n      <td>GasA</td>\n      <td>Ex</td>\n      <td>Y</td>\n      <td>SBrkr</td>\n      <td>1145</td>\n      <td>1053</td>\n      <td>0</td>\n      <td>2198</td>\n      <td>1</td>\n      <td>0</td>\n      <td>2</td>\n      <td>1</td>\n      <td>4</td>\n      <td>1</td>\n      <td>Gd</td>\n      <td>9</td>\n      <td>Typ</td>\n      <td>1</td>\n      <td>TA</td>\n      <td>Attchd</td>\n      <td>2000.0</td>\n      <td>RFn</td>\n      <td>3</td>\n      <td>836</td>\n      <td>TA</td>\n      <td>TA</td>\n      <td>Y</td>\n      <td>192</td>\n      <td>84</td>\n      <td>0</td>\n      <td>0</td>\n      <td>0</td>\n      <td>0</td>\n      <td>0</td>\n      <td>12</td>\n      <td>2008</td>\n      <td>WD</td>\n      <td>Normal</td>\n      <td>250000</td>\n    </tr>\n    <tr>\n      <th>...</th>\n      <td>...</td>\n      <td>...</td>\n      <td>...</td>\n      <td>...</td>\n      <td>...</td>\n      <td>...</td>\n      <td>...</td>\n      <td>...</td>\n      <td>...</td>\n      <td>...</td>\n      <td>...</td>\n      <td>...</td>\n      <td>...</td>\n      <td>...</td>\n      <td>...</td>\n      <td>...</td>\n      <td>...</td>\n      <td>...</td>\n      <td>...</td>\n      <td>...</td>\n      <td>...</td>\n      <td>...</td>\n      <td>...</td>\n      <td>...</td>\n      <td>...</td>\n      <td>...</td>\n      <td>...</td>\n      <td>...</td>\n      <td>...</td>\n      <td>...</td>\n      <td>...</td>\n      <td>...</td>\n      <td>...</td>\n      <td>...</td>\n      <td>...</td>\n      <td>...</td>\n      <td>...</td>\n      <td>...</td>\n      <td>...</td>\n      <td>...</td>\n      <td>...</td>\n      <td>...</td>\n      <td>...</td>\n      <td>...</td>\n      <td>...</td>\n      <td>...</td>\n      <td>...</td>\n      <td>...</td>\n      <td>...</td>\n      <td>...</td>\n      <td>...</td>\n      <td>...</td>\n      <td>...</td>\n      <td>...</td>\n      <td>...</td>\n      <td>...</td>\n      <td>...</td>\n      <td>...</td>\n      <td>...</td>\n      <td>...</td>\n      <td>...</td>\n      <td>...</td>\n      <td>...</td>\n      <td>...</td>\n      <td>...</td>\n      <td>...</td>\n      <td>...</td>\n      <td>...</td>\n      <td>...</td>\n      <td>...</td>\n      <td>...</td>\n      <td>...</td>\n      <td>...</td>\n      <td>...</td>\n      <td>...</td>\n      <td>...</td>\n    </tr>\n    <tr>\n      <th>1456</th>\n      <td>60</td>\n      <td>RL</td>\n      <td>62.0</td>\n      <td>7917</td>\n      <td>Pave</td>\n      <td>Reg</td>\n      <td>Lvl</td>\n      <td>AllPub</td>\n      <td>Inside</td>\n      <td>Gtl</td>\n      <td>Gilbert</td>\n      <td>Norm</td>\n      <td>Norm</td>\n      <td>1Fam</td>\n      <td>2Story</td>\n      <td>6</td>\n      <td>5</td>\n      <td>1999</td>\n      <td>2000</td>\n      <td>Gable</td>\n      <td>CompShg</td>\n      <td>VinylSd</td>\n      <td>VinylSd</td>\n      <td>None</td>\n      <td>0.0</td>\n      <td>TA</td>\n      <td>TA</td>\n      <td>PConc</td>\n      <td>Gd</td>\n      <td>TA</td>\n      <td>No</td>\n      <td>Unf</td>\n      <td>0</td>\n      <td>Unf</td>\n      <td>0</td>\n      <td>953</td>\n      <td>953</td>\n      <td>GasA</td>\n      <td>Ex</td>\n      <td>Y</td>\n      <td>SBrkr</td>\n      <td>953</td>\n      <td>694</td>\n      <td>0</td>\n      <td>1647</td>\n      <td>0</td>\n      <td>0</td>\n      <td>2</td>\n      <td>1</td>\n      <td>3</td>\n      <td>1</td>\n      <td>TA</td>\n      <td>7</td>\n      <td>Typ</td>\n      <td>1</td>\n      <td>TA</td>\n      <td>Attchd</td>\n      <td>1999.0</td>\n      <td>RFn</td>\n      <td>2</td>\n      <td>460</td>\n      <td>TA</td>\n      <td>TA</td>\n      <td>Y</td>\n      <td>0</td>\n      <td>40</td>\n      <td>0</td>\n      <td>0</td>\n      <td>0</td>\n      <td>0</td>\n      <td>0</td>\n      <td>8</td>\n      <td>2007</td>\n      <td>WD</td>\n      <td>Normal</td>\n      <td>175000</td>\n    </tr>\n    <tr>\n      <th>1457</th>\n      <td>20</td>\n      <td>RL</td>\n      <td>85.0</td>\n      <td>13175</td>\n      <td>Pave</td>\n      <td>Reg</td>\n      <td>Lvl</td>\n      <td>AllPub</td>\n      <td>Inside</td>\n      <td>Gtl</td>\n      <td>NWAmes</td>\n      <td>Norm</td>\n      <td>Norm</td>\n      <td>1Fam</td>\n      <td>1Story</td>\n      <td>6</td>\n      <td>6</td>\n      <td>1978</td>\n      <td>1988</td>\n      <td>Gable</td>\n      <td>CompShg</td>\n      <td>Plywood</td>\n      <td>Plywood</td>\n      <td>Stone</td>\n      <td>119.0</td>\n      <td>TA</td>\n      <td>TA</td>\n      <td>CBlock</td>\n      <td>Gd</td>\n      <td>TA</td>\n      <td>No</td>\n      <td>ALQ</td>\n      <td>790</td>\n      <td>Rec</td>\n      <td>163</td>\n      <td>589</td>\n      <td>1542</td>\n      <td>GasA</td>\n      <td>TA</td>\n      <td>Y</td>\n      <td>SBrkr</td>\n      <td>2073</td>\n      <td>0</td>\n      <td>0</td>\n      <td>2073</td>\n      <td>1</td>\n      <td>0</td>\n      <td>2</td>\n      <td>0</td>\n      <td>3</td>\n      <td>1</td>\n      <td>TA</td>\n      <td>7</td>\n      <td>Min1</td>\n      <td>2</td>\n      <td>TA</td>\n      <td>Attchd</td>\n      <td>1978.0</td>\n      <td>Unf</td>\n      <td>2</td>\n      <td>500</td>\n      <td>TA</td>\n      <td>TA</td>\n      <td>Y</td>\n      <td>349</td>\n      <td>0</td>\n      <td>0</td>\n      <td>0</td>\n      <td>0</td>\n      <td>0</td>\n      <td>0</td>\n      <td>2</td>\n      <td>2010</td>\n      <td>WD</td>\n      <td>Normal</td>\n      <td>210000</td>\n    </tr>\n    <tr>\n      <th>1458</th>\n      <td>70</td>\n      <td>RL</td>\n      <td>66.0</td>\n      <td>9042</td>\n      <td>Pave</td>\n      <td>Reg</td>\n      <td>Lvl</td>\n      <td>AllPub</td>\n      <td>Inside</td>\n      <td>Gtl</td>\n      <td>Crawfor</td>\n      <td>Norm</td>\n      <td>Norm</td>\n      <td>1Fam</td>\n      <td>2Story</td>\n      <td>7</td>\n      <td>9</td>\n      <td>1941</td>\n      <td>2006</td>\n      <td>Gable</td>\n      <td>CompShg</td>\n      <td>CemntBd</td>\n      <td>CmentBd</td>\n      <td>None</td>\n      <td>0.0</td>\n      <td>Ex</td>\n      <td>Gd</td>\n      <td>Stone</td>\n      <td>TA</td>\n      <td>Gd</td>\n      <td>No</td>\n      <td>GLQ</td>\n      <td>275</td>\n      <td>Unf</td>\n      <td>0</td>\n      <td>877</td>\n      <td>1152</td>\n      <td>GasA</td>\n      <td>Ex</td>\n      <td>Y</td>\n      <td>SBrkr</td>\n      <td>1188</td>\n      <td>1152</td>\n      <td>0</td>\n      <td>2340</td>\n      <td>0</td>\n      <td>0</td>\n      <td>2</td>\n      <td>0</td>\n      <td>4</td>\n      <td>1</td>\n      <td>Gd</td>\n      <td>9</td>\n      <td>Typ</td>\n      <td>2</td>\n      <td>Gd</td>\n      <td>Attchd</td>\n      <td>1941.0</td>\n      <td>RFn</td>\n      <td>1</td>\n      <td>252</td>\n      <td>TA</td>\n      <td>TA</td>\n      <td>Y</td>\n      <td>0</td>\n      <td>60</td>\n      <td>0</td>\n      <td>0</td>\n      <td>0</td>\n      <td>0</td>\n      <td>2500</td>\n      <td>5</td>\n      <td>2010</td>\n      <td>WD</td>\n      <td>Normal</td>\n      <td>266500</td>\n    </tr>\n    <tr>\n      <th>1459</th>\n      <td>20</td>\n      <td>RL</td>\n      <td>68.0</td>\n      <td>9717</td>\n      <td>Pave</td>\n      <td>Reg</td>\n      <td>Lvl</td>\n      <td>AllPub</td>\n      <td>Inside</td>\n      <td>Gtl</td>\n      <td>NAmes</td>\n      <td>Norm</td>\n      <td>Norm</td>\n      <td>1Fam</td>\n      <td>1Story</td>\n      <td>5</td>\n      <td>6</td>\n      <td>1950</td>\n      <td>1996</td>\n      <td>Hip</td>\n      <td>CompShg</td>\n      <td>MetalSd</td>\n      <td>MetalSd</td>\n      <td>None</td>\n      <td>0.0</td>\n      <td>TA</td>\n      <td>TA</td>\n      <td>CBlock</td>\n      <td>TA</td>\n      <td>TA</td>\n      <td>Mn</td>\n      <td>GLQ</td>\n      <td>49</td>\n      <td>Rec</td>\n      <td>1029</td>\n      <td>0</td>\n      <td>1078</td>\n      <td>GasA</td>\n      <td>Gd</td>\n      <td>Y</td>\n      <td>FuseA</td>\n      <td>1078</td>\n      <td>0</td>\n      <td>0</td>\n      <td>1078</td>\n      <td>1</td>\n      <td>0</td>\n      <td>1</td>\n      <td>0</td>\n      <td>2</td>\n      <td>1</td>\n      <td>Gd</td>\n      <td>5</td>\n      <td>Typ</td>\n      <td>0</td>\n      <td>None</td>\n      <td>Attchd</td>\n      <td>1950.0</td>\n      <td>Unf</td>\n      <td>1</td>\n      <td>240</td>\n      <td>TA</td>\n      <td>TA</td>\n      <td>Y</td>\n      <td>366</td>\n      <td>0</td>\n      <td>112</td>\n      <td>0</td>\n      <td>0</td>\n      <td>0</td>\n      <td>0</td>\n      <td>4</td>\n      <td>2010</td>\n      <td>WD</td>\n      <td>Normal</td>\n      <td>142125</td>\n    </tr>\n    <tr>\n      <th>1460</th>\n      <td>20</td>\n      <td>RL</td>\n      <td>75.0</td>\n      <td>9937</td>\n      <td>Pave</td>\n      <td>Reg</td>\n      <td>Lvl</td>\n      <td>AllPub</td>\n      <td>Inside</td>\n      <td>Gtl</td>\n      <td>Edwards</td>\n      <td>Norm</td>\n      <td>Norm</td>\n      <td>1Fam</td>\n      <td>1Story</td>\n      <td>5</td>\n      <td>6</td>\n      <td>1965</td>\n      <td>1965</td>\n      <td>Gable</td>\n      <td>CompShg</td>\n      <td>HdBoard</td>\n      <td>HdBoard</td>\n      <td>None</td>\n      <td>0.0</td>\n      <td>Gd</td>\n      <td>TA</td>\n      <td>CBlock</td>\n      <td>TA</td>\n      <td>TA</td>\n      <td>No</td>\n      <td>BLQ</td>\n      <td>830</td>\n      <td>LwQ</td>\n      <td>290</td>\n      <td>136</td>\n      <td>1256</td>\n      <td>GasA</td>\n      <td>Gd</td>\n      <td>Y</td>\n      <td>SBrkr</td>\n      <td>1256</td>\n      <td>0</td>\n      <td>0</td>\n      <td>1256</td>\n      <td>1</td>\n      <td>0</td>\n      <td>1</td>\n      <td>1</td>\n      <td>3</td>\n      <td>1</td>\n      <td>TA</td>\n      <td>6</td>\n      <td>Typ</td>\n      <td>0</td>\n      <td>None</td>\n      <td>Attchd</td>\n      <td>1965.0</td>\n      <td>Fin</td>\n      <td>1</td>\n      <td>276</td>\n      <td>TA</td>\n      <td>TA</td>\n      <td>Y</td>\n      <td>736</td>\n      <td>68</td>\n      <td>0</td>\n      <td>0</td>\n      <td>0</td>\n      <td>0</td>\n      <td>0</td>\n      <td>6</td>\n      <td>2008</td>\n      <td>WD</td>\n      <td>Normal</td>\n      <td>147500</td>\n    </tr>\n  </tbody>\n</table>\n<p>1460 rows × 76 columns</p>\n</div>"
     },
     "execution_count": 3,
     "metadata": {},
     "output_type": "execute_result"
    }
   ],
   "source": [
    "train_data = read_pickle('../data/cleaned_train_data.pkl')\n",
    "train_data"
   ],
   "metadata": {
    "collapsed": false,
    "pycharm": {
     "name": "#%%\n"
    }
   }
  },
  {
   "cell_type": "code",
   "execution_count": 4,
   "outputs": [
    {
     "data": {
      "text/plain": "array([[60, 'RL', 65.0, ..., 'WD', 'Normal', 208500],\n       [20, 'RL', 80.0, ..., 'WD', 'Normal', 181500],\n       [60, 'RL', 68.0, ..., 'WD', 'Normal', 223500],\n       ...,\n       [70, 'RL', 66.0, ..., 'WD', 'Normal', 266500],\n       [20, 'RL', 68.0, ..., 'WD', 'Normal', 142125],\n       [20, 'RL', 75.0, ..., 'WD', 'Normal', 147500]], dtype=object)"
     },
     "execution_count": 4,
     "metadata": {},
     "output_type": "execute_result"
    }
   ],
   "source": [
    "data = np.asarray(train_data)\n",
    "data"
   ],
   "metadata": {
    "collapsed": false,
    "pycharm": {
     "name": "#%%\n"
    }
   }
  },
  {
   "cell_type": "markdown",
   "source": [
    "***shape***"
   ],
   "metadata": {
    "collapsed": false
   }
  },
  {
   "cell_type": "code",
   "execution_count": 5,
   "outputs": [
    {
     "data": {
      "text/plain": "(1460, 76)"
     },
     "execution_count": 5,
     "metadata": {},
     "output_type": "execute_result"
    }
   ],
   "source": [
    "data.shape"
   ],
   "metadata": {
    "collapsed": false,
    "pycharm": {
     "name": "#%%\n"
    }
   }
  },
  {
   "cell_type": "code",
   "execution_count": 8,
   "outputs": [
    {
     "data": {
      "text/plain": "2"
     },
     "execution_count": 8,
     "metadata": {},
     "output_type": "execute_result"
    }
   ],
   "source": [
    "data.ndim"
   ],
   "metadata": {
    "collapsed": false,
    "pycharm": {
     "name": "#%%\n"
    }
   }
  },
  {
   "cell_type": "code",
   "execution_count": 9,
   "outputs": [
    {
     "data": {
      "text/plain": "dtype('O')"
     },
     "execution_count": 9,
     "metadata": {},
     "output_type": "execute_result"
    }
   ],
   "source": [
    "data.dtype"
   ],
   "metadata": {
    "collapsed": false,
    "pycharm": {
     "name": "#%%\n"
    }
   }
  },
  {
   "cell_type": "markdown",
   "source": [
    "***creating ndarrays***"
   ],
   "metadata": {
    "collapsed": false
   }
  },
  {
   "cell_type": "code",
   "execution_count": 6,
   "outputs": [
    {
     "data": {
      "text/plain": "array([31, 47,  4, 33, 30, 33,  2, 27,  3, 75, 42, 80, 17, 41, 59, 33, 95,\n       10,  0, 11])"
     },
     "execution_count": 6,
     "metadata": {},
     "output_type": "execute_result"
    }
   ],
   "source": [
    "a_array = np.array(np.random.randint(0, 100, 20))\n",
    "a_array"
   ],
   "metadata": {
    "collapsed": false,
    "pycharm": {
     "name": "#%%\n"
    }
   }
  },
  {
   "cell_type": "code",
   "execution_count": 7,
   "outputs": [
    {
     "data": {
      "text/plain": "array([[108, 385, 475, 265, 310, 113, 395, 486, 286, 494, 395, 294],\n       [ 65,  72,  71,  48,  53,  43,  84,  52,  38,  64,  93,  53]])"
     },
     "execution_count": 7,
     "metadata": {},
     "output_type": "execute_result"
    }
   ],
   "source": [
    "a_array = np.array([np.random.randint(100, 500, 12), np.random.randint(0, 100, 12)])\n",
    "a_array"
   ],
   "metadata": {
    "collapsed": false,
    "pycharm": {
     "name": "#%%\n"
    }
   }
  },
  {
   "cell_type": "markdown",
   "source": [
    "***special arrays***"
   ],
   "metadata": {
    "collapsed": false
   }
  },
  {
   "cell_type": "code",
   "execution_count": 13,
   "outputs": [
    {
     "data": {
      "text/plain": "(array([0., 0., 0., 0., 0., 0., 0., 0., 0., 0.]),\n array([1., 1., 1., 1., 1., 1., 1., 1., 1., 1.]),\n array([[1., 1., 1., 1., 1.],\n        [1., 1., 1., 1., 1.]]),\n array([[0., 0., 0., 0., 0.],\n        [0., 0., 0., 0., 0.]]),\n array([[1., 0., 0., 0.],\n        [0., 1., 0., 0.],\n        [0., 0., 1., 0.],\n        [0., 0., 0., 1.]]),\n array([[1., 0., 0., 0.],\n        [0., 1., 0., 0.],\n        [0., 0., 1., 0.],\n        [0., 0., 0., 1.]]))"
     },
     "execution_count": 13,
     "metadata": {},
     "output_type": "execute_result"
    }
   ],
   "source": [
    "np.zeros(10), np.ones(10), np.ones((2, 5)), np.zeros((2, 5)), np.eye(4), np.identity(4)"
   ],
   "metadata": {
    "collapsed": false,
    "pycharm": {
     "name": "#%%\n"
    }
   }
  },
  {
   "cell_type": "markdown",
   "source": [
    "***meta data***"
   ],
   "metadata": {
    "collapsed": false
   }
  },
  {
   "cell_type": "code",
   "execution_count": 14,
   "outputs": [
    {
     "data": {
      "text/plain": "(array([25., 47., 31., 46., 23., 31., 31., 16., 38., 21.]),\n array([63, 88, 60, 68, 51, 80, 58, 70, 53, 89]))"
     },
     "execution_count": 14,
     "metadata": {},
     "output_type": "execute_result"
    }
   ],
   "source": [
    "np.array(np.random.randint(10, 50, 10), float), np.array(np.random.randint(50, 100, 10), int)"
   ],
   "metadata": {
    "collapsed": false,
    "pycharm": {
     "name": "#%%\n"
    }
   }
  },
  {
   "cell_type": "markdown",
   "source": [
    "## indexing and slicing"
   ],
   "metadata": {
    "collapsed": false
   }
  },
  {
   "cell_type": "code",
   "execution_count": 15,
   "outputs": [
    {
     "data": {
      "text/plain": "array([[60, 'RL', 65.0, ..., 'WD', 'Normal', 208500],\n       [20, 'RL', 80.0, ..., 'WD', 'Normal', 181500],\n       [60, 'RL', 68.0, ..., 'WD', 'Normal', 223500],\n       ...,\n       [70, 'RL', 66.0, ..., 'WD', 'Normal', 266500],\n       [20, 'RL', 68.0, ..., 'WD', 'Normal', 142125],\n       [20, 'RL', 75.0, ..., 'WD', 'Normal', 147500]], dtype=object)"
     },
     "execution_count": 15,
     "metadata": {},
     "output_type": "execute_result"
    }
   ],
   "source": [
    "data[:]"
   ],
   "metadata": {
    "collapsed": false,
    "pycharm": {
     "name": "#%%\n"
    }
   }
  },
  {
   "cell_type": "code",
   "execution_count": 16,
   "outputs": [
    {
     "data": {
      "text/plain": "array([20, 'RL', 75.0, 10084, 'Pave', 'Reg', 'Lvl', 'AllPub', 'Inside',\n       'Gtl', 'Somerst', 'Norm', 'Norm', '1Fam', '1Story', 8, 5, 2004,\n       2005, 'Gable', 'CompShg', 'VinylSd', 'VinylSd', 'Stone', 186.0,\n       'Gd', 'TA', 'PConc', 'Ex', 'TA', 'Av', 'GLQ', 1369, 'Unf', 0, 317,\n       1686, 'GasA', 'Ex', 'Y', 'SBrkr', 1694, 0, 0, 1694, 1, 0, 2, 0, 3,\n       1, 'Gd', 7, 'Typ', 1, 'Gd', 'Attchd', 2004.0, 'RFn', 2, 636, 'TA',\n       'TA', 'Y', 255, 57, 0, 0, 0, 0, 0, 8, 2007, 'WD', 'Normal', 307000],\n      dtype=object)"
     },
     "execution_count": 16,
     "metadata": {},
     "output_type": "execute_result"
    }
   ],
   "source": [
    "data[6]"
   ],
   "metadata": {
    "collapsed": false,
    "pycharm": {
     "name": "#%%\n"
    }
   }
  },
  {
   "cell_type": "code",
   "execution_count": 17,
   "outputs": [
    {
     "data": {
      "text/plain": "'RL'"
     },
     "execution_count": 17,
     "metadata": {},
     "output_type": "execute_result"
    }
   ],
   "source": [
    "data[6, 1]"
   ],
   "metadata": {
    "collapsed": false,
    "pycharm": {
     "name": "#%%\n"
    }
   }
  },
  {
   "cell_type": "code",
   "execution_count": 19,
   "outputs": [
    {
     "data": {
      "text/plain": "array([[[60, 'RL', 65.0, ..., 2003, 2003, 'Gable'],\n        ['CompShg', 'VinylSd', 'VinylSd', ..., 'GasA', 'Ex', 'Y'],\n        ['SBrkr', 856, 854, ..., 2003.0, 'RFn', 2],\n        ...,\n        [6, 1958, 1965, ..., 'Unf', 0, 525],\n        [1029, 'GasA', 'TA', ..., 'Min1', 0, 'None'],\n        ['Attchd', 1958.0, 'Unf', ..., 'COD', 'Abnorml', 139000]],\n\n       [[60, 'RL', 101.0, ..., 2005, 2006, 'Gable'],\n        ['CompShg', 'VinylSd', 'VinylSd', ..., 'GasA', 'Ex', 'Y'],\n        ['SBrkr', 1158, 1218, ..., 2005.0, 'RFn', 3],\n        ...,\n        [5, 1955, 1955, ..., 'None', 0, 0],\n        [0, 'GasA', 'TA', ..., 'Typ', 0, 'None'],\n        ['None', 0.0, 'None', ..., 'WD', 'AdjLand', 82000]],\n\n       [[20, 'RL', 84.0, ..., 1965, 1965, 'Gable'],\n        ['CompShg', 'Wd Sdng', 'Wd Sdng', ..., 'GasA', 'Ex', 'Y'],\n        ['SBrkr', 1324, 0, ..., 1965.0, 'RFn', 2],\n        ...,\n        [7, 1972, 1972, ..., 'Unf', 0, 148],\n        [780, 'GasA', 'Ex', ..., 'Typ', 0, 'None'],\n        ['Detchd', 1973.0, 'Unf', ..., 'WD', 'Normal', 124900]],\n\n       ...,\n\n       [[50, 'RM', 50.0, ..., 1929, 1950, 'Gable'],\n        ['CompShg', 'WdShing', 'Wd Shng', ..., 'GasA', 'TA', 'Y'],\n        ['SBrkr', 950, 208, ..., 1929.0, 'RFn', 1],\n        ...,\n        [5, 1969, 1969, ..., 'Unf', 0, 734],\n        [1844, 'GasA', 'Gd', ..., 'Typ', 1, 'TA'],\n        ['Attchd', 1969.0, 'RFn', ..., 'WD', 'Normal', 223000]],\n\n       [[60, 'RL', 90.0, ..., 1968, 1968, 'Gable'],\n        ['CompShg', 'HdBoard', 'HdBoard', ..., 'GasA', 'Gd', 'Y'],\n        ['SBrkr', 708, 708, ..., 1968.0, 'RFn', 2],\n        ...,\n        [6, 1979, 1979, ..., 'Rec', 110, 114],\n        [539, 'GasA', 'TA', ..., 'Typ', 1, 'TA'],\n        ['Attchd', 1979.0, 'RFn', ..., 'WD', 'Normal', 197000]],\n\n       [[70, 'RL', 79.0, ..., 1922, 1994, 'Gable'],\n        ['CompShg', 'MetalSd', 'MetalSd', ..., 'GasA', 'Fa', 'Y'],\n        ['SBrkr', 1423, 748, ..., 1993.0, 'Fin', 2],\n        ...,\n        [6, 1965, 1965, ..., 'LwQ', 290, 136],\n        [1256, 'GasA', 'Gd', ..., 'Typ', 0, 'None'],\n        ['Attchd', 1965.0, 'Fin', ..., 'WD', 'Normal', 147500]]],\n      dtype=object)"
     },
     "execution_count": 19,
     "metadata": {},
     "output_type": "execute_result"
    }
   ],
   "source": [
    "test_3rd_array = data.copy().reshape((73, 76, 20))\n",
    "test_3rd_array"
   ],
   "metadata": {
    "collapsed": false,
    "pycharm": {
     "name": "#%%\n"
    }
   }
  },
  {
   "cell_type": "code",
   "execution_count": 22,
   "outputs": [
    {
     "data": {
      "text/plain": "((73, 76, 20), (76, 20))"
     },
     "execution_count": 22,
     "metadata": {},
     "output_type": "execute_result"
    }
   ],
   "source": [
    "test_3rd_array.shape, test_3rd_array[10].shape"
   ],
   "metadata": {
    "collapsed": false,
    "pycharm": {
     "name": "#%%\n"
    }
   }
  },
  {
   "cell_type": "code",
   "execution_count": 23,
   "outputs": [
    {
     "data": {
      "text/plain": "array([0, 2, 1, 'TA', 6, 'Min1', 0, 'None', 'Attchd', 1924.0, 'Unf', 1,\n       398, 'TA', 'TA', 'Y', 0, 0, 126, 0], dtype=object)"
     },
     "execution_count": 23,
     "metadata": {},
     "output_type": "execute_result"
    }
   ],
   "source": [
    "test_3rd_array[10, 10]"
   ],
   "metadata": {
    "collapsed": false,
    "pycharm": {
     "name": "#%%\n"
    }
   }
  },
  {
   "cell_type": "code",
   "execution_count": 24,
   "outputs": [
    {
     "data": {
      "text/plain": "'Unf'"
     },
     "execution_count": 24,
     "metadata": {},
     "output_type": "execute_result"
    }
   ],
   "source": [
    "test_3rd_array[10, 10, 10]"
   ],
   "metadata": {
    "collapsed": false,
    "pycharm": {
     "name": "#%%\n"
    }
   }
  },
  {
   "cell_type": "code",
   "execution_count": 26,
   "outputs": [
    {
     "data": {
      "text/plain": "(array([[60, 'RL', 65.0, 8450, 'Pave', 'Reg', 'Lvl', 'AllPub', 'Inside',\n         'Gtl', 'CollgCr', 'Norm', 'Norm', '1Fam', '2Story', 7, 5, 2003,\n         2003, 'Gable', 'CompShg', 'VinylSd', 'VinylSd', 'BrkFace', 196.0,\n         'Gd', 'TA', 'PConc', 'Gd', 'TA', 'No', 'GLQ', 706, 'Unf', 0, 150,\n         856, 'GasA', 'Ex', 'Y', 'SBrkr', 856, 854, 0, 1710, 1, 0, 2, 1,\n         3, 1, 'Gd', 8, 'Typ', 0, 'None', 'Attchd', 2003.0, 'RFn', 2, 548,\n         'TA', 'TA', 'Y', 0, 61, 0, 0, 0, 0, 0, 2, 2008, 'WD', 'Normal',\n         208500],\n        [20, 'RL', 80.0, 9600, 'Pave', 'Reg', 'Lvl', 'AllPub', 'FR2',\n         'Gtl', 'Veenker', 'Feedr', 'Norm', '1Fam', '1Story', 6, 8, 1976,\n         1976, 'Gable', 'CompShg', 'MetalSd', 'MetalSd', 'None', 0.0,\n         'TA', 'TA', 'CBlock', 'Gd', 'TA', 'Gd', 'ALQ', 978, 'Unf', 0,\n         284, 1262, 'GasA', 'Ex', 'Y', 'SBrkr', 1262, 0, 0, 1262, 0, 1, 2,\n         0, 3, 1, 'TA', 6, 'Typ', 1, 'TA', 'Attchd', 1976.0, 'RFn', 2,\n         460, 'TA', 'TA', 'Y', 298, 0, 0, 0, 0, 0, 0, 5, 2007, 'WD',\n         'Normal', 181500]], dtype=object),\n array([[[60, 'RL', 65.0, ..., 2003, 2003, 'Gable'],\n         ['CompShg', 'VinylSd', 'VinylSd', ..., 'GasA', 'Ex', 'Y'],\n         ['SBrkr', 856, 854, ..., 2003.0, 'RFn', 2],\n         ...,\n         [6, 1958, 1965, ..., 'Unf', 0, 525],\n         [1029, 'GasA', 'TA', ..., 'Min1', 0, 'None'],\n         ['Attchd', 1958.0, 'Unf', ..., 'COD', 'Abnorml', 139000]],\n \n        [[60, 'RL', 101.0, ..., 2005, 2006, 'Gable'],\n         ['CompShg', 'VinylSd', 'VinylSd', ..., 'GasA', 'Ex', 'Y'],\n         ['SBrkr', 1158, 1218, ..., 2005.0, 'RFn', 3],\n         ...,\n         [5, 1955, 1955, ..., 'None', 0, 0],\n         [0, 'GasA', 'TA', ..., 'Typ', 0, 'None'],\n         ['None', 0.0, 'None', ..., 'WD', 'AdjLand', 82000]]], dtype=object))"
     },
     "execution_count": 26,
     "metadata": {},
     "output_type": "execute_result"
    }
   ],
   "source": [
    "data[:2], test_3rd_array[:2]"
   ],
   "metadata": {
    "collapsed": false,
    "pycharm": {
     "name": "#%%\n"
    }
   }
  },
  {
   "cell_type": "code",
   "execution_count": 27,
   "outputs": [
    {
     "data": {
      "text/plain": "array(['RL', 'RL'], dtype=object)"
     },
     "execution_count": 27,
     "metadata": {},
     "output_type": "execute_result"
    }
   ],
   "source": [
    "data[:2, 1]"
   ],
   "metadata": {
    "collapsed": false,
    "pycharm": {
     "name": "#%%\n"
    }
   }
  },
  {
   "cell_type": "code",
   "execution_count": 29,
   "outputs": [
    {
     "data": {
      "text/plain": "array([20, 'RL'], dtype=object)"
     },
     "execution_count": 29,
     "metadata": {},
     "output_type": "execute_result"
    }
   ],
   "source": [
    "data[1, :2]"
   ],
   "metadata": {
    "collapsed": false,
    "pycharm": {
     "name": "#%%\n"
    }
   }
  },
  {
   "cell_type": "code",
   "execution_count": 28,
   "outputs": [
    {
     "data": {
      "text/plain": "array([[60, 'RL'],\n       [20, 'RL']], dtype=object)"
     },
     "execution_count": 28,
     "metadata": {},
     "output_type": "execute_result"
    }
   ],
   "source": [
    "data[:2, :2]"
   ],
   "metadata": {
    "collapsed": false,
    "pycharm": {
     "name": "#%%\n"
    }
   }
  },
  {
   "cell_type": "code",
   "execution_count": 30,
   "outputs": [
    {
     "data": {
      "text/plain": "array([65.0, 80.0, 68.0, ..., 66.0, 68.0, 75.0], dtype=object)"
     },
     "execution_count": 30,
     "metadata": {},
     "output_type": "execute_result"
    }
   ],
   "source": [
    "data[:, 2]"
   ],
   "metadata": {
    "collapsed": false,
    "pycharm": {
     "name": "#%%\n"
    }
   }
  },
  {
   "cell_type": "code",
   "execution_count": 31,
   "outputs": [
    {
     "data": {
      "text/plain": "array([[[60, 'RL'],\n        ['CompShg', 'VinylSd']],\n\n       [[60, 'RL'],\n        ['CompShg', 'VinylSd']]], dtype=object)"
     },
     "execution_count": 31,
     "metadata": {},
     "output_type": "execute_result"
    }
   ],
   "source": [
    "test_3rd_array[:2, :2, :2]"
   ],
   "metadata": {
    "collapsed": false,
    "pycharm": {
     "name": "#%%\n"
    }
   }
  },
  {
   "cell_type": "markdown",
   "source": [
    "***fancy indexing***"
   ],
   "metadata": {
    "collapsed": false
   }
  },
  {
   "cell_type": "code",
   "execution_count": 42,
   "outputs": [
    {
     "data": {
      "text/plain": "12"
     },
     "execution_count": 42,
     "metadata": {},
     "output_type": "execute_result"
    }
   ],
   "source": [
    "test_nd = data.copy()[data[:, 1] != 'RL'] = 12\n",
    "test_nd"
   ],
   "metadata": {
    "collapsed": false,
    "pycharm": {
     "name": "#%%\n"
    }
   }
  },
  {
   "cell_type": "code",
   "execution_count": 43,
   "outputs": [
    {
     "data": {
      "text/plain": "array([[20, 'RL', 67.0, 9808, 'Pave', 'IR1', 'Lvl', 'AllPub', 'Inside',\n        'Gtl', 'CollgCr', 'Norm', 'Norm', '1Fam', '1Story', 7, 5, 2002,\n        2002, 'Gable', 'CompShg', 'VinylSd', 'VinylSd', 'BrkFace', 110.0,\n        'Gd', 'TA', 'PConc', 'Gd', 'TA', 'No', 'GLQ', 788, 'Unf', 0, 785,\n        1573, 'GasA', 'Ex', 'Y', 'SBrkr', 1573, 0, 0, 1573, 1, 0, 2, 0,\n        3, 1, 'Gd', 6, 'Typ', 0, 'None', 'Attchd', 2002.0, 'RFn', 2, 544,\n        'TA', 'TA', 'Y', 0, 72, 0, 0, 0, 0, 0, 3, 2009, 'WD', 'Normal',\n        227000],\n       [60, 'RL', 108.0, 13418, 'Pave', 'Reg', 'Lvl', 'AllPub', 'Inside',\n        'Gtl', 'NridgHt', 'Norm', 'Norm', '1Fam', '2Story', 8, 5, 2004,\n        2005, 'Gable', 'CompShg', 'VinylSd', 'VinylSd', 'Stone', 132.0,\n        'Gd', 'TA', 'PConc', 'Ex', 'TA', 'Av', 'Unf', 0, 'Unf', 0, 1117,\n        1117, 'GasA', 'Ex', 'Y', 'SBrkr', 1132, 1320, 0, 2452, 0, 0, 3,\n        1, 4, 1, 'Gd', 9, 'Typ', 1, 'Gd', 'BuiltIn', 2004.0, 'Fin', 3,\n        691, 'TA', 'TA', 'Y', 113, 32, 0, 0, 0, 0, 0, 9, 2006, 'WD',\n        'Normal', 309000],\n       [80, 'RL', 74.68004338394793, 9125, 'Pave', 'IR1', 'Lvl',\n        'AllPub', 'Inside', 'Gtl', 'Gilbert', 'Norm', 'Norm', '1Fam',\n        'SLvl', 7, 5, 1992, 1992, 'Gable', 'CompShg', 'HdBoard',\n        'HdBoard', 'BrkFace', 170.0, 'TA', 'TA', 'PConc', 'Gd', 'TA',\n        'No', 'Unf', 0, 'Unf', 0, 384, 384, 'GasA', 'Gd', 'Y', 'SBrkr',\n        812, 670, 0, 1482, 0, 0, 2, 1, 3, 1, 'Gd', 7, 'Typ', 1, 'TA',\n        'Attchd', 1992.0, 'Fin', 2, 392, 'TA', 'TA', 'Y', 100, 25, 0, 0,\n        0, 0, 0, 7, 2007, 'WD', 'Normal', 163900],\n       [20, 'RL', 88.0, 10994, 'Pave', 'IR1', 'Lvl', 'AllPub', 'Corner',\n        'Gtl', 'SawyerW', 'Norm', 'Norm', '1Fam', '1Story', 8, 5, 2005,\n        2006, 'Gable', 'CompShg', 'VinylSd', 'VinylSd', 'Stone', 366.0,\n        'Gd', 'TA', 'PConc', 'Gd', 'Gd', 'No', 'GLQ', 976, 'Unf', 0, 868,\n        1844, 'GasA', 'Ex', 'Y', 'SBrkr', 1844, 0, 0, 1844, 1, 0, 2, 0,\n        2, 1, 'Gd', 7, 'Typ', 1, 'Gd', 'Attchd', 2005.0, 'Fin', 2, 620,\n        'TA', 'TA', 'Y', 165, 44, 0, 0, 0, 0, 0, 9, 2009, 'COD',\n        'Abnorml', 257000],\n       [20, 'RL', 50.0, 14859, 'Pave', 'IR1', 'HLS', 'AllPub', 'CulDSac',\n        'Gtl', 'Gilbert', 'Norm', 'Norm', '1Fam', '1Story', 7, 5, 2006,\n        2006, 'Hip', 'CompShg', 'VinylSd', 'VinylSd', 'BrkFace', 27.0,\n        'Gd', 'TA', 'PConc', 'Gd', 'TA', 'No', 'Unf', 0, 'Unf', 0, 1670,\n        1670, 'GasA', 'Ex', 'Y', 'SBrkr', 1670, 0, 0, 1670, 0, 0, 2, 0,\n        3, 1, 'Gd', 7, 'Typ', 1, 'Gd', 'Attchd', 2006.0, 'RFn', 3, 690,\n        'TA', 'TA', 'Y', 144, 60, 0, 0, 0, 0, 0, 8, 2006, 'New',\n        'Partial', 240000],\n       [90, 'RL', 60.0, 12900, 'Pave', 'Reg', 'Lvl', 'AllPub', 'Inside',\n        'Gtl', 'Sawyer', 'Feedr', 'Norm', 'Duplex', 'SFoyer', 4, 4, 1969,\n        1969, 'Gable', 'CompShg', 'Plywood', 'Plywood', 'None', 0.0,\n        'TA', 'TA', 'CBlock', 'Gd', 'TA', 'Av', 'GLQ', 1198, 'Unf', 0, 0,\n        1198, 'GasA', 'TA', 'Y', 'SBrkr', 1258, 0, 0, 1258, 2, 0, 0, 2,\n        0, 2, 'TA', 6, 'Typ', 0, 'None', 'CarPort', 1969.0, 'Unf', 2,\n        400, 'Fa', 'TA', 'Y', 120, 0, 0, 0, 0, 0, 0, 1, 2008, 'WD',\n        'Alloca', 108959],\n       [80, 'RL', 74.68004338394793, 19690, 'Pave', 'IR1', 'Lvl',\n        'AllPub', 'CulDSac', 'Gtl', 'Edwards', 'Norm', 'Norm', '1Fam',\n        'SLvl', 6, 7, 1966, 1966, 'Flat', 'Tar&Grv', 'Plywood',\n        'Plywood', 'None', 0.0, 'Gd', 'Gd', 'CBlock', 'Gd', 'TA', 'Av',\n        'Unf', 0, 'Unf', 0, 697, 697, 'GasA', 'TA', 'Y', 'SBrkr', 1575,\n        626, 0, 2201, 0, 0, 2, 0, 4, 1, 'Gd', 8, 'Typ', 1, 'Gd',\n        'Attchd', 1966.0, 'Unf', 2, 432, 'Gd', 'Gd', 'Y', 586, 236, 0, 0,\n        0, 738, 0, 8, 2006, 'WD', 'Alloca', 274970],\n       [60, 'RL', 92.0, 10120, 'Pave', 'Reg', 'Lvl', 'AllPub', 'Inside',\n        'Gtl', 'NoRidge', 'Norm', 'Norm', '1Fam', '2Story', 8, 5, 1994,\n        1994, 'Hip', 'CompShg', 'VinylSd', 'VinylSd', 'BrkFace', 391.0,\n        'Gd', 'TA', 'PConc', 'Gd', 'TA', 'No', 'GLQ', 740, 'Unf', 0, 425,\n        1165, 'GasA', 'Ex', 'Y', 'SBrkr', 1203, 1323, 0, 2526, 1, 0, 2,\n        1, 4, 1, 'Gd', 8, 'Typ', 1, 'TA', 'Attchd', 1994.0, 'RFn', 3,\n        844, 'TA', 'TA', 'Y', 309, 78, 0, 0, 0, 0, 0, 12, 2006, 'WD',\n        'Normal', 290000],\n       [20, 'RL', 70.0, 7763, 'Pave', 'Reg', 'Lvl', 'AllPub', 'Inside',\n        'Gtl', 'NAmes', 'Norm', 'Norm', '1Fam', '1Story', 5, 7, 1962,\n        1980, 'Gable', 'CompShg', 'MetalSd', 'MetalSd', 'None', 0.0,\n        'TA', 'Gd', 'CBlock', 'TA', 'TA', 'No', 'Rec', 504, 'BLQ', 108,\n        319, 931, 'GasA', 'TA', 'Y', 'SBrkr', 1283, 0, 0, 1283, 1, 0, 1,\n        0, 3, 1, 'TA', 6, 'Typ', 0, 'None', 'Detchd', 1980.0, 'Unf', 2,\n        506, 'TA', 'TA', 'Y', 0, 0, 0, 0, 0, 0, 0, 10, 2008, 'WD',\n        'Normal', 140000],\n       [60, 'FV', 102.0, 11143, 'Pave', 'IR1', 'Lvl', 'AllPub', 'Corner',\n        'Gtl', 'Somerst', 'Norm', 'Norm', '1Fam', '2Story', 8, 5, 2004,\n        2005, 'Gable', 'CompShg', 'CemntBd', 'CmentBd', 'None', 0.0,\n        'Gd', 'TA', 'PConc', 'Gd', 'TA', 'No', 'Unf', 0, 'Unf', 0, 1580,\n        1580, 'GasA', 'Ex', 'Y', 'SBrkr', 1580, 886, 0, 2466, 0, 0, 3, 0,\n        4, 1, 'Gd', 8, 'Typ', 1, 'Gd', 'Attchd', 2004.0, 'RFn', 2, 610,\n        'TA', 'TA', 'Y', 159, 214, 0, 0, 0, 0, 0, 12, 2007, 'WD',\n        'Normal', 340000]], dtype=object)"
     },
     "execution_count": 43,
     "metadata": {},
     "output_type": "execute_result"
    }
   ],
   "source": [
    "array_index = {np.random.randint(0, 1460) for i in range(10)}\n",
    "data[list(array_index)]"
   ],
   "metadata": {
    "collapsed": false,
    "pycharm": {
     "name": "#%%\n"
    }
   }
  },
  {
   "cell_type": "markdown",
   "source": [
    "## transposing arrays and swapping axes"
   ],
   "metadata": {
    "collapsed": false,
    "pycharm": {
     "name": "#%% md\n"
    }
   }
  },
  {
   "cell_type": "code",
   "execution_count": 44,
   "outputs": [
    {
     "data": {
      "text/plain": "((1460, 76), (76, 1460))"
     },
     "execution_count": 44,
     "metadata": {},
     "output_type": "execute_result"
    }
   ],
   "source": [
    "data.shape, data.T.shape"
   ],
   "metadata": {
    "collapsed": false,
    "pycharm": {
     "name": "#%%\n"
    }
   }
  },
  {
   "cell_type": "code",
   "execution_count": 45,
   "outputs": [
    {
     "data": {
      "text/plain": "((73, 76, 20), (73, 20, 76))"
     },
     "execution_count": 45,
     "metadata": {},
     "output_type": "execute_result"
    }
   ],
   "source": [
    "test_3rd_array.shape, test_3rd_array.swapaxes(1,2).shape"
   ],
   "metadata": {
    "collapsed": false,
    "pycharm": {
     "name": "#%%\n"
    }
   }
  }
 ],
 "metadata": {
  "kernelspec": {
   "display_name": "Python 3",
   "language": "python",
   "name": "python3"
  },
  "language_info": {
   "codemirror_mode": {
    "name": "ipython",
    "version": 2
   },
   "file_extension": ".py",
   "mimetype": "text/x-python",
   "name": "python",
   "nbconvert_exporter": "python",
   "pygments_lexer": "ipython2",
   "version": "2.7.6"
  }
 },
 "nbformat": 4,
 "nbformat_minor": 0
}