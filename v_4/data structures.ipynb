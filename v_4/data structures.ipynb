{
 "cells": [
  {
   "cell_type": "code",
   "execution_count": 1,
   "metadata": {
    "collapsed": true
   },
   "outputs": [],
   "source": [
    "import numpy as np\n",
    "import scipy.stats as ss\n",
    "import pandas as pd"
   ]
  },
  {
   "cell_type": "code",
   "execution_count": 15,
   "outputs": [
    {
     "data": {
      "text/plain": "      mssubclass mszoning  lotfrontage  lotarea street lotshape landcontour  \\\nid                                                                            \n1             60       RL         65.0     8450   Pave      Reg         Lvl   \n2             20       RL         80.0     9600   Pave      Reg         Lvl   \n3             60       RL         68.0    11250   Pave      IR1         Lvl   \n4             70       RL         60.0     9550   Pave      IR1         Lvl   \n5             60       RL         84.0    14260   Pave      IR1         Lvl   \n...          ...      ...          ...      ...    ...      ...         ...   \n1456          60       RL         62.0     7917   Pave      Reg         Lvl   \n1457          20       RL         85.0    13175   Pave      Reg         Lvl   \n1458          70       RL         66.0     9042   Pave      Reg         Lvl   \n1459          20       RL         68.0     9717   Pave      Reg         Lvl   \n1460          20       RL         75.0     9937   Pave      Reg         Lvl   \n\n     utilities lotconfig landslope  ... enclosedporch 3ssnporch screenporch  \\\nid                                  ...                                       \n1       AllPub    Inside       Gtl  ...             0         0           0   \n2       AllPub       FR2       Gtl  ...             0         0           0   \n3       AllPub    Inside       Gtl  ...             0         0           0   \n4       AllPub    Corner       Gtl  ...           272         0           0   \n5       AllPub       FR2       Gtl  ...             0         0           0   \n...        ...       ...       ...  ...           ...       ...         ...   \n1456    AllPub    Inside       Gtl  ...             0         0           0   \n1457    AllPub    Inside       Gtl  ...             0         0           0   \n1458    AllPub    Inside       Gtl  ...             0         0           0   \n1459    AllPub    Inside       Gtl  ...           112         0           0   \n1460    AllPub    Inside       Gtl  ...             0         0           0   \n\n     poolarea miscval  mosold  yrsold  saletype  salecondition saleprice  \nid                                                                        \n1           0       0       2    2008        WD         Normal    208500  \n2           0       0       5    2007        WD         Normal    181500  \n3           0       0       9    2008        WD         Normal    223500  \n4           0       0       2    2006        WD        Abnorml    140000  \n5           0       0      12    2008        WD         Normal    250000  \n...       ...     ...     ...     ...       ...            ...       ...  \n1456        0       0       8    2007        WD         Normal    175000  \n1457        0       0       2    2010        WD         Normal    210000  \n1458        0    2500       5    2010        WD         Normal    266500  \n1459        0       0       4    2010        WD         Normal    142125  \n1460        0       0       6    2008        WD         Normal    147500  \n\n[1460 rows x 76 columns]",
      "text/html": "<div>\n<style scoped>\n    .dataframe tbody tr th:only-of-type {\n        vertical-align: middle;\n    }\n\n    .dataframe tbody tr th {\n        vertical-align: top;\n    }\n\n    .dataframe thead th {\n        text-align: right;\n    }\n</style>\n<table border=\"1\" class=\"dataframe\">\n  <thead>\n    <tr style=\"text-align: right;\">\n      <th></th>\n      <th>mssubclass</th>\n      <th>mszoning</th>\n      <th>lotfrontage</th>\n      <th>lotarea</th>\n      <th>street</th>\n      <th>lotshape</th>\n      <th>landcontour</th>\n      <th>utilities</th>\n      <th>lotconfig</th>\n      <th>landslope</th>\n      <th>...</th>\n      <th>enclosedporch</th>\n      <th>3ssnporch</th>\n      <th>screenporch</th>\n      <th>poolarea</th>\n      <th>miscval</th>\n      <th>mosold</th>\n      <th>yrsold</th>\n      <th>saletype</th>\n      <th>salecondition</th>\n      <th>saleprice</th>\n    </tr>\n    <tr>\n      <th>id</th>\n      <th></th>\n      <th></th>\n      <th></th>\n      <th></th>\n      <th></th>\n      <th></th>\n      <th></th>\n      <th></th>\n      <th></th>\n      <th></th>\n      <th></th>\n      <th></th>\n      <th></th>\n      <th></th>\n      <th></th>\n      <th></th>\n      <th></th>\n      <th></th>\n      <th></th>\n      <th></th>\n      <th></th>\n    </tr>\n  </thead>\n  <tbody>\n    <tr>\n      <th>1</th>\n      <td>60</td>\n      <td>RL</td>\n      <td>65.0</td>\n      <td>8450</td>\n      <td>Pave</td>\n      <td>Reg</td>\n      <td>Lvl</td>\n      <td>AllPub</td>\n      <td>Inside</td>\n      <td>Gtl</td>\n      <td>...</td>\n      <td>0</td>\n      <td>0</td>\n      <td>0</td>\n      <td>0</td>\n      <td>0</td>\n      <td>2</td>\n      <td>2008</td>\n      <td>WD</td>\n      <td>Normal</td>\n      <td>208500</td>\n    </tr>\n    <tr>\n      <th>2</th>\n      <td>20</td>\n      <td>RL</td>\n      <td>80.0</td>\n      <td>9600</td>\n      <td>Pave</td>\n      <td>Reg</td>\n      <td>Lvl</td>\n      <td>AllPub</td>\n      <td>FR2</td>\n      <td>Gtl</td>\n      <td>...</td>\n      <td>0</td>\n      <td>0</td>\n      <td>0</td>\n      <td>0</td>\n      <td>0</td>\n      <td>5</td>\n      <td>2007</td>\n      <td>WD</td>\n      <td>Normal</td>\n      <td>181500</td>\n    </tr>\n    <tr>\n      <th>3</th>\n      <td>60</td>\n      <td>RL</td>\n      <td>68.0</td>\n      <td>11250</td>\n      <td>Pave</td>\n      <td>IR1</td>\n      <td>Lvl</td>\n      <td>AllPub</td>\n      <td>Inside</td>\n      <td>Gtl</td>\n      <td>...</td>\n      <td>0</td>\n      <td>0</td>\n      <td>0</td>\n      <td>0</td>\n      <td>0</td>\n      <td>9</td>\n      <td>2008</td>\n      <td>WD</td>\n      <td>Normal</td>\n      <td>223500</td>\n    </tr>\n    <tr>\n      <th>4</th>\n      <td>70</td>\n      <td>RL</td>\n      <td>60.0</td>\n      <td>9550</td>\n      <td>Pave</td>\n      <td>IR1</td>\n      <td>Lvl</td>\n      <td>AllPub</td>\n      <td>Corner</td>\n      <td>Gtl</td>\n      <td>...</td>\n      <td>272</td>\n      <td>0</td>\n      <td>0</td>\n      <td>0</td>\n      <td>0</td>\n      <td>2</td>\n      <td>2006</td>\n      <td>WD</td>\n      <td>Abnorml</td>\n      <td>140000</td>\n    </tr>\n    <tr>\n      <th>5</th>\n      <td>60</td>\n      <td>RL</td>\n      <td>84.0</td>\n      <td>14260</td>\n      <td>Pave</td>\n      <td>IR1</td>\n      <td>Lvl</td>\n      <td>AllPub</td>\n      <td>FR2</td>\n      <td>Gtl</td>\n      <td>...</td>\n      <td>0</td>\n      <td>0</td>\n      <td>0</td>\n      <td>0</td>\n      <td>0</td>\n      <td>12</td>\n      <td>2008</td>\n      <td>WD</td>\n      <td>Normal</td>\n      <td>250000</td>\n    </tr>\n    <tr>\n      <th>...</th>\n      <td>...</td>\n      <td>...</td>\n      <td>...</td>\n      <td>...</td>\n      <td>...</td>\n      <td>...</td>\n      <td>...</td>\n      <td>...</td>\n      <td>...</td>\n      <td>...</td>\n      <td>...</td>\n      <td>...</td>\n      <td>...</td>\n      <td>...</td>\n      <td>...</td>\n      <td>...</td>\n      <td>...</td>\n      <td>...</td>\n      <td>...</td>\n      <td>...</td>\n      <td>...</td>\n    </tr>\n    <tr>\n      <th>1456</th>\n      <td>60</td>\n      <td>RL</td>\n      <td>62.0</td>\n      <td>7917</td>\n      <td>Pave</td>\n      <td>Reg</td>\n      <td>Lvl</td>\n      <td>AllPub</td>\n      <td>Inside</td>\n      <td>Gtl</td>\n      <td>...</td>\n      <td>0</td>\n      <td>0</td>\n      <td>0</td>\n      <td>0</td>\n      <td>0</td>\n      <td>8</td>\n      <td>2007</td>\n      <td>WD</td>\n      <td>Normal</td>\n      <td>175000</td>\n    </tr>\n    <tr>\n      <th>1457</th>\n      <td>20</td>\n      <td>RL</td>\n      <td>85.0</td>\n      <td>13175</td>\n      <td>Pave</td>\n      <td>Reg</td>\n      <td>Lvl</td>\n      <td>AllPub</td>\n      <td>Inside</td>\n      <td>Gtl</td>\n      <td>...</td>\n      <td>0</td>\n      <td>0</td>\n      <td>0</td>\n      <td>0</td>\n      <td>0</td>\n      <td>2</td>\n      <td>2010</td>\n      <td>WD</td>\n      <td>Normal</td>\n      <td>210000</td>\n    </tr>\n    <tr>\n      <th>1458</th>\n      <td>70</td>\n      <td>RL</td>\n      <td>66.0</td>\n      <td>9042</td>\n      <td>Pave</td>\n      <td>Reg</td>\n      <td>Lvl</td>\n      <td>AllPub</td>\n      <td>Inside</td>\n      <td>Gtl</td>\n      <td>...</td>\n      <td>0</td>\n      <td>0</td>\n      <td>0</td>\n      <td>0</td>\n      <td>2500</td>\n      <td>5</td>\n      <td>2010</td>\n      <td>WD</td>\n      <td>Normal</td>\n      <td>266500</td>\n    </tr>\n    <tr>\n      <th>1459</th>\n      <td>20</td>\n      <td>RL</td>\n      <td>68.0</td>\n      <td>9717</td>\n      <td>Pave</td>\n      <td>Reg</td>\n      <td>Lvl</td>\n      <td>AllPub</td>\n      <td>Inside</td>\n      <td>Gtl</td>\n      <td>...</td>\n      <td>112</td>\n      <td>0</td>\n      <td>0</td>\n      <td>0</td>\n      <td>0</td>\n      <td>4</td>\n      <td>2010</td>\n      <td>WD</td>\n      <td>Normal</td>\n      <td>142125</td>\n    </tr>\n    <tr>\n      <th>1460</th>\n      <td>20</td>\n      <td>RL</td>\n      <td>75.0</td>\n      <td>9937</td>\n      <td>Pave</td>\n      <td>Reg</td>\n      <td>Lvl</td>\n      <td>AllPub</td>\n      <td>Inside</td>\n      <td>Gtl</td>\n      <td>...</td>\n      <td>0</td>\n      <td>0</td>\n      <td>0</td>\n      <td>0</td>\n      <td>0</td>\n      <td>6</td>\n      <td>2008</td>\n      <td>WD</td>\n      <td>Normal</td>\n      <td>147500</td>\n    </tr>\n  </tbody>\n</table>\n<p>1460 rows × 76 columns</p>\n</div>"
     },
     "execution_count": 15,
     "metadata": {},
     "output_type": "execute_result"
    }
   ],
   "source": [
    "train_data = pd.read_pickle('../data/cleaned_train_data.pkl')\n",
    "train_data"
   ],
   "metadata": {
    "collapsed": false,
    "pycharm": {
     "name": "#%%\n"
    }
   }
  },
  {
   "cell_type": "code",
   "execution_count": 2,
   "outputs": [
    {
     "data": {
      "text/plain": "array([42, 72, 79, 99,  2, 31, 15, 86, 19, 79])"
     },
     "execution_count": 2,
     "metadata": {},
     "output_type": "execute_result"
    }
   ],
   "source": [
    "tup = np.random.randint(0, 100, 10)\n",
    "tup"
   ],
   "metadata": {
    "collapsed": false,
    "pycharm": {
     "name": "#%%\n"
    }
   }
  },
  {
   "cell_type": "markdown",
   "source": [
    "## Tuple"
   ],
   "metadata": {
    "collapsed": false,
    "pycharm": {
     "name": "#%% md\n"
    }
   }
  },
  {
   "cell_type": "markdown",
   "source": [
    "- create tuple"
   ],
   "metadata": {
    "collapsed": false,
    "pycharm": {
     "name": "#%% md\n"
    }
   }
  },
  {
   "cell_type": "code",
   "execution_count": 6,
   "outputs": [
    {
     "data": {
      "text/plain": "(42, 72, 79, 99, 2, 31, 15, 86, 19, 79)"
     },
     "execution_count": 6,
     "metadata": {},
     "output_type": "execute_result"
    }
   ],
   "source": [
    "tuple_t = tuple(tup)\n",
    "tuple_t"
   ],
   "metadata": {
    "collapsed": false,
    "pycharm": {
     "name": "#%%\n"
    }
   }
  },
  {
   "cell_type": "markdown",
   "source": [
    "- tuple concatenate"
   ],
   "metadata": {
    "collapsed": false,
    "pycharm": {
     "name": "#%% md\n"
    }
   }
  },
  {
   "cell_type": "code",
   "execution_count": 5,
   "outputs": [
    {
     "data": {
      "text/plain": "(42, 72, 79, 99, 2, 31, 15, 86, 19, 79, 42, 72, 79, 99, 2, 31, 15, 86, 19, 79)"
     },
     "execution_count": 5,
     "metadata": {},
     "output_type": "execute_result"
    }
   ],
   "source": [
    "tuple_t + tuple_t"
   ],
   "metadata": {
    "collapsed": false,
    "pycharm": {
     "name": "#%%\n"
    }
   }
  },
  {
   "cell_type": "code",
   "execution_count": 8,
   "outputs": [
    {
     "data": {
      "text/plain": "(42, 72, 79, 99, 2, 31, 15, 86, 19, 79, 42, 72, 79, 99, 2, 31, 15, 86, 19, 79)"
     },
     "execution_count": 8,
     "metadata": {},
     "output_type": "execute_result"
    }
   ],
   "source": [
    "tuple_t * 2"
   ],
   "metadata": {
    "collapsed": false,
    "pycharm": {
     "name": "#%%\n"
    }
   }
  },
  {
   "cell_type": "markdown",
   "source": [
    "- unpacking"
   ],
   "metadata": {
    "collapsed": false,
    "pycharm": {
     "name": "#%% md\n"
    }
   }
  },
  {
   "cell_type": "code",
   "execution_count": 11,
   "outputs": [
    {
     "data": {
      "text/plain": "0"
     },
     "execution_count": 11,
     "metadata": {},
     "output_type": "execute_result"
    }
   ],
   "source": [
    "x, y, z = (0, 1, 0)\n",
    "x"
   ],
   "metadata": {
    "collapsed": false,
    "pycharm": {
     "name": "#%%\n"
    }
   }
  },
  {
   "cell_type": "code",
   "execution_count": 12,
   "outputs": [
    {
     "data": {
      "text/plain": "1"
     },
     "execution_count": 12,
     "metadata": {},
     "output_type": "execute_result"
    }
   ],
   "source": [
    "# nested unpacking\n",
    "x, y, (z, w) = 2, 5, (1, 0)\n",
    "z"
   ],
   "metadata": {
    "collapsed": false,
    "pycharm": {
     "name": "#%%\n"
    }
   }
  },
  {
   "cell_type": "code",
   "execution_count": 13,
   "outputs": [
    {
     "data": {
      "text/plain": "(5, 2)"
     },
     "execution_count": 13,
     "metadata": {},
     "output_type": "execute_result"
    }
   ],
   "source": [
    "# value swap\n",
    "x, y = y, x\n",
    "x, y"
   ],
   "metadata": {
    "collapsed": false,
    "pycharm": {
     "name": "#%%\n"
    }
   }
  },
  {
   "cell_type": "code",
   "execution_count": 14,
   "outputs": [
    {
     "name": "stdout",
     "output_type": "stream",
     "text": [
      "a=1, b2, c=3\n",
      "a=4, b5, c=6\n",
      "a=7, b8, c=9\n"
     ]
    }
   ],
   "source": [
    "# iteration\n",
    "data = [(1, 2, 3), (4, 5, 6), (7, 8, 9)]\n",
    "\n",
    "for a, b, c in data:\n",
    "    print('a={0}, b{1}, c={2}'.format(a, b, c))"
   ],
   "metadata": {
    "collapsed": false,
    "pycharm": {
     "name": "#%%\n"
    }
   }
  },
  {
   "cell_type": "code",
   "execution_count": 20,
   "outputs": [
    {
     "name": "stdout",
     "output_type": "stream",
     "text": [
      "1, mssubclass           60\n",
      "mszoning             RL\n",
      "lotfrontage        65.0\n",
      "lotarea            8450\n",
      "street             Pave\n",
      "                  ...  \n",
      "mosold                2\n",
      "yrsold             2008\n",
      "saletype             WD\n",
      "salecondition    Normal\n",
      "saleprice        208500\n",
      "Name: 1, Length: 76, dtype: object\n",
      "2, mssubclass           20\n",
      "mszoning             RL\n",
      "lotfrontage        80.0\n",
      "lotarea            9600\n",
      "street             Pave\n",
      "                  ...  \n",
      "mosold                5\n",
      "yrsold             2007\n",
      "saletype             WD\n",
      "salecondition    Normal\n",
      "saleprice        181500\n",
      "Name: 2, Length: 76, dtype: object\n",
      "3, mssubclass           60\n",
      "mszoning             RL\n",
      "lotfrontage        68.0\n",
      "lotarea           11250\n",
      "street             Pave\n",
      "                  ...  \n",
      "mosold                9\n",
      "yrsold             2008\n",
      "saletype             WD\n",
      "salecondition    Normal\n",
      "saleprice        223500\n",
      "Name: 3, Length: 76, dtype: object\n",
      "4, mssubclass            70\n",
      "mszoning              RL\n",
      "lotfrontage         60.0\n",
      "lotarea             9550\n",
      "street              Pave\n",
      "                  ...   \n",
      "mosold                 2\n",
      "yrsold              2006\n",
      "saletype              WD\n",
      "salecondition    Abnorml\n",
      "saleprice         140000\n",
      "Name: 4, Length: 76, dtype: object\n",
      "5, mssubclass           60\n",
      "mszoning             RL\n",
      "lotfrontage        84.0\n",
      "lotarea           14260\n",
      "street             Pave\n",
      "                  ...  \n",
      "mosold               12\n",
      "yrsold             2008\n",
      "saletype             WD\n",
      "salecondition    Normal\n",
      "saleprice        250000\n",
      "Name: 5, Length: 76, dtype: object\n"
     ]
    }
   ],
   "source": [
    "for subclass, zone in train_data.loc[:5, :].iterrows():\n",
    "    print(f'{subclass}, {zone}')"
   ],
   "metadata": {
    "collapsed": false,
    "pycharm": {
     "name": "#%%\n"
    }
   }
  },
  {
   "cell_type": "code",
   "execution_count": 22,
   "outputs": [
    {
     "data": {
      "text/plain": "(60,\n 'RL',\n [65.0,\n  8450,\n  'Pave',\n  'Reg',\n  'Lvl',\n  'AllPub',\n  'Inside',\n  'Gtl',\n  'CollgCr',\n  'Norm',\n  'Norm',\n  '1Fam',\n  '2Story',\n  7,\n  5,\n  2003,\n  2003,\n  'Gable',\n  'CompShg',\n  'VinylSd',\n  'VinylSd',\n  'BrkFace',\n  196.0,\n  'Gd',\n  'TA',\n  'PConc',\n  'Gd',\n  'TA',\n  'No',\n  'GLQ',\n  706,\n  'Unf',\n  0,\n  150,\n  856,\n  'GasA',\n  'Ex',\n  'Y',\n  'SBrkr',\n  856,\n  854,\n  0,\n  1710,\n  1,\n  0,\n  2,\n  1,\n  3,\n  1,\n  'Gd',\n  8,\n  'Typ',\n  0,\n  'None',\n  'Attchd',\n  2003.0,\n  'RFn',\n  2,\n  548,\n  'TA',\n  'TA',\n  'Y',\n  0,\n  61,\n  0,\n  0,\n  0,\n  0,\n  0,\n  2,\n  2008,\n  'WD',\n  'Normal',\n  208500])"
     },
     "execution_count": 22,
     "metadata": {},
     "output_type": "execute_result"
    }
   ],
   "source": [
    "# plunk\n",
    "subclass, zone, *details = train_data.loc[1, :]\n",
    "subclass, zone, details"
   ],
   "metadata": {
    "collapsed": false,
    "pycharm": {
     "name": "#%%\n"
    }
   }
  },
  {
   "cell_type": "markdown",
   "source": [
    "- method"
   ],
   "metadata": {
    "collapsed": false,
    "pycharm": {
     "name": "#%% md\n"
    }
   }
  },
  {
   "cell_type": "code",
   "execution_count": 23,
   "outputs": [
    {
     "data": {
      "text/plain": "2"
     },
     "execution_count": 23,
     "metadata": {},
     "output_type": "execute_result"
    }
   ],
   "source": [
    "tuple_t.count(79)"
   ],
   "metadata": {
    "collapsed": false,
    "pycharm": {
     "name": "#%%\n"
    }
   }
  },
  {
   "cell_type": "markdown",
   "source": [
    "## List"
   ],
   "metadata": {
    "collapsed": false,
    "pycharm": {
     "name": "#%% md\n"
    }
   }
  },
  {
   "cell_type": "markdown",
   "source": [
    "- create list"
   ],
   "metadata": {
    "collapsed": false,
    "pycharm": {
     "name": "#%% md\n"
    }
   }
  },
  {
   "cell_type": "code",
   "execution_count": 24,
   "outputs": [
    {
     "data": {
      "text/plain": "[42, 72, 79, 99, 2, 31, 15, 86, 19, 79]"
     },
     "execution_count": 24,
     "metadata": {},
     "output_type": "execute_result"
    }
   ],
   "source": [
    "a_list = list(tup)\n",
    "a_list"
   ],
   "metadata": {
    "collapsed": false,
    "pycharm": {
     "name": "#%%\n"
    }
   }
  },
  {
   "cell_type": "code",
   "execution_count": 25,
   "outputs": [
    {
     "data": {
      "text/plain": "[1, 32, 4, 6, 0, 4, 34, 34]"
     },
     "execution_count": 25,
     "metadata": {},
     "output_type": "execute_result"
    }
   ],
   "source": [
    "a_list = [1, 32, 4, 6, 0, 4, 34, 34]\n",
    "a_list"
   ],
   "metadata": {
    "collapsed": false,
    "pycharm": {
     "name": "#%%\n"
    }
   }
  },
  {
   "cell_type": "markdown",
   "source": [
    "- adding and removing elements"
   ],
   "metadata": {
    "collapsed": false,
    "pycharm": {
     "name": "#%% md\n"
    }
   }
  },
  {
   "cell_type": "code",
   "execution_count": 26,
   "outputs": [],
   "source": [
    "a_list.append([10.23, 33232, 2, 323, 32, 32, 3, 2, 3, 3, 3, 32, 2])"
   ],
   "metadata": {
    "collapsed": false,
    "pycharm": {
     "name": "#%%\n"
    }
   }
  },
  {
   "cell_type": "code",
   "execution_count": 27,
   "outputs": [],
   "source": [
    "a_list.insert(0, [2214,454,484,15646,6546687,56465498761356])"
   ],
   "metadata": {
    "collapsed": false,
    "pycharm": {
     "name": "#%%\n"
    }
   }
  },
  {
   "cell_type": "code",
   "execution_count": 28,
   "outputs": [
    {
     "data": {
      "text/plain": "[[2214, 454, 484, 15646, 6546687, 56465498761356],\n 1,\n 32,\n 4,\n 6,\n 0,\n 4,\n 34,\n 34,\n [10.23, 33232, 2, 323, 32, 32, 3, 2, 3, 3, 3, 32, 2]]"
     },
     "execution_count": 28,
     "metadata": {},
     "output_type": "execute_result"
    }
   ],
   "source": [
    "a_list"
   ],
   "metadata": {
    "collapsed": false,
    "pycharm": {
     "name": "#%%\n"
    }
   }
  },
  {
   "cell_type": "code",
   "execution_count": 30,
   "outputs": [
    {
     "data": {
      "text/plain": "32"
     },
     "execution_count": 30,
     "metadata": {},
     "output_type": "execute_result"
    }
   ],
   "source": [
    "a_list.pop(2)"
   ],
   "metadata": {
    "collapsed": false,
    "pycharm": {
     "name": "#%%\n"
    }
   }
  },
  {
   "cell_type": "code",
   "execution_count": 31,
   "outputs": [
    {
     "data": {
      "text/plain": "[[2214, 454, 484, 15646, 6546687, 56465498761356],\n 1,\n 4,\n 6,\n 0,\n 4,\n 34,\n 34,\n [10.23, 33232, 2, 323, 32, 32, 3, 2, 3, 3, 3, 32, 2],\n 88,\n 874,\n 8,\n 8,\n 5,\n 4]"
     },
     "execution_count": 31,
     "metadata": {},
     "output_type": "execute_result"
    }
   ],
   "source": [
    "# concatenate\n",
    "b_list = [88,874,8,8,5,4]\n",
    "a_list + b_list"
   ],
   "metadata": {
    "collapsed": false,
    "pycharm": {
     "name": "#%%\n"
    }
   }
  }
 ],
 "metadata": {
  "kernelspec": {
   "display_name": "Python 3",
   "language": "python",
   "name": "python3"
  },
  "language_info": {
   "codemirror_mode": {
    "name": "ipython",
    "version": 2
   },
   "file_extension": ".py",
   "mimetype": "text/x-python",
   "name": "python",
   "nbconvert_exporter": "python",
   "pygments_lexer": "ipython2",
   "version": "2.7.6"
  }
 },
 "nbformat": 4,
 "nbformat_minor": 0
}