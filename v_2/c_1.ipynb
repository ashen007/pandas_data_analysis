{
 "cells": [
  {
   "cell_type": "code",
   "execution_count": 1,
   "metadata": {
    "collapsed": true
   },
   "outputs": [],
   "source": [
    "import pandas as pd"
   ]
  },
  {
   "cell_type": "code",
   "execution_count": 2,
   "outputs": [
    {
     "data": {
      "text/plain": "   id  member_id  loan_amnt  funded_amnt  funded_amnt_inv        term  \\\n0   0        NaN      32000        32000          32000.0   36 months   \n1   1        NaN      11500        11500          11500.0   36 months   \n2   2        NaN      10000        10000          10000.0   36 months   \n3   3        NaN      28000        28000          28000.0   36 months   \n4   4        NaN      28000        28000          28000.0   60 months   \n\n   int_rate  installment grade sub_grade  ... hardship_payoff_balance_amount  \\\n0     10.90      1046.13     B        B4  ...                            NaN   \n1     15.80       403.18     C        C3  ...                            NaN   \n2      6.49       306.45     A        A2  ...                            NaN   \n3      7.69       873.42     A        A4  ...                            NaN   \n4     17.97       710.56     D        D1  ...                            NaN   \n\n  hardship_last_payment_amount disbursement_method  debt_settlement_flag  \\\n0                          NaN                Cash                     N   \n1                          NaN                Cash                     N   \n2                          NaN                Cash                     N   \n3                          NaN                Cash                     N   \n4                          NaN                Cash                     N   \n\n  debt_settlement_flag_date settlement_status settlement_date  \\\n0                       NaN               NaN             NaN   \n1                       NaN               NaN             NaN   \n2                       NaN               NaN             NaN   \n3                       NaN               NaN             NaN   \n4                       NaN               NaN             NaN   \n\n  settlement_amount  settlement_percentage settlement_term  \n0               NaN                    NaN             NaN  \n1               NaN                    NaN             NaN  \n2               NaN                    NaN             NaN  \n3               NaN                    NaN             NaN  \n4               NaN                    NaN             NaN  \n\n[5 rows x 145 columns]",
      "text/html": "<div>\n<style scoped>\n    .dataframe tbody tr th:only-of-type {\n        vertical-align: middle;\n    }\n\n    .dataframe tbody tr th {\n        vertical-align: top;\n    }\n\n    .dataframe thead th {\n        text-align: right;\n    }\n</style>\n<table border=\"1\" class=\"dataframe\">\n  <thead>\n    <tr style=\"text-align: right;\">\n      <th></th>\n      <th>id</th>\n      <th>member_id</th>\n      <th>loan_amnt</th>\n      <th>funded_amnt</th>\n      <th>funded_amnt_inv</th>\n      <th>term</th>\n      <th>int_rate</th>\n      <th>installment</th>\n      <th>grade</th>\n      <th>sub_grade</th>\n      <th>...</th>\n      <th>hardship_payoff_balance_amount</th>\n      <th>hardship_last_payment_amount</th>\n      <th>disbursement_method</th>\n      <th>debt_settlement_flag</th>\n      <th>debt_settlement_flag_date</th>\n      <th>settlement_status</th>\n      <th>settlement_date</th>\n      <th>settlement_amount</th>\n      <th>settlement_percentage</th>\n      <th>settlement_term</th>\n    </tr>\n  </thead>\n  <tbody>\n    <tr>\n      <th>0</th>\n      <td>0</td>\n      <td>NaN</td>\n      <td>32000</td>\n      <td>32000</td>\n      <td>32000.0</td>\n      <td>36 months</td>\n      <td>10.90</td>\n      <td>1046.13</td>\n      <td>B</td>\n      <td>B4</td>\n      <td>...</td>\n      <td>NaN</td>\n      <td>NaN</td>\n      <td>Cash</td>\n      <td>N</td>\n      <td>NaN</td>\n      <td>NaN</td>\n      <td>NaN</td>\n      <td>NaN</td>\n      <td>NaN</td>\n      <td>NaN</td>\n    </tr>\n    <tr>\n      <th>1</th>\n      <td>1</td>\n      <td>NaN</td>\n      <td>11500</td>\n      <td>11500</td>\n      <td>11500.0</td>\n      <td>36 months</td>\n      <td>15.80</td>\n      <td>403.18</td>\n      <td>C</td>\n      <td>C3</td>\n      <td>...</td>\n      <td>NaN</td>\n      <td>NaN</td>\n      <td>Cash</td>\n      <td>N</td>\n      <td>NaN</td>\n      <td>NaN</td>\n      <td>NaN</td>\n      <td>NaN</td>\n      <td>NaN</td>\n      <td>NaN</td>\n    </tr>\n    <tr>\n      <th>2</th>\n      <td>2</td>\n      <td>NaN</td>\n      <td>10000</td>\n      <td>10000</td>\n      <td>10000.0</td>\n      <td>36 months</td>\n      <td>6.49</td>\n      <td>306.45</td>\n      <td>A</td>\n      <td>A2</td>\n      <td>...</td>\n      <td>NaN</td>\n      <td>NaN</td>\n      <td>Cash</td>\n      <td>N</td>\n      <td>NaN</td>\n      <td>NaN</td>\n      <td>NaN</td>\n      <td>NaN</td>\n      <td>NaN</td>\n      <td>NaN</td>\n    </tr>\n    <tr>\n      <th>3</th>\n      <td>3</td>\n      <td>NaN</td>\n      <td>28000</td>\n      <td>28000</td>\n      <td>28000.0</td>\n      <td>36 months</td>\n      <td>7.69</td>\n      <td>873.42</td>\n      <td>A</td>\n      <td>A4</td>\n      <td>...</td>\n      <td>NaN</td>\n      <td>NaN</td>\n      <td>Cash</td>\n      <td>N</td>\n      <td>NaN</td>\n      <td>NaN</td>\n      <td>NaN</td>\n      <td>NaN</td>\n      <td>NaN</td>\n      <td>NaN</td>\n    </tr>\n    <tr>\n      <th>4</th>\n      <td>4</td>\n      <td>NaN</td>\n      <td>28000</td>\n      <td>28000</td>\n      <td>28000.0</td>\n      <td>60 months</td>\n      <td>17.97</td>\n      <td>710.56</td>\n      <td>D</td>\n      <td>D1</td>\n      <td>...</td>\n      <td>NaN</td>\n      <td>NaN</td>\n      <td>Cash</td>\n      <td>N</td>\n      <td>NaN</td>\n      <td>NaN</td>\n      <td>NaN</td>\n      <td>NaN</td>\n      <td>NaN</td>\n      <td>NaN</td>\n    </tr>\n  </tbody>\n</table>\n<p>5 rows × 145 columns</p>\n</div>"
     },
     "execution_count": 2,
     "metadata": {},
     "output_type": "execute_result"
    }
   ],
   "source": [
    "train = pd.read_csv('../data/p1_train.csv')\n",
    "train.head(5)"
   ],
   "metadata": {
    "collapsed": false,
    "pycharm": {
     "name": "#%%\n"
    }
   }
  },
  {
   "cell_type": "code",
   "execution_count": 3,
   "outputs": [
    {
     "name": "stderr",
     "output_type": "stream",
     "text": [
      "c:\\users\\ashen\\appdata\\local\\programs\\python\\python37\\lib\\site-packages\\IPython\\core\\interactiveshell.py:3147: DtypeWarning: Columns (0,1,2,3,4,6,7,13,18,24,25,27,28,29,30,31,32,33,34,36,37,38,39,40,41,42,43,44,46,49,50,51,53,54,56,57,58,59,60,61,62,63,64,65,66,67,68,69,70,71,72,73,74,75,76,77,78,79,80,81,82,83,84,85,86,87,88,89,90,91,92,93,94,95,96,97,98,99,100,101,102,103,104,105,106,107,108,109,110,111,113,114,115,116,117,118,119,120,121,126,127,131,132,134,135,136,142,143,144) have mixed types.Specify dtype option on import or set low_memory=False.\n",
      "  interactivity=interactivity, compiler=compiler, result=result)\n"
     ]
    },
    {
     "data": {
      "text/plain": "  0          1          2            3                4           5    \\\n0  id  member_id  loan_amnt  funded_amnt  funded_amnt_inv        term   \n1   0        NaN      32000        32000          32000.0   36 months   \n2   1        NaN      11500        11500          11500.0   36 months   \n3   2        NaN      10000        10000          10000.0   36 months   \n4   3        NaN      28000        28000          28000.0   36 months   \n\n        6            7      8          9    ...  \\\n0  int_rate  installment  grade  sub_grade  ...   \n1      10.9      1046.13      B         B4  ...   \n2      15.8       403.18      C         C3  ...   \n3      6.49       306.45      A         A2  ...   \n4      7.69       873.42      A         A4  ...   \n\n                              135                           136  \\\n0  hardship_payoff_balance_amount  hardship_last_payment_amount   \n1                             NaN                           NaN   \n2                             NaN                           NaN   \n3                             NaN                           NaN   \n4                             NaN                           NaN   \n\n                   137                   138                        139  \\\n0  disbursement_method  debt_settlement_flag  debt_settlement_flag_date   \n1                 Cash                     N                        NaN   \n2                 Cash                     N                        NaN   \n3                 Cash                     N                        NaN   \n4                 Cash                     N                        NaN   \n\n                 140              141                142  \\\n0  settlement_status  settlement_date  settlement_amount   \n1                NaN              NaN                NaN   \n2                NaN              NaN                NaN   \n3                NaN              NaN                NaN   \n4                NaN              NaN                NaN   \n\n                     143              144  \n0  settlement_percentage  settlement_term  \n1                    NaN              NaN  \n2                    NaN              NaN  \n3                    NaN              NaN  \n4                    NaN              NaN  \n\n[5 rows x 145 columns]",
      "text/html": "<div>\n<style scoped>\n    .dataframe tbody tr th:only-of-type {\n        vertical-align: middle;\n    }\n\n    .dataframe tbody tr th {\n        vertical-align: top;\n    }\n\n    .dataframe thead th {\n        text-align: right;\n    }\n</style>\n<table border=\"1\" class=\"dataframe\">\n  <thead>\n    <tr style=\"text-align: right;\">\n      <th></th>\n      <th>0</th>\n      <th>1</th>\n      <th>2</th>\n      <th>3</th>\n      <th>4</th>\n      <th>5</th>\n      <th>6</th>\n      <th>7</th>\n      <th>8</th>\n      <th>9</th>\n      <th>...</th>\n      <th>135</th>\n      <th>136</th>\n      <th>137</th>\n      <th>138</th>\n      <th>139</th>\n      <th>140</th>\n      <th>141</th>\n      <th>142</th>\n      <th>143</th>\n      <th>144</th>\n    </tr>\n  </thead>\n  <tbody>\n    <tr>\n      <th>0</th>\n      <td>id</td>\n      <td>member_id</td>\n      <td>loan_amnt</td>\n      <td>funded_amnt</td>\n      <td>funded_amnt_inv</td>\n      <td>term</td>\n      <td>int_rate</td>\n      <td>installment</td>\n      <td>grade</td>\n      <td>sub_grade</td>\n      <td>...</td>\n      <td>hardship_payoff_balance_amount</td>\n      <td>hardship_last_payment_amount</td>\n      <td>disbursement_method</td>\n      <td>debt_settlement_flag</td>\n      <td>debt_settlement_flag_date</td>\n      <td>settlement_status</td>\n      <td>settlement_date</td>\n      <td>settlement_amount</td>\n      <td>settlement_percentage</td>\n      <td>settlement_term</td>\n    </tr>\n    <tr>\n      <th>1</th>\n      <td>0</td>\n      <td>NaN</td>\n      <td>32000</td>\n      <td>32000</td>\n      <td>32000.0</td>\n      <td>36 months</td>\n      <td>10.9</td>\n      <td>1046.13</td>\n      <td>B</td>\n      <td>B4</td>\n      <td>...</td>\n      <td>NaN</td>\n      <td>NaN</td>\n      <td>Cash</td>\n      <td>N</td>\n      <td>NaN</td>\n      <td>NaN</td>\n      <td>NaN</td>\n      <td>NaN</td>\n      <td>NaN</td>\n      <td>NaN</td>\n    </tr>\n    <tr>\n      <th>2</th>\n      <td>1</td>\n      <td>NaN</td>\n      <td>11500</td>\n      <td>11500</td>\n      <td>11500.0</td>\n      <td>36 months</td>\n      <td>15.8</td>\n      <td>403.18</td>\n      <td>C</td>\n      <td>C3</td>\n      <td>...</td>\n      <td>NaN</td>\n      <td>NaN</td>\n      <td>Cash</td>\n      <td>N</td>\n      <td>NaN</td>\n      <td>NaN</td>\n      <td>NaN</td>\n      <td>NaN</td>\n      <td>NaN</td>\n      <td>NaN</td>\n    </tr>\n    <tr>\n      <th>3</th>\n      <td>2</td>\n      <td>NaN</td>\n      <td>10000</td>\n      <td>10000</td>\n      <td>10000.0</td>\n      <td>36 months</td>\n      <td>6.49</td>\n      <td>306.45</td>\n      <td>A</td>\n      <td>A2</td>\n      <td>...</td>\n      <td>NaN</td>\n      <td>NaN</td>\n      <td>Cash</td>\n      <td>N</td>\n      <td>NaN</td>\n      <td>NaN</td>\n      <td>NaN</td>\n      <td>NaN</td>\n      <td>NaN</td>\n      <td>NaN</td>\n    </tr>\n    <tr>\n      <th>4</th>\n      <td>3</td>\n      <td>NaN</td>\n      <td>28000</td>\n      <td>28000</td>\n      <td>28000.0</td>\n      <td>36 months</td>\n      <td>7.69</td>\n      <td>873.42</td>\n      <td>A</td>\n      <td>A4</td>\n      <td>...</td>\n      <td>NaN</td>\n      <td>NaN</td>\n      <td>Cash</td>\n      <td>N</td>\n      <td>NaN</td>\n      <td>NaN</td>\n      <td>NaN</td>\n      <td>NaN</td>\n      <td>NaN</td>\n      <td>NaN</td>\n    </tr>\n  </tbody>\n</table>\n<p>5 rows × 145 columns</p>\n</div>"
     },
     "execution_count": 3,
     "metadata": {},
     "output_type": "execute_result"
    }
   ],
   "source": [
    "pd.read_csv('../data/p1_train.csv',header=None).head(5)"
   ],
   "metadata": {
    "collapsed": false,
    "pycharm": {
     "name": "#%%\n"
    }
   }
  },
  {
   "cell_type": "code",
   "execution_count": 4,
   "outputs": [
    {
     "data": {
      "text/plain": "   0  Unnamed: 1  20000  20000.1  20000.0   60 months  482.02  C  C5  \\\n0  1         NaN   7800     7800   7800.0   36 months  240.81  A  A2   \n1  2         NaN   5000     5000   5000.0   36 months  178.24  D  D3   \n2  3         NaN  22800    22800  22800.0   36 months  812.77  D  D3   \n3  4         NaN  25000    25000  24950.0   60 months  585.61  C  C1   \n4  5         NaN  40000    40000  40000.0   60 months  902.37  C  C1   \n\n  Director Of Finance and Operations  ... Unnamed: 134 Unnamed: 135  Cash N.1  \\\n0                            Teacher  ...          NaN          NaN  Cash   N   \n1                       truck driver  ...          NaN          NaN  Cash   N   \n2                    yard supervisor  ...          NaN          NaN  Cash   Y   \n3                Associate Professor  ...          NaN          NaN  Cash   N   \n4                   Finance manager   ...          NaN          NaN  Cash   N   \n\n  Unnamed: 138 Unnamed: 139 Unnamed: 140  Unnamed: 141 Unnamed: 142  \\\n0          NaN          NaN          NaN           NaN          NaN   \n1          NaN          NaN          NaN           NaN          NaN   \n2     Jan-2018     COMPLETE     Oct-2017        3628.0         45.0   \n3          NaN          NaN          NaN           NaN          NaN   \n4          NaN          NaN          NaN           NaN          NaN   \n\n  Unnamed: 143  \n0          NaN  \n1          NaN  \n2          1.0  \n3          NaN  \n4          NaN  \n\n[5 rows x 144 columns]",
      "text/html": "<div>\n<style scoped>\n    .dataframe tbody tr th:only-of-type {\n        vertical-align: middle;\n    }\n\n    .dataframe tbody tr th {\n        vertical-align: top;\n    }\n\n    .dataframe thead th {\n        text-align: right;\n    }\n</style>\n<table border=\"1\" class=\"dataframe\">\n  <thead>\n    <tr style=\"text-align: right;\">\n      <th></th>\n      <th>0</th>\n      <th>Unnamed: 1</th>\n      <th>20000</th>\n      <th>20000.1</th>\n      <th>20000.0</th>\n      <th>60 months</th>\n      <th>482.02</th>\n      <th>C</th>\n      <th>C5</th>\n      <th>Director Of Finance and Operations</th>\n      <th>...</th>\n      <th>Unnamed: 134</th>\n      <th>Unnamed: 135</th>\n      <th>Cash</th>\n      <th>N.1</th>\n      <th>Unnamed: 138</th>\n      <th>Unnamed: 139</th>\n      <th>Unnamed: 140</th>\n      <th>Unnamed: 141</th>\n      <th>Unnamed: 142</th>\n      <th>Unnamed: 143</th>\n    </tr>\n  </thead>\n  <tbody>\n    <tr>\n      <th>0</th>\n      <td>1</td>\n      <td>NaN</td>\n      <td>7800</td>\n      <td>7800</td>\n      <td>7800.0</td>\n      <td>36 months</td>\n      <td>240.81</td>\n      <td>A</td>\n      <td>A2</td>\n      <td>Teacher</td>\n      <td>...</td>\n      <td>NaN</td>\n      <td>NaN</td>\n      <td>Cash</td>\n      <td>N</td>\n      <td>NaN</td>\n      <td>NaN</td>\n      <td>NaN</td>\n      <td>NaN</td>\n      <td>NaN</td>\n      <td>NaN</td>\n    </tr>\n    <tr>\n      <th>1</th>\n      <td>2</td>\n      <td>NaN</td>\n      <td>5000</td>\n      <td>5000</td>\n      <td>5000.0</td>\n      <td>36 months</td>\n      <td>178.24</td>\n      <td>D</td>\n      <td>D3</td>\n      <td>truck driver</td>\n      <td>...</td>\n      <td>NaN</td>\n      <td>NaN</td>\n      <td>Cash</td>\n      <td>N</td>\n      <td>NaN</td>\n      <td>NaN</td>\n      <td>NaN</td>\n      <td>NaN</td>\n      <td>NaN</td>\n      <td>NaN</td>\n    </tr>\n    <tr>\n      <th>2</th>\n      <td>3</td>\n      <td>NaN</td>\n      <td>22800</td>\n      <td>22800</td>\n      <td>22800.0</td>\n      <td>36 months</td>\n      <td>812.77</td>\n      <td>D</td>\n      <td>D3</td>\n      <td>yard supervisor</td>\n      <td>...</td>\n      <td>NaN</td>\n      <td>NaN</td>\n      <td>Cash</td>\n      <td>Y</td>\n      <td>Jan-2018</td>\n      <td>COMPLETE</td>\n      <td>Oct-2017</td>\n      <td>3628.0</td>\n      <td>45.0</td>\n      <td>1.0</td>\n    </tr>\n    <tr>\n      <th>3</th>\n      <td>4</td>\n      <td>NaN</td>\n      <td>25000</td>\n      <td>25000</td>\n      <td>24950.0</td>\n      <td>60 months</td>\n      <td>585.61</td>\n      <td>C</td>\n      <td>C1</td>\n      <td>Associate Professor</td>\n      <td>...</td>\n      <td>NaN</td>\n      <td>NaN</td>\n      <td>Cash</td>\n      <td>N</td>\n      <td>NaN</td>\n      <td>NaN</td>\n      <td>NaN</td>\n      <td>NaN</td>\n      <td>NaN</td>\n      <td>NaN</td>\n    </tr>\n    <tr>\n      <th>4</th>\n      <td>5</td>\n      <td>NaN</td>\n      <td>40000</td>\n      <td>40000</td>\n      <td>40000.0</td>\n      <td>60 months</td>\n      <td>902.37</td>\n      <td>C</td>\n      <td>C1</td>\n      <td>Finance manager</td>\n      <td>...</td>\n      <td>NaN</td>\n      <td>NaN</td>\n      <td>Cash</td>\n      <td>N</td>\n      <td>NaN</td>\n      <td>NaN</td>\n      <td>NaN</td>\n      <td>NaN</td>\n      <td>NaN</td>\n      <td>NaN</td>\n    </tr>\n  </tbody>\n</table>\n<p>5 rows × 144 columns</p>\n</div>"
     },
     "execution_count": 4,
     "metadata": {},
     "output_type": "execute_result"
    }
   ],
   "source": [
    "pd.read_csv('../data/p1_test.csv',header=1).head(5)"
   ],
   "metadata": {
    "collapsed": false,
    "pycharm": {
     "name": "#%%\n"
    }
   }
  }
 ],
 "metadata": {
  "kernelspec": {
   "display_name": "Python 3",
   "language": "python",
   "name": "python3"
  },
  "language_info": {
   "codemirror_mode": {
    "name": "ipython",
    "version": 2
   },
   "file_extension": ".py",
   "mimetype": "text/x-python",
   "name": "python",
   "nbconvert_exporter": "python",
   "pygments_lexer": "ipython2",
   "version": "2.7.6"
  }
 },
 "nbformat": 4,
 "nbformat_minor": 0
}