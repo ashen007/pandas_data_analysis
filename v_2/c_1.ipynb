{
 "cells": [
  {
   "cell_type": "code",
   "execution_count": 1,
   "metadata": {
    "collapsed": true
   },
   "outputs": [],
   "source": [
    "import pandas as pd"
   ]
  },
  {
   "cell_type": "code",
   "execution_count": 2,
   "outputs": [
    {
     "data": {
      "text/plain": "   id  member_id  loan_amnt  funded_amnt  funded_amnt_inv        term  \\\n0   0        NaN      32000        32000          32000.0   36 months   \n1   1        NaN      11500        11500          11500.0   36 months   \n2   2        NaN      10000        10000          10000.0   36 months   \n3   3        NaN      28000        28000          28000.0   36 months   \n4   4        NaN      28000        28000          28000.0   60 months   \n\n   int_rate  installment grade sub_grade  ... hardship_payoff_balance_amount  \\\n0     10.90      1046.13     B        B4  ...                            NaN   \n1     15.80       403.18     C        C3  ...                            NaN   \n2      6.49       306.45     A        A2  ...                            NaN   \n3      7.69       873.42     A        A4  ...                            NaN   \n4     17.97       710.56     D        D1  ...                            NaN   \n\n  hardship_last_payment_amount disbursement_method  debt_settlement_flag  \\\n0                          NaN                Cash                     N   \n1                          NaN                Cash                     N   \n2                          NaN                Cash                     N   \n3                          NaN                Cash                     N   \n4                          NaN                Cash                     N   \n\n  debt_settlement_flag_date settlement_status settlement_date  \\\n0                       NaN               NaN             NaN   \n1                       NaN               NaN             NaN   \n2                       NaN               NaN             NaN   \n3                       NaN               NaN             NaN   \n4                       NaN               NaN             NaN   \n\n  settlement_amount  settlement_percentage settlement_term  \n0               NaN                    NaN             NaN  \n1               NaN                    NaN             NaN  \n2               NaN                    NaN             NaN  \n3               NaN                    NaN             NaN  \n4               NaN                    NaN             NaN  \n\n[5 rows x 145 columns]",
      "text/html": "<div>\n<style scoped>\n    .dataframe tbody tr th:only-of-type {\n        vertical-align: middle;\n    }\n\n    .dataframe tbody tr th {\n        vertical-align: top;\n    }\n\n    .dataframe thead th {\n        text-align: right;\n    }\n</style>\n<table border=\"1\" class=\"dataframe\">\n  <thead>\n    <tr style=\"text-align: right;\">\n      <th></th>\n      <th>id</th>\n      <th>member_id</th>\n      <th>loan_amnt</th>\n      <th>funded_amnt</th>\n      <th>funded_amnt_inv</th>\n      <th>term</th>\n      <th>int_rate</th>\n      <th>installment</th>\n      <th>grade</th>\n      <th>sub_grade</th>\n      <th>...</th>\n      <th>hardship_payoff_balance_amount</th>\n      <th>hardship_last_payment_amount</th>\n      <th>disbursement_method</th>\n      <th>debt_settlement_flag</th>\n      <th>debt_settlement_flag_date</th>\n      <th>settlement_status</th>\n      <th>settlement_date</th>\n      <th>settlement_amount</th>\n      <th>settlement_percentage</th>\n      <th>settlement_term</th>\n    </tr>\n  </thead>\n  <tbody>\n    <tr>\n      <th>0</th>\n      <td>0</td>\n      <td>NaN</td>\n      <td>32000</td>\n      <td>32000</td>\n      <td>32000.0</td>\n      <td>36 months</td>\n      <td>10.90</td>\n      <td>1046.13</td>\n      <td>B</td>\n      <td>B4</td>\n      <td>...</td>\n      <td>NaN</td>\n      <td>NaN</td>\n      <td>Cash</td>\n      <td>N</td>\n      <td>NaN</td>\n      <td>NaN</td>\n      <td>NaN</td>\n      <td>NaN</td>\n      <td>NaN</td>\n      <td>NaN</td>\n    </tr>\n    <tr>\n      <th>1</th>\n      <td>1</td>\n      <td>NaN</td>\n      <td>11500</td>\n      <td>11500</td>\n      <td>11500.0</td>\n      <td>36 months</td>\n      <td>15.80</td>\n      <td>403.18</td>\n      <td>C</td>\n      <td>C3</td>\n      <td>...</td>\n      <td>NaN</td>\n      <td>NaN</td>\n      <td>Cash</td>\n      <td>N</td>\n      <td>NaN</td>\n      <td>NaN</td>\n      <td>NaN</td>\n      <td>NaN</td>\n      <td>NaN</td>\n      <td>NaN</td>\n    </tr>\n    <tr>\n      <th>2</th>\n      <td>2</td>\n      <td>NaN</td>\n      <td>10000</td>\n      <td>10000</td>\n      <td>10000.0</td>\n      <td>36 months</td>\n      <td>6.49</td>\n      <td>306.45</td>\n      <td>A</td>\n      <td>A2</td>\n      <td>...</td>\n      <td>NaN</td>\n      <td>NaN</td>\n      <td>Cash</td>\n      <td>N</td>\n      <td>NaN</td>\n      <td>NaN</td>\n      <td>NaN</td>\n      <td>NaN</td>\n      <td>NaN</td>\n      <td>NaN</td>\n    </tr>\n    <tr>\n      <th>3</th>\n      <td>3</td>\n      <td>NaN</td>\n      <td>28000</td>\n      <td>28000</td>\n      <td>28000.0</td>\n      <td>36 months</td>\n      <td>7.69</td>\n      <td>873.42</td>\n      <td>A</td>\n      <td>A4</td>\n      <td>...</td>\n      <td>NaN</td>\n      <td>NaN</td>\n      <td>Cash</td>\n      <td>N</td>\n      <td>NaN</td>\n      <td>NaN</td>\n      <td>NaN</td>\n      <td>NaN</td>\n      <td>NaN</td>\n      <td>NaN</td>\n    </tr>\n    <tr>\n      <th>4</th>\n      <td>4</td>\n      <td>NaN</td>\n      <td>28000</td>\n      <td>28000</td>\n      <td>28000.0</td>\n      <td>60 months</td>\n      <td>17.97</td>\n      <td>710.56</td>\n      <td>D</td>\n      <td>D1</td>\n      <td>...</td>\n      <td>NaN</td>\n      <td>NaN</td>\n      <td>Cash</td>\n      <td>N</td>\n      <td>NaN</td>\n      <td>NaN</td>\n      <td>NaN</td>\n      <td>NaN</td>\n      <td>NaN</td>\n      <td>NaN</td>\n    </tr>\n  </tbody>\n</table>\n<p>5 rows × 145 columns</p>\n</div>"
     },
     "execution_count": 2,
     "metadata": {},
     "output_type": "execute_result"
    }
   ],
   "source": [
    "train = pd.read_csv('../data/p1_train.csv')\n",
    "train.head(5)"
   ],
   "metadata": {
    "collapsed": false,
    "pycharm": {
     "name": "#%%\n"
    }
   }
  }
 ],
 "metadata": {
  "kernelspec": {
   "display_name": "Python 3",
   "language": "python",
   "name": "python3"
  },
  "language_info": {
   "codemirror_mode": {
    "name": "ipython",
    "version": 2
   },
   "file_extension": ".py",
   "mimetype": "text/x-python",
   "name": "python",
   "nbconvert_exporter": "python",
   "pygments_lexer": "ipython2",
   "version": "2.7.6"
  }
 },
 "nbformat": 4,
 "nbformat_minor": 0
}