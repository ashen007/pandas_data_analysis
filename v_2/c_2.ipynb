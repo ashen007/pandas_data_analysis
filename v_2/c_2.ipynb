{
 "cells": [
  {
   "cell_type": "code",
   "execution_count": 1,
   "metadata": {
    "collapsed": true
   },
   "outputs": [],
   "source": [
    "import pandas as pd"
   ]
  },
  {
   "cell_type": "code",
   "execution_count": 2,
   "outputs": [],
   "source": [
    "data_path = '../data/p1_train.csv'"
   ],
   "metadata": {
    "collapsed": false,
    "pycharm": {
     "name": "#%%\n"
    }
   }
  },
  {
   "cell_type": "code",
   "execution_count": 3,
   "outputs": [
    {
     "data": {
      "text/plain": "        member_id  loan_amnt  funded_amnt  funded_amnt_inv        term  \\\nid                                                                       \n0             NaN      32000        32000          32000.0   36 months   \n1             NaN      11500        11500          11500.0   36 months   \n2             NaN      10000        10000          10000.0   36 months   \n3             NaN      28000        28000          28000.0   36 months   \n4             NaN      28000        28000          28000.0   60 months   \n...           ...        ...          ...              ...         ...   \n904262        NaN      30000        30000          30000.0   60 months   \n904263        NaN      15000        15000          15000.0   36 months   \n904264        NaN       8725         8725           8725.0   36 months   \n904265        NaN      15000        15000          15000.0   36 months   \n904266        NaN      15000        15000          15000.0   60 months   \n\n        int_rate  installment grade sub_grade                       emp_title  \\\nid                                                                              \n0          10.90      1046.13     B        B4           plasma\\brake operator   \n1          15.80       403.18     C        C3                        CableOne   \n2           6.49       306.45     A        A2                             NaN   \n3           7.69       873.42     A        A4        Human Resources Director   \n4          17.97       710.56     D        D1                     sales agent   \n...          ...          ...   ...       ...                             ...   \n904262     16.55       738.34     D        D2                         Teacher   \n904263     12.12       499.08     B        B3              WDAC Radio Compnay   \n904264     17.27       312.25     D        D1  Clovis Unified School District   \n904265     17.09       535.47     D        D1                        Educator   \n904266     17.09       373.52     D        D1                        officer    \n\n        ... hardship_payoff_balance_amount hardship_last_payment_amount  \\\nid      ...                                                               \n0       ...                            NaN                          NaN   \n1       ...                            NaN                          NaN   \n2       ...                            NaN                          NaN   \n3       ...                            NaN                          NaN   \n4       ...                            NaN                          NaN   \n...     ...                            ...                          ...   \n904262  ...                            NaN                          NaN   \n904263  ...                            NaN                          NaN   \n904264  ...                            NaN                          NaN   \n904265  ...                            NaN                          NaN   \n904266  ...                            NaN                          NaN   \n\n        disbursement_method debt_settlement_flag debt_settlement_flag_date  \\\nid                                                                           \n0                      Cash                    N                       NaN   \n1                      Cash                    N                       NaN   \n2                      Cash                    N                       NaN   \n3                      Cash                    N                       NaN   \n4                      Cash                    N                       NaN   \n...                     ...                  ...                       ...   \n904262                 Cash                    N                       NaN   \n904263                 Cash                    N                       NaN   \n904264                 Cash                    N                       NaN   \n904265                 Cash                    N                       NaN   \n904266                 Cash                    N                       NaN   \n\n       settlement_status settlement_date  settlement_amount  \\\nid                                                            \n0                    NaN             NaN                NaN   \n1                    NaN             NaN                NaN   \n2                    NaN             NaN                NaN   \n3                    NaN             NaN                NaN   \n4                    NaN             NaN                NaN   \n...                  ...             ...                ...   \n904262               NaN             NaN                NaN   \n904263               NaN             NaN                NaN   \n904264               NaN             NaN                NaN   \n904265               NaN             NaN                NaN   \n904266               NaN             NaN                NaN   \n\n       settlement_percentage settlement_term  \nid                                            \n0                        NaN             NaN  \n1                        NaN             NaN  \n2                        NaN             NaN  \n3                        NaN             NaN  \n4                        NaN             NaN  \n...                      ...             ...  \n904262                   NaN             NaN  \n904263                   NaN             NaN  \n904264                   NaN             NaN  \n904265                   NaN             NaN  \n904266                   NaN             NaN  \n\n[904267 rows x 144 columns]",
      "text/html": "<div>\n<style scoped>\n    .dataframe tbody tr th:only-of-type {\n        vertical-align: middle;\n    }\n\n    .dataframe tbody tr th {\n        vertical-align: top;\n    }\n\n    .dataframe thead th {\n        text-align: right;\n    }\n</style>\n<table border=\"1\" class=\"dataframe\">\n  <thead>\n    <tr style=\"text-align: right;\">\n      <th></th>\n      <th>member_id</th>\n      <th>loan_amnt</th>\n      <th>funded_amnt</th>\n      <th>funded_amnt_inv</th>\n      <th>term</th>\n      <th>int_rate</th>\n      <th>installment</th>\n      <th>grade</th>\n      <th>sub_grade</th>\n      <th>emp_title</th>\n      <th>...</th>\n      <th>hardship_payoff_balance_amount</th>\n      <th>hardship_last_payment_amount</th>\n      <th>disbursement_method</th>\n      <th>debt_settlement_flag</th>\n      <th>debt_settlement_flag_date</th>\n      <th>settlement_status</th>\n      <th>settlement_date</th>\n      <th>settlement_amount</th>\n      <th>settlement_percentage</th>\n      <th>settlement_term</th>\n    </tr>\n    <tr>\n      <th>id</th>\n      <th></th>\n      <th></th>\n      <th></th>\n      <th></th>\n      <th></th>\n      <th></th>\n      <th></th>\n      <th></th>\n      <th></th>\n      <th></th>\n      <th></th>\n      <th></th>\n      <th></th>\n      <th></th>\n      <th></th>\n      <th></th>\n      <th></th>\n      <th></th>\n      <th></th>\n      <th></th>\n      <th></th>\n    </tr>\n  </thead>\n  <tbody>\n    <tr>\n      <th>0</th>\n      <td>NaN</td>\n      <td>32000</td>\n      <td>32000</td>\n      <td>32000.0</td>\n      <td>36 months</td>\n      <td>10.90</td>\n      <td>1046.13</td>\n      <td>B</td>\n      <td>B4</td>\n      <td>plasma\\brake operator</td>\n      <td>...</td>\n      <td>NaN</td>\n      <td>NaN</td>\n      <td>Cash</td>\n      <td>N</td>\n      <td>NaN</td>\n      <td>NaN</td>\n      <td>NaN</td>\n      <td>NaN</td>\n      <td>NaN</td>\n      <td>NaN</td>\n    </tr>\n    <tr>\n      <th>1</th>\n      <td>NaN</td>\n      <td>11500</td>\n      <td>11500</td>\n      <td>11500.0</td>\n      <td>36 months</td>\n      <td>15.80</td>\n      <td>403.18</td>\n      <td>C</td>\n      <td>C3</td>\n      <td>CableOne</td>\n      <td>...</td>\n      <td>NaN</td>\n      <td>NaN</td>\n      <td>Cash</td>\n      <td>N</td>\n      <td>NaN</td>\n      <td>NaN</td>\n      <td>NaN</td>\n      <td>NaN</td>\n      <td>NaN</td>\n      <td>NaN</td>\n    </tr>\n    <tr>\n      <th>2</th>\n      <td>NaN</td>\n      <td>10000</td>\n      <td>10000</td>\n      <td>10000.0</td>\n      <td>36 months</td>\n      <td>6.49</td>\n      <td>306.45</td>\n      <td>A</td>\n      <td>A2</td>\n      <td>NaN</td>\n      <td>...</td>\n      <td>NaN</td>\n      <td>NaN</td>\n      <td>Cash</td>\n      <td>N</td>\n      <td>NaN</td>\n      <td>NaN</td>\n      <td>NaN</td>\n      <td>NaN</td>\n      <td>NaN</td>\n      <td>NaN</td>\n    </tr>\n    <tr>\n      <th>3</th>\n      <td>NaN</td>\n      <td>28000</td>\n      <td>28000</td>\n      <td>28000.0</td>\n      <td>36 months</td>\n      <td>7.69</td>\n      <td>873.42</td>\n      <td>A</td>\n      <td>A4</td>\n      <td>Human Resources Director</td>\n      <td>...</td>\n      <td>NaN</td>\n      <td>NaN</td>\n      <td>Cash</td>\n      <td>N</td>\n      <td>NaN</td>\n      <td>NaN</td>\n      <td>NaN</td>\n      <td>NaN</td>\n      <td>NaN</td>\n      <td>NaN</td>\n    </tr>\n    <tr>\n      <th>4</th>\n      <td>NaN</td>\n      <td>28000</td>\n      <td>28000</td>\n      <td>28000.0</td>\n      <td>60 months</td>\n      <td>17.97</td>\n      <td>710.56</td>\n      <td>D</td>\n      <td>D1</td>\n      <td>sales agent</td>\n      <td>...</td>\n      <td>NaN</td>\n      <td>NaN</td>\n      <td>Cash</td>\n      <td>N</td>\n      <td>NaN</td>\n      <td>NaN</td>\n      <td>NaN</td>\n      <td>NaN</td>\n      <td>NaN</td>\n      <td>NaN</td>\n    </tr>\n    <tr>\n      <th>...</th>\n      <td>...</td>\n      <td>...</td>\n      <td>...</td>\n      <td>...</td>\n      <td>...</td>\n      <td>...</td>\n      <td>...</td>\n      <td>...</td>\n      <td>...</td>\n      <td>...</td>\n      <td>...</td>\n      <td>...</td>\n      <td>...</td>\n      <td>...</td>\n      <td>...</td>\n      <td>...</td>\n      <td>...</td>\n      <td>...</td>\n      <td>...</td>\n      <td>...</td>\n      <td>...</td>\n    </tr>\n    <tr>\n      <th>904262</th>\n      <td>NaN</td>\n      <td>30000</td>\n      <td>30000</td>\n      <td>30000.0</td>\n      <td>60 months</td>\n      <td>16.55</td>\n      <td>738.34</td>\n      <td>D</td>\n      <td>D2</td>\n      <td>Teacher</td>\n      <td>...</td>\n      <td>NaN</td>\n      <td>NaN</td>\n      <td>Cash</td>\n      <td>N</td>\n      <td>NaN</td>\n      <td>NaN</td>\n      <td>NaN</td>\n      <td>NaN</td>\n      <td>NaN</td>\n      <td>NaN</td>\n    </tr>\n    <tr>\n      <th>904263</th>\n      <td>NaN</td>\n      <td>15000</td>\n      <td>15000</td>\n      <td>15000.0</td>\n      <td>36 months</td>\n      <td>12.12</td>\n      <td>499.08</td>\n      <td>B</td>\n      <td>B3</td>\n      <td>WDAC Radio Compnay</td>\n      <td>...</td>\n      <td>NaN</td>\n      <td>NaN</td>\n      <td>Cash</td>\n      <td>N</td>\n      <td>NaN</td>\n      <td>NaN</td>\n      <td>NaN</td>\n      <td>NaN</td>\n      <td>NaN</td>\n      <td>NaN</td>\n    </tr>\n    <tr>\n      <th>904264</th>\n      <td>NaN</td>\n      <td>8725</td>\n      <td>8725</td>\n      <td>8725.0</td>\n      <td>36 months</td>\n      <td>17.27</td>\n      <td>312.25</td>\n      <td>D</td>\n      <td>D1</td>\n      <td>Clovis Unified School District</td>\n      <td>...</td>\n      <td>NaN</td>\n      <td>NaN</td>\n      <td>Cash</td>\n      <td>N</td>\n      <td>NaN</td>\n      <td>NaN</td>\n      <td>NaN</td>\n      <td>NaN</td>\n      <td>NaN</td>\n      <td>NaN</td>\n    </tr>\n    <tr>\n      <th>904265</th>\n      <td>NaN</td>\n      <td>15000</td>\n      <td>15000</td>\n      <td>15000.0</td>\n      <td>36 months</td>\n      <td>17.09</td>\n      <td>535.47</td>\n      <td>D</td>\n      <td>D1</td>\n      <td>Educator</td>\n      <td>...</td>\n      <td>NaN</td>\n      <td>NaN</td>\n      <td>Cash</td>\n      <td>N</td>\n      <td>NaN</td>\n      <td>NaN</td>\n      <td>NaN</td>\n      <td>NaN</td>\n      <td>NaN</td>\n      <td>NaN</td>\n    </tr>\n    <tr>\n      <th>904266</th>\n      <td>NaN</td>\n      <td>15000</td>\n      <td>15000</td>\n      <td>15000.0</td>\n      <td>60 months</td>\n      <td>17.09</td>\n      <td>373.52</td>\n      <td>D</td>\n      <td>D1</td>\n      <td>officer</td>\n      <td>...</td>\n      <td>NaN</td>\n      <td>NaN</td>\n      <td>Cash</td>\n      <td>N</td>\n      <td>NaN</td>\n      <td>NaN</td>\n      <td>NaN</td>\n      <td>NaN</td>\n      <td>NaN</td>\n      <td>NaN</td>\n    </tr>\n  </tbody>\n</table>\n<p>904267 rows × 144 columns</p>\n</div>"
     },
     "execution_count": 3,
     "metadata": {},
     "output_type": "execute_result"
    }
   ],
   "source": [
    "# import data\n",
    "train = pd.read_csv(data_path,index_col='id')\n",
    "train"
   ],
   "metadata": {
    "collapsed": false,
    "pycharm": {
     "name": "#%%\n"
    }
   }
  },
  {
   "cell_type": "code",
   "execution_count": 4,
   "outputs": [
    {
     "data": {
      "text/plain": "id\n0                  plasma\\brake operator\n1                               CableOne\n2                                    NaN\n3               Human Resources Director\n4                            sales agent\n                       ...              \n904262                           Teacher\n904263                WDAC Radio Compnay\n904264    Clovis Unified School District\n904265                          Educator\n904266                          officer \nName: emp_title, Length: 904267, dtype: object"
     },
     "execution_count": 4,
     "metadata": {},
     "output_type": "execute_result"
    }
   ],
   "source": [
    "# dot notation\n",
    "train.emp_title"
   ],
   "metadata": {
    "collapsed": false,
    "pycharm": {
     "name": "#%%\n"
    }
   }
  },
  {
   "cell_type": "code",
   "execution_count": 5,
   "outputs": [
    {
     "data": {
      "text/plain": "member_id                       NaN\nloan_amnt                     35000\nfunded_amnt                   35000\nfunded_amnt_inv             35000.0\nterm                      36 months\n                            ...    \nsettlement_status               NaN\nsettlement_date                 NaN\nsettlement_amount               NaN\nsettlement_percentage           NaN\nsettlement_term                 NaN\nName: 10, Length: 144, dtype: object"
     },
     "execution_count": 5,
     "metadata": {},
     "output_type": "execute_result"
    }
   ],
   "source": [
    "# select multiple columns and rows\n",
    "train.loc[10]"
   ],
   "metadata": {
    "collapsed": false,
    "pycharm": {
     "name": "#%%\n"
    }
   }
  },
  {
   "cell_type": "code",
   "execution_count": 11,
   "outputs": [
    {
     "data": {
      "text/plain": "id\n0          36 months\n1          36 months\n2          36 months\n3          36 months\n4          60 months\n             ...    \n904262     60 months\n904263     36 months\n904264     36 months\n904265     36 months\n904266     60 months\nName: term, Length: 904267, dtype: object"
     },
     "execution_count": 11,
     "metadata": {},
     "output_type": "execute_result"
    }
   ],
   "source": [
    "train.loc[:,'term']"
   ],
   "metadata": {
    "collapsed": false,
    "pycharm": {
     "name": "#%%\n"
    }
   }
  },
  {
   "cell_type": "code",
   "execution_count": 12,
   "outputs": [
    {
     "data": {
      "text/plain": "' 36 months'"
     },
     "execution_count": 12,
     "metadata": {},
     "output_type": "execute_result"
    }
   ],
   "source": [
    "train.loc[10,'term']"
   ],
   "metadata": {
    "collapsed": false,
    "pycharm": {
     "name": "#%%\n"
    }
   }
  },
  {
   "cell_type": "code",
   "execution_count": null,
   "outputs": [],
   "source": [],
   "metadata": {
    "collapsed": false,
    "pycharm": {
     "name": "#%%\n"
    }
   }
  }
 ],
 "metadata": {
  "kernelspec": {
   "display_name": "Python 3",
   "language": "python",
   "name": "python3"
  },
  "language_info": {
   "codemirror_mode": {
    "name": "ipython",
    "version": 2
   },
   "file_extension": ".py",
   "mimetype": "text/x-python",
   "name": "python",
   "nbconvert_exporter": "python",
   "pygments_lexer": "ipython2",
   "version": "2.7.6"
  }
 },
 "nbformat": 4,
 "nbformat_minor": 0
}