{
 "cells": [
  {
   "cell_type": "code",
   "execution_count": 1,
   "metadata": {
    "collapsed": true
   },
   "outputs": [],
   "source": [
    "import pandas as pd"
   ]
  },
  {
   "cell_type": "code",
   "execution_count": 2,
   "outputs": [],
   "source": [
    "data_path = '../data/p1_train.csv'"
   ],
   "metadata": {
    "collapsed": false,
    "pycharm": {
     "name": "#%%\n"
    }
   }
  },
  {
   "cell_type": "code",
   "execution_count": 3,
   "outputs": [
    {
     "data": {
      "text/plain": "        member_id  loan_amnt  funded_amnt  funded_amnt_inv        term  \\\nid                                                                       \n0             NaN      32000        32000          32000.0   36 months   \n1             NaN      11500        11500          11500.0   36 months   \n2             NaN      10000        10000          10000.0   36 months   \n3             NaN      28000        28000          28000.0   36 months   \n4             NaN      28000        28000          28000.0   60 months   \n...           ...        ...          ...              ...         ...   \n904262        NaN      30000        30000          30000.0   60 months   \n904263        NaN      15000        15000          15000.0   36 months   \n904264        NaN       8725         8725           8725.0   36 months   \n904265        NaN      15000        15000          15000.0   36 months   \n904266        NaN      15000        15000          15000.0   60 months   \n\n        int_rate  installment grade sub_grade                       emp_title  \\\nid                                                                              \n0          10.90      1046.13     B        B4           plasma\\brake operator   \n1          15.80       403.18     C        C3                        CableOne   \n2           6.49       306.45     A        A2                             NaN   \n3           7.69       873.42     A        A4        Human Resources Director   \n4          17.97       710.56     D        D1                     sales agent   \n...          ...          ...   ...       ...                             ...   \n904262     16.55       738.34     D        D2                         Teacher   \n904263     12.12       499.08     B        B3              WDAC Radio Compnay   \n904264     17.27       312.25     D        D1  Clovis Unified School District   \n904265     17.09       535.47     D        D1                        Educator   \n904266     17.09       373.52     D        D1                        officer    \n\n        ... hardship_payoff_balance_amount hardship_last_payment_amount  \\\nid      ...                                                               \n0       ...                            NaN                          NaN   \n1       ...                            NaN                          NaN   \n2       ...                            NaN                          NaN   \n3       ...                            NaN                          NaN   \n4       ...                            NaN                          NaN   \n...     ...                            ...                          ...   \n904262  ...                            NaN                          NaN   \n904263  ...                            NaN                          NaN   \n904264  ...                            NaN                          NaN   \n904265  ...                            NaN                          NaN   \n904266  ...                            NaN                          NaN   \n\n        disbursement_method debt_settlement_flag debt_settlement_flag_date  \\\nid                                                                           \n0                      Cash                    N                       NaN   \n1                      Cash                    N                       NaN   \n2                      Cash                    N                       NaN   \n3                      Cash                    N                       NaN   \n4                      Cash                    N                       NaN   \n...                     ...                  ...                       ...   \n904262                 Cash                    N                       NaN   \n904263                 Cash                    N                       NaN   \n904264                 Cash                    N                       NaN   \n904265                 Cash                    N                       NaN   \n904266                 Cash                    N                       NaN   \n\n       settlement_status settlement_date  settlement_amount  \\\nid                                                            \n0                    NaN             NaN                NaN   \n1                    NaN             NaN                NaN   \n2                    NaN             NaN                NaN   \n3                    NaN             NaN                NaN   \n4                    NaN             NaN                NaN   \n...                  ...             ...                ...   \n904262               NaN             NaN                NaN   \n904263               NaN             NaN                NaN   \n904264               NaN             NaN                NaN   \n904265               NaN             NaN                NaN   \n904266               NaN             NaN                NaN   \n\n       settlement_percentage settlement_term  \nid                                            \n0                        NaN             NaN  \n1                        NaN             NaN  \n2                        NaN             NaN  \n3                        NaN             NaN  \n4                        NaN             NaN  \n...                      ...             ...  \n904262                   NaN             NaN  \n904263                   NaN             NaN  \n904264                   NaN             NaN  \n904265                   NaN             NaN  \n904266                   NaN             NaN  \n\n[904267 rows x 144 columns]",
      "text/html": "<div>\n<style scoped>\n    .dataframe tbody tr th:only-of-type {\n        vertical-align: middle;\n    }\n\n    .dataframe tbody tr th {\n        vertical-align: top;\n    }\n\n    .dataframe thead th {\n        text-align: right;\n    }\n</style>\n<table border=\"1\" class=\"dataframe\">\n  <thead>\n    <tr style=\"text-align: right;\">\n      <th></th>\n      <th>member_id</th>\n      <th>loan_amnt</th>\n      <th>funded_amnt</th>\n      <th>funded_amnt_inv</th>\n      <th>term</th>\n      <th>int_rate</th>\n      <th>installment</th>\n      <th>grade</th>\n      <th>sub_grade</th>\n      <th>emp_title</th>\n      <th>...</th>\n      <th>hardship_payoff_balance_amount</th>\n      <th>hardship_last_payment_amount</th>\n      <th>disbursement_method</th>\n      <th>debt_settlement_flag</th>\n      <th>debt_settlement_flag_date</th>\n      <th>settlement_status</th>\n      <th>settlement_date</th>\n      <th>settlement_amount</th>\n      <th>settlement_percentage</th>\n      <th>settlement_term</th>\n    </tr>\n    <tr>\n      <th>id</th>\n      <th></th>\n      <th></th>\n      <th></th>\n      <th></th>\n      <th></th>\n      <th></th>\n      <th></th>\n      <th></th>\n      <th></th>\n      <th></th>\n      <th></th>\n      <th></th>\n      <th></th>\n      <th></th>\n      <th></th>\n      <th></th>\n      <th></th>\n      <th></th>\n      <th></th>\n      <th></th>\n      <th></th>\n    </tr>\n  </thead>\n  <tbody>\n    <tr>\n      <th>0</th>\n      <td>NaN</td>\n      <td>32000</td>\n      <td>32000</td>\n      <td>32000.0</td>\n      <td>36 months</td>\n      <td>10.90</td>\n      <td>1046.13</td>\n      <td>B</td>\n      <td>B4</td>\n      <td>plasma\\brake operator</td>\n      <td>...</td>\n      <td>NaN</td>\n      <td>NaN</td>\n      <td>Cash</td>\n      <td>N</td>\n      <td>NaN</td>\n      <td>NaN</td>\n      <td>NaN</td>\n      <td>NaN</td>\n      <td>NaN</td>\n      <td>NaN</td>\n    </tr>\n    <tr>\n      <th>1</th>\n      <td>NaN</td>\n      <td>11500</td>\n      <td>11500</td>\n      <td>11500.0</td>\n      <td>36 months</td>\n      <td>15.80</td>\n      <td>403.18</td>\n      <td>C</td>\n      <td>C3</td>\n      <td>CableOne</td>\n      <td>...</td>\n      <td>NaN</td>\n      <td>NaN</td>\n      <td>Cash</td>\n      <td>N</td>\n      <td>NaN</td>\n      <td>NaN</td>\n      <td>NaN</td>\n      <td>NaN</td>\n      <td>NaN</td>\n      <td>NaN</td>\n    </tr>\n    <tr>\n      <th>2</th>\n      <td>NaN</td>\n      <td>10000</td>\n      <td>10000</td>\n      <td>10000.0</td>\n      <td>36 months</td>\n      <td>6.49</td>\n      <td>306.45</td>\n      <td>A</td>\n      <td>A2</td>\n      <td>NaN</td>\n      <td>...</td>\n      <td>NaN</td>\n      <td>NaN</td>\n      <td>Cash</td>\n      <td>N</td>\n      <td>NaN</td>\n      <td>NaN</td>\n      <td>NaN</td>\n      <td>NaN</td>\n      <td>NaN</td>\n      <td>NaN</td>\n    </tr>\n    <tr>\n      <th>3</th>\n      <td>NaN</td>\n      <td>28000</td>\n      <td>28000</td>\n      <td>28000.0</td>\n      <td>36 months</td>\n      <td>7.69</td>\n      <td>873.42</td>\n      <td>A</td>\n      <td>A4</td>\n      <td>Human Resources Director</td>\n      <td>...</td>\n      <td>NaN</td>\n      <td>NaN</td>\n      <td>Cash</td>\n      <td>N</td>\n      <td>NaN</td>\n      <td>NaN</td>\n      <td>NaN</td>\n      <td>NaN</td>\n      <td>NaN</td>\n      <td>NaN</td>\n    </tr>\n    <tr>\n      <th>4</th>\n      <td>NaN</td>\n      <td>28000</td>\n      <td>28000</td>\n      <td>28000.0</td>\n      <td>60 months</td>\n      <td>17.97</td>\n      <td>710.56</td>\n      <td>D</td>\n      <td>D1</td>\n      <td>sales agent</td>\n      <td>...</td>\n      <td>NaN</td>\n      <td>NaN</td>\n      <td>Cash</td>\n      <td>N</td>\n      <td>NaN</td>\n      <td>NaN</td>\n      <td>NaN</td>\n      <td>NaN</td>\n      <td>NaN</td>\n      <td>NaN</td>\n    </tr>\n    <tr>\n      <th>...</th>\n      <td>...</td>\n      <td>...</td>\n      <td>...</td>\n      <td>...</td>\n      <td>...</td>\n      <td>...</td>\n      <td>...</td>\n      <td>...</td>\n      <td>...</td>\n      <td>...</td>\n      <td>...</td>\n      <td>...</td>\n      <td>...</td>\n      <td>...</td>\n      <td>...</td>\n      <td>...</td>\n      <td>...</td>\n      <td>...</td>\n      <td>...</td>\n      <td>...</td>\n      <td>...</td>\n    </tr>\n    <tr>\n      <th>904262</th>\n      <td>NaN</td>\n      <td>30000</td>\n      <td>30000</td>\n      <td>30000.0</td>\n      <td>60 months</td>\n      <td>16.55</td>\n      <td>738.34</td>\n      <td>D</td>\n      <td>D2</td>\n      <td>Teacher</td>\n      <td>...</td>\n      <td>NaN</td>\n      <td>NaN</td>\n      <td>Cash</td>\n      <td>N</td>\n      <td>NaN</td>\n      <td>NaN</td>\n      <td>NaN</td>\n      <td>NaN</td>\n      <td>NaN</td>\n      <td>NaN</td>\n    </tr>\n    <tr>\n      <th>904263</th>\n      <td>NaN</td>\n      <td>15000</td>\n      <td>15000</td>\n      <td>15000.0</td>\n      <td>36 months</td>\n      <td>12.12</td>\n      <td>499.08</td>\n      <td>B</td>\n      <td>B3</td>\n      <td>WDAC Radio Compnay</td>\n      <td>...</td>\n      <td>NaN</td>\n      <td>NaN</td>\n      <td>Cash</td>\n      <td>N</td>\n      <td>NaN</td>\n      <td>NaN</td>\n      <td>NaN</td>\n      <td>NaN</td>\n      <td>NaN</td>\n      <td>NaN</td>\n    </tr>\n    <tr>\n      <th>904264</th>\n      <td>NaN</td>\n      <td>8725</td>\n      <td>8725</td>\n      <td>8725.0</td>\n      <td>36 months</td>\n      <td>17.27</td>\n      <td>312.25</td>\n      <td>D</td>\n      <td>D1</td>\n      <td>Clovis Unified School District</td>\n      <td>...</td>\n      <td>NaN</td>\n      <td>NaN</td>\n      <td>Cash</td>\n      <td>N</td>\n      <td>NaN</td>\n      <td>NaN</td>\n      <td>NaN</td>\n      <td>NaN</td>\n      <td>NaN</td>\n      <td>NaN</td>\n    </tr>\n    <tr>\n      <th>904265</th>\n      <td>NaN</td>\n      <td>15000</td>\n      <td>15000</td>\n      <td>15000.0</td>\n      <td>36 months</td>\n      <td>17.09</td>\n      <td>535.47</td>\n      <td>D</td>\n      <td>D1</td>\n      <td>Educator</td>\n      <td>...</td>\n      <td>NaN</td>\n      <td>NaN</td>\n      <td>Cash</td>\n      <td>N</td>\n      <td>NaN</td>\n      <td>NaN</td>\n      <td>NaN</td>\n      <td>NaN</td>\n      <td>NaN</td>\n      <td>NaN</td>\n    </tr>\n    <tr>\n      <th>904266</th>\n      <td>NaN</td>\n      <td>15000</td>\n      <td>15000</td>\n      <td>15000.0</td>\n      <td>60 months</td>\n      <td>17.09</td>\n      <td>373.52</td>\n      <td>D</td>\n      <td>D1</td>\n      <td>officer</td>\n      <td>...</td>\n      <td>NaN</td>\n      <td>NaN</td>\n      <td>Cash</td>\n      <td>N</td>\n      <td>NaN</td>\n      <td>NaN</td>\n      <td>NaN</td>\n      <td>NaN</td>\n      <td>NaN</td>\n      <td>NaN</td>\n    </tr>\n  </tbody>\n</table>\n<p>904267 rows × 144 columns</p>\n</div>"
     },
     "execution_count": 3,
     "metadata": {},
     "output_type": "execute_result"
    }
   ],
   "source": [
    "# import data\n",
    "train = pd.read_csv(data_path,index_col='id')\n",
    "train"
   ],
   "metadata": {
    "collapsed": false,
    "pycharm": {
     "name": "#%%\n"
    }
   }
  },
  {
   "cell_type": "code",
   "execution_count": 4,
   "outputs": [
    {
     "data": {
      "text/plain": "id\n0                  plasma\\brake operator\n1                               CableOne\n2                                    NaN\n3               Human Resources Director\n4                            sales agent\n                       ...              \n904262                           Teacher\n904263                WDAC Radio Compnay\n904264    Clovis Unified School District\n904265                          Educator\n904266                          officer \nName: emp_title, Length: 904267, dtype: object"
     },
     "execution_count": 4,
     "metadata": {},
     "output_type": "execute_result"
    }
   ],
   "source": [
    "# dot notation\n",
    "train.emp_title"
   ],
   "metadata": {
    "collapsed": false,
    "pycharm": {
     "name": "#%%\n"
    }
   }
  },
  {
   "cell_type": "code",
   "execution_count": 5,
   "outputs": [
    {
     "data": {
      "text/plain": "member_id                       NaN\nloan_amnt                     35000\nfunded_amnt                   35000\nfunded_amnt_inv             35000.0\nterm                      36 months\n                            ...    \nsettlement_status               NaN\nsettlement_date                 NaN\nsettlement_amount               NaN\nsettlement_percentage           NaN\nsettlement_term                 NaN\nName: 10, Length: 144, dtype: object"
     },
     "execution_count": 5,
     "metadata": {},
     "output_type": "execute_result"
    }
   ],
   "source": [
    "# select multiple columns and rows\n",
    "train.loc[10]"
   ],
   "metadata": {
    "collapsed": false,
    "pycharm": {
     "name": "#%%\n"
    }
   }
  },
  {
   "cell_type": "code",
   "execution_count": 6,
   "outputs": [
    {
     "data": {
      "text/plain": "id\n0          36 months\n1          36 months\n2          36 months\n3          36 months\n4          60 months\n             ...    \n904262     60 months\n904263     36 months\n904264     36 months\n904265     36 months\n904266     60 months\nName: term, Length: 904267, dtype: object"
     },
     "execution_count": 6,
     "metadata": {},
     "output_type": "execute_result"
    }
   ],
   "source": [
    "train.loc[:,'term']"
   ],
   "metadata": {
    "collapsed": false,
    "pycharm": {
     "name": "#%%\n"
    }
   }
  },
  {
   "cell_type": "code",
   "execution_count": 7,
   "outputs": [
    {
     "data": {
      "text/plain": "' 36 months'"
     },
     "execution_count": 7,
     "metadata": {},
     "output_type": "execute_result"
    }
   ],
   "source": [
    "train.loc[10,'term']"
   ],
   "metadata": {
    "collapsed": false,
    "pycharm": {
     "name": "#%%\n"
    }
   }
  },
  {
   "cell_type": "code",
   "execution_count": 8,
   "outputs": [
    {
     "data": {
      "text/plain": "id\n0         32000\n1         11500\n2         10000\n3         28000\n4         28000\n          ...  \n904262    30000\n904263    15000\n904264     8725\n904265    15000\n904266    15000\nName: funded_amnt, Length: 904267, dtype: int64"
     },
     "execution_count": 8,
     "metadata": {},
     "output_type": "execute_result"
    }
   ],
   "source": [
    "# single column and multiple rows\n",
    "train.loc[:,'funded_amnt']"
   ],
   "metadata": {
    "collapsed": false,
    "pycharm": {
     "name": "#%%\n"
    }
   }
  },
  {
   "cell_type": "code",
   "execution_count": 10,
   "outputs": [
    {
     "data": {
      "text/plain": "id\n10    35000\n11     8000\n12     3000\n13    10000\n14    12000\n15    24000\n16    12000\n17    25600\n18     6000\n19    30000\n20    12000\nName: funded_amnt, dtype: int64"
     },
     "execution_count": 10,
     "metadata": {},
     "output_type": "execute_result"
    }
   ],
   "source": [
    "train.loc[10:20,'funded_amnt']"
   ],
   "metadata": {
    "collapsed": false,
    "pycharm": {
     "name": "#%%\n"
    }
   }
  },
  {
   "cell_type": "code",
   "execution_count": 11,
   "outputs": [
    {
     "data": {
      "text/plain": "member_id                       NaN\nloan_amnt                     35000\nfunded_amnt                   35000\nfunded_amnt_inv             35000.0\nterm                      36 months\n                            ...    \nsettlement_status               NaN\nsettlement_date                 NaN\nsettlement_amount               NaN\nsettlement_percentage           NaN\nsettlement_term                 NaN\nName: 10, Length: 144, dtype: object"
     },
     "execution_count": 11,
     "metadata": {},
     "output_type": "execute_result"
    }
   ],
   "source": [
    "# single row multiple columns\n",
    "train.loc[10,:]"
   ],
   "metadata": {
    "collapsed": false,
    "pycharm": {
     "name": "#%%\n"
    }
   }
  },
  {
   "cell_type": "code",
   "execution_count": 12,
   "outputs": [
    {
     "data": {
      "text/plain": "settlement_status        NaN\nsettlement_date          NaN\nsettlement_amount        NaN\nsettlement_percentage    NaN\nsettlement_term          NaN\nName: 10, dtype: object"
     },
     "execution_count": 12,
     "metadata": {},
     "output_type": "execute_result"
    }
   ],
   "source": [
    "train.loc[10,'settlement_status':'settlement_term']"
   ],
   "metadata": {
    "collapsed": false,
    "pycharm": {
     "name": "#%%\n"
    }
   }
  },
  {
   "cell_type": "code",
   "execution_count": 15,
   "outputs": [
    {
     "data": {
      "text/plain": "        loan_amnt        term  int_rate\nid                                     \n619443      40000   60 months     20.39\n831239      40000   36 months      5.32\n106715      40000   60 months     14.08\n279092      40000   36 months      7.07\n339481      40000   60 months     23.99\n...           ...         ...       ...\n749333        500   36 months     11.41\n333485        500   36 months      8.38\n460674        500   36 months     12.49\n344980        500   36 months      8.00\n510971        500   36 months      9.01\n\n[904267 rows x 3 columns]",
      "text/html": "<div>\n<style scoped>\n    .dataframe tbody tr th:only-of-type {\n        vertical-align: middle;\n    }\n\n    .dataframe tbody tr th {\n        vertical-align: top;\n    }\n\n    .dataframe thead th {\n        text-align: right;\n    }\n</style>\n<table border=\"1\" class=\"dataframe\">\n  <thead>\n    <tr style=\"text-align: right;\">\n      <th></th>\n      <th>loan_amnt</th>\n      <th>term</th>\n      <th>int_rate</th>\n    </tr>\n    <tr>\n      <th>id</th>\n      <th></th>\n      <th></th>\n      <th></th>\n    </tr>\n  </thead>\n  <tbody>\n    <tr>\n      <th>619443</th>\n      <td>40000</td>\n      <td>60 months</td>\n      <td>20.39</td>\n    </tr>\n    <tr>\n      <th>831239</th>\n      <td>40000</td>\n      <td>36 months</td>\n      <td>5.32</td>\n    </tr>\n    <tr>\n      <th>106715</th>\n      <td>40000</td>\n      <td>60 months</td>\n      <td>14.08</td>\n    </tr>\n    <tr>\n      <th>279092</th>\n      <td>40000</td>\n      <td>36 months</td>\n      <td>7.07</td>\n    </tr>\n    <tr>\n      <th>339481</th>\n      <td>40000</td>\n      <td>60 months</td>\n      <td>23.99</td>\n    </tr>\n    <tr>\n      <th>...</th>\n      <td>...</td>\n      <td>...</td>\n      <td>...</td>\n    </tr>\n    <tr>\n      <th>749333</th>\n      <td>500</td>\n      <td>36 months</td>\n      <td>11.41</td>\n    </tr>\n    <tr>\n      <th>333485</th>\n      <td>500</td>\n      <td>36 months</td>\n      <td>8.38</td>\n    </tr>\n    <tr>\n      <th>460674</th>\n      <td>500</td>\n      <td>36 months</td>\n      <td>12.49</td>\n    </tr>\n    <tr>\n      <th>344980</th>\n      <td>500</td>\n      <td>36 months</td>\n      <td>8.00</td>\n    </tr>\n    <tr>\n      <th>510971</th>\n      <td>500</td>\n      <td>36 months</td>\n      <td>9.01</td>\n    </tr>\n  </tbody>\n</table>\n<p>904267 rows × 3 columns</p>\n</div>"
     },
     "execution_count": 15,
     "metadata": {},
     "output_type": "execute_result"
    }
   ],
   "source": [
    "# sort values\n",
    "train[['loan_amnt','term','int_rate']].sort_values(by=['loan_amnt'],ascending=False)"
   ],
   "metadata": {
    "collapsed": false,
    "pycharm": {
     "name": "#%%\n"
    }
   }
  },
  {
   "cell_type": "code",
   "execution_count": 19,
   "outputs": [
    {
     "data": {
      "text/plain": "       grade\nid          \n0          B\n1          C\n2          A\n3          A\n4          D\n...      ...\n904262     D\n904263     B\n904264     D\n904265     D\n904266     D\n\n[904267 rows x 1 columns]",
      "text/html": "<div>\n<style scoped>\n    .dataframe tbody tr th:only-of-type {\n        vertical-align: middle;\n    }\n\n    .dataframe tbody tr th {\n        vertical-align: top;\n    }\n\n    .dataframe thead th {\n        text-align: right;\n    }\n</style>\n<table border=\"1\" class=\"dataframe\">\n  <thead>\n    <tr style=\"text-align: right;\">\n      <th></th>\n      <th>grade</th>\n    </tr>\n    <tr>\n      <th>id</th>\n      <th></th>\n    </tr>\n  </thead>\n  <tbody>\n    <tr>\n      <th>0</th>\n      <td>B</td>\n    </tr>\n    <tr>\n      <th>1</th>\n      <td>C</td>\n    </tr>\n    <tr>\n      <th>2</th>\n      <td>A</td>\n    </tr>\n    <tr>\n      <th>3</th>\n      <td>A</td>\n    </tr>\n    <tr>\n      <th>4</th>\n      <td>D</td>\n    </tr>\n    <tr>\n      <th>...</th>\n      <td>...</td>\n    </tr>\n    <tr>\n      <th>904262</th>\n      <td>D</td>\n    </tr>\n    <tr>\n      <th>904263</th>\n      <td>B</td>\n    </tr>\n    <tr>\n      <th>904264</th>\n      <td>D</td>\n    </tr>\n    <tr>\n      <th>904265</th>\n      <td>D</td>\n    </tr>\n    <tr>\n      <th>904266</th>\n      <td>D</td>\n    </tr>\n  </tbody>\n</table>\n<p>904267 rows × 1 columns</p>\n</div>"
     },
     "execution_count": 19,
     "metadata": {},
     "output_type": "execute_result"
    }
   ],
   "source": [
    "# filter by filter method\n",
    "train.filter(items=['grade'])"
   ],
   "metadata": {
    "collapsed": false,
    "pycharm": {
     "name": "#%%\n"
    }
   }
  },
  {
   "cell_type": "code",
   "execution_count": 20,
   "outputs": [
    {
     "data": {
      "text/plain": "       grade sub_grade\nid                    \n0          B        B4\n1          C        C3\n2          A        A2\n3          A        A4\n4          D        D1\n...      ...       ...\n904262     D        D2\n904263     B        B3\n904264     D        D1\n904265     D        D1\n904266     D        D1\n\n[904267 rows x 2 columns]",
      "text/html": "<div>\n<style scoped>\n    .dataframe tbody tr th:only-of-type {\n        vertical-align: middle;\n    }\n\n    .dataframe tbody tr th {\n        vertical-align: top;\n    }\n\n    .dataframe thead th {\n        text-align: right;\n    }\n</style>\n<table border=\"1\" class=\"dataframe\">\n  <thead>\n    <tr style=\"text-align: right;\">\n      <th></th>\n      <th>grade</th>\n      <th>sub_grade</th>\n    </tr>\n    <tr>\n      <th>id</th>\n      <th></th>\n      <th></th>\n    </tr>\n  </thead>\n  <tbody>\n    <tr>\n      <th>0</th>\n      <td>B</td>\n      <td>B4</td>\n    </tr>\n    <tr>\n      <th>1</th>\n      <td>C</td>\n      <td>C3</td>\n    </tr>\n    <tr>\n      <th>2</th>\n      <td>A</td>\n      <td>A2</td>\n    </tr>\n    <tr>\n      <th>3</th>\n      <td>A</td>\n      <td>A4</td>\n    </tr>\n    <tr>\n      <th>4</th>\n      <td>D</td>\n      <td>D1</td>\n    </tr>\n    <tr>\n      <th>...</th>\n      <td>...</td>\n      <td>...</td>\n    </tr>\n    <tr>\n      <th>904262</th>\n      <td>D</td>\n      <td>D2</td>\n    </tr>\n    <tr>\n      <th>904263</th>\n      <td>B</td>\n      <td>B3</td>\n    </tr>\n    <tr>\n      <th>904264</th>\n      <td>D</td>\n      <td>D1</td>\n    </tr>\n    <tr>\n      <th>904265</th>\n      <td>D</td>\n      <td>D1</td>\n    </tr>\n    <tr>\n      <th>904266</th>\n      <td>D</td>\n      <td>D1</td>\n    </tr>\n  </tbody>\n</table>\n<p>904267 rows × 2 columns</p>\n</div>"
     },
     "execution_count": 20,
     "metadata": {},
     "output_type": "execute_result"
    }
   ],
   "source": [
    "train.filter(items=['grade','sub_grade'])"
   ],
   "metadata": {
    "collapsed": false,
    "pycharm": {
     "name": "#%%\n"
    }
   }
  },
  {
   "cell_type": "code",
   "execution_count": 22,
   "outputs": [
    {
     "data": {
      "text/plain": "        member_id  loan_amnt  funded_amnt  funded_amnt_inv        term  \\\nid                                                                       \n0             NaN      32000        32000          32000.0   36 months   \n1             NaN      11500        11500          11500.0   36 months   \n3             NaN      28000        28000          28000.0   36 months   \n4             NaN      28000        28000          28000.0   60 months   \n5             NaN      11850        11850          11850.0   36 months   \n...           ...        ...          ...              ...         ...   \n904260        NaN      18675        18675          18675.0   36 months   \n904262        NaN      30000        30000          30000.0   60 months   \n904263        NaN      15000        15000          15000.0   36 months   \n904265        NaN      15000        15000          15000.0   36 months   \n904266        NaN      15000        15000          15000.0   60 months   \n\n        int_rate  installment grade sub_grade                 emp_title  ...  \\\nid                                                                       ...   \n0          10.90      1046.13     B        B4     plasma\\brake operator  ...   \n1          15.80       403.18     C        C3                  CableOne  ...   \n3           7.69       873.42     A        A4  Human Resources Director  ...   \n4          17.97       710.56     D        D1               sales agent  ...   \n5          25.81       476.25     E        E4           Legal Secretary  ...   \n...          ...          ...   ...       ...                       ...  ...   \n904260     12.99       629.15     C        C2                  gangboss  ...   \n904262     16.55       738.34     D        D2                   Teacher  ...   \n904263     12.12       499.08     B        B3        WDAC Radio Compnay  ...   \n904265     17.09       535.47     D        D1                  Educator  ...   \n904266     17.09       373.52     D        D1                  officer   ...   \n\n       hardship_payoff_balance_amount hardship_last_payment_amount  \\\nid                                                                   \n0                                 NaN                          NaN   \n1                                 NaN                          NaN   \n3                                 NaN                          NaN   \n4                                 NaN                          NaN   \n5                                 NaN                          NaN   \n...                               ...                          ...   \n904260                            NaN                          NaN   \n904262                            NaN                          NaN   \n904263                            NaN                          NaN   \n904265                            NaN                          NaN   \n904266                            NaN                          NaN   \n\n        disbursement_method debt_settlement_flag debt_settlement_flag_date  \\\nid                                                                           \n0                      Cash                    N                       NaN   \n1                      Cash                    N                       NaN   \n3                      Cash                    N                       NaN   \n4                      Cash                    N                       NaN   \n5                      Cash                    N                       NaN   \n...                     ...                  ...                       ...   \n904260                 Cash                    N                       NaN   \n904262                 Cash                    N                       NaN   \n904263                 Cash                    N                       NaN   \n904265                 Cash                    N                       NaN   \n904266                 Cash                    N                       NaN   \n\n       settlement_status settlement_date  settlement_amount  \\\nid                                                            \n0                    NaN             NaN                NaN   \n1                    NaN             NaN                NaN   \n3                    NaN             NaN                NaN   \n4                    NaN             NaN                NaN   \n5                    NaN             NaN                NaN   \n...                  ...             ...                ...   \n904260               NaN             NaN                NaN   \n904262               NaN             NaN                NaN   \n904263               NaN             NaN                NaN   \n904265               NaN             NaN                NaN   \n904266               NaN             NaN                NaN   \n\n       settlement_percentage settlement_term  \nid                                            \n0                        NaN             NaN  \n1                        NaN             NaN  \n3                        NaN             NaN  \n4                        NaN             NaN  \n5                        NaN             NaN  \n...                      ...             ...  \n904260                   NaN             NaN  \n904262                   NaN             NaN  \n904263                   NaN             NaN  \n904265                   NaN             NaN  \n904266                   NaN             NaN  \n\n[545782 rows x 144 columns]",
      "text/html": "<div>\n<style scoped>\n    .dataframe tbody tr th:only-of-type {\n        vertical-align: middle;\n    }\n\n    .dataframe tbody tr th {\n        vertical-align: top;\n    }\n\n    .dataframe thead th {\n        text-align: right;\n    }\n</style>\n<table border=\"1\" class=\"dataframe\">\n  <thead>\n    <tr style=\"text-align: right;\">\n      <th></th>\n      <th>member_id</th>\n      <th>loan_amnt</th>\n      <th>funded_amnt</th>\n      <th>funded_amnt_inv</th>\n      <th>term</th>\n      <th>int_rate</th>\n      <th>installment</th>\n      <th>grade</th>\n      <th>sub_grade</th>\n      <th>emp_title</th>\n      <th>...</th>\n      <th>hardship_payoff_balance_amount</th>\n      <th>hardship_last_payment_amount</th>\n      <th>disbursement_method</th>\n      <th>debt_settlement_flag</th>\n      <th>debt_settlement_flag_date</th>\n      <th>settlement_status</th>\n      <th>settlement_date</th>\n      <th>settlement_amount</th>\n      <th>settlement_percentage</th>\n      <th>settlement_term</th>\n    </tr>\n    <tr>\n      <th>id</th>\n      <th></th>\n      <th></th>\n      <th></th>\n      <th></th>\n      <th></th>\n      <th></th>\n      <th></th>\n      <th></th>\n      <th></th>\n      <th></th>\n      <th></th>\n      <th></th>\n      <th></th>\n      <th></th>\n      <th></th>\n      <th></th>\n      <th></th>\n      <th></th>\n      <th></th>\n      <th></th>\n      <th></th>\n    </tr>\n  </thead>\n  <tbody>\n    <tr>\n      <th>0</th>\n      <td>NaN</td>\n      <td>32000</td>\n      <td>32000</td>\n      <td>32000.0</td>\n      <td>36 months</td>\n      <td>10.90</td>\n      <td>1046.13</td>\n      <td>B</td>\n      <td>B4</td>\n      <td>plasma\\brake operator</td>\n      <td>...</td>\n      <td>NaN</td>\n      <td>NaN</td>\n      <td>Cash</td>\n      <td>N</td>\n      <td>NaN</td>\n      <td>NaN</td>\n      <td>NaN</td>\n      <td>NaN</td>\n      <td>NaN</td>\n      <td>NaN</td>\n    </tr>\n    <tr>\n      <th>1</th>\n      <td>NaN</td>\n      <td>11500</td>\n      <td>11500</td>\n      <td>11500.0</td>\n      <td>36 months</td>\n      <td>15.80</td>\n      <td>403.18</td>\n      <td>C</td>\n      <td>C3</td>\n      <td>CableOne</td>\n      <td>...</td>\n      <td>NaN</td>\n      <td>NaN</td>\n      <td>Cash</td>\n      <td>N</td>\n      <td>NaN</td>\n      <td>NaN</td>\n      <td>NaN</td>\n      <td>NaN</td>\n      <td>NaN</td>\n      <td>NaN</td>\n    </tr>\n    <tr>\n      <th>3</th>\n      <td>NaN</td>\n      <td>28000</td>\n      <td>28000</td>\n      <td>28000.0</td>\n      <td>36 months</td>\n      <td>7.69</td>\n      <td>873.42</td>\n      <td>A</td>\n      <td>A4</td>\n      <td>Human Resources Director</td>\n      <td>...</td>\n      <td>NaN</td>\n      <td>NaN</td>\n      <td>Cash</td>\n      <td>N</td>\n      <td>NaN</td>\n      <td>NaN</td>\n      <td>NaN</td>\n      <td>NaN</td>\n      <td>NaN</td>\n      <td>NaN</td>\n    </tr>\n    <tr>\n      <th>4</th>\n      <td>NaN</td>\n      <td>28000</td>\n      <td>28000</td>\n      <td>28000.0</td>\n      <td>60 months</td>\n      <td>17.97</td>\n      <td>710.56</td>\n      <td>D</td>\n      <td>D1</td>\n      <td>sales agent</td>\n      <td>...</td>\n      <td>NaN</td>\n      <td>NaN</td>\n      <td>Cash</td>\n      <td>N</td>\n      <td>NaN</td>\n      <td>NaN</td>\n      <td>NaN</td>\n      <td>NaN</td>\n      <td>NaN</td>\n      <td>NaN</td>\n    </tr>\n    <tr>\n      <th>5</th>\n      <td>NaN</td>\n      <td>11850</td>\n      <td>11850</td>\n      <td>11850.0</td>\n      <td>36 months</td>\n      <td>25.81</td>\n      <td>476.25</td>\n      <td>E</td>\n      <td>E4</td>\n      <td>Legal Secretary</td>\n      <td>...</td>\n      <td>NaN</td>\n      <td>NaN</td>\n      <td>Cash</td>\n      <td>N</td>\n      <td>NaN</td>\n      <td>NaN</td>\n      <td>NaN</td>\n      <td>NaN</td>\n      <td>NaN</td>\n      <td>NaN</td>\n    </tr>\n    <tr>\n      <th>...</th>\n      <td>...</td>\n      <td>...</td>\n      <td>...</td>\n      <td>...</td>\n      <td>...</td>\n      <td>...</td>\n      <td>...</td>\n      <td>...</td>\n      <td>...</td>\n      <td>...</td>\n      <td>...</td>\n      <td>...</td>\n      <td>...</td>\n      <td>...</td>\n      <td>...</td>\n      <td>...</td>\n      <td>...</td>\n      <td>...</td>\n      <td>...</td>\n      <td>...</td>\n      <td>...</td>\n    </tr>\n    <tr>\n      <th>904260</th>\n      <td>NaN</td>\n      <td>18675</td>\n      <td>18675</td>\n      <td>18675.0</td>\n      <td>36 months</td>\n      <td>12.99</td>\n      <td>629.15</td>\n      <td>C</td>\n      <td>C2</td>\n      <td>gangboss</td>\n      <td>...</td>\n      <td>NaN</td>\n      <td>NaN</td>\n      <td>Cash</td>\n      <td>N</td>\n      <td>NaN</td>\n      <td>NaN</td>\n      <td>NaN</td>\n      <td>NaN</td>\n      <td>NaN</td>\n      <td>NaN</td>\n    </tr>\n    <tr>\n      <th>904262</th>\n      <td>NaN</td>\n      <td>30000</td>\n      <td>30000</td>\n      <td>30000.0</td>\n      <td>60 months</td>\n      <td>16.55</td>\n      <td>738.34</td>\n      <td>D</td>\n      <td>D2</td>\n      <td>Teacher</td>\n      <td>...</td>\n      <td>NaN</td>\n      <td>NaN</td>\n      <td>Cash</td>\n      <td>N</td>\n      <td>NaN</td>\n      <td>NaN</td>\n      <td>NaN</td>\n      <td>NaN</td>\n      <td>NaN</td>\n      <td>NaN</td>\n    </tr>\n    <tr>\n      <th>904263</th>\n      <td>NaN</td>\n      <td>15000</td>\n      <td>15000</td>\n      <td>15000.0</td>\n      <td>36 months</td>\n      <td>12.12</td>\n      <td>499.08</td>\n      <td>B</td>\n      <td>B3</td>\n      <td>WDAC Radio Compnay</td>\n      <td>...</td>\n      <td>NaN</td>\n      <td>NaN</td>\n      <td>Cash</td>\n      <td>N</td>\n      <td>NaN</td>\n      <td>NaN</td>\n      <td>NaN</td>\n      <td>NaN</td>\n      <td>NaN</td>\n      <td>NaN</td>\n    </tr>\n    <tr>\n      <th>904265</th>\n      <td>NaN</td>\n      <td>15000</td>\n      <td>15000</td>\n      <td>15000.0</td>\n      <td>36 months</td>\n      <td>17.09</td>\n      <td>535.47</td>\n      <td>D</td>\n      <td>D1</td>\n      <td>Educator</td>\n      <td>...</td>\n      <td>NaN</td>\n      <td>NaN</td>\n      <td>Cash</td>\n      <td>N</td>\n      <td>NaN</td>\n      <td>NaN</td>\n      <td>NaN</td>\n      <td>NaN</td>\n      <td>NaN</td>\n      <td>NaN</td>\n    </tr>\n    <tr>\n      <th>904266</th>\n      <td>NaN</td>\n      <td>15000</td>\n      <td>15000</td>\n      <td>15000.0</td>\n      <td>60 months</td>\n      <td>17.09</td>\n      <td>373.52</td>\n      <td>D</td>\n      <td>D1</td>\n      <td>officer</td>\n      <td>...</td>\n      <td>NaN</td>\n      <td>NaN</td>\n      <td>Cash</td>\n      <td>N</td>\n      <td>NaN</td>\n      <td>NaN</td>\n      <td>NaN</td>\n      <td>NaN</td>\n      <td>NaN</td>\n      <td>NaN</td>\n    </tr>\n  </tbody>\n</table>\n<p>545782 rows × 144 columns</p>\n</div>"
     },
     "execution_count": 22,
     "metadata": {},
     "output_type": "execute_result"
    }
   ],
   "source": [
    "# arithmetic filtering\n",
    "train[train['loan_amnt'] > 10000]"
   ],
   "metadata": {
    "collapsed": false,
    "pycharm": {
     "name": "#%%\n"
    }
   }
  },
  {
   "cell_type": "code",
   "execution_count": 23,
   "outputs": [
    {
     "data": {
      "text/plain": "        member_id  loan_amnt  funded_amnt  funded_amnt_inv        term  \\\nid                                                                       \n1             NaN      11500        11500          11500.0   36 months   \n5             NaN      11850        11850          11850.0   36 months   \n14            NaN      12000        12000          12000.0   36 months   \n16            NaN      12000        12000          12000.0   36 months   \n20            NaN      12000        12000          12000.0   36 months   \n...           ...        ...          ...              ...         ...   \n904259        NaN      13600        13600          13600.0   36 months   \n904260        NaN      18675        18675          18675.0   36 months   \n904263        NaN      15000        15000          15000.0   36 months   \n904265        NaN      15000        15000          15000.0   36 months   \n904266        NaN      15000        15000          15000.0   60 months   \n\n        int_rate  installment grade sub_grade                    emp_title  \\\nid                                                                           \n1          15.80       403.18     C        C3                     CableOne   \n5          25.81       476.25     E        E4              Legal Secretary   \n14         10.99       392.81     B        B4  Special Services Supervisor   \n16         13.99       410.08     C        C3                        Cadet   \n20         23.87       469.98     E        E2    Health services scheduler   \n...          ...          ...   ...       ...                          ...   \n904259     11.67       449.58     B        B4    Operating Room Supervisor   \n904260     12.99       629.15     C        C2                     gangboss   \n904263     12.12       499.08     B        B3           WDAC Radio Compnay   \n904265     17.09       535.47     D        D1                     Educator   \n904266     17.09       373.52     D        D1                     officer    \n\n        ... hardship_payoff_balance_amount hardship_last_payment_amount  \\\nid      ...                                                               \n1       ...                            NaN                          NaN   \n5       ...                            NaN                          NaN   \n14      ...                            NaN                          NaN   \n16      ...                            NaN                          NaN   \n20      ...                            NaN                          NaN   \n...     ...                            ...                          ...   \n904259  ...                            NaN                          NaN   \n904260  ...                            NaN                          NaN   \n904263  ...                            NaN                          NaN   \n904265  ...                            NaN                          NaN   \n904266  ...                            NaN                          NaN   \n\n        disbursement_method debt_settlement_flag debt_settlement_flag_date  \\\nid                                                                           \n1                      Cash                    N                       NaN   \n5                      Cash                    N                       NaN   \n14                     Cash                    N                       NaN   \n16                     Cash                    N                       NaN   \n20                     Cash                    N                       NaN   \n...                     ...                  ...                       ...   \n904259                 Cash                    N                       NaN   \n904260                 Cash                    N                       NaN   \n904263                 Cash                    N                       NaN   \n904265                 Cash                    N                       NaN   \n904266                 Cash                    N                       NaN   \n\n       settlement_status settlement_date  settlement_amount  \\\nid                                                            \n1                    NaN             NaN                NaN   \n5                    NaN             NaN                NaN   \n14                   NaN             NaN                NaN   \n16                   NaN             NaN                NaN   \n20                   NaN             NaN                NaN   \n...                  ...             ...                ...   \n904259               NaN             NaN                NaN   \n904260               NaN             NaN                NaN   \n904263               NaN             NaN                NaN   \n904265               NaN             NaN                NaN   \n904266               NaN             NaN                NaN   \n\n       settlement_percentage settlement_term  \nid                                            \n1                        NaN             NaN  \n5                        NaN             NaN  \n14                       NaN             NaN  \n16                       NaN             NaN  \n20                       NaN             NaN  \n...                      ...             ...  \n904259                   NaN             NaN  \n904260                   NaN             NaN  \n904263                   NaN             NaN  \n904265                   NaN             NaN  \n904266                   NaN             NaN  \n\n[278013 rows x 144 columns]",
      "text/html": "<div>\n<style scoped>\n    .dataframe tbody tr th:only-of-type {\n        vertical-align: middle;\n    }\n\n    .dataframe tbody tr th {\n        vertical-align: top;\n    }\n\n    .dataframe thead th {\n        text-align: right;\n    }\n</style>\n<table border=\"1\" class=\"dataframe\">\n  <thead>\n    <tr style=\"text-align: right;\">\n      <th></th>\n      <th>member_id</th>\n      <th>loan_amnt</th>\n      <th>funded_amnt</th>\n      <th>funded_amnt_inv</th>\n      <th>term</th>\n      <th>int_rate</th>\n      <th>installment</th>\n      <th>grade</th>\n      <th>sub_grade</th>\n      <th>emp_title</th>\n      <th>...</th>\n      <th>hardship_payoff_balance_amount</th>\n      <th>hardship_last_payment_amount</th>\n      <th>disbursement_method</th>\n      <th>debt_settlement_flag</th>\n      <th>debt_settlement_flag_date</th>\n      <th>settlement_status</th>\n      <th>settlement_date</th>\n      <th>settlement_amount</th>\n      <th>settlement_percentage</th>\n      <th>settlement_term</th>\n    </tr>\n    <tr>\n      <th>id</th>\n      <th></th>\n      <th></th>\n      <th></th>\n      <th></th>\n      <th></th>\n      <th></th>\n      <th></th>\n      <th></th>\n      <th></th>\n      <th></th>\n      <th></th>\n      <th></th>\n      <th></th>\n      <th></th>\n      <th></th>\n      <th></th>\n      <th></th>\n      <th></th>\n      <th></th>\n      <th></th>\n      <th></th>\n    </tr>\n  </thead>\n  <tbody>\n    <tr>\n      <th>1</th>\n      <td>NaN</td>\n      <td>11500</td>\n      <td>11500</td>\n      <td>11500.0</td>\n      <td>36 months</td>\n      <td>15.80</td>\n      <td>403.18</td>\n      <td>C</td>\n      <td>C3</td>\n      <td>CableOne</td>\n      <td>...</td>\n      <td>NaN</td>\n      <td>NaN</td>\n      <td>Cash</td>\n      <td>N</td>\n      <td>NaN</td>\n      <td>NaN</td>\n      <td>NaN</td>\n      <td>NaN</td>\n      <td>NaN</td>\n      <td>NaN</td>\n    </tr>\n    <tr>\n      <th>5</th>\n      <td>NaN</td>\n      <td>11850</td>\n      <td>11850</td>\n      <td>11850.0</td>\n      <td>36 months</td>\n      <td>25.81</td>\n      <td>476.25</td>\n      <td>E</td>\n      <td>E4</td>\n      <td>Legal Secretary</td>\n      <td>...</td>\n      <td>NaN</td>\n      <td>NaN</td>\n      <td>Cash</td>\n      <td>N</td>\n      <td>NaN</td>\n      <td>NaN</td>\n      <td>NaN</td>\n      <td>NaN</td>\n      <td>NaN</td>\n      <td>NaN</td>\n    </tr>\n    <tr>\n      <th>14</th>\n      <td>NaN</td>\n      <td>12000</td>\n      <td>12000</td>\n      <td>12000.0</td>\n      <td>36 months</td>\n      <td>10.99</td>\n      <td>392.81</td>\n      <td>B</td>\n      <td>B4</td>\n      <td>Special Services Supervisor</td>\n      <td>...</td>\n      <td>NaN</td>\n      <td>NaN</td>\n      <td>Cash</td>\n      <td>N</td>\n      <td>NaN</td>\n      <td>NaN</td>\n      <td>NaN</td>\n      <td>NaN</td>\n      <td>NaN</td>\n      <td>NaN</td>\n    </tr>\n    <tr>\n      <th>16</th>\n      <td>NaN</td>\n      <td>12000</td>\n      <td>12000</td>\n      <td>12000.0</td>\n      <td>36 months</td>\n      <td>13.99</td>\n      <td>410.08</td>\n      <td>C</td>\n      <td>C3</td>\n      <td>Cadet</td>\n      <td>...</td>\n      <td>NaN</td>\n      <td>NaN</td>\n      <td>Cash</td>\n      <td>N</td>\n      <td>NaN</td>\n      <td>NaN</td>\n      <td>NaN</td>\n      <td>NaN</td>\n      <td>NaN</td>\n      <td>NaN</td>\n    </tr>\n    <tr>\n      <th>20</th>\n      <td>NaN</td>\n      <td>12000</td>\n      <td>12000</td>\n      <td>12000.0</td>\n      <td>36 months</td>\n      <td>23.87</td>\n      <td>469.98</td>\n      <td>E</td>\n      <td>E2</td>\n      <td>Health services scheduler</td>\n      <td>...</td>\n      <td>NaN</td>\n      <td>NaN</td>\n      <td>Cash</td>\n      <td>N</td>\n      <td>NaN</td>\n      <td>NaN</td>\n      <td>NaN</td>\n      <td>NaN</td>\n      <td>NaN</td>\n      <td>NaN</td>\n    </tr>\n    <tr>\n      <th>...</th>\n      <td>...</td>\n      <td>...</td>\n      <td>...</td>\n      <td>...</td>\n      <td>...</td>\n      <td>...</td>\n      <td>...</td>\n      <td>...</td>\n      <td>...</td>\n      <td>...</td>\n      <td>...</td>\n      <td>...</td>\n      <td>...</td>\n      <td>...</td>\n      <td>...</td>\n      <td>...</td>\n      <td>...</td>\n      <td>...</td>\n      <td>...</td>\n      <td>...</td>\n      <td>...</td>\n    </tr>\n    <tr>\n      <th>904259</th>\n      <td>NaN</td>\n      <td>13600</td>\n      <td>13600</td>\n      <td>13600.0</td>\n      <td>36 months</td>\n      <td>11.67</td>\n      <td>449.58</td>\n      <td>B</td>\n      <td>B4</td>\n      <td>Operating Room Supervisor</td>\n      <td>...</td>\n      <td>NaN</td>\n      <td>NaN</td>\n      <td>Cash</td>\n      <td>N</td>\n      <td>NaN</td>\n      <td>NaN</td>\n      <td>NaN</td>\n      <td>NaN</td>\n      <td>NaN</td>\n      <td>NaN</td>\n    </tr>\n    <tr>\n      <th>904260</th>\n      <td>NaN</td>\n      <td>18675</td>\n      <td>18675</td>\n      <td>18675.0</td>\n      <td>36 months</td>\n      <td>12.99</td>\n      <td>629.15</td>\n      <td>C</td>\n      <td>C2</td>\n      <td>gangboss</td>\n      <td>...</td>\n      <td>NaN</td>\n      <td>NaN</td>\n      <td>Cash</td>\n      <td>N</td>\n      <td>NaN</td>\n      <td>NaN</td>\n      <td>NaN</td>\n      <td>NaN</td>\n      <td>NaN</td>\n      <td>NaN</td>\n    </tr>\n    <tr>\n      <th>904263</th>\n      <td>NaN</td>\n      <td>15000</td>\n      <td>15000</td>\n      <td>15000.0</td>\n      <td>36 months</td>\n      <td>12.12</td>\n      <td>499.08</td>\n      <td>B</td>\n      <td>B3</td>\n      <td>WDAC Radio Compnay</td>\n      <td>...</td>\n      <td>NaN</td>\n      <td>NaN</td>\n      <td>Cash</td>\n      <td>N</td>\n      <td>NaN</td>\n      <td>NaN</td>\n      <td>NaN</td>\n      <td>NaN</td>\n      <td>NaN</td>\n      <td>NaN</td>\n    </tr>\n    <tr>\n      <th>904265</th>\n      <td>NaN</td>\n      <td>15000</td>\n      <td>15000</td>\n      <td>15000.0</td>\n      <td>36 months</td>\n      <td>17.09</td>\n      <td>535.47</td>\n      <td>D</td>\n      <td>D1</td>\n      <td>Educator</td>\n      <td>...</td>\n      <td>NaN</td>\n      <td>NaN</td>\n      <td>Cash</td>\n      <td>N</td>\n      <td>NaN</td>\n      <td>NaN</td>\n      <td>NaN</td>\n      <td>NaN</td>\n      <td>NaN</td>\n      <td>NaN</td>\n    </tr>\n    <tr>\n      <th>904266</th>\n      <td>NaN</td>\n      <td>15000</td>\n      <td>15000</td>\n      <td>15000.0</td>\n      <td>60 months</td>\n      <td>17.09</td>\n      <td>373.52</td>\n      <td>D</td>\n      <td>D1</td>\n      <td>officer</td>\n      <td>...</td>\n      <td>NaN</td>\n      <td>NaN</td>\n      <td>Cash</td>\n      <td>N</td>\n      <td>NaN</td>\n      <td>NaN</td>\n      <td>NaN</td>\n      <td>NaN</td>\n      <td>NaN</td>\n      <td>NaN</td>\n    </tr>\n  </tbody>\n</table>\n<p>278013 rows × 144 columns</p>\n</div>"
     },
     "execution_count": 23,
     "metadata": {},
     "output_type": "execute_result"
    }
   ],
   "source": [
    "# multiple filtering\n",
    "train[(train['loan_amnt']>10000) & (train['loan_amnt']<20000)]"
   ],
   "metadata": {
    "collapsed": false,
    "pycharm": {
     "name": "#%%\n"
    }
   }
  },
  {
   "cell_type": "code",
   "execution_count": 24,
   "outputs": [
    {
     "data": {
      "text/plain": "        member_id  loan_amnt  funded_amnt  funded_amnt_inv        term  \\\nid                                                                       \n0             NaN      32000        32000          32000.0   36 months   \n1             NaN      11500        11500          11500.0   36 months   \n2             NaN      10000        10000          10000.0   36 months   \n3             NaN      28000        28000          28000.0   36 months   \n4             NaN      28000        28000          28000.0   60 months   \n...           ...        ...          ...              ...         ...   \n904262        NaN      30000        30000          30000.0   60 months   \n904263        NaN      15000        15000          15000.0   36 months   \n904264        NaN       8725         8725           8725.0   36 months   \n904265        NaN      15000        15000          15000.0   36 months   \n904266        NaN      15000        15000          15000.0   60 months   \n\n        int_rate  installment grade sub_grade                       emp_title  \\\nid                                                                              \n0          10.90      1046.13     B        B4           plasma\\brake operator   \n1          15.80       403.18     C        C3                        CableOne   \n2           6.49       306.45     A        A2                             NaN   \n3           7.69       873.42     A        A4        Human Resources Director   \n4          17.97       710.56     D        D1                     sales agent   \n...          ...          ...   ...       ...                             ...   \n904262     16.55       738.34     D        D2                         Teacher   \n904263     12.12       499.08     B        B3              WDAC Radio Compnay   \n904264     17.27       312.25     D        D1  Clovis Unified School District   \n904265     17.09       535.47     D        D1                        Educator   \n904266     17.09       373.52     D        D1                        officer    \n\n        ... hardship_payoff_balance_amount hardship_last_payment_amount  \\\nid      ...                                                               \n0       ...                            NaN                          NaN   \n1       ...                            NaN                          NaN   \n2       ...                            NaN                          NaN   \n3       ...                            NaN                          NaN   \n4       ...                            NaN                          NaN   \n...     ...                            ...                          ...   \n904262  ...                            NaN                          NaN   \n904263  ...                            NaN                          NaN   \n904264  ...                            NaN                          NaN   \n904265  ...                            NaN                          NaN   \n904266  ...                            NaN                          NaN   \n\n        disbursement_method debt_settlement_flag debt_settlement_flag_date  \\\nid                                                                           \n0                      Cash                    N                       NaN   \n1                      Cash                    N                       NaN   \n2                      Cash                    N                       NaN   \n3                      Cash                    N                       NaN   \n4                      Cash                    N                       NaN   \n...                     ...                  ...                       ...   \n904262                 Cash                    N                       NaN   \n904263                 Cash                    N                       NaN   \n904264                 Cash                    N                       NaN   \n904265                 Cash                    N                       NaN   \n904266                 Cash                    N                       NaN   \n\n       settlement_status settlement_date  settlement_amount  \\\nid                                                            \n0                    NaN             NaN                NaN   \n1                    NaN             NaN                NaN   \n2                    NaN             NaN                NaN   \n3                    NaN             NaN                NaN   \n4                    NaN             NaN                NaN   \n...                  ...             ...                ...   \n904262               NaN             NaN                NaN   \n904263               NaN             NaN                NaN   \n904264               NaN             NaN                NaN   \n904265               NaN             NaN                NaN   \n904266               NaN             NaN                NaN   \n\n       settlement_percentage settlement_term  \nid                                            \n0                        NaN             NaN  \n1                        NaN             NaN  \n2                        NaN             NaN  \n3                        NaN             NaN  \n4                        NaN             NaN  \n...                      ...             ...  \n904262                   NaN             NaN  \n904263                   NaN             NaN  \n904264                   NaN             NaN  \n904265                   NaN             NaN  \n904266                   NaN             NaN  \n\n[904267 rows x 144 columns]",
      "text/html": "<div>\n<style scoped>\n    .dataframe tbody tr th:only-of-type {\n        vertical-align: middle;\n    }\n\n    .dataframe tbody tr th {\n        vertical-align: top;\n    }\n\n    .dataframe thead th {\n        text-align: right;\n    }\n</style>\n<table border=\"1\" class=\"dataframe\">\n  <thead>\n    <tr style=\"text-align: right;\">\n      <th></th>\n      <th>member_id</th>\n      <th>loan_amnt</th>\n      <th>funded_amnt</th>\n      <th>funded_amnt_inv</th>\n      <th>term</th>\n      <th>int_rate</th>\n      <th>installment</th>\n      <th>grade</th>\n      <th>sub_grade</th>\n      <th>emp_title</th>\n      <th>...</th>\n      <th>hardship_payoff_balance_amount</th>\n      <th>hardship_last_payment_amount</th>\n      <th>disbursement_method</th>\n      <th>debt_settlement_flag</th>\n      <th>debt_settlement_flag_date</th>\n      <th>settlement_status</th>\n      <th>settlement_date</th>\n      <th>settlement_amount</th>\n      <th>settlement_percentage</th>\n      <th>settlement_term</th>\n    </tr>\n    <tr>\n      <th>id</th>\n      <th></th>\n      <th></th>\n      <th></th>\n      <th></th>\n      <th></th>\n      <th></th>\n      <th></th>\n      <th></th>\n      <th></th>\n      <th></th>\n      <th></th>\n      <th></th>\n      <th></th>\n      <th></th>\n      <th></th>\n      <th></th>\n      <th></th>\n      <th></th>\n      <th></th>\n      <th></th>\n      <th></th>\n    </tr>\n  </thead>\n  <tbody>\n    <tr>\n      <th>0</th>\n      <td>NaN</td>\n      <td>32000</td>\n      <td>32000</td>\n      <td>32000.0</td>\n      <td>36 months</td>\n      <td>10.90</td>\n      <td>1046.13</td>\n      <td>B</td>\n      <td>B4</td>\n      <td>plasma\\brake operator</td>\n      <td>...</td>\n      <td>NaN</td>\n      <td>NaN</td>\n      <td>Cash</td>\n      <td>N</td>\n      <td>NaN</td>\n      <td>NaN</td>\n      <td>NaN</td>\n      <td>NaN</td>\n      <td>NaN</td>\n      <td>NaN</td>\n    </tr>\n    <tr>\n      <th>1</th>\n      <td>NaN</td>\n      <td>11500</td>\n      <td>11500</td>\n      <td>11500.0</td>\n      <td>36 months</td>\n      <td>15.80</td>\n      <td>403.18</td>\n      <td>C</td>\n      <td>C3</td>\n      <td>CableOne</td>\n      <td>...</td>\n      <td>NaN</td>\n      <td>NaN</td>\n      <td>Cash</td>\n      <td>N</td>\n      <td>NaN</td>\n      <td>NaN</td>\n      <td>NaN</td>\n      <td>NaN</td>\n      <td>NaN</td>\n      <td>NaN</td>\n    </tr>\n    <tr>\n      <th>2</th>\n      <td>NaN</td>\n      <td>10000</td>\n      <td>10000</td>\n      <td>10000.0</td>\n      <td>36 months</td>\n      <td>6.49</td>\n      <td>306.45</td>\n      <td>A</td>\n      <td>A2</td>\n      <td>NaN</td>\n      <td>...</td>\n      <td>NaN</td>\n      <td>NaN</td>\n      <td>Cash</td>\n      <td>N</td>\n      <td>NaN</td>\n      <td>NaN</td>\n      <td>NaN</td>\n      <td>NaN</td>\n      <td>NaN</td>\n      <td>NaN</td>\n    </tr>\n    <tr>\n      <th>3</th>\n      <td>NaN</td>\n      <td>28000</td>\n      <td>28000</td>\n      <td>28000.0</td>\n      <td>36 months</td>\n      <td>7.69</td>\n      <td>873.42</td>\n      <td>A</td>\n      <td>A4</td>\n      <td>Human Resources Director</td>\n      <td>...</td>\n      <td>NaN</td>\n      <td>NaN</td>\n      <td>Cash</td>\n      <td>N</td>\n      <td>NaN</td>\n      <td>NaN</td>\n      <td>NaN</td>\n      <td>NaN</td>\n      <td>NaN</td>\n      <td>NaN</td>\n    </tr>\n    <tr>\n      <th>4</th>\n      <td>NaN</td>\n      <td>28000</td>\n      <td>28000</td>\n      <td>28000.0</td>\n      <td>60 months</td>\n      <td>17.97</td>\n      <td>710.56</td>\n      <td>D</td>\n      <td>D1</td>\n      <td>sales agent</td>\n      <td>...</td>\n      <td>NaN</td>\n      <td>NaN</td>\n      <td>Cash</td>\n      <td>N</td>\n      <td>NaN</td>\n      <td>NaN</td>\n      <td>NaN</td>\n      <td>NaN</td>\n      <td>NaN</td>\n      <td>NaN</td>\n    </tr>\n    <tr>\n      <th>...</th>\n      <td>...</td>\n      <td>...</td>\n      <td>...</td>\n      <td>...</td>\n      <td>...</td>\n      <td>...</td>\n      <td>...</td>\n      <td>...</td>\n      <td>...</td>\n      <td>...</td>\n      <td>...</td>\n      <td>...</td>\n      <td>...</td>\n      <td>...</td>\n      <td>...</td>\n      <td>...</td>\n      <td>...</td>\n      <td>...</td>\n      <td>...</td>\n      <td>...</td>\n      <td>...</td>\n    </tr>\n    <tr>\n      <th>904262</th>\n      <td>NaN</td>\n      <td>30000</td>\n      <td>30000</td>\n      <td>30000.0</td>\n      <td>60 months</td>\n      <td>16.55</td>\n      <td>738.34</td>\n      <td>D</td>\n      <td>D2</td>\n      <td>Teacher</td>\n      <td>...</td>\n      <td>NaN</td>\n      <td>NaN</td>\n      <td>Cash</td>\n      <td>N</td>\n      <td>NaN</td>\n      <td>NaN</td>\n      <td>NaN</td>\n      <td>NaN</td>\n      <td>NaN</td>\n      <td>NaN</td>\n    </tr>\n    <tr>\n      <th>904263</th>\n      <td>NaN</td>\n      <td>15000</td>\n      <td>15000</td>\n      <td>15000.0</td>\n      <td>36 months</td>\n      <td>12.12</td>\n      <td>499.08</td>\n      <td>B</td>\n      <td>B3</td>\n      <td>WDAC Radio Compnay</td>\n      <td>...</td>\n      <td>NaN</td>\n      <td>NaN</td>\n      <td>Cash</td>\n      <td>N</td>\n      <td>NaN</td>\n      <td>NaN</td>\n      <td>NaN</td>\n      <td>NaN</td>\n      <td>NaN</td>\n      <td>NaN</td>\n    </tr>\n    <tr>\n      <th>904264</th>\n      <td>NaN</td>\n      <td>8725</td>\n      <td>8725</td>\n      <td>8725.0</td>\n      <td>36 months</td>\n      <td>17.27</td>\n      <td>312.25</td>\n      <td>D</td>\n      <td>D1</td>\n      <td>Clovis Unified School District</td>\n      <td>...</td>\n      <td>NaN</td>\n      <td>NaN</td>\n      <td>Cash</td>\n      <td>N</td>\n      <td>NaN</td>\n      <td>NaN</td>\n      <td>NaN</td>\n      <td>NaN</td>\n      <td>NaN</td>\n      <td>NaN</td>\n    </tr>\n    <tr>\n      <th>904265</th>\n      <td>NaN</td>\n      <td>15000</td>\n      <td>15000</td>\n      <td>15000.0</td>\n      <td>36 months</td>\n      <td>17.09</td>\n      <td>535.47</td>\n      <td>D</td>\n      <td>D1</td>\n      <td>Educator</td>\n      <td>...</td>\n      <td>NaN</td>\n      <td>NaN</td>\n      <td>Cash</td>\n      <td>N</td>\n      <td>NaN</td>\n      <td>NaN</td>\n      <td>NaN</td>\n      <td>NaN</td>\n      <td>NaN</td>\n      <td>NaN</td>\n    </tr>\n    <tr>\n      <th>904266</th>\n      <td>NaN</td>\n      <td>15000</td>\n      <td>15000</td>\n      <td>15000.0</td>\n      <td>60 months</td>\n      <td>17.09</td>\n      <td>373.52</td>\n      <td>D</td>\n      <td>D1</td>\n      <td>officer</td>\n      <td>...</td>\n      <td>NaN</td>\n      <td>NaN</td>\n      <td>Cash</td>\n      <td>N</td>\n      <td>NaN</td>\n      <td>NaN</td>\n      <td>NaN</td>\n      <td>NaN</td>\n      <td>NaN</td>\n      <td>NaN</td>\n    </tr>\n  </tbody>\n</table>\n<p>904267 rows × 144 columns</p>\n</div>"
     },
     "execution_count": 24,
     "metadata": {},
     "output_type": "execute_result"
    }
   ],
   "source": [
    "train[(train['loan_amnt']>10000 | (train['funded_amnt']>5000))]"
   ],
   "metadata": {
    "collapsed": false,
    "pycharm": {
     "name": "#%%\n"
    }
   }
  },
  {
   "cell_type": "code",
   "execution_count": 35,
   "outputs": [
    {
     "data": {
      "text/plain": "        member_id  loan_amnt  funded_amnt  funded_amnt_inv        term  \\\nid                                                                       \n30            NaN      28000        28000          28000.0   36 months   \n65            NaN      12000        12000          12000.0   36 months   \n92            NaN       8800         8800           8800.0   36 months   \n137           NaN      20850        20850          20850.0   36 months   \n225           NaN       1500         1500           1500.0   36 months   \n...           ...        ...          ...              ...         ...   \n904173        NaN      15000        15000          15000.0   36 months   \n904219        NaN       3000         3000           3000.0   36 months   \n904248        NaN      30000        30000          30000.0   36 months   \n904249        NaN      25000        25000          25000.0   36 months   \n904250        NaN      19200        19200          19200.0   36 months   \n\n        int_rate  installment grade sub_grade  \\\nid                                              \n30          6.11       853.22     A        A1   \n65          5.32       361.38     A        A1   \n92          5.32       265.02     A        A1   \n137         5.32       627.90     A        A1   \n225         6.03        45.66     A        A1   \n...          ...          ...   ...       ...   \n904173      5.32       451.73     A        A1   \n904219      5.31        90.34     A        A1   \n904248      5.32       903.45     A        A1   \n904249      5.31       752.76     A        A1   \n904250      5.32       578.21     A        A1   \n\n                                   emp_title  ...  \\\nid                                            ...   \n30                           Vice President   ...   \n65                          Registered Nurse  ...   \n92                         Operating Partner  ...   \n137                             Tech Manager  ...   \n225                         constellation us  ...   \n...                                      ...  ...   \n904173                                    Vp  ...   \n904219                                   NaN  ...   \n904248  Senior Executive Oncology Specialist  ...   \n904249              Communication specialist  ...   \n904250                      Training Manager  ...   \n\n       hardship_payoff_balance_amount hardship_last_payment_amount  \\\nid                                                                   \n30                                NaN                          NaN   \n65                                NaN                          NaN   \n92                                NaN                          NaN   \n137                               NaN                          NaN   \n225                               NaN                          NaN   \n...                               ...                          ...   \n904173                            NaN                          NaN   \n904219                            NaN                          NaN   \n904248                            NaN                          NaN   \n904249                            NaN                          NaN   \n904250                            NaN                          NaN   \n\n        disbursement_method debt_settlement_flag debt_settlement_flag_date  \\\nid                                                                           \n30                     Cash                    N                       NaN   \n65                     Cash                    N                       NaN   \n92                     Cash                    N                       NaN   \n137                    Cash                    N                       NaN   \n225                    Cash                    N                       NaN   \n...                     ...                  ...                       ...   \n904173                 Cash                    N                       NaN   \n904219            DirectPay                    N                       NaN   \n904248                 Cash                    N                       NaN   \n904249                 Cash                    N                       NaN   \n904250                 Cash                    N                       NaN   \n\n       settlement_status settlement_date  settlement_amount  \\\nid                                                            \n30                   NaN             NaN                NaN   \n65                   NaN             NaN                NaN   \n92                   NaN             NaN                NaN   \n137                  NaN             NaN                NaN   \n225                  NaN             NaN                NaN   \n...                  ...             ...                ...   \n904173               NaN             NaN                NaN   \n904219               NaN             NaN                NaN   \n904248               NaN             NaN                NaN   \n904249               NaN             NaN                NaN   \n904250               NaN             NaN                NaN   \n\n       settlement_percentage settlement_term  \nid                                            \n30                       NaN             NaN  \n65                       NaN             NaN  \n92                       NaN             NaN  \n137                      NaN             NaN  \n225                      NaN             NaN  \n...                      ...             ...  \n904173                   NaN             NaN  \n904219                   NaN             NaN  \n904248                   NaN             NaN  \n904249                   NaN             NaN  \n904250                   NaN             NaN  \n\n[34875 rows x 144 columns]",
      "text/html": "<div>\n<style scoped>\n    .dataframe tbody tr th:only-of-type {\n        vertical-align: middle;\n    }\n\n    .dataframe tbody tr th {\n        vertical-align: top;\n    }\n\n    .dataframe thead th {\n        text-align: right;\n    }\n</style>\n<table border=\"1\" class=\"dataframe\">\n  <thead>\n    <tr style=\"text-align: right;\">\n      <th></th>\n      <th>member_id</th>\n      <th>loan_amnt</th>\n      <th>funded_amnt</th>\n      <th>funded_amnt_inv</th>\n      <th>term</th>\n      <th>int_rate</th>\n      <th>installment</th>\n      <th>grade</th>\n      <th>sub_grade</th>\n      <th>emp_title</th>\n      <th>...</th>\n      <th>hardship_payoff_balance_amount</th>\n      <th>hardship_last_payment_amount</th>\n      <th>disbursement_method</th>\n      <th>debt_settlement_flag</th>\n      <th>debt_settlement_flag_date</th>\n      <th>settlement_status</th>\n      <th>settlement_date</th>\n      <th>settlement_amount</th>\n      <th>settlement_percentage</th>\n      <th>settlement_term</th>\n    </tr>\n    <tr>\n      <th>id</th>\n      <th></th>\n      <th></th>\n      <th></th>\n      <th></th>\n      <th></th>\n      <th></th>\n      <th></th>\n      <th></th>\n      <th></th>\n      <th></th>\n      <th></th>\n      <th></th>\n      <th></th>\n      <th></th>\n      <th></th>\n      <th></th>\n      <th></th>\n      <th></th>\n      <th></th>\n      <th></th>\n      <th></th>\n    </tr>\n  </thead>\n  <tbody>\n    <tr>\n      <th>30</th>\n      <td>NaN</td>\n      <td>28000</td>\n      <td>28000</td>\n      <td>28000.0</td>\n      <td>36 months</td>\n      <td>6.11</td>\n      <td>853.22</td>\n      <td>A</td>\n      <td>A1</td>\n      <td>Vice President</td>\n      <td>...</td>\n      <td>NaN</td>\n      <td>NaN</td>\n      <td>Cash</td>\n      <td>N</td>\n      <td>NaN</td>\n      <td>NaN</td>\n      <td>NaN</td>\n      <td>NaN</td>\n      <td>NaN</td>\n      <td>NaN</td>\n    </tr>\n    <tr>\n      <th>65</th>\n      <td>NaN</td>\n      <td>12000</td>\n      <td>12000</td>\n      <td>12000.0</td>\n      <td>36 months</td>\n      <td>5.32</td>\n      <td>361.38</td>\n      <td>A</td>\n      <td>A1</td>\n      <td>Registered Nurse</td>\n      <td>...</td>\n      <td>NaN</td>\n      <td>NaN</td>\n      <td>Cash</td>\n      <td>N</td>\n      <td>NaN</td>\n      <td>NaN</td>\n      <td>NaN</td>\n      <td>NaN</td>\n      <td>NaN</td>\n      <td>NaN</td>\n    </tr>\n    <tr>\n      <th>92</th>\n      <td>NaN</td>\n      <td>8800</td>\n      <td>8800</td>\n      <td>8800.0</td>\n      <td>36 months</td>\n      <td>5.32</td>\n      <td>265.02</td>\n      <td>A</td>\n      <td>A1</td>\n      <td>Operating Partner</td>\n      <td>...</td>\n      <td>NaN</td>\n      <td>NaN</td>\n      <td>Cash</td>\n      <td>N</td>\n      <td>NaN</td>\n      <td>NaN</td>\n      <td>NaN</td>\n      <td>NaN</td>\n      <td>NaN</td>\n      <td>NaN</td>\n    </tr>\n    <tr>\n      <th>137</th>\n      <td>NaN</td>\n      <td>20850</td>\n      <td>20850</td>\n      <td>20850.0</td>\n      <td>36 months</td>\n      <td>5.32</td>\n      <td>627.90</td>\n      <td>A</td>\n      <td>A1</td>\n      <td>Tech Manager</td>\n      <td>...</td>\n      <td>NaN</td>\n      <td>NaN</td>\n      <td>Cash</td>\n      <td>N</td>\n      <td>NaN</td>\n      <td>NaN</td>\n      <td>NaN</td>\n      <td>NaN</td>\n      <td>NaN</td>\n      <td>NaN</td>\n    </tr>\n    <tr>\n      <th>225</th>\n      <td>NaN</td>\n      <td>1500</td>\n      <td>1500</td>\n      <td>1500.0</td>\n      <td>36 months</td>\n      <td>6.03</td>\n      <td>45.66</td>\n      <td>A</td>\n      <td>A1</td>\n      <td>constellation us</td>\n      <td>...</td>\n      <td>NaN</td>\n      <td>NaN</td>\n      <td>Cash</td>\n      <td>N</td>\n      <td>NaN</td>\n      <td>NaN</td>\n      <td>NaN</td>\n      <td>NaN</td>\n      <td>NaN</td>\n      <td>NaN</td>\n    </tr>\n    <tr>\n      <th>...</th>\n      <td>...</td>\n      <td>...</td>\n      <td>...</td>\n      <td>...</td>\n      <td>...</td>\n      <td>...</td>\n      <td>...</td>\n      <td>...</td>\n      <td>...</td>\n      <td>...</td>\n      <td>...</td>\n      <td>...</td>\n      <td>...</td>\n      <td>...</td>\n      <td>...</td>\n      <td>...</td>\n      <td>...</td>\n      <td>...</td>\n      <td>...</td>\n      <td>...</td>\n      <td>...</td>\n    </tr>\n    <tr>\n      <th>904173</th>\n      <td>NaN</td>\n      <td>15000</td>\n      <td>15000</td>\n      <td>15000.0</td>\n      <td>36 months</td>\n      <td>5.32</td>\n      <td>451.73</td>\n      <td>A</td>\n      <td>A1</td>\n      <td>Vp</td>\n      <td>...</td>\n      <td>NaN</td>\n      <td>NaN</td>\n      <td>Cash</td>\n      <td>N</td>\n      <td>NaN</td>\n      <td>NaN</td>\n      <td>NaN</td>\n      <td>NaN</td>\n      <td>NaN</td>\n      <td>NaN</td>\n    </tr>\n    <tr>\n      <th>904219</th>\n      <td>NaN</td>\n      <td>3000</td>\n      <td>3000</td>\n      <td>3000.0</td>\n      <td>36 months</td>\n      <td>5.31</td>\n      <td>90.34</td>\n      <td>A</td>\n      <td>A1</td>\n      <td>NaN</td>\n      <td>...</td>\n      <td>NaN</td>\n      <td>NaN</td>\n      <td>DirectPay</td>\n      <td>N</td>\n      <td>NaN</td>\n      <td>NaN</td>\n      <td>NaN</td>\n      <td>NaN</td>\n      <td>NaN</td>\n      <td>NaN</td>\n    </tr>\n    <tr>\n      <th>904248</th>\n      <td>NaN</td>\n      <td>30000</td>\n      <td>30000</td>\n      <td>30000.0</td>\n      <td>36 months</td>\n      <td>5.32</td>\n      <td>903.45</td>\n      <td>A</td>\n      <td>A1</td>\n      <td>Senior Executive Oncology Specialist</td>\n      <td>...</td>\n      <td>NaN</td>\n      <td>NaN</td>\n      <td>Cash</td>\n      <td>N</td>\n      <td>NaN</td>\n      <td>NaN</td>\n      <td>NaN</td>\n      <td>NaN</td>\n      <td>NaN</td>\n      <td>NaN</td>\n    </tr>\n    <tr>\n      <th>904249</th>\n      <td>NaN</td>\n      <td>25000</td>\n      <td>25000</td>\n      <td>25000.0</td>\n      <td>36 months</td>\n      <td>5.31</td>\n      <td>752.76</td>\n      <td>A</td>\n      <td>A1</td>\n      <td>Communication specialist</td>\n      <td>...</td>\n      <td>NaN</td>\n      <td>NaN</td>\n      <td>Cash</td>\n      <td>N</td>\n      <td>NaN</td>\n      <td>NaN</td>\n      <td>NaN</td>\n      <td>NaN</td>\n      <td>NaN</td>\n      <td>NaN</td>\n    </tr>\n    <tr>\n      <th>904250</th>\n      <td>NaN</td>\n      <td>19200</td>\n      <td>19200</td>\n      <td>19200.0</td>\n      <td>36 months</td>\n      <td>5.32</td>\n      <td>578.21</td>\n      <td>A</td>\n      <td>A1</td>\n      <td>Training Manager</td>\n      <td>...</td>\n      <td>NaN</td>\n      <td>NaN</td>\n      <td>Cash</td>\n      <td>N</td>\n      <td>NaN</td>\n      <td>NaN</td>\n      <td>NaN</td>\n      <td>NaN</td>\n      <td>NaN</td>\n      <td>NaN</td>\n    </tr>\n  </tbody>\n</table>\n<p>34875 rows × 144 columns</p>\n</div>"
     },
     "execution_count": 35,
     "metadata": {},
     "output_type": "execute_result"
    }
   ],
   "source": [
    "train[(train['grade'] == 'A') & (train['sub_grade'] == 'A1')]"
   ],
   "metadata": {
    "collapsed": false,
    "pycharm": {
     "name": "#%%\n"
    }
   }
  },
  {
   "cell_type": "code",
   "execution_count": 29,
   "outputs": [],
   "source": [],
   "metadata": {
    "collapsed": false,
    "pycharm": {
     "name": "#%%\n"
    }
   }
  }
 ],
 "metadata": {
  "kernelspec": {
   "display_name": "Python 3",
   "language": "python",
   "name": "python3"
  },
  "language_info": {
   "codemirror_mode": {
    "name": "ipython",
    "version": 2
   },
   "file_extension": ".py",
   "mimetype": "text/x-python",
   "name": "python",
   "nbconvert_exporter": "python",
   "pygments_lexer": "ipython2",
   "version": "2.7.6"
  }
 },
 "nbformat": 4,
 "nbformat_minor": 0
}