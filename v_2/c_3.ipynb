{
 "cells": [
  {
   "cell_type": "code",
   "execution_count": 1,
   "metadata": {
    "collapsed": true
   },
   "outputs": [],
   "source": [
    "import pandas as pd\n",
    "train = pd.read_csv('../data/p1_train.csv')"
   ]
  },
  {
   "cell_type": "code",
   "execution_count": 2,
   "outputs": [
    {
     "data": {
      "text/plain": "   id  member_id  loan_amnt  funded_amnt  funded_amnt_inv        term  \\\n0   0        NaN      32000        32000          32000.0   36 months   \n1   1        NaN      11500        11500          11500.0   36 months   \n2   2        NaN      10000        10000          10000.0   36 months   \n3   3        NaN      28000        28000          28000.0   36 months   \n4   4        NaN      28000        28000          28000.0   60 months   \n\n   int_rate  installment grade sub_grade  ... hardship_payoff_balance_amount  \\\n0     10.90      1046.13     B        B4  ...                            NaN   \n1     15.80       403.18     C        C3  ...                            NaN   \n2      6.49       306.45     A        A2  ...                            NaN   \n3      7.69       873.42     A        A4  ...                            NaN   \n4     17.97       710.56     D        D1  ...                            NaN   \n\n  hardship_last_payment_amount disbursement_method  debt_settlement_flag  \\\n0                          NaN                Cash                     N   \n1                          NaN                Cash                     N   \n2                          NaN                Cash                     N   \n3                          NaN                Cash                     N   \n4                          NaN                Cash                     N   \n\n  debt_settlement_flag_date settlement_status settlement_date  \\\n0                       NaN               NaN             NaN   \n1                       NaN               NaN             NaN   \n2                       NaN               NaN             NaN   \n3                       NaN               NaN             NaN   \n4                       NaN               NaN             NaN   \n\n  settlement_amount  settlement_percentage settlement_term  \n0               NaN                    NaN             NaN  \n1               NaN                    NaN             NaN  \n2               NaN                    NaN             NaN  \n3               NaN                    NaN             NaN  \n4               NaN                    NaN             NaN  \n\n[5 rows x 145 columns]",
      "text/html": "<div>\n<style scoped>\n    .dataframe tbody tr th:only-of-type {\n        vertical-align: middle;\n    }\n\n    .dataframe tbody tr th {\n        vertical-align: top;\n    }\n\n    .dataframe thead th {\n        text-align: right;\n    }\n</style>\n<table border=\"1\" class=\"dataframe\">\n  <thead>\n    <tr style=\"text-align: right;\">\n      <th></th>\n      <th>id</th>\n      <th>member_id</th>\n      <th>loan_amnt</th>\n      <th>funded_amnt</th>\n      <th>funded_amnt_inv</th>\n      <th>term</th>\n      <th>int_rate</th>\n      <th>installment</th>\n      <th>grade</th>\n      <th>sub_grade</th>\n      <th>...</th>\n      <th>hardship_payoff_balance_amount</th>\n      <th>hardship_last_payment_amount</th>\n      <th>disbursement_method</th>\n      <th>debt_settlement_flag</th>\n      <th>debt_settlement_flag_date</th>\n      <th>settlement_status</th>\n      <th>settlement_date</th>\n      <th>settlement_amount</th>\n      <th>settlement_percentage</th>\n      <th>settlement_term</th>\n    </tr>\n  </thead>\n  <tbody>\n    <tr>\n      <th>0</th>\n      <td>0</td>\n      <td>NaN</td>\n      <td>32000</td>\n      <td>32000</td>\n      <td>32000.0</td>\n      <td>36 months</td>\n      <td>10.90</td>\n      <td>1046.13</td>\n      <td>B</td>\n      <td>B4</td>\n      <td>...</td>\n      <td>NaN</td>\n      <td>NaN</td>\n      <td>Cash</td>\n      <td>N</td>\n      <td>NaN</td>\n      <td>NaN</td>\n      <td>NaN</td>\n      <td>NaN</td>\n      <td>NaN</td>\n      <td>NaN</td>\n    </tr>\n    <tr>\n      <th>1</th>\n      <td>1</td>\n      <td>NaN</td>\n      <td>11500</td>\n      <td>11500</td>\n      <td>11500.0</td>\n      <td>36 months</td>\n      <td>15.80</td>\n      <td>403.18</td>\n      <td>C</td>\n      <td>C3</td>\n      <td>...</td>\n      <td>NaN</td>\n      <td>NaN</td>\n      <td>Cash</td>\n      <td>N</td>\n      <td>NaN</td>\n      <td>NaN</td>\n      <td>NaN</td>\n      <td>NaN</td>\n      <td>NaN</td>\n      <td>NaN</td>\n    </tr>\n    <tr>\n      <th>2</th>\n      <td>2</td>\n      <td>NaN</td>\n      <td>10000</td>\n      <td>10000</td>\n      <td>10000.0</td>\n      <td>36 months</td>\n      <td>6.49</td>\n      <td>306.45</td>\n      <td>A</td>\n      <td>A2</td>\n      <td>...</td>\n      <td>NaN</td>\n      <td>NaN</td>\n      <td>Cash</td>\n      <td>N</td>\n      <td>NaN</td>\n      <td>NaN</td>\n      <td>NaN</td>\n      <td>NaN</td>\n      <td>NaN</td>\n      <td>NaN</td>\n    </tr>\n    <tr>\n      <th>3</th>\n      <td>3</td>\n      <td>NaN</td>\n      <td>28000</td>\n      <td>28000</td>\n      <td>28000.0</td>\n      <td>36 months</td>\n      <td>7.69</td>\n      <td>873.42</td>\n      <td>A</td>\n      <td>A4</td>\n      <td>...</td>\n      <td>NaN</td>\n      <td>NaN</td>\n      <td>Cash</td>\n      <td>N</td>\n      <td>NaN</td>\n      <td>NaN</td>\n      <td>NaN</td>\n      <td>NaN</td>\n      <td>NaN</td>\n      <td>NaN</td>\n    </tr>\n    <tr>\n      <th>4</th>\n      <td>4</td>\n      <td>NaN</td>\n      <td>28000</td>\n      <td>28000</td>\n      <td>28000.0</td>\n      <td>60 months</td>\n      <td>17.97</td>\n      <td>710.56</td>\n      <td>D</td>\n      <td>D1</td>\n      <td>...</td>\n      <td>NaN</td>\n      <td>NaN</td>\n      <td>Cash</td>\n      <td>N</td>\n      <td>NaN</td>\n      <td>NaN</td>\n      <td>NaN</td>\n      <td>NaN</td>\n      <td>NaN</td>\n      <td>NaN</td>\n    </tr>\n  </tbody>\n</table>\n<p>5 rows × 145 columns</p>\n</div>"
     },
     "execution_count": 2,
     "metadata": {},
     "output_type": "execute_result"
    }
   ],
   "source": [
    "train.head(5)"
   ],
   "metadata": {
    "collapsed": false,
    "pycharm": {
     "name": "#%%\n"
    }
   }
  },
  {
   "cell_type": "code",
   "execution_count": 3,
   "outputs": [
    {
     "data": {
      "text/plain": "            id  loan_amnt  funded_amnt  funded_amnt_inv        term  int_rate  \\\n0            0      32000        32000          32000.0   36 months     10.90   \n1            1      11500        11500          11500.0   36 months     15.80   \n2            2      10000        10000          10000.0   36 months      6.49   \n3            3      28000        28000          28000.0   36 months      7.69   \n4            4      28000        28000          28000.0   60 months     17.97   \n...        ...        ...          ...              ...         ...       ...   \n904262  904262      30000        30000          30000.0   60 months     16.55   \n904263  904263      15000        15000          15000.0   36 months     12.12   \n904264  904264       8725         8725           8725.0   36 months     17.27   \n904265  904265      15000        15000          15000.0   36 months     17.09   \n904266  904266      15000        15000          15000.0   60 months     17.09   \n\n        installment grade sub_grade                       emp_title  ...  \\\n0           1046.13     B        B4           plasma\\brake operator  ...   \n1            403.18     C        C3                        CableOne  ...   \n2            306.45     A        A2                             NaN  ...   \n3            873.42     A        A4        Human Resources Director  ...   \n4            710.56     D        D1                     sales agent  ...   \n...             ...   ...       ...                             ...  ...   \n904262       738.34     D        D2                         Teacher  ...   \n904263       499.08     B        B3              WDAC Radio Compnay  ...   \n904264       312.25     D        D1  Clovis Unified School District  ...   \n904265       535.47     D        D1                        Educator  ...   \n904266       373.52     D        D1                        officer   ...   \n\n       hardship_payoff_balance_amount hardship_last_payment_amount  \\\n0                                 NaN                          NaN   \n1                                 NaN                          NaN   \n2                                 NaN                          NaN   \n3                                 NaN                          NaN   \n4                                 NaN                          NaN   \n...                               ...                          ...   \n904262                            NaN                          NaN   \n904263                            NaN                          NaN   \n904264                            NaN                          NaN   \n904265                            NaN                          NaN   \n904266                            NaN                          NaN   \n\n        disbursement_method debt_settlement_flag debt_settlement_flag_date  \\\n0                      Cash                    N                       NaN   \n1                      Cash                    N                       NaN   \n2                      Cash                    N                       NaN   \n3                      Cash                    N                       NaN   \n4                      Cash                    N                       NaN   \n...                     ...                  ...                       ...   \n904262                 Cash                    N                       NaN   \n904263                 Cash                    N                       NaN   \n904264                 Cash                    N                       NaN   \n904265                 Cash                    N                       NaN   \n904266                 Cash                    N                       NaN   \n\n       settlement_status settlement_date  settlement_amount  \\\n0                    NaN             NaN                NaN   \n1                    NaN             NaN                NaN   \n2                    NaN             NaN                NaN   \n3                    NaN             NaN                NaN   \n4                    NaN             NaN                NaN   \n...                  ...             ...                ...   \n904262               NaN             NaN                NaN   \n904263               NaN             NaN                NaN   \n904264               NaN             NaN                NaN   \n904265               NaN             NaN                NaN   \n904266               NaN             NaN                NaN   \n\n       settlement_percentage settlement_term  \n0                        NaN             NaN  \n1                        NaN             NaN  \n2                        NaN             NaN  \n3                        NaN             NaN  \n4                        NaN             NaN  \n...                      ...             ...  \n904262                   NaN             NaN  \n904263                   NaN             NaN  \n904264                   NaN             NaN  \n904265                   NaN             NaN  \n904266                   NaN             NaN  \n\n[904267 rows x 144 columns]",
      "text/html": "<div>\n<style scoped>\n    .dataframe tbody tr th:only-of-type {\n        vertical-align: middle;\n    }\n\n    .dataframe tbody tr th {\n        vertical-align: top;\n    }\n\n    .dataframe thead th {\n        text-align: right;\n    }\n</style>\n<table border=\"1\" class=\"dataframe\">\n  <thead>\n    <tr style=\"text-align: right;\">\n      <th></th>\n      <th>id</th>\n      <th>loan_amnt</th>\n      <th>funded_amnt</th>\n      <th>funded_amnt_inv</th>\n      <th>term</th>\n      <th>int_rate</th>\n      <th>installment</th>\n      <th>grade</th>\n      <th>sub_grade</th>\n      <th>emp_title</th>\n      <th>...</th>\n      <th>hardship_payoff_balance_amount</th>\n      <th>hardship_last_payment_amount</th>\n      <th>disbursement_method</th>\n      <th>debt_settlement_flag</th>\n      <th>debt_settlement_flag_date</th>\n      <th>settlement_status</th>\n      <th>settlement_date</th>\n      <th>settlement_amount</th>\n      <th>settlement_percentage</th>\n      <th>settlement_term</th>\n    </tr>\n  </thead>\n  <tbody>\n    <tr>\n      <th>0</th>\n      <td>0</td>\n      <td>32000</td>\n      <td>32000</td>\n      <td>32000.0</td>\n      <td>36 months</td>\n      <td>10.90</td>\n      <td>1046.13</td>\n      <td>B</td>\n      <td>B4</td>\n      <td>plasma\\brake operator</td>\n      <td>...</td>\n      <td>NaN</td>\n      <td>NaN</td>\n      <td>Cash</td>\n      <td>N</td>\n      <td>NaN</td>\n      <td>NaN</td>\n      <td>NaN</td>\n      <td>NaN</td>\n      <td>NaN</td>\n      <td>NaN</td>\n    </tr>\n    <tr>\n      <th>1</th>\n      <td>1</td>\n      <td>11500</td>\n      <td>11500</td>\n      <td>11500.0</td>\n      <td>36 months</td>\n      <td>15.80</td>\n      <td>403.18</td>\n      <td>C</td>\n      <td>C3</td>\n      <td>CableOne</td>\n      <td>...</td>\n      <td>NaN</td>\n      <td>NaN</td>\n      <td>Cash</td>\n      <td>N</td>\n      <td>NaN</td>\n      <td>NaN</td>\n      <td>NaN</td>\n      <td>NaN</td>\n      <td>NaN</td>\n      <td>NaN</td>\n    </tr>\n    <tr>\n      <th>2</th>\n      <td>2</td>\n      <td>10000</td>\n      <td>10000</td>\n      <td>10000.0</td>\n      <td>36 months</td>\n      <td>6.49</td>\n      <td>306.45</td>\n      <td>A</td>\n      <td>A2</td>\n      <td>NaN</td>\n      <td>...</td>\n      <td>NaN</td>\n      <td>NaN</td>\n      <td>Cash</td>\n      <td>N</td>\n      <td>NaN</td>\n      <td>NaN</td>\n      <td>NaN</td>\n      <td>NaN</td>\n      <td>NaN</td>\n      <td>NaN</td>\n    </tr>\n    <tr>\n      <th>3</th>\n      <td>3</td>\n      <td>28000</td>\n      <td>28000</td>\n      <td>28000.0</td>\n      <td>36 months</td>\n      <td>7.69</td>\n      <td>873.42</td>\n      <td>A</td>\n      <td>A4</td>\n      <td>Human Resources Director</td>\n      <td>...</td>\n      <td>NaN</td>\n      <td>NaN</td>\n      <td>Cash</td>\n      <td>N</td>\n      <td>NaN</td>\n      <td>NaN</td>\n      <td>NaN</td>\n      <td>NaN</td>\n      <td>NaN</td>\n      <td>NaN</td>\n    </tr>\n    <tr>\n      <th>4</th>\n      <td>4</td>\n      <td>28000</td>\n      <td>28000</td>\n      <td>28000.0</td>\n      <td>60 months</td>\n      <td>17.97</td>\n      <td>710.56</td>\n      <td>D</td>\n      <td>D1</td>\n      <td>sales agent</td>\n      <td>...</td>\n      <td>NaN</td>\n      <td>NaN</td>\n      <td>Cash</td>\n      <td>N</td>\n      <td>NaN</td>\n      <td>NaN</td>\n      <td>NaN</td>\n      <td>NaN</td>\n      <td>NaN</td>\n      <td>NaN</td>\n    </tr>\n    <tr>\n      <th>...</th>\n      <td>...</td>\n      <td>...</td>\n      <td>...</td>\n      <td>...</td>\n      <td>...</td>\n      <td>...</td>\n      <td>...</td>\n      <td>...</td>\n      <td>...</td>\n      <td>...</td>\n      <td>...</td>\n      <td>...</td>\n      <td>...</td>\n      <td>...</td>\n      <td>...</td>\n      <td>...</td>\n      <td>...</td>\n      <td>...</td>\n      <td>...</td>\n      <td>...</td>\n      <td>...</td>\n    </tr>\n    <tr>\n      <th>904262</th>\n      <td>904262</td>\n      <td>30000</td>\n      <td>30000</td>\n      <td>30000.0</td>\n      <td>60 months</td>\n      <td>16.55</td>\n      <td>738.34</td>\n      <td>D</td>\n      <td>D2</td>\n      <td>Teacher</td>\n      <td>...</td>\n      <td>NaN</td>\n      <td>NaN</td>\n      <td>Cash</td>\n      <td>N</td>\n      <td>NaN</td>\n      <td>NaN</td>\n      <td>NaN</td>\n      <td>NaN</td>\n      <td>NaN</td>\n      <td>NaN</td>\n    </tr>\n    <tr>\n      <th>904263</th>\n      <td>904263</td>\n      <td>15000</td>\n      <td>15000</td>\n      <td>15000.0</td>\n      <td>36 months</td>\n      <td>12.12</td>\n      <td>499.08</td>\n      <td>B</td>\n      <td>B3</td>\n      <td>WDAC Radio Compnay</td>\n      <td>...</td>\n      <td>NaN</td>\n      <td>NaN</td>\n      <td>Cash</td>\n      <td>N</td>\n      <td>NaN</td>\n      <td>NaN</td>\n      <td>NaN</td>\n      <td>NaN</td>\n      <td>NaN</td>\n      <td>NaN</td>\n    </tr>\n    <tr>\n      <th>904264</th>\n      <td>904264</td>\n      <td>8725</td>\n      <td>8725</td>\n      <td>8725.0</td>\n      <td>36 months</td>\n      <td>17.27</td>\n      <td>312.25</td>\n      <td>D</td>\n      <td>D1</td>\n      <td>Clovis Unified School District</td>\n      <td>...</td>\n      <td>NaN</td>\n      <td>NaN</td>\n      <td>Cash</td>\n      <td>N</td>\n      <td>NaN</td>\n      <td>NaN</td>\n      <td>NaN</td>\n      <td>NaN</td>\n      <td>NaN</td>\n      <td>NaN</td>\n    </tr>\n    <tr>\n      <th>904265</th>\n      <td>904265</td>\n      <td>15000</td>\n      <td>15000</td>\n      <td>15000.0</td>\n      <td>36 months</td>\n      <td>17.09</td>\n      <td>535.47</td>\n      <td>D</td>\n      <td>D1</td>\n      <td>Educator</td>\n      <td>...</td>\n      <td>NaN</td>\n      <td>NaN</td>\n      <td>Cash</td>\n      <td>N</td>\n      <td>NaN</td>\n      <td>NaN</td>\n      <td>NaN</td>\n      <td>NaN</td>\n      <td>NaN</td>\n      <td>NaN</td>\n    </tr>\n    <tr>\n      <th>904266</th>\n      <td>904266</td>\n      <td>15000</td>\n      <td>15000</td>\n      <td>15000.0</td>\n      <td>60 months</td>\n      <td>17.09</td>\n      <td>373.52</td>\n      <td>D</td>\n      <td>D1</td>\n      <td>officer</td>\n      <td>...</td>\n      <td>NaN</td>\n      <td>NaN</td>\n      <td>Cash</td>\n      <td>N</td>\n      <td>NaN</td>\n      <td>NaN</td>\n      <td>NaN</td>\n      <td>NaN</td>\n      <td>NaN</td>\n      <td>NaN</td>\n    </tr>\n  </tbody>\n</table>\n<p>904267 rows × 144 columns</p>\n</div>"
     },
     "execution_count": 3,
     "metadata": {},
     "output_type": "execute_result"
    }
   ],
   "source": [
    "# inplace\n",
    "# make changes directly to dataframe\n",
    "train.drop('member_id',axis=True,inplace=True)\n",
    "train"
   ],
   "metadata": {
    "collapsed": false,
    "pycharm": {
     "name": "#%%\n"
    }
   }
  },
  {
   "cell_type": "code",
   "execution_count": 4,
   "outputs": [
    {
     "data": {
      "text/plain": "        loan_amnt  funded_amnt  funded_amnt_inv        term  int_rate  \\\nid                                                                      \n0           32000        32000          32000.0   36 months     10.90   \n1           11500        11500          11500.0   36 months     15.80   \n2           10000        10000          10000.0   36 months      6.49   \n3           28000        28000          28000.0   36 months      7.69   \n4           28000        28000          28000.0   60 months     17.97   \n...           ...          ...              ...         ...       ...   \n904262      30000        30000          30000.0   60 months     16.55   \n904263      15000        15000          15000.0   36 months     12.12   \n904264       8725         8725           8725.0   36 months     17.27   \n904265      15000        15000          15000.0   36 months     17.09   \n904266      15000        15000          15000.0   60 months     17.09   \n\n        installment grade sub_grade                       emp_title  \\\nid                                                                    \n0           1046.13     B        B4           plasma\\brake operator   \n1            403.18     C        C3                        CableOne   \n2            306.45     A        A2                             NaN   \n3            873.42     A        A4        Human Resources Director   \n4            710.56     D        D1                     sales agent   \n...             ...   ...       ...                             ...   \n904262       738.34     D        D2                         Teacher   \n904263       499.08     B        B3              WDAC Radio Compnay   \n904264       312.25     D        D1  Clovis Unified School District   \n904265       535.47     D        D1                        Educator   \n904266       373.52     D        D1                        officer    \n\n       emp_length  ... hardship_payoff_balance_amount  \\\nid                 ...                                  \n0         2 years  ...                            NaN   \n1         6 years  ...                            NaN   \n2             NaN  ...                            NaN   \n3         3 years  ...                            NaN   \n4         2 years  ...                            NaN   \n...           ...  ...                            ...   \n904262  10+ years  ...                            NaN   \n904263  10+ years  ...                            NaN   \n904264    7 years  ...                            NaN   \n904265    2 years  ...                            NaN   \n904266  10+ years  ...                            NaN   \n\n        hardship_last_payment_amount disbursement_method debt_settlement_flag  \\\nid                                                                              \n0                                NaN                Cash                    N   \n1                                NaN                Cash                    N   \n2                                NaN                Cash                    N   \n3                                NaN                Cash                    N   \n4                                NaN                Cash                    N   \n...                              ...                 ...                  ...   \n904262                           NaN                Cash                    N   \n904263                           NaN                Cash                    N   \n904264                           NaN                Cash                    N   \n904265                           NaN                Cash                    N   \n904266                           NaN                Cash                    N   \n\n       debt_settlement_flag_date settlement_status  settlement_date  \\\nid                                                                    \n0                            NaN               NaN              NaN   \n1                            NaN               NaN              NaN   \n2                            NaN               NaN              NaN   \n3                            NaN               NaN              NaN   \n4                            NaN               NaN              NaN   \n...                          ...               ...              ...   \n904262                       NaN               NaN              NaN   \n904263                       NaN               NaN              NaN   \n904264                       NaN               NaN              NaN   \n904265                       NaN               NaN              NaN   \n904266                       NaN               NaN              NaN   \n\n       settlement_amount settlement_percentage settlement_term  \nid                                                              \n0                    NaN                   NaN             NaN  \n1                    NaN                   NaN             NaN  \n2                    NaN                   NaN             NaN  \n3                    NaN                   NaN             NaN  \n4                    NaN                   NaN             NaN  \n...                  ...                   ...             ...  \n904262               NaN                   NaN             NaN  \n904263               NaN                   NaN             NaN  \n904264               NaN                   NaN             NaN  \n904265               NaN                   NaN             NaN  \n904266               NaN                   NaN             NaN  \n\n[904267 rows x 143 columns]",
      "text/html": "<div>\n<style scoped>\n    .dataframe tbody tr th:only-of-type {\n        vertical-align: middle;\n    }\n\n    .dataframe tbody tr th {\n        vertical-align: top;\n    }\n\n    .dataframe thead th {\n        text-align: right;\n    }\n</style>\n<table border=\"1\" class=\"dataframe\">\n  <thead>\n    <tr style=\"text-align: right;\">\n      <th></th>\n      <th>loan_amnt</th>\n      <th>funded_amnt</th>\n      <th>funded_amnt_inv</th>\n      <th>term</th>\n      <th>int_rate</th>\n      <th>installment</th>\n      <th>grade</th>\n      <th>sub_grade</th>\n      <th>emp_title</th>\n      <th>emp_length</th>\n      <th>...</th>\n      <th>hardship_payoff_balance_amount</th>\n      <th>hardship_last_payment_amount</th>\n      <th>disbursement_method</th>\n      <th>debt_settlement_flag</th>\n      <th>debt_settlement_flag_date</th>\n      <th>settlement_status</th>\n      <th>settlement_date</th>\n      <th>settlement_amount</th>\n      <th>settlement_percentage</th>\n      <th>settlement_term</th>\n    </tr>\n    <tr>\n      <th>id</th>\n      <th></th>\n      <th></th>\n      <th></th>\n      <th></th>\n      <th></th>\n      <th></th>\n      <th></th>\n      <th></th>\n      <th></th>\n      <th></th>\n      <th></th>\n      <th></th>\n      <th></th>\n      <th></th>\n      <th></th>\n      <th></th>\n      <th></th>\n      <th></th>\n      <th></th>\n      <th></th>\n      <th></th>\n    </tr>\n  </thead>\n  <tbody>\n    <tr>\n      <th>0</th>\n      <td>32000</td>\n      <td>32000</td>\n      <td>32000.0</td>\n      <td>36 months</td>\n      <td>10.90</td>\n      <td>1046.13</td>\n      <td>B</td>\n      <td>B4</td>\n      <td>plasma\\brake operator</td>\n      <td>2 years</td>\n      <td>...</td>\n      <td>NaN</td>\n      <td>NaN</td>\n      <td>Cash</td>\n      <td>N</td>\n      <td>NaN</td>\n      <td>NaN</td>\n      <td>NaN</td>\n      <td>NaN</td>\n      <td>NaN</td>\n      <td>NaN</td>\n    </tr>\n    <tr>\n      <th>1</th>\n      <td>11500</td>\n      <td>11500</td>\n      <td>11500.0</td>\n      <td>36 months</td>\n      <td>15.80</td>\n      <td>403.18</td>\n      <td>C</td>\n      <td>C3</td>\n      <td>CableOne</td>\n      <td>6 years</td>\n      <td>...</td>\n      <td>NaN</td>\n      <td>NaN</td>\n      <td>Cash</td>\n      <td>N</td>\n      <td>NaN</td>\n      <td>NaN</td>\n      <td>NaN</td>\n      <td>NaN</td>\n      <td>NaN</td>\n      <td>NaN</td>\n    </tr>\n    <tr>\n      <th>2</th>\n      <td>10000</td>\n      <td>10000</td>\n      <td>10000.0</td>\n      <td>36 months</td>\n      <td>6.49</td>\n      <td>306.45</td>\n      <td>A</td>\n      <td>A2</td>\n      <td>NaN</td>\n      <td>NaN</td>\n      <td>...</td>\n      <td>NaN</td>\n      <td>NaN</td>\n      <td>Cash</td>\n      <td>N</td>\n      <td>NaN</td>\n      <td>NaN</td>\n      <td>NaN</td>\n      <td>NaN</td>\n      <td>NaN</td>\n      <td>NaN</td>\n    </tr>\n    <tr>\n      <th>3</th>\n      <td>28000</td>\n      <td>28000</td>\n      <td>28000.0</td>\n      <td>36 months</td>\n      <td>7.69</td>\n      <td>873.42</td>\n      <td>A</td>\n      <td>A4</td>\n      <td>Human Resources Director</td>\n      <td>3 years</td>\n      <td>...</td>\n      <td>NaN</td>\n      <td>NaN</td>\n      <td>Cash</td>\n      <td>N</td>\n      <td>NaN</td>\n      <td>NaN</td>\n      <td>NaN</td>\n      <td>NaN</td>\n      <td>NaN</td>\n      <td>NaN</td>\n    </tr>\n    <tr>\n      <th>4</th>\n      <td>28000</td>\n      <td>28000</td>\n      <td>28000.0</td>\n      <td>60 months</td>\n      <td>17.97</td>\n      <td>710.56</td>\n      <td>D</td>\n      <td>D1</td>\n      <td>sales agent</td>\n      <td>2 years</td>\n      <td>...</td>\n      <td>NaN</td>\n      <td>NaN</td>\n      <td>Cash</td>\n      <td>N</td>\n      <td>NaN</td>\n      <td>NaN</td>\n      <td>NaN</td>\n      <td>NaN</td>\n      <td>NaN</td>\n      <td>NaN</td>\n    </tr>\n    <tr>\n      <th>...</th>\n      <td>...</td>\n      <td>...</td>\n      <td>...</td>\n      <td>...</td>\n      <td>...</td>\n      <td>...</td>\n      <td>...</td>\n      <td>...</td>\n      <td>...</td>\n      <td>...</td>\n      <td>...</td>\n      <td>...</td>\n      <td>...</td>\n      <td>...</td>\n      <td>...</td>\n      <td>...</td>\n      <td>...</td>\n      <td>...</td>\n      <td>...</td>\n      <td>...</td>\n      <td>...</td>\n    </tr>\n    <tr>\n      <th>904262</th>\n      <td>30000</td>\n      <td>30000</td>\n      <td>30000.0</td>\n      <td>60 months</td>\n      <td>16.55</td>\n      <td>738.34</td>\n      <td>D</td>\n      <td>D2</td>\n      <td>Teacher</td>\n      <td>10+ years</td>\n      <td>...</td>\n      <td>NaN</td>\n      <td>NaN</td>\n      <td>Cash</td>\n      <td>N</td>\n      <td>NaN</td>\n      <td>NaN</td>\n      <td>NaN</td>\n      <td>NaN</td>\n      <td>NaN</td>\n      <td>NaN</td>\n    </tr>\n    <tr>\n      <th>904263</th>\n      <td>15000</td>\n      <td>15000</td>\n      <td>15000.0</td>\n      <td>36 months</td>\n      <td>12.12</td>\n      <td>499.08</td>\n      <td>B</td>\n      <td>B3</td>\n      <td>WDAC Radio Compnay</td>\n      <td>10+ years</td>\n      <td>...</td>\n      <td>NaN</td>\n      <td>NaN</td>\n      <td>Cash</td>\n      <td>N</td>\n      <td>NaN</td>\n      <td>NaN</td>\n      <td>NaN</td>\n      <td>NaN</td>\n      <td>NaN</td>\n      <td>NaN</td>\n    </tr>\n    <tr>\n      <th>904264</th>\n      <td>8725</td>\n      <td>8725</td>\n      <td>8725.0</td>\n      <td>36 months</td>\n      <td>17.27</td>\n      <td>312.25</td>\n      <td>D</td>\n      <td>D1</td>\n      <td>Clovis Unified School District</td>\n      <td>7 years</td>\n      <td>...</td>\n      <td>NaN</td>\n      <td>NaN</td>\n      <td>Cash</td>\n      <td>N</td>\n      <td>NaN</td>\n      <td>NaN</td>\n      <td>NaN</td>\n      <td>NaN</td>\n      <td>NaN</td>\n      <td>NaN</td>\n    </tr>\n    <tr>\n      <th>904265</th>\n      <td>15000</td>\n      <td>15000</td>\n      <td>15000.0</td>\n      <td>36 months</td>\n      <td>17.09</td>\n      <td>535.47</td>\n      <td>D</td>\n      <td>D1</td>\n      <td>Educator</td>\n      <td>2 years</td>\n      <td>...</td>\n      <td>NaN</td>\n      <td>NaN</td>\n      <td>Cash</td>\n      <td>N</td>\n      <td>NaN</td>\n      <td>NaN</td>\n      <td>NaN</td>\n      <td>NaN</td>\n      <td>NaN</td>\n      <td>NaN</td>\n    </tr>\n    <tr>\n      <th>904266</th>\n      <td>15000</td>\n      <td>15000</td>\n      <td>15000.0</td>\n      <td>60 months</td>\n      <td>17.09</td>\n      <td>373.52</td>\n      <td>D</td>\n      <td>D1</td>\n      <td>officer</td>\n      <td>10+ years</td>\n      <td>...</td>\n      <td>NaN</td>\n      <td>NaN</td>\n      <td>Cash</td>\n      <td>N</td>\n      <td>NaN</td>\n      <td>NaN</td>\n      <td>NaN</td>\n      <td>NaN</td>\n      <td>NaN</td>\n      <td>NaN</td>\n    </tr>\n  </tbody>\n</table>\n<p>904267 rows × 143 columns</p>\n</div>"
     },
     "execution_count": 4,
     "metadata": {},
     "output_type": "execute_result"
    }
   ],
   "source": [
    "train.set_index('id',inplace=True)\n",
    "train"
   ],
   "metadata": {
    "collapsed": false,
    "pycharm": {
     "name": "#%%\n"
    }
   }
  },
  {
   "cell_type": "code",
   "execution_count": 5,
   "outputs": [
    {
     "data": {
      "text/plain": "        loan_amnt  funded_amnt  funded_amnt_inv       terms  int_rate  \\\nid                                                                      \n0           32000        32000          32000.0   36 months     10.90   \n1           11500        11500          11500.0   36 months     15.80   \n2           10000        10000          10000.0   36 months      6.49   \n3           28000        28000          28000.0   36 months      7.69   \n4           28000        28000          28000.0   60 months     17.97   \n...           ...          ...              ...         ...       ...   \n904262      30000        30000          30000.0   60 months     16.55   \n904263      15000        15000          15000.0   36 months     12.12   \n904264       8725         8725           8725.0   36 months     17.27   \n904265      15000        15000          15000.0   36 months     17.09   \n904266      15000        15000          15000.0   60 months     17.09   \n\n        installment grade sub_grade                       emp_title  \\\nid                                                                    \n0           1046.13     B        B4           plasma\\brake operator   \n1            403.18     C        C3                        CableOne   \n2            306.45     A        A2                             NaN   \n3            873.42     A        A4        Human Resources Director   \n4            710.56     D        D1                     sales agent   \n...             ...   ...       ...                             ...   \n904262       738.34     D        D2                         Teacher   \n904263       499.08     B        B3              WDAC Radio Compnay   \n904264       312.25     D        D1  Clovis Unified School District   \n904265       535.47     D        D1                        Educator   \n904266       373.52     D        D1                        officer    \n\n       emp_length  ... hardship_payoff_balance_amount  \\\nid                 ...                                  \n0         2 years  ...                            NaN   \n1         6 years  ...                            NaN   \n2             NaN  ...                            NaN   \n3         3 years  ...                            NaN   \n4         2 years  ...                            NaN   \n...           ...  ...                            ...   \n904262  10+ years  ...                            NaN   \n904263  10+ years  ...                            NaN   \n904264    7 years  ...                            NaN   \n904265    2 years  ...                            NaN   \n904266  10+ years  ...                            NaN   \n\n        hardship_last_payment_amount disbursement_method debt_settlement_flag  \\\nid                                                                              \n0                                NaN                Cash                    N   \n1                                NaN                Cash                    N   \n2                                NaN                Cash                    N   \n3                                NaN                Cash                    N   \n4                                NaN                Cash                    N   \n...                              ...                 ...                  ...   \n904262                           NaN                Cash                    N   \n904263                           NaN                Cash                    N   \n904264                           NaN                Cash                    N   \n904265                           NaN                Cash                    N   \n904266                           NaN                Cash                    N   \n\n       debt_settlement_flag_date settlement_status  settlement_date  \\\nid                                                                    \n0                            NaN               NaN              NaN   \n1                            NaN               NaN              NaN   \n2                            NaN               NaN              NaN   \n3                            NaN               NaN              NaN   \n4                            NaN               NaN              NaN   \n...                          ...               ...              ...   \n904262                       NaN               NaN              NaN   \n904263                       NaN               NaN              NaN   \n904264                       NaN               NaN              NaN   \n904265                       NaN               NaN              NaN   \n904266                       NaN               NaN              NaN   \n\n       settlement_amount settlement_percentage settlement_term  \nid                                                              \n0                    NaN                   NaN             NaN  \n1                    NaN                   NaN             NaN  \n2                    NaN                   NaN             NaN  \n3                    NaN                   NaN             NaN  \n4                    NaN                   NaN             NaN  \n...                  ...                   ...             ...  \n904262               NaN                   NaN             NaN  \n904263               NaN                   NaN             NaN  \n904264               NaN                   NaN             NaN  \n904265               NaN                   NaN             NaN  \n904266               NaN                   NaN             NaN  \n\n[904267 rows x 143 columns]",
      "text/html": "<div>\n<style scoped>\n    .dataframe tbody tr th:only-of-type {\n        vertical-align: middle;\n    }\n\n    .dataframe tbody tr th {\n        vertical-align: top;\n    }\n\n    .dataframe thead th {\n        text-align: right;\n    }\n</style>\n<table border=\"1\" class=\"dataframe\">\n  <thead>\n    <tr style=\"text-align: right;\">\n      <th></th>\n      <th>loan_amnt</th>\n      <th>funded_amnt</th>\n      <th>funded_amnt_inv</th>\n      <th>terms</th>\n      <th>int_rate</th>\n      <th>installment</th>\n      <th>grade</th>\n      <th>sub_grade</th>\n      <th>emp_title</th>\n      <th>emp_length</th>\n      <th>...</th>\n      <th>hardship_payoff_balance_amount</th>\n      <th>hardship_last_payment_amount</th>\n      <th>disbursement_method</th>\n      <th>debt_settlement_flag</th>\n      <th>debt_settlement_flag_date</th>\n      <th>settlement_status</th>\n      <th>settlement_date</th>\n      <th>settlement_amount</th>\n      <th>settlement_percentage</th>\n      <th>settlement_term</th>\n    </tr>\n    <tr>\n      <th>id</th>\n      <th></th>\n      <th></th>\n      <th></th>\n      <th></th>\n      <th></th>\n      <th></th>\n      <th></th>\n      <th></th>\n      <th></th>\n      <th></th>\n      <th></th>\n      <th></th>\n      <th></th>\n      <th></th>\n      <th></th>\n      <th></th>\n      <th></th>\n      <th></th>\n      <th></th>\n      <th></th>\n      <th></th>\n    </tr>\n  </thead>\n  <tbody>\n    <tr>\n      <th>0</th>\n      <td>32000</td>\n      <td>32000</td>\n      <td>32000.0</td>\n      <td>36 months</td>\n      <td>10.90</td>\n      <td>1046.13</td>\n      <td>B</td>\n      <td>B4</td>\n      <td>plasma\\brake operator</td>\n      <td>2 years</td>\n      <td>...</td>\n      <td>NaN</td>\n      <td>NaN</td>\n      <td>Cash</td>\n      <td>N</td>\n      <td>NaN</td>\n      <td>NaN</td>\n      <td>NaN</td>\n      <td>NaN</td>\n      <td>NaN</td>\n      <td>NaN</td>\n    </tr>\n    <tr>\n      <th>1</th>\n      <td>11500</td>\n      <td>11500</td>\n      <td>11500.0</td>\n      <td>36 months</td>\n      <td>15.80</td>\n      <td>403.18</td>\n      <td>C</td>\n      <td>C3</td>\n      <td>CableOne</td>\n      <td>6 years</td>\n      <td>...</td>\n      <td>NaN</td>\n      <td>NaN</td>\n      <td>Cash</td>\n      <td>N</td>\n      <td>NaN</td>\n      <td>NaN</td>\n      <td>NaN</td>\n      <td>NaN</td>\n      <td>NaN</td>\n      <td>NaN</td>\n    </tr>\n    <tr>\n      <th>2</th>\n      <td>10000</td>\n      <td>10000</td>\n      <td>10000.0</td>\n      <td>36 months</td>\n      <td>6.49</td>\n      <td>306.45</td>\n      <td>A</td>\n      <td>A2</td>\n      <td>NaN</td>\n      <td>NaN</td>\n      <td>...</td>\n      <td>NaN</td>\n      <td>NaN</td>\n      <td>Cash</td>\n      <td>N</td>\n      <td>NaN</td>\n      <td>NaN</td>\n      <td>NaN</td>\n      <td>NaN</td>\n      <td>NaN</td>\n      <td>NaN</td>\n    </tr>\n    <tr>\n      <th>3</th>\n      <td>28000</td>\n      <td>28000</td>\n      <td>28000.0</td>\n      <td>36 months</td>\n      <td>7.69</td>\n      <td>873.42</td>\n      <td>A</td>\n      <td>A4</td>\n      <td>Human Resources Director</td>\n      <td>3 years</td>\n      <td>...</td>\n      <td>NaN</td>\n      <td>NaN</td>\n      <td>Cash</td>\n      <td>N</td>\n      <td>NaN</td>\n      <td>NaN</td>\n      <td>NaN</td>\n      <td>NaN</td>\n      <td>NaN</td>\n      <td>NaN</td>\n    </tr>\n    <tr>\n      <th>4</th>\n      <td>28000</td>\n      <td>28000</td>\n      <td>28000.0</td>\n      <td>60 months</td>\n      <td>17.97</td>\n      <td>710.56</td>\n      <td>D</td>\n      <td>D1</td>\n      <td>sales agent</td>\n      <td>2 years</td>\n      <td>...</td>\n      <td>NaN</td>\n      <td>NaN</td>\n      <td>Cash</td>\n      <td>N</td>\n      <td>NaN</td>\n      <td>NaN</td>\n      <td>NaN</td>\n      <td>NaN</td>\n      <td>NaN</td>\n      <td>NaN</td>\n    </tr>\n    <tr>\n      <th>...</th>\n      <td>...</td>\n      <td>...</td>\n      <td>...</td>\n      <td>...</td>\n      <td>...</td>\n      <td>...</td>\n      <td>...</td>\n      <td>...</td>\n      <td>...</td>\n      <td>...</td>\n      <td>...</td>\n      <td>...</td>\n      <td>...</td>\n      <td>...</td>\n      <td>...</td>\n      <td>...</td>\n      <td>...</td>\n      <td>...</td>\n      <td>...</td>\n      <td>...</td>\n      <td>...</td>\n    </tr>\n    <tr>\n      <th>904262</th>\n      <td>30000</td>\n      <td>30000</td>\n      <td>30000.0</td>\n      <td>60 months</td>\n      <td>16.55</td>\n      <td>738.34</td>\n      <td>D</td>\n      <td>D2</td>\n      <td>Teacher</td>\n      <td>10+ years</td>\n      <td>...</td>\n      <td>NaN</td>\n      <td>NaN</td>\n      <td>Cash</td>\n      <td>N</td>\n      <td>NaN</td>\n      <td>NaN</td>\n      <td>NaN</td>\n      <td>NaN</td>\n      <td>NaN</td>\n      <td>NaN</td>\n    </tr>\n    <tr>\n      <th>904263</th>\n      <td>15000</td>\n      <td>15000</td>\n      <td>15000.0</td>\n      <td>36 months</td>\n      <td>12.12</td>\n      <td>499.08</td>\n      <td>B</td>\n      <td>B3</td>\n      <td>WDAC Radio Compnay</td>\n      <td>10+ years</td>\n      <td>...</td>\n      <td>NaN</td>\n      <td>NaN</td>\n      <td>Cash</td>\n      <td>N</td>\n      <td>NaN</td>\n      <td>NaN</td>\n      <td>NaN</td>\n      <td>NaN</td>\n      <td>NaN</td>\n      <td>NaN</td>\n    </tr>\n    <tr>\n      <th>904264</th>\n      <td>8725</td>\n      <td>8725</td>\n      <td>8725.0</td>\n      <td>36 months</td>\n      <td>17.27</td>\n      <td>312.25</td>\n      <td>D</td>\n      <td>D1</td>\n      <td>Clovis Unified School District</td>\n      <td>7 years</td>\n      <td>...</td>\n      <td>NaN</td>\n      <td>NaN</td>\n      <td>Cash</td>\n      <td>N</td>\n      <td>NaN</td>\n      <td>NaN</td>\n      <td>NaN</td>\n      <td>NaN</td>\n      <td>NaN</td>\n      <td>NaN</td>\n    </tr>\n    <tr>\n      <th>904265</th>\n      <td>15000</td>\n      <td>15000</td>\n      <td>15000.0</td>\n      <td>36 months</td>\n      <td>17.09</td>\n      <td>535.47</td>\n      <td>D</td>\n      <td>D1</td>\n      <td>Educator</td>\n      <td>2 years</td>\n      <td>...</td>\n      <td>NaN</td>\n      <td>NaN</td>\n      <td>Cash</td>\n      <td>N</td>\n      <td>NaN</td>\n      <td>NaN</td>\n      <td>NaN</td>\n      <td>NaN</td>\n      <td>NaN</td>\n      <td>NaN</td>\n    </tr>\n    <tr>\n      <th>904266</th>\n      <td>15000</td>\n      <td>15000</td>\n      <td>15000.0</td>\n      <td>60 months</td>\n      <td>17.09</td>\n      <td>373.52</td>\n      <td>D</td>\n      <td>D1</td>\n      <td>officer</td>\n      <td>10+ years</td>\n      <td>...</td>\n      <td>NaN</td>\n      <td>NaN</td>\n      <td>Cash</td>\n      <td>N</td>\n      <td>NaN</td>\n      <td>NaN</td>\n      <td>NaN</td>\n      <td>NaN</td>\n      <td>NaN</td>\n      <td>NaN</td>\n    </tr>\n  </tbody>\n</table>\n<p>904267 rows × 143 columns</p>\n</div>"
     },
     "execution_count": 5,
     "metadata": {},
     "output_type": "execute_result"
    }
   ],
   "source": [
    "train.rename(columns={'term':'terms'},inplace=True)\n",
    "train"
   ],
   "metadata": {
    "collapsed": false,
    "pycharm": {
     "name": "#%%\n"
    }
   }
  },
  {
   "cell_type": "code",
   "execution_count": 6,
   "outputs": [
    {
     "data": {
      "text/plain": "                 loan_amnt\ngrade sub_grade           \nA     A1         533121725\n      A2         393436350\n      A3         416215800\n      A4         565730025\n      A5         618176225\nB     B1         714055625\n      B2         732633475\n      B3         747309325\n      B4         792828625\n      B5         779923200\nC     C1         845329425\n      C2         766241775\n      C3         790677650\n      C4         788041375\n      C5         723423175\nD     D1         497457150\n      D2         453039750\n      D3         407178525\n      D4         365771000\n      D5         319298800\nE     E1         224115675\n      E2         204715225\n      E3         188811100\n      E4         164329850\n      E5         164410725\nF     F1         102788850\n      F2          71384800\n      F3          57486825\n      F4          45355700\n      F5          41723025\nG     G1          34519375\n      G2          21307025\n      G3          17762550\n      G4          14431450\n      G5          13284750",
      "text/html": "<div>\n<style scoped>\n    .dataframe tbody tr th:only-of-type {\n        vertical-align: middle;\n    }\n\n    .dataframe tbody tr th {\n        vertical-align: top;\n    }\n\n    .dataframe thead th {\n        text-align: right;\n    }\n</style>\n<table border=\"1\" class=\"dataframe\">\n  <thead>\n    <tr style=\"text-align: right;\">\n      <th></th>\n      <th></th>\n      <th>loan_amnt</th>\n    </tr>\n    <tr>\n      <th>grade</th>\n      <th>sub_grade</th>\n      <th></th>\n    </tr>\n  </thead>\n  <tbody>\n    <tr>\n      <th rowspan=\"5\" valign=\"top\">A</th>\n      <th>A1</th>\n      <td>533121725</td>\n    </tr>\n    <tr>\n      <th>A2</th>\n      <td>393436350</td>\n    </tr>\n    <tr>\n      <th>A3</th>\n      <td>416215800</td>\n    </tr>\n    <tr>\n      <th>A4</th>\n      <td>565730025</td>\n    </tr>\n    <tr>\n      <th>A5</th>\n      <td>618176225</td>\n    </tr>\n    <tr>\n      <th rowspan=\"5\" valign=\"top\">B</th>\n      <th>B1</th>\n      <td>714055625</td>\n    </tr>\n    <tr>\n      <th>B2</th>\n      <td>732633475</td>\n    </tr>\n    <tr>\n      <th>B3</th>\n      <td>747309325</td>\n    </tr>\n    <tr>\n      <th>B4</th>\n      <td>792828625</td>\n    </tr>\n    <tr>\n      <th>B5</th>\n      <td>779923200</td>\n    </tr>\n    <tr>\n      <th rowspan=\"5\" valign=\"top\">C</th>\n      <th>C1</th>\n      <td>845329425</td>\n    </tr>\n    <tr>\n      <th>C2</th>\n      <td>766241775</td>\n    </tr>\n    <tr>\n      <th>C3</th>\n      <td>790677650</td>\n    </tr>\n    <tr>\n      <th>C4</th>\n      <td>788041375</td>\n    </tr>\n    <tr>\n      <th>C5</th>\n      <td>723423175</td>\n    </tr>\n    <tr>\n      <th rowspan=\"5\" valign=\"top\">D</th>\n      <th>D1</th>\n      <td>497457150</td>\n    </tr>\n    <tr>\n      <th>D2</th>\n      <td>453039750</td>\n    </tr>\n    <tr>\n      <th>D3</th>\n      <td>407178525</td>\n    </tr>\n    <tr>\n      <th>D4</th>\n      <td>365771000</td>\n    </tr>\n    <tr>\n      <th>D5</th>\n      <td>319298800</td>\n    </tr>\n    <tr>\n      <th rowspan=\"5\" valign=\"top\">E</th>\n      <th>E1</th>\n      <td>224115675</td>\n    </tr>\n    <tr>\n      <th>E2</th>\n      <td>204715225</td>\n    </tr>\n    <tr>\n      <th>E3</th>\n      <td>188811100</td>\n    </tr>\n    <tr>\n      <th>E4</th>\n      <td>164329850</td>\n    </tr>\n    <tr>\n      <th>E5</th>\n      <td>164410725</td>\n    </tr>\n    <tr>\n      <th rowspan=\"5\" valign=\"top\">F</th>\n      <th>F1</th>\n      <td>102788850</td>\n    </tr>\n    <tr>\n      <th>F2</th>\n      <td>71384800</td>\n    </tr>\n    <tr>\n      <th>F3</th>\n      <td>57486825</td>\n    </tr>\n    <tr>\n      <th>F4</th>\n      <td>45355700</td>\n    </tr>\n    <tr>\n      <th>F5</th>\n      <td>41723025</td>\n    </tr>\n    <tr>\n      <th rowspan=\"5\" valign=\"top\">G</th>\n      <th>G1</th>\n      <td>34519375</td>\n    </tr>\n    <tr>\n      <th>G2</th>\n      <td>21307025</td>\n    </tr>\n    <tr>\n      <th>G3</th>\n      <td>17762550</td>\n    </tr>\n    <tr>\n      <th>G4</th>\n      <td>14431450</td>\n    </tr>\n    <tr>\n      <th>G5</th>\n      <td>13284750</td>\n    </tr>\n  </tbody>\n</table>\n</div>"
     },
     "execution_count": 6,
     "metadata": {},
     "output_type": "execute_result"
    }
   ],
   "source": [
    "# group by\n",
    "train.groupby(by=['grade','sub_grade'])[['loan_amnt']].sum()"
   ],
   "metadata": {
    "collapsed": false,
    "pycharm": {
     "name": "#%%\n"
    }
   }
  },
  {
   "cell_type": "code",
   "execution_count": 7,
   "outputs": [
    {
     "data": {
      "text/plain": "                    loan_amnt\ngrade sub_grade              \nA     A1         15286.644444\n      A2         14213.740968\n      A3         14170.978176\n      A4         14866.506149\n      A5         14395.608612\nB     B1         14230.452091\n      B2         14488.371369\n      B3         14182.595555\n      B4         14167.520684\n      B5         13908.572448\nC     C1         14505.867439\n      C2         14578.420377\n      C3         15224.076748\n      C4         15588.419579\n      C5         15499.821631\nD     D1         15261.294331\n      D2         15367.177165\n      D3         15657.099323\n      D4         16079.259715\n      D5         16595.571726\nE     E1         16687.689873\n      E2         17100.929329\n      E3         17482.509259\n      E4         18149.972388\n      E5         18275.980992\nF     F1         18943.761519\n      F2         19056.273358\n      F3         19060.618369\n      F4         19001.131127\n      F5         20204.854722\nG     G1         20744.816707\n      G2         19913.107477\n      G3         21045.675355\n      G4         20884.876990\n      G5         20628.493789",
      "text/html": "<div>\n<style scoped>\n    .dataframe tbody tr th:only-of-type {\n        vertical-align: middle;\n    }\n\n    .dataframe tbody tr th {\n        vertical-align: top;\n    }\n\n    .dataframe thead th {\n        text-align: right;\n    }\n</style>\n<table border=\"1\" class=\"dataframe\">\n  <thead>\n    <tr style=\"text-align: right;\">\n      <th></th>\n      <th></th>\n      <th>loan_amnt</th>\n    </tr>\n    <tr>\n      <th>grade</th>\n      <th>sub_grade</th>\n      <th></th>\n    </tr>\n  </thead>\n  <tbody>\n    <tr>\n      <th rowspan=\"5\" valign=\"top\">A</th>\n      <th>A1</th>\n      <td>15286.644444</td>\n    </tr>\n    <tr>\n      <th>A2</th>\n      <td>14213.740968</td>\n    </tr>\n    <tr>\n      <th>A3</th>\n      <td>14170.978176</td>\n    </tr>\n    <tr>\n      <th>A4</th>\n      <td>14866.506149</td>\n    </tr>\n    <tr>\n      <th>A5</th>\n      <td>14395.608612</td>\n    </tr>\n    <tr>\n      <th rowspan=\"5\" valign=\"top\">B</th>\n      <th>B1</th>\n      <td>14230.452091</td>\n    </tr>\n    <tr>\n      <th>B2</th>\n      <td>14488.371369</td>\n    </tr>\n    <tr>\n      <th>B3</th>\n      <td>14182.595555</td>\n    </tr>\n    <tr>\n      <th>B4</th>\n      <td>14167.520684</td>\n    </tr>\n    <tr>\n      <th>B5</th>\n      <td>13908.572448</td>\n    </tr>\n    <tr>\n      <th rowspan=\"5\" valign=\"top\">C</th>\n      <th>C1</th>\n      <td>14505.867439</td>\n    </tr>\n    <tr>\n      <th>C2</th>\n      <td>14578.420377</td>\n    </tr>\n    <tr>\n      <th>C3</th>\n      <td>15224.076748</td>\n    </tr>\n    <tr>\n      <th>C4</th>\n      <td>15588.419579</td>\n    </tr>\n    <tr>\n      <th>C5</th>\n      <td>15499.821631</td>\n    </tr>\n    <tr>\n      <th rowspan=\"5\" valign=\"top\">D</th>\n      <th>D1</th>\n      <td>15261.294331</td>\n    </tr>\n    <tr>\n      <th>D2</th>\n      <td>15367.177165</td>\n    </tr>\n    <tr>\n      <th>D3</th>\n      <td>15657.099323</td>\n    </tr>\n    <tr>\n      <th>D4</th>\n      <td>16079.259715</td>\n    </tr>\n    <tr>\n      <th>D5</th>\n      <td>16595.571726</td>\n    </tr>\n    <tr>\n      <th rowspan=\"5\" valign=\"top\">E</th>\n      <th>E1</th>\n      <td>16687.689873</td>\n    </tr>\n    <tr>\n      <th>E2</th>\n      <td>17100.929329</td>\n    </tr>\n    <tr>\n      <th>E3</th>\n      <td>17482.509259</td>\n    </tr>\n    <tr>\n      <th>E4</th>\n      <td>18149.972388</td>\n    </tr>\n    <tr>\n      <th>E5</th>\n      <td>18275.980992</td>\n    </tr>\n    <tr>\n      <th rowspan=\"5\" valign=\"top\">F</th>\n      <th>F1</th>\n      <td>18943.761519</td>\n    </tr>\n    <tr>\n      <th>F2</th>\n      <td>19056.273358</td>\n    </tr>\n    <tr>\n      <th>F3</th>\n      <td>19060.618369</td>\n    </tr>\n    <tr>\n      <th>F4</th>\n      <td>19001.131127</td>\n    </tr>\n    <tr>\n      <th>F5</th>\n      <td>20204.854722</td>\n    </tr>\n    <tr>\n      <th rowspan=\"5\" valign=\"top\">G</th>\n      <th>G1</th>\n      <td>20744.816707</td>\n    </tr>\n    <tr>\n      <th>G2</th>\n      <td>19913.107477</td>\n    </tr>\n    <tr>\n      <th>G3</th>\n      <td>21045.675355</td>\n    </tr>\n    <tr>\n      <th>G4</th>\n      <td>20884.876990</td>\n    </tr>\n    <tr>\n      <th>G5</th>\n      <td>20628.493789</td>\n    </tr>\n  </tbody>\n</table>\n</div>"
     },
     "execution_count": 7,
     "metadata": {},
     "output_type": "execute_result"
    }
   ],
   "source": [
    "train.groupby(by=['grade','sub_grade'])[['loan_amnt']].mean()"
   ],
   "metadata": {
    "collapsed": false,
    "pycharm": {
     "name": "#%%\n"
    }
   }
  },
  {
   "cell_type": "code",
   "execution_count": 8,
   "outputs": [
    {
     "name": "stdout",
     "output_type": "stream",
     "text": [
      "(dtype('int64'),         loan_amnt  funded_amnt  revol_bal  policy_code\n",
      "id                                                    \n",
      "0           32000        32000       5055            1\n",
      "1           11500        11500      11134            1\n",
      "2           10000        10000       5802            1\n",
      "3           28000        28000      37040            1\n",
      "4           28000        28000      21817            1\n",
      "...           ...          ...        ...          ...\n",
      "904262      30000        30000      31817            1\n",
      "904263      15000        15000       8055            1\n",
      "904264       8725         8725       7399            1\n",
      "904265      15000        15000      52238            1\n",
      "904266      15000        15000      16390            1\n",
      "\n",
      "[904267 rows x 4 columns])\n",
      "(dtype('float64'),         funded_amnt_inv  int_rate  installment  annual_inc  url    dti  \\\n",
      "id                                                                       \n",
      "0               32000.0     10.90      1046.13     54000.0  NaN  14.80   \n",
      "1               11500.0     15.80       403.18     48000.0  NaN  10.48   \n",
      "2               10000.0      6.49       306.45     37000.0  NaN   7.64   \n",
      "3               28000.0      7.69       873.42    110000.0  NaN  10.05   \n",
      "4               28000.0     17.97       710.56    125000.0  NaN  18.19   \n",
      "...                 ...       ...          ...         ...  ...    ...   \n",
      "904262          30000.0     16.55       738.34     67000.0  NaN  24.22   \n",
      "904263          15000.0     12.12       499.08     55806.0  NaN  15.37   \n",
      "904264           8725.0     17.27       312.25     18314.0  NaN  11.99   \n",
      "904265          15000.0     17.09       535.47     60000.0  NaN  51.04   \n",
      "904266          15000.0     17.09       373.52     65250.0  NaN  19.55   \n",
      "\n",
      "        delinq_2yrs  inq_last_6mths  mths_since_last_delinq  \\\n",
      "id                                                            \n",
      "0               0.0             0.0                     NaN   \n",
      "1               0.0             0.0                    44.0   \n",
      "2               0.0             1.0                     NaN   \n",
      "3               0.0             0.0                     NaN   \n",
      "4               1.0             0.0                    14.0   \n",
      "...             ...             ...                     ...   \n",
      "904262          0.0             0.0                    44.0   \n",
      "904263          0.0             0.0                     NaN   \n",
      "904264          1.0             2.0                    22.0   \n",
      "904265          0.0             0.0                     NaN   \n",
      "904266          0.0             2.0                     NaN   \n",
      "\n",
      "        mths_since_last_record  ...  deferral_term  hardship_amount  \\\n",
      "id                              ...                                   \n",
      "0                          NaN  ...            NaN              NaN   \n",
      "1                          NaN  ...            NaN              NaN   \n",
      "2                          NaN  ...            NaN              NaN   \n",
      "3                          NaN  ...            NaN              NaN   \n",
      "4                         79.0  ...            NaN              NaN   \n",
      "...                        ...  ...            ...              ...   \n",
      "904262                     NaN  ...            NaN              NaN   \n",
      "904263                    84.0  ...            NaN              NaN   \n",
      "904264                     NaN  ...            NaN              NaN   \n",
      "904265                     NaN  ...            NaN              NaN   \n",
      "904266                    54.0  ...            NaN              NaN   \n",
      "\n",
      "        hardship_length  hardship_dpd  \\\n",
      "id                                      \n",
      "0                   NaN           NaN   \n",
      "1                   NaN           NaN   \n",
      "2                   NaN           NaN   \n",
      "3                   NaN           NaN   \n",
      "4                   NaN           NaN   \n",
      "...                 ...           ...   \n",
      "904262              NaN           NaN   \n",
      "904263              NaN           NaN   \n",
      "904264              NaN           NaN   \n",
      "904265              NaN           NaN   \n",
      "904266              NaN           NaN   \n",
      "\n",
      "        orig_projected_additional_accrued_interest  \\\n",
      "id                                                   \n",
      "0                                              NaN   \n",
      "1                                              NaN   \n",
      "2                                              NaN   \n",
      "3                                              NaN   \n",
      "4                                              NaN   \n",
      "...                                            ...   \n",
      "904262                                         NaN   \n",
      "904263                                         NaN   \n",
      "904264                                         NaN   \n",
      "904265                                         NaN   \n",
      "904266                                         NaN   \n",
      "\n",
      "        hardship_payoff_balance_amount  hardship_last_payment_amount  \\\n",
      "id                                                                     \n",
      "0                                  NaN                           NaN   \n",
      "1                                  NaN                           NaN   \n",
      "2                                  NaN                           NaN   \n",
      "3                                  NaN                           NaN   \n",
      "4                                  NaN                           NaN   \n",
      "...                                ...                           ...   \n",
      "904262                             NaN                           NaN   \n",
      "904263                             NaN                           NaN   \n",
      "904264                             NaN                           NaN   \n",
      "904265                             NaN                           NaN   \n",
      "904266                             NaN                           NaN   \n",
      "\n",
      "        settlement_amount  settlement_percentage  settlement_term  \n",
      "id                                                                 \n",
      "0                     NaN                    NaN              NaN  \n",
      "1                     NaN                    NaN              NaN  \n",
      "2                     NaN                    NaN              NaN  \n",
      "3                     NaN                    NaN              NaN  \n",
      "4                     NaN                    NaN              NaN  \n",
      "...                   ...                    ...              ...  \n",
      "904262                NaN                    NaN              NaN  \n",
      "904263                NaN                    NaN              NaN  \n",
      "904264                NaN                    NaN              NaN  \n",
      "904265                NaN                    NaN              NaN  \n",
      "904266                NaN                    NaN              NaN  \n",
      "\n",
      "[904267 rows x 103 columns])\n",
      "(dtype('O'),              terms grade sub_grade                       emp_title emp_length  \\\n",
      "id                                                                              \n",
      "0        36 months     B        B4           plasma\\brake operator    2 years   \n",
      "1        36 months     C        C3                        CableOne    6 years   \n",
      "2        36 months     A        A2                             NaN        NaN   \n",
      "3        36 months     A        A4        Human Resources Director    3 years   \n",
      "4        60 months     D        D1                     sales agent    2 years   \n",
      "...            ...   ...       ...                             ...        ...   \n",
      "904262   60 months     D        D2                         Teacher  10+ years   \n",
      "904263   36 months     B        B3              WDAC Radio Compnay  10+ years   \n",
      "904264   36 months     D        D1  Clovis Unified School District    7 years   \n",
      "904265   36 months     D        D1                        Educator    2 years   \n",
      "904266   60 months     D        D1                        officer   10+ years   \n",
      "\n",
      "       home_ownership verification_status   issue_d  loan_status pymnt_plan  \\\n",
      "id                                                                            \n",
      "0            MORTGAGE        Not Verified  Mar-2018      Current          n   \n",
      "1            MORTGAGE        Not Verified  Jun-2013   Fully Paid          n   \n",
      "2                 OWN        Not Verified  Mar-2016  Charged Off          n   \n",
      "3                RENT     Source Verified  Oct-2014   Fully Paid          n   \n",
      "4                RENT        Not Verified  Aug-2018      Current          n   \n",
      "...               ...                 ...       ...          ...        ...   \n",
      "904262       MORTGAGE            Verified  Jul-2015   Fully Paid          n   \n",
      "904263       MORTGAGE            Verified  Jun-2013   Fully Paid          n   \n",
      "904264            OWN     Source Verified  Apr-2012   Fully Paid          n   \n",
      "904265       MORTGAGE     Source Verified  Oct-2017      Current          n   \n",
      "904266       MORTGAGE     Source Verified  Sep-2017      Current          n   \n",
      "\n",
      "        ... hardship_status hardship_start_date hardship_end_date  \\\n",
      "id      ...                                                         \n",
      "0       ...             NaN                 NaN               NaN   \n",
      "1       ...             NaN                 NaN               NaN   \n",
      "2       ...             NaN                 NaN               NaN   \n",
      "3       ...             NaN                 NaN               NaN   \n",
      "4       ...             NaN                 NaN               NaN   \n",
      "...     ...             ...                 ...               ...   \n",
      "904262  ...             NaN                 NaN               NaN   \n",
      "904263  ...             NaN                 NaN               NaN   \n",
      "904264  ...             NaN                 NaN               NaN   \n",
      "904265  ...             NaN                 NaN               NaN   \n",
      "904266  ...             NaN                 NaN               NaN   \n",
      "\n",
      "       payment_plan_start_date hardship_loan_status disbursement_method  \\\n",
      "id                                                                        \n",
      "0                          NaN                  NaN                Cash   \n",
      "1                          NaN                  NaN                Cash   \n",
      "2                          NaN                  NaN                Cash   \n",
      "3                          NaN                  NaN                Cash   \n",
      "4                          NaN                  NaN                Cash   \n",
      "...                        ...                  ...                 ...   \n",
      "904262                     NaN                  NaN                Cash   \n",
      "904263                     NaN                  NaN                Cash   \n",
      "904264                     NaN                  NaN                Cash   \n",
      "904265                     NaN                  NaN                Cash   \n",
      "904266                     NaN                  NaN                Cash   \n",
      "\n",
      "       debt_settlement_flag debt_settlement_flag_date settlement_status  \\\n",
      "id                                                                        \n",
      "0                         N                       NaN               NaN   \n",
      "1                         N                       NaN               NaN   \n",
      "2                         N                       NaN               NaN   \n",
      "3                         N                       NaN               NaN   \n",
      "4                         N                       NaN               NaN   \n",
      "...                     ...                       ...               ...   \n",
      "904262                    N                       NaN               NaN   \n",
      "904263                    N                       NaN               NaN   \n",
      "904264                    N                       NaN               NaN   \n",
      "904265                    N                       NaN               NaN   \n",
      "904266                    N                       NaN               NaN   \n",
      "\n",
      "       settlement_date  \n",
      "id                      \n",
      "0                  NaN  \n",
      "1                  NaN  \n",
      "2                  NaN  \n",
      "3                  NaN  \n",
      "4                  NaN  \n",
      "...                ...  \n",
      "904262             NaN  \n",
      "904263             NaN  \n",
      "904264             NaN  \n",
      "904265             NaN  \n",
      "904266             NaN  \n",
      "\n",
      "[904267 rows x 36 columns])\n"
     ]
    }
   ],
   "source": [
    "for i in train.groupby(by=train.dtypes,axis=1):\n",
    "    print(i)"
   ],
   "metadata": {
    "collapsed": false,
    "pycharm": {
     "name": "#%%\n"
    }
   }
  },
  {
   "cell_type": "markdown",
   "source": [
    "### missing values\n",
    "can treat missing values two ways, either drop or impute"
   ],
   "metadata": {
    "collapsed": false,
    "pycharm": {
     "name": "#%% md\n"
    }
   }
  },
  {
   "cell_type": "code",
   "execution_count": 12,
   "outputs": [
    {
     "data": {
      "text/plain": "                                                 0\nloan_amnt                                        0\nfunded_amnt                                      0\nfunded_amnt_inv                                  0\nterms                                            0\nint_rate                                         0\ninstallment                                      0\ngrade                                            0\nsub_grade                                        0\nemp_title                                    66777\nemp_length                                   58899\nhome_ownership                                   0\nannual_inc                                       4\nverification_status                              0\nissue_d                                          0\nloan_status                                      0\npymnt_plan                                       0\nurl                                         904267\ndesc                                        854186\npurpose                                          0\ntitle                                         9299\nzip_code                                         0\naddr_state                                       0\ndti                                            742\ndelinq_2yrs                                     14\nearliest_cr_line                                14\ninq_last_6mths                                  14\nmths_since_last_delinq                      462950\nmths_since_last_record                      760034\nopen_acc                                        14\npub_rec                                         14\nrevol_bal                                        0\nrevol_util                                     731\ntotal_acc                                       14\ninitial_list_status                              0\nout_prncp                                        0\nout_prncp_inv                                    0\ntotal_pymnt                                      0\ntotal_pymnt_inv                                  0\ntotal_rec_prncp                                  0\ntotal_rec_int                                    0\ntotal_rec_late_fee                               0\nrecoveries                                       0\ncollection_recovery_fee                          0\nlast_pymnt_d                                   994\nlast_pymnt_amnt                                  0\nnext_pymnt_d                                522309\nlast_credit_pull_d                              26\ncollections_12_mths_ex_med                      63\nmths_since_last_major_derog                 672001\npolicy_code                                      0\napplication_type                                 0\nannual_inc_joint                            855912\ndti_joint                                   855913\nverification_status_joint                   857847\nacc_now_delinq                                  14\ntot_coll_amt                                 28071\ntot_cur_bal                                  28071\nopen_acc_6m                                 347049\nopen_act_il                                 347049\nopen_il_12m                                 347049\nopen_il_24m                                 347049\nmths_since_rcnt_il                          364325\ntotal_bal_il                                347049\nil_util                                     428269\nopen_rv_12m                                 347049\nopen_rv_24m                                 347049\nmax_bal_bc                                  347049\nall_util                                    347146\ntotal_rev_hi_lim                             28071\ninq_fi                                      347049\ntotal_cu_tl                                 347049\ninq_last_12m                                347049\nacc_open_past_24mths                         19975\navg_cur_bal                                  28102\nbc_open_to_buy                               29888\nbc_util                                      30314\nchargeoff_within_12_mths                        63\ndelinq_amnt                                     14\nmo_sin_old_il_acct                           55275\nmo_sin_old_rev_tl_op                         28072\nmo_sin_rcnt_rev_tl_op                        28072\nmo_sin_rcnt_tl                               28071\nmort_acc                                     19975\nmths_since_recent_bc                         29245\nmths_since_recent_bc_dlq                    696473\nmths_since_recent_inq                       118008\nmths_since_recent_revol_delinq              608172\nnum_accts_ever_120_pd                        28071\nnum_actv_bc_tl                               28071\nnum_actv_rev_tl                              28071\nnum_bc_sats                                  23395\nnum_bc_tl                                    28071\nnum_il_tl                                    28071\nnum_op_rev_tl                                28071\nnum_rev_accts                                28072\nnum_rev_tl_bal_gt_0                          28071\nnum_sats                                     23395\nnum_tl_120dpd_2m                             61001\nnum_tl_30dpd                                 28071\nnum_tl_90g_dpd_24m                           28071\nnum_tl_op_past_12m                           28071\npct_tl_nvr_dlq                               28128\npercent_bc_gt_75                             30078\npub_rec_bankruptcies                           535\ntax_liens                                       47\ntot_hi_cred_lim                              28071\ntotal_bal_ex_mort                            19975\ntotal_bc_limit                               19975\ntotal_il_high_credit_limit                   28071\nrevol_bal_joint                             861082\nsec_app_earliest_cr_line                    861081\nsec_app_inq_last_6mths                      861081\nsec_app_mort_acc                            861081\nsec_app_open_acc                            861081\nsec_app_revol_util                          861813\nsec_app_open_act_il                         861081\nsec_app_num_rev_accts                       861081\nsec_app_chargeoff_within_12_mths            861081\nsec_app_collections_12_mths_ex_med          861081\nsec_app_mths_since_last_major_derog         890026\nhardship_flag                                    0\nhardship_type                               900051\nhardship_reason                             900051\nhardship_status                             900051\ndeferral_term                               900051\nhardship_amount                             900051\nhardship_start_date                         900051\nhardship_end_date                           900051\npayment_plan_start_date                     900051\nhardship_length                             900051\nhardship_dpd                                900051\nhardship_loan_status                        900051\norig_projected_additional_accrued_interest  900923\nhardship_payoff_balance_amount              900051\nhardship_last_payment_amount                900051\ndisbursement_method                              0\ndebt_settlement_flag                             0\ndebt_settlement_flag_date                   890960\nsettlement_status                           890960\nsettlement_date                             890960\nsettlement_amount                           890960\nsettlement_percentage                       890960\nsettlement_term                             890960",
      "text/html": "<div>\n<style scoped>\n    .dataframe tbody tr th:only-of-type {\n        vertical-align: middle;\n    }\n\n    .dataframe tbody tr th {\n        vertical-align: top;\n    }\n\n    .dataframe thead th {\n        text-align: right;\n    }\n</style>\n<table border=\"1\" class=\"dataframe\">\n  <thead>\n    <tr style=\"text-align: right;\">\n      <th></th>\n      <th>0</th>\n    </tr>\n  </thead>\n  <tbody>\n    <tr>\n      <th>loan_amnt</th>\n      <td>0</td>\n    </tr>\n    <tr>\n      <th>funded_amnt</th>\n      <td>0</td>\n    </tr>\n    <tr>\n      <th>funded_amnt_inv</th>\n      <td>0</td>\n    </tr>\n    <tr>\n      <th>terms</th>\n      <td>0</td>\n    </tr>\n    <tr>\n      <th>int_rate</th>\n      <td>0</td>\n    </tr>\n    <tr>\n      <th>installment</th>\n      <td>0</td>\n    </tr>\n    <tr>\n      <th>grade</th>\n      <td>0</td>\n    </tr>\n    <tr>\n      <th>sub_grade</th>\n      <td>0</td>\n    </tr>\n    <tr>\n      <th>emp_title</th>\n      <td>66777</td>\n    </tr>\n    <tr>\n      <th>emp_length</th>\n      <td>58899</td>\n    </tr>\n    <tr>\n      <th>home_ownership</th>\n      <td>0</td>\n    </tr>\n    <tr>\n      <th>annual_inc</th>\n      <td>4</td>\n    </tr>\n    <tr>\n      <th>verification_status</th>\n      <td>0</td>\n    </tr>\n    <tr>\n      <th>issue_d</th>\n      <td>0</td>\n    </tr>\n    <tr>\n      <th>loan_status</th>\n      <td>0</td>\n    </tr>\n    <tr>\n      <th>pymnt_plan</th>\n      <td>0</td>\n    </tr>\n    <tr>\n      <th>url</th>\n      <td>904267</td>\n    </tr>\n    <tr>\n      <th>desc</th>\n      <td>854186</td>\n    </tr>\n    <tr>\n      <th>purpose</th>\n      <td>0</td>\n    </tr>\n    <tr>\n      <th>title</th>\n      <td>9299</td>\n    </tr>\n    <tr>\n      <th>zip_code</th>\n      <td>0</td>\n    </tr>\n    <tr>\n      <th>addr_state</th>\n      <td>0</td>\n    </tr>\n    <tr>\n      <th>dti</th>\n      <td>742</td>\n    </tr>\n    <tr>\n      <th>delinq_2yrs</th>\n      <td>14</td>\n    </tr>\n    <tr>\n      <th>earliest_cr_line</th>\n      <td>14</td>\n    </tr>\n    <tr>\n      <th>inq_last_6mths</th>\n      <td>14</td>\n    </tr>\n    <tr>\n      <th>mths_since_last_delinq</th>\n      <td>462950</td>\n    </tr>\n    <tr>\n      <th>mths_since_last_record</th>\n      <td>760034</td>\n    </tr>\n    <tr>\n      <th>open_acc</th>\n      <td>14</td>\n    </tr>\n    <tr>\n      <th>pub_rec</th>\n      <td>14</td>\n    </tr>\n    <tr>\n      <th>revol_bal</th>\n      <td>0</td>\n    </tr>\n    <tr>\n      <th>revol_util</th>\n      <td>731</td>\n    </tr>\n    <tr>\n      <th>total_acc</th>\n      <td>14</td>\n    </tr>\n    <tr>\n      <th>initial_list_status</th>\n      <td>0</td>\n    </tr>\n    <tr>\n      <th>out_prncp</th>\n      <td>0</td>\n    </tr>\n    <tr>\n      <th>out_prncp_inv</th>\n      <td>0</td>\n    </tr>\n    <tr>\n      <th>total_pymnt</th>\n      <td>0</td>\n    </tr>\n    <tr>\n      <th>total_pymnt_inv</th>\n      <td>0</td>\n    </tr>\n    <tr>\n      <th>total_rec_prncp</th>\n      <td>0</td>\n    </tr>\n    <tr>\n      <th>total_rec_int</th>\n      <td>0</td>\n    </tr>\n    <tr>\n      <th>total_rec_late_fee</th>\n      <td>0</td>\n    </tr>\n    <tr>\n      <th>recoveries</th>\n      <td>0</td>\n    </tr>\n    <tr>\n      <th>collection_recovery_fee</th>\n      <td>0</td>\n    </tr>\n    <tr>\n      <th>last_pymnt_d</th>\n      <td>994</td>\n    </tr>\n    <tr>\n      <th>last_pymnt_amnt</th>\n      <td>0</td>\n    </tr>\n    <tr>\n      <th>next_pymnt_d</th>\n      <td>522309</td>\n    </tr>\n    <tr>\n      <th>last_credit_pull_d</th>\n      <td>26</td>\n    </tr>\n    <tr>\n      <th>collections_12_mths_ex_med</th>\n      <td>63</td>\n    </tr>\n    <tr>\n      <th>mths_since_last_major_derog</th>\n      <td>672001</td>\n    </tr>\n    <tr>\n      <th>policy_code</th>\n      <td>0</td>\n    </tr>\n    <tr>\n      <th>application_type</th>\n      <td>0</td>\n    </tr>\n    <tr>\n      <th>annual_inc_joint</th>\n      <td>855912</td>\n    </tr>\n    <tr>\n      <th>dti_joint</th>\n      <td>855913</td>\n    </tr>\n    <tr>\n      <th>verification_status_joint</th>\n      <td>857847</td>\n    </tr>\n    <tr>\n      <th>acc_now_delinq</th>\n      <td>14</td>\n    </tr>\n    <tr>\n      <th>tot_coll_amt</th>\n      <td>28071</td>\n    </tr>\n    <tr>\n      <th>tot_cur_bal</th>\n      <td>28071</td>\n    </tr>\n    <tr>\n      <th>open_acc_6m</th>\n      <td>347049</td>\n    </tr>\n    <tr>\n      <th>open_act_il</th>\n      <td>347049</td>\n    </tr>\n    <tr>\n      <th>open_il_12m</th>\n      <td>347049</td>\n    </tr>\n    <tr>\n      <th>open_il_24m</th>\n      <td>347049</td>\n    </tr>\n    <tr>\n      <th>mths_since_rcnt_il</th>\n      <td>364325</td>\n    </tr>\n    <tr>\n      <th>total_bal_il</th>\n      <td>347049</td>\n    </tr>\n    <tr>\n      <th>il_util</th>\n      <td>428269</td>\n    </tr>\n    <tr>\n      <th>open_rv_12m</th>\n      <td>347049</td>\n    </tr>\n    <tr>\n      <th>open_rv_24m</th>\n      <td>347049</td>\n    </tr>\n    <tr>\n      <th>max_bal_bc</th>\n      <td>347049</td>\n    </tr>\n    <tr>\n      <th>all_util</th>\n      <td>347146</td>\n    </tr>\n    <tr>\n      <th>total_rev_hi_lim</th>\n      <td>28071</td>\n    </tr>\n    <tr>\n      <th>inq_fi</th>\n      <td>347049</td>\n    </tr>\n    <tr>\n      <th>total_cu_tl</th>\n      <td>347049</td>\n    </tr>\n    <tr>\n      <th>inq_last_12m</th>\n      <td>347049</td>\n    </tr>\n    <tr>\n      <th>acc_open_past_24mths</th>\n      <td>19975</td>\n    </tr>\n    <tr>\n      <th>avg_cur_bal</th>\n      <td>28102</td>\n    </tr>\n    <tr>\n      <th>bc_open_to_buy</th>\n      <td>29888</td>\n    </tr>\n    <tr>\n      <th>bc_util</th>\n      <td>30314</td>\n    </tr>\n    <tr>\n      <th>chargeoff_within_12_mths</th>\n      <td>63</td>\n    </tr>\n    <tr>\n      <th>delinq_amnt</th>\n      <td>14</td>\n    </tr>\n    <tr>\n      <th>mo_sin_old_il_acct</th>\n      <td>55275</td>\n    </tr>\n    <tr>\n      <th>mo_sin_old_rev_tl_op</th>\n      <td>28072</td>\n    </tr>\n    <tr>\n      <th>mo_sin_rcnt_rev_tl_op</th>\n      <td>28072</td>\n    </tr>\n    <tr>\n      <th>mo_sin_rcnt_tl</th>\n      <td>28071</td>\n    </tr>\n    <tr>\n      <th>mort_acc</th>\n      <td>19975</td>\n    </tr>\n    <tr>\n      <th>mths_since_recent_bc</th>\n      <td>29245</td>\n    </tr>\n    <tr>\n      <th>mths_since_recent_bc_dlq</th>\n      <td>696473</td>\n    </tr>\n    <tr>\n      <th>mths_since_recent_inq</th>\n      <td>118008</td>\n    </tr>\n    <tr>\n      <th>mths_since_recent_revol_delinq</th>\n      <td>608172</td>\n    </tr>\n    <tr>\n      <th>num_accts_ever_120_pd</th>\n      <td>28071</td>\n    </tr>\n    <tr>\n      <th>num_actv_bc_tl</th>\n      <td>28071</td>\n    </tr>\n    <tr>\n      <th>num_actv_rev_tl</th>\n      <td>28071</td>\n    </tr>\n    <tr>\n      <th>num_bc_sats</th>\n      <td>23395</td>\n    </tr>\n    <tr>\n      <th>num_bc_tl</th>\n      <td>28071</td>\n    </tr>\n    <tr>\n      <th>num_il_tl</th>\n      <td>28071</td>\n    </tr>\n    <tr>\n      <th>num_op_rev_tl</th>\n      <td>28071</td>\n    </tr>\n    <tr>\n      <th>num_rev_accts</th>\n      <td>28072</td>\n    </tr>\n    <tr>\n      <th>num_rev_tl_bal_gt_0</th>\n      <td>28071</td>\n    </tr>\n    <tr>\n      <th>num_sats</th>\n      <td>23395</td>\n    </tr>\n    <tr>\n      <th>num_tl_120dpd_2m</th>\n      <td>61001</td>\n    </tr>\n    <tr>\n      <th>num_tl_30dpd</th>\n      <td>28071</td>\n    </tr>\n    <tr>\n      <th>num_tl_90g_dpd_24m</th>\n      <td>28071</td>\n    </tr>\n    <tr>\n      <th>num_tl_op_past_12m</th>\n      <td>28071</td>\n    </tr>\n    <tr>\n      <th>pct_tl_nvr_dlq</th>\n      <td>28128</td>\n    </tr>\n    <tr>\n      <th>percent_bc_gt_75</th>\n      <td>30078</td>\n    </tr>\n    <tr>\n      <th>pub_rec_bankruptcies</th>\n      <td>535</td>\n    </tr>\n    <tr>\n      <th>tax_liens</th>\n      <td>47</td>\n    </tr>\n    <tr>\n      <th>tot_hi_cred_lim</th>\n      <td>28071</td>\n    </tr>\n    <tr>\n      <th>total_bal_ex_mort</th>\n      <td>19975</td>\n    </tr>\n    <tr>\n      <th>total_bc_limit</th>\n      <td>19975</td>\n    </tr>\n    <tr>\n      <th>total_il_high_credit_limit</th>\n      <td>28071</td>\n    </tr>\n    <tr>\n      <th>revol_bal_joint</th>\n      <td>861082</td>\n    </tr>\n    <tr>\n      <th>sec_app_earliest_cr_line</th>\n      <td>861081</td>\n    </tr>\n    <tr>\n      <th>sec_app_inq_last_6mths</th>\n      <td>861081</td>\n    </tr>\n    <tr>\n      <th>sec_app_mort_acc</th>\n      <td>861081</td>\n    </tr>\n    <tr>\n      <th>sec_app_open_acc</th>\n      <td>861081</td>\n    </tr>\n    <tr>\n      <th>sec_app_revol_util</th>\n      <td>861813</td>\n    </tr>\n    <tr>\n      <th>sec_app_open_act_il</th>\n      <td>861081</td>\n    </tr>\n    <tr>\n      <th>sec_app_num_rev_accts</th>\n      <td>861081</td>\n    </tr>\n    <tr>\n      <th>sec_app_chargeoff_within_12_mths</th>\n      <td>861081</td>\n    </tr>\n    <tr>\n      <th>sec_app_collections_12_mths_ex_med</th>\n      <td>861081</td>\n    </tr>\n    <tr>\n      <th>sec_app_mths_since_last_major_derog</th>\n      <td>890026</td>\n    </tr>\n    <tr>\n      <th>hardship_flag</th>\n      <td>0</td>\n    </tr>\n    <tr>\n      <th>hardship_type</th>\n      <td>900051</td>\n    </tr>\n    <tr>\n      <th>hardship_reason</th>\n      <td>900051</td>\n    </tr>\n    <tr>\n      <th>hardship_status</th>\n      <td>900051</td>\n    </tr>\n    <tr>\n      <th>deferral_term</th>\n      <td>900051</td>\n    </tr>\n    <tr>\n      <th>hardship_amount</th>\n      <td>900051</td>\n    </tr>\n    <tr>\n      <th>hardship_start_date</th>\n      <td>900051</td>\n    </tr>\n    <tr>\n      <th>hardship_end_date</th>\n      <td>900051</td>\n    </tr>\n    <tr>\n      <th>payment_plan_start_date</th>\n      <td>900051</td>\n    </tr>\n    <tr>\n      <th>hardship_length</th>\n      <td>900051</td>\n    </tr>\n    <tr>\n      <th>hardship_dpd</th>\n      <td>900051</td>\n    </tr>\n    <tr>\n      <th>hardship_loan_status</th>\n      <td>900051</td>\n    </tr>\n    <tr>\n      <th>orig_projected_additional_accrued_interest</th>\n      <td>900923</td>\n    </tr>\n    <tr>\n      <th>hardship_payoff_balance_amount</th>\n      <td>900051</td>\n    </tr>\n    <tr>\n      <th>hardship_last_payment_amount</th>\n      <td>900051</td>\n    </tr>\n    <tr>\n      <th>disbursement_method</th>\n      <td>0</td>\n    </tr>\n    <tr>\n      <th>debt_settlement_flag</th>\n      <td>0</td>\n    </tr>\n    <tr>\n      <th>debt_settlement_flag_date</th>\n      <td>890960</td>\n    </tr>\n    <tr>\n      <th>settlement_status</th>\n      <td>890960</td>\n    </tr>\n    <tr>\n      <th>settlement_date</th>\n      <td>890960</td>\n    </tr>\n    <tr>\n      <th>settlement_amount</th>\n      <td>890960</td>\n    </tr>\n    <tr>\n      <th>settlement_percentage</th>\n      <td>890960</td>\n    </tr>\n    <tr>\n      <th>settlement_term</th>\n      <td>890960</td>\n    </tr>\n  </tbody>\n</table>\n</div>"
     },
     "execution_count": 12,
     "metadata": {},
     "output_type": "execute_result"
    }
   ],
   "source": [
    "# missing values by column\n",
    "pd.options.display.max_rows = 143\n",
    "na_col = pd.DataFrame(train.isna().sum())\n",
    "na_col"
   ],
   "metadata": {
    "collapsed": false,
    "pycharm": {
     "name": "#%%\n"
    }
   }
  },
  {
   "cell_type": "code",
   "execution_count": 15,
   "outputs": [
    {
     "data": {
      "text/plain": "         0\nid        \n0       41\n1       53\n2       47\n3       57\n4       39\n...     ..\n904262  53\n904263  55\n904264  79\n904265  28\n904266  40\n\n[904267 rows x 1 columns]",
      "text/html": "<div>\n<style scoped>\n    .dataframe tbody tr th:only-of-type {\n        vertical-align: middle;\n    }\n\n    .dataframe tbody tr th {\n        vertical-align: top;\n    }\n\n    .dataframe thead th {\n        text-align: right;\n    }\n</style>\n<table border=\"1\" class=\"dataframe\">\n  <thead>\n    <tr style=\"text-align: right;\">\n      <th></th>\n      <th>0</th>\n    </tr>\n    <tr>\n      <th>id</th>\n      <th></th>\n    </tr>\n  </thead>\n  <tbody>\n    <tr>\n      <th>0</th>\n      <td>41</td>\n    </tr>\n    <tr>\n      <th>1</th>\n      <td>53</td>\n    </tr>\n    <tr>\n      <th>2</th>\n      <td>47</td>\n    </tr>\n    <tr>\n      <th>3</th>\n      <td>57</td>\n    </tr>\n    <tr>\n      <th>4</th>\n      <td>39</td>\n    </tr>\n    <tr>\n      <th>...</th>\n      <td>...</td>\n    </tr>\n    <tr>\n      <th>904262</th>\n      <td>53</td>\n    </tr>\n    <tr>\n      <th>904263</th>\n      <td>55</td>\n    </tr>\n    <tr>\n      <th>904264</th>\n      <td>79</td>\n    </tr>\n    <tr>\n      <th>904265</th>\n      <td>28</td>\n    </tr>\n    <tr>\n      <th>904266</th>\n      <td>40</td>\n    </tr>\n  </tbody>\n</table>\n<p>904267 rows × 1 columns</p>\n</div>"
     },
     "execution_count": 15,
     "metadata": {},
     "output_type": "execute_result"
    }
   ],
   "source": [
    "na_row = pd.DataFrame(train.isna().sum(axis=1))\n",
    "na_row"
   ],
   "metadata": {
    "collapsed": false,
    "pycharm": {
     "name": "#%%\n"
    }
   }
  },
  {
   "cell_type": "code",
   "execution_count": null,
   "outputs": [],
   "source": [
    "# dropping missing values\n",
    "# standard is 25-30% missing values approved and can impute\n",
    "# so, more than 70% missing rows and columns can drop\n",
    "# columns drop\n"
   ],
   "metadata": {
    "collapsed": false,
    "pycharm": {
     "name": "#%%\n"
    }
   }
  }
 ],
 "metadata": {
  "kernelspec": {
   "display_name": "Python 3",
   "language": "python",
   "name": "python3"
  },
  "language_info": {
   "codemirror_mode": {
    "name": "ipython",
    "version": 2
   },
   "file_extension": ".py",
   "mimetype": "text/x-python",
   "name": "python",
   "nbconvert_exporter": "python",
   "pygments_lexer": "ipython2",
   "version": "2.7.6"
  }
 },
 "nbformat": 4,
 "nbformat_minor": 0
}