{
 "cells": [
  {
   "cell_type": "code",
   "execution_count": 1,
   "metadata": {
    "collapsed": true
   },
   "outputs": [],
   "source": [
    "import pandas as pd\n",
    "train = pd.read_csv('../data/p1_train.csv')"
   ]
  },
  {
   "cell_type": "code",
   "execution_count": 2,
   "outputs": [
    {
     "data": {
      "text/plain": "   id  member_id  loan_amnt  funded_amnt  funded_amnt_inv        term  \\\n0   0        NaN      32000        32000          32000.0   36 months   \n1   1        NaN      11500        11500          11500.0   36 months   \n2   2        NaN      10000        10000          10000.0   36 months   \n3   3        NaN      28000        28000          28000.0   36 months   \n4   4        NaN      28000        28000          28000.0   60 months   \n\n   int_rate  installment grade sub_grade  ... hardship_payoff_balance_amount  \\\n0     10.90      1046.13     B        B4  ...                            NaN   \n1     15.80       403.18     C        C3  ...                            NaN   \n2      6.49       306.45     A        A2  ...                            NaN   \n3      7.69       873.42     A        A4  ...                            NaN   \n4     17.97       710.56     D        D1  ...                            NaN   \n\n  hardship_last_payment_amount disbursement_method  debt_settlement_flag  \\\n0                          NaN                Cash                     N   \n1                          NaN                Cash                     N   \n2                          NaN                Cash                     N   \n3                          NaN                Cash                     N   \n4                          NaN                Cash                     N   \n\n  debt_settlement_flag_date settlement_status settlement_date  \\\n0                       NaN               NaN             NaN   \n1                       NaN               NaN             NaN   \n2                       NaN               NaN             NaN   \n3                       NaN               NaN             NaN   \n4                       NaN               NaN             NaN   \n\n  settlement_amount  settlement_percentage settlement_term  \n0               NaN                    NaN             NaN  \n1               NaN                    NaN             NaN  \n2               NaN                    NaN             NaN  \n3               NaN                    NaN             NaN  \n4               NaN                    NaN             NaN  \n\n[5 rows x 145 columns]",
      "text/html": "<div>\n<style scoped>\n    .dataframe tbody tr th:only-of-type {\n        vertical-align: middle;\n    }\n\n    .dataframe tbody tr th {\n        vertical-align: top;\n    }\n\n    .dataframe thead th {\n        text-align: right;\n    }\n</style>\n<table border=\"1\" class=\"dataframe\">\n  <thead>\n    <tr style=\"text-align: right;\">\n      <th></th>\n      <th>id</th>\n      <th>member_id</th>\n      <th>loan_amnt</th>\n      <th>funded_amnt</th>\n      <th>funded_amnt_inv</th>\n      <th>term</th>\n      <th>int_rate</th>\n      <th>installment</th>\n      <th>grade</th>\n      <th>sub_grade</th>\n      <th>...</th>\n      <th>hardship_payoff_balance_amount</th>\n      <th>hardship_last_payment_amount</th>\n      <th>disbursement_method</th>\n      <th>debt_settlement_flag</th>\n      <th>debt_settlement_flag_date</th>\n      <th>settlement_status</th>\n      <th>settlement_date</th>\n      <th>settlement_amount</th>\n      <th>settlement_percentage</th>\n      <th>settlement_term</th>\n    </tr>\n  </thead>\n  <tbody>\n    <tr>\n      <th>0</th>\n      <td>0</td>\n      <td>NaN</td>\n      <td>32000</td>\n      <td>32000</td>\n      <td>32000.0</td>\n      <td>36 months</td>\n      <td>10.90</td>\n      <td>1046.13</td>\n      <td>B</td>\n      <td>B4</td>\n      <td>...</td>\n      <td>NaN</td>\n      <td>NaN</td>\n      <td>Cash</td>\n      <td>N</td>\n      <td>NaN</td>\n      <td>NaN</td>\n      <td>NaN</td>\n      <td>NaN</td>\n      <td>NaN</td>\n      <td>NaN</td>\n    </tr>\n    <tr>\n      <th>1</th>\n      <td>1</td>\n      <td>NaN</td>\n      <td>11500</td>\n      <td>11500</td>\n      <td>11500.0</td>\n      <td>36 months</td>\n      <td>15.80</td>\n      <td>403.18</td>\n      <td>C</td>\n      <td>C3</td>\n      <td>...</td>\n      <td>NaN</td>\n      <td>NaN</td>\n      <td>Cash</td>\n      <td>N</td>\n      <td>NaN</td>\n      <td>NaN</td>\n      <td>NaN</td>\n      <td>NaN</td>\n      <td>NaN</td>\n      <td>NaN</td>\n    </tr>\n    <tr>\n      <th>2</th>\n      <td>2</td>\n      <td>NaN</td>\n      <td>10000</td>\n      <td>10000</td>\n      <td>10000.0</td>\n      <td>36 months</td>\n      <td>6.49</td>\n      <td>306.45</td>\n      <td>A</td>\n      <td>A2</td>\n      <td>...</td>\n      <td>NaN</td>\n      <td>NaN</td>\n      <td>Cash</td>\n      <td>N</td>\n      <td>NaN</td>\n      <td>NaN</td>\n      <td>NaN</td>\n      <td>NaN</td>\n      <td>NaN</td>\n      <td>NaN</td>\n    </tr>\n    <tr>\n      <th>3</th>\n      <td>3</td>\n      <td>NaN</td>\n      <td>28000</td>\n      <td>28000</td>\n      <td>28000.0</td>\n      <td>36 months</td>\n      <td>7.69</td>\n      <td>873.42</td>\n      <td>A</td>\n      <td>A4</td>\n      <td>...</td>\n      <td>NaN</td>\n      <td>NaN</td>\n      <td>Cash</td>\n      <td>N</td>\n      <td>NaN</td>\n      <td>NaN</td>\n      <td>NaN</td>\n      <td>NaN</td>\n      <td>NaN</td>\n      <td>NaN</td>\n    </tr>\n    <tr>\n      <th>4</th>\n      <td>4</td>\n      <td>NaN</td>\n      <td>28000</td>\n      <td>28000</td>\n      <td>28000.0</td>\n      <td>60 months</td>\n      <td>17.97</td>\n      <td>710.56</td>\n      <td>D</td>\n      <td>D1</td>\n      <td>...</td>\n      <td>NaN</td>\n      <td>NaN</td>\n      <td>Cash</td>\n      <td>N</td>\n      <td>NaN</td>\n      <td>NaN</td>\n      <td>NaN</td>\n      <td>NaN</td>\n      <td>NaN</td>\n      <td>NaN</td>\n    </tr>\n  </tbody>\n</table>\n<p>5 rows × 145 columns</p>\n</div>"
     },
     "execution_count": 2,
     "metadata": {},
     "output_type": "execute_result"
    }
   ],
   "source": [
    "train.head(5)"
   ],
   "metadata": {
    "collapsed": false,
    "pycharm": {
     "name": "#%%\n"
    }
   }
  },
  {
   "cell_type": "code",
   "execution_count": 3,
   "outputs": [
    {
     "data": {
      "text/plain": "            id  loan_amnt  funded_amnt  funded_amnt_inv        term  int_rate  \\\n0            0      32000        32000          32000.0   36 months     10.90   \n1            1      11500        11500          11500.0   36 months     15.80   \n2            2      10000        10000          10000.0   36 months      6.49   \n3            3      28000        28000          28000.0   36 months      7.69   \n4            4      28000        28000          28000.0   60 months     17.97   \n...        ...        ...          ...              ...         ...       ...   \n904262  904262      30000        30000          30000.0   60 months     16.55   \n904263  904263      15000        15000          15000.0   36 months     12.12   \n904264  904264       8725         8725           8725.0   36 months     17.27   \n904265  904265      15000        15000          15000.0   36 months     17.09   \n904266  904266      15000        15000          15000.0   60 months     17.09   \n\n        installment grade sub_grade                       emp_title  ...  \\\n0           1046.13     B        B4           plasma\\brake operator  ...   \n1            403.18     C        C3                        CableOne  ...   \n2            306.45     A        A2                             NaN  ...   \n3            873.42     A        A4        Human Resources Director  ...   \n4            710.56     D        D1                     sales agent  ...   \n...             ...   ...       ...                             ...  ...   \n904262       738.34     D        D2                         Teacher  ...   \n904263       499.08     B        B3              WDAC Radio Compnay  ...   \n904264       312.25     D        D1  Clovis Unified School District  ...   \n904265       535.47     D        D1                        Educator  ...   \n904266       373.52     D        D1                        officer   ...   \n\n       hardship_payoff_balance_amount hardship_last_payment_amount  \\\n0                                 NaN                          NaN   \n1                                 NaN                          NaN   \n2                                 NaN                          NaN   \n3                                 NaN                          NaN   \n4                                 NaN                          NaN   \n...                               ...                          ...   \n904262                            NaN                          NaN   \n904263                            NaN                          NaN   \n904264                            NaN                          NaN   \n904265                            NaN                          NaN   \n904266                            NaN                          NaN   \n\n        disbursement_method debt_settlement_flag debt_settlement_flag_date  \\\n0                      Cash                    N                       NaN   \n1                      Cash                    N                       NaN   \n2                      Cash                    N                       NaN   \n3                      Cash                    N                       NaN   \n4                      Cash                    N                       NaN   \n...                     ...                  ...                       ...   \n904262                 Cash                    N                       NaN   \n904263                 Cash                    N                       NaN   \n904264                 Cash                    N                       NaN   \n904265                 Cash                    N                       NaN   \n904266                 Cash                    N                       NaN   \n\n       settlement_status settlement_date  settlement_amount  \\\n0                    NaN             NaN                NaN   \n1                    NaN             NaN                NaN   \n2                    NaN             NaN                NaN   \n3                    NaN             NaN                NaN   \n4                    NaN             NaN                NaN   \n...                  ...             ...                ...   \n904262               NaN             NaN                NaN   \n904263               NaN             NaN                NaN   \n904264               NaN             NaN                NaN   \n904265               NaN             NaN                NaN   \n904266               NaN             NaN                NaN   \n\n       settlement_percentage settlement_term  \n0                        NaN             NaN  \n1                        NaN             NaN  \n2                        NaN             NaN  \n3                        NaN             NaN  \n4                        NaN             NaN  \n...                      ...             ...  \n904262                   NaN             NaN  \n904263                   NaN             NaN  \n904264                   NaN             NaN  \n904265                   NaN             NaN  \n904266                   NaN             NaN  \n\n[904267 rows x 144 columns]",
      "text/html": "<div>\n<style scoped>\n    .dataframe tbody tr th:only-of-type {\n        vertical-align: middle;\n    }\n\n    .dataframe tbody tr th {\n        vertical-align: top;\n    }\n\n    .dataframe thead th {\n        text-align: right;\n    }\n</style>\n<table border=\"1\" class=\"dataframe\">\n  <thead>\n    <tr style=\"text-align: right;\">\n      <th></th>\n      <th>id</th>\n      <th>loan_amnt</th>\n      <th>funded_amnt</th>\n      <th>funded_amnt_inv</th>\n      <th>term</th>\n      <th>int_rate</th>\n      <th>installment</th>\n      <th>grade</th>\n      <th>sub_grade</th>\n      <th>emp_title</th>\n      <th>...</th>\n      <th>hardship_payoff_balance_amount</th>\n      <th>hardship_last_payment_amount</th>\n      <th>disbursement_method</th>\n      <th>debt_settlement_flag</th>\n      <th>debt_settlement_flag_date</th>\n      <th>settlement_status</th>\n      <th>settlement_date</th>\n      <th>settlement_amount</th>\n      <th>settlement_percentage</th>\n      <th>settlement_term</th>\n    </tr>\n  </thead>\n  <tbody>\n    <tr>\n      <th>0</th>\n      <td>0</td>\n      <td>32000</td>\n      <td>32000</td>\n      <td>32000.0</td>\n      <td>36 months</td>\n      <td>10.90</td>\n      <td>1046.13</td>\n      <td>B</td>\n      <td>B4</td>\n      <td>plasma\\brake operator</td>\n      <td>...</td>\n      <td>NaN</td>\n      <td>NaN</td>\n      <td>Cash</td>\n      <td>N</td>\n      <td>NaN</td>\n      <td>NaN</td>\n      <td>NaN</td>\n      <td>NaN</td>\n      <td>NaN</td>\n      <td>NaN</td>\n    </tr>\n    <tr>\n      <th>1</th>\n      <td>1</td>\n      <td>11500</td>\n      <td>11500</td>\n      <td>11500.0</td>\n      <td>36 months</td>\n      <td>15.80</td>\n      <td>403.18</td>\n      <td>C</td>\n      <td>C3</td>\n      <td>CableOne</td>\n      <td>...</td>\n      <td>NaN</td>\n      <td>NaN</td>\n      <td>Cash</td>\n      <td>N</td>\n      <td>NaN</td>\n      <td>NaN</td>\n      <td>NaN</td>\n      <td>NaN</td>\n      <td>NaN</td>\n      <td>NaN</td>\n    </tr>\n    <tr>\n      <th>2</th>\n      <td>2</td>\n      <td>10000</td>\n      <td>10000</td>\n      <td>10000.0</td>\n      <td>36 months</td>\n      <td>6.49</td>\n      <td>306.45</td>\n      <td>A</td>\n      <td>A2</td>\n      <td>NaN</td>\n      <td>...</td>\n      <td>NaN</td>\n      <td>NaN</td>\n      <td>Cash</td>\n      <td>N</td>\n      <td>NaN</td>\n      <td>NaN</td>\n      <td>NaN</td>\n      <td>NaN</td>\n      <td>NaN</td>\n      <td>NaN</td>\n    </tr>\n    <tr>\n      <th>3</th>\n      <td>3</td>\n      <td>28000</td>\n      <td>28000</td>\n      <td>28000.0</td>\n      <td>36 months</td>\n      <td>7.69</td>\n      <td>873.42</td>\n      <td>A</td>\n      <td>A4</td>\n      <td>Human Resources Director</td>\n      <td>...</td>\n      <td>NaN</td>\n      <td>NaN</td>\n      <td>Cash</td>\n      <td>N</td>\n      <td>NaN</td>\n      <td>NaN</td>\n      <td>NaN</td>\n      <td>NaN</td>\n      <td>NaN</td>\n      <td>NaN</td>\n    </tr>\n    <tr>\n      <th>4</th>\n      <td>4</td>\n      <td>28000</td>\n      <td>28000</td>\n      <td>28000.0</td>\n      <td>60 months</td>\n      <td>17.97</td>\n      <td>710.56</td>\n      <td>D</td>\n      <td>D1</td>\n      <td>sales agent</td>\n      <td>...</td>\n      <td>NaN</td>\n      <td>NaN</td>\n      <td>Cash</td>\n      <td>N</td>\n      <td>NaN</td>\n      <td>NaN</td>\n      <td>NaN</td>\n      <td>NaN</td>\n      <td>NaN</td>\n      <td>NaN</td>\n    </tr>\n    <tr>\n      <th>...</th>\n      <td>...</td>\n      <td>...</td>\n      <td>...</td>\n      <td>...</td>\n      <td>...</td>\n      <td>...</td>\n      <td>...</td>\n      <td>...</td>\n      <td>...</td>\n      <td>...</td>\n      <td>...</td>\n      <td>...</td>\n      <td>...</td>\n      <td>...</td>\n      <td>...</td>\n      <td>...</td>\n      <td>...</td>\n      <td>...</td>\n      <td>...</td>\n      <td>...</td>\n      <td>...</td>\n    </tr>\n    <tr>\n      <th>904262</th>\n      <td>904262</td>\n      <td>30000</td>\n      <td>30000</td>\n      <td>30000.0</td>\n      <td>60 months</td>\n      <td>16.55</td>\n      <td>738.34</td>\n      <td>D</td>\n      <td>D2</td>\n      <td>Teacher</td>\n      <td>...</td>\n      <td>NaN</td>\n      <td>NaN</td>\n      <td>Cash</td>\n      <td>N</td>\n      <td>NaN</td>\n      <td>NaN</td>\n      <td>NaN</td>\n      <td>NaN</td>\n      <td>NaN</td>\n      <td>NaN</td>\n    </tr>\n    <tr>\n      <th>904263</th>\n      <td>904263</td>\n      <td>15000</td>\n      <td>15000</td>\n      <td>15000.0</td>\n      <td>36 months</td>\n      <td>12.12</td>\n      <td>499.08</td>\n      <td>B</td>\n      <td>B3</td>\n      <td>WDAC Radio Compnay</td>\n      <td>...</td>\n      <td>NaN</td>\n      <td>NaN</td>\n      <td>Cash</td>\n      <td>N</td>\n      <td>NaN</td>\n      <td>NaN</td>\n      <td>NaN</td>\n      <td>NaN</td>\n      <td>NaN</td>\n      <td>NaN</td>\n    </tr>\n    <tr>\n      <th>904264</th>\n      <td>904264</td>\n      <td>8725</td>\n      <td>8725</td>\n      <td>8725.0</td>\n      <td>36 months</td>\n      <td>17.27</td>\n      <td>312.25</td>\n      <td>D</td>\n      <td>D1</td>\n      <td>Clovis Unified School District</td>\n      <td>...</td>\n      <td>NaN</td>\n      <td>NaN</td>\n      <td>Cash</td>\n      <td>N</td>\n      <td>NaN</td>\n      <td>NaN</td>\n      <td>NaN</td>\n      <td>NaN</td>\n      <td>NaN</td>\n      <td>NaN</td>\n    </tr>\n    <tr>\n      <th>904265</th>\n      <td>904265</td>\n      <td>15000</td>\n      <td>15000</td>\n      <td>15000.0</td>\n      <td>36 months</td>\n      <td>17.09</td>\n      <td>535.47</td>\n      <td>D</td>\n      <td>D1</td>\n      <td>Educator</td>\n      <td>...</td>\n      <td>NaN</td>\n      <td>NaN</td>\n      <td>Cash</td>\n      <td>N</td>\n      <td>NaN</td>\n      <td>NaN</td>\n      <td>NaN</td>\n      <td>NaN</td>\n      <td>NaN</td>\n      <td>NaN</td>\n    </tr>\n    <tr>\n      <th>904266</th>\n      <td>904266</td>\n      <td>15000</td>\n      <td>15000</td>\n      <td>15000.0</td>\n      <td>60 months</td>\n      <td>17.09</td>\n      <td>373.52</td>\n      <td>D</td>\n      <td>D1</td>\n      <td>officer</td>\n      <td>...</td>\n      <td>NaN</td>\n      <td>NaN</td>\n      <td>Cash</td>\n      <td>N</td>\n      <td>NaN</td>\n      <td>NaN</td>\n      <td>NaN</td>\n      <td>NaN</td>\n      <td>NaN</td>\n      <td>NaN</td>\n    </tr>\n  </tbody>\n</table>\n<p>904267 rows × 144 columns</p>\n</div>"
     },
     "execution_count": 3,
     "metadata": {},
     "output_type": "execute_result"
    }
   ],
   "source": [
    "# inplace\n",
    "# make changes directly to dataframe\n",
    "train.drop('member_id',axis=True,inplace=True)\n",
    "train"
   ],
   "metadata": {
    "collapsed": false,
    "pycharm": {
     "name": "#%%\n"
    }
   }
  },
  {
   "cell_type": "code",
   "execution_count": 4,
   "outputs": [
    {
     "data": {
      "text/plain": "        loan_amnt  funded_amnt  funded_amnt_inv        term  int_rate  \\\nid                                                                      \n0           32000        32000          32000.0   36 months     10.90   \n1           11500        11500          11500.0   36 months     15.80   \n2           10000        10000          10000.0   36 months      6.49   \n3           28000        28000          28000.0   36 months      7.69   \n4           28000        28000          28000.0   60 months     17.97   \n...           ...          ...              ...         ...       ...   \n904262      30000        30000          30000.0   60 months     16.55   \n904263      15000        15000          15000.0   36 months     12.12   \n904264       8725         8725           8725.0   36 months     17.27   \n904265      15000        15000          15000.0   36 months     17.09   \n904266      15000        15000          15000.0   60 months     17.09   \n\n        installment grade sub_grade                       emp_title  \\\nid                                                                    \n0           1046.13     B        B4           plasma\\brake operator   \n1            403.18     C        C3                        CableOne   \n2            306.45     A        A2                             NaN   \n3            873.42     A        A4        Human Resources Director   \n4            710.56     D        D1                     sales agent   \n...             ...   ...       ...                             ...   \n904262       738.34     D        D2                         Teacher   \n904263       499.08     B        B3              WDAC Radio Compnay   \n904264       312.25     D        D1  Clovis Unified School District   \n904265       535.47     D        D1                        Educator   \n904266       373.52     D        D1                        officer    \n\n       emp_length  ... hardship_payoff_balance_amount  \\\nid                 ...                                  \n0         2 years  ...                            NaN   \n1         6 years  ...                            NaN   \n2             NaN  ...                            NaN   \n3         3 years  ...                            NaN   \n4         2 years  ...                            NaN   \n...           ...  ...                            ...   \n904262  10+ years  ...                            NaN   \n904263  10+ years  ...                            NaN   \n904264    7 years  ...                            NaN   \n904265    2 years  ...                            NaN   \n904266  10+ years  ...                            NaN   \n\n        hardship_last_payment_amount disbursement_method debt_settlement_flag  \\\nid                                                                              \n0                                NaN                Cash                    N   \n1                                NaN                Cash                    N   \n2                                NaN                Cash                    N   \n3                                NaN                Cash                    N   \n4                                NaN                Cash                    N   \n...                              ...                 ...                  ...   \n904262                           NaN                Cash                    N   \n904263                           NaN                Cash                    N   \n904264                           NaN                Cash                    N   \n904265                           NaN                Cash                    N   \n904266                           NaN                Cash                    N   \n\n       debt_settlement_flag_date settlement_status  settlement_date  \\\nid                                                                    \n0                            NaN               NaN              NaN   \n1                            NaN               NaN              NaN   \n2                            NaN               NaN              NaN   \n3                            NaN               NaN              NaN   \n4                            NaN               NaN              NaN   \n...                          ...               ...              ...   \n904262                       NaN               NaN              NaN   \n904263                       NaN               NaN              NaN   \n904264                       NaN               NaN              NaN   \n904265                       NaN               NaN              NaN   \n904266                       NaN               NaN              NaN   \n\n       settlement_amount settlement_percentage settlement_term  \nid                                                              \n0                    NaN                   NaN             NaN  \n1                    NaN                   NaN             NaN  \n2                    NaN                   NaN             NaN  \n3                    NaN                   NaN             NaN  \n4                    NaN                   NaN             NaN  \n...                  ...                   ...             ...  \n904262               NaN                   NaN             NaN  \n904263               NaN                   NaN             NaN  \n904264               NaN                   NaN             NaN  \n904265               NaN                   NaN             NaN  \n904266               NaN                   NaN             NaN  \n\n[904267 rows x 143 columns]",
      "text/html": "<div>\n<style scoped>\n    .dataframe tbody tr th:only-of-type {\n        vertical-align: middle;\n    }\n\n    .dataframe tbody tr th {\n        vertical-align: top;\n    }\n\n    .dataframe thead th {\n        text-align: right;\n    }\n</style>\n<table border=\"1\" class=\"dataframe\">\n  <thead>\n    <tr style=\"text-align: right;\">\n      <th></th>\n      <th>loan_amnt</th>\n      <th>funded_amnt</th>\n      <th>funded_amnt_inv</th>\n      <th>term</th>\n      <th>int_rate</th>\n      <th>installment</th>\n      <th>grade</th>\n      <th>sub_grade</th>\n      <th>emp_title</th>\n      <th>emp_length</th>\n      <th>...</th>\n      <th>hardship_payoff_balance_amount</th>\n      <th>hardship_last_payment_amount</th>\n      <th>disbursement_method</th>\n      <th>debt_settlement_flag</th>\n      <th>debt_settlement_flag_date</th>\n      <th>settlement_status</th>\n      <th>settlement_date</th>\n      <th>settlement_amount</th>\n      <th>settlement_percentage</th>\n      <th>settlement_term</th>\n    </tr>\n    <tr>\n      <th>id</th>\n      <th></th>\n      <th></th>\n      <th></th>\n      <th></th>\n      <th></th>\n      <th></th>\n      <th></th>\n      <th></th>\n      <th></th>\n      <th></th>\n      <th></th>\n      <th></th>\n      <th></th>\n      <th></th>\n      <th></th>\n      <th></th>\n      <th></th>\n      <th></th>\n      <th></th>\n      <th></th>\n      <th></th>\n    </tr>\n  </thead>\n  <tbody>\n    <tr>\n      <th>0</th>\n      <td>32000</td>\n      <td>32000</td>\n      <td>32000.0</td>\n      <td>36 months</td>\n      <td>10.90</td>\n      <td>1046.13</td>\n      <td>B</td>\n      <td>B4</td>\n      <td>plasma\\brake operator</td>\n      <td>2 years</td>\n      <td>...</td>\n      <td>NaN</td>\n      <td>NaN</td>\n      <td>Cash</td>\n      <td>N</td>\n      <td>NaN</td>\n      <td>NaN</td>\n      <td>NaN</td>\n      <td>NaN</td>\n      <td>NaN</td>\n      <td>NaN</td>\n    </tr>\n    <tr>\n      <th>1</th>\n      <td>11500</td>\n      <td>11500</td>\n      <td>11500.0</td>\n      <td>36 months</td>\n      <td>15.80</td>\n      <td>403.18</td>\n      <td>C</td>\n      <td>C3</td>\n      <td>CableOne</td>\n      <td>6 years</td>\n      <td>...</td>\n      <td>NaN</td>\n      <td>NaN</td>\n      <td>Cash</td>\n      <td>N</td>\n      <td>NaN</td>\n      <td>NaN</td>\n      <td>NaN</td>\n      <td>NaN</td>\n      <td>NaN</td>\n      <td>NaN</td>\n    </tr>\n    <tr>\n      <th>2</th>\n      <td>10000</td>\n      <td>10000</td>\n      <td>10000.0</td>\n      <td>36 months</td>\n      <td>6.49</td>\n      <td>306.45</td>\n      <td>A</td>\n      <td>A2</td>\n      <td>NaN</td>\n      <td>NaN</td>\n      <td>...</td>\n      <td>NaN</td>\n      <td>NaN</td>\n      <td>Cash</td>\n      <td>N</td>\n      <td>NaN</td>\n      <td>NaN</td>\n      <td>NaN</td>\n      <td>NaN</td>\n      <td>NaN</td>\n      <td>NaN</td>\n    </tr>\n    <tr>\n      <th>3</th>\n      <td>28000</td>\n      <td>28000</td>\n      <td>28000.0</td>\n      <td>36 months</td>\n      <td>7.69</td>\n      <td>873.42</td>\n      <td>A</td>\n      <td>A4</td>\n      <td>Human Resources Director</td>\n      <td>3 years</td>\n      <td>...</td>\n      <td>NaN</td>\n      <td>NaN</td>\n      <td>Cash</td>\n      <td>N</td>\n      <td>NaN</td>\n      <td>NaN</td>\n      <td>NaN</td>\n      <td>NaN</td>\n      <td>NaN</td>\n      <td>NaN</td>\n    </tr>\n    <tr>\n      <th>4</th>\n      <td>28000</td>\n      <td>28000</td>\n      <td>28000.0</td>\n      <td>60 months</td>\n      <td>17.97</td>\n      <td>710.56</td>\n      <td>D</td>\n      <td>D1</td>\n      <td>sales agent</td>\n      <td>2 years</td>\n      <td>...</td>\n      <td>NaN</td>\n      <td>NaN</td>\n      <td>Cash</td>\n      <td>N</td>\n      <td>NaN</td>\n      <td>NaN</td>\n      <td>NaN</td>\n      <td>NaN</td>\n      <td>NaN</td>\n      <td>NaN</td>\n    </tr>\n    <tr>\n      <th>...</th>\n      <td>...</td>\n      <td>...</td>\n      <td>...</td>\n      <td>...</td>\n      <td>...</td>\n      <td>...</td>\n      <td>...</td>\n      <td>...</td>\n      <td>...</td>\n      <td>...</td>\n      <td>...</td>\n      <td>...</td>\n      <td>...</td>\n      <td>...</td>\n      <td>...</td>\n      <td>...</td>\n      <td>...</td>\n      <td>...</td>\n      <td>...</td>\n      <td>...</td>\n      <td>...</td>\n    </tr>\n    <tr>\n      <th>904262</th>\n      <td>30000</td>\n      <td>30000</td>\n      <td>30000.0</td>\n      <td>60 months</td>\n      <td>16.55</td>\n      <td>738.34</td>\n      <td>D</td>\n      <td>D2</td>\n      <td>Teacher</td>\n      <td>10+ years</td>\n      <td>...</td>\n      <td>NaN</td>\n      <td>NaN</td>\n      <td>Cash</td>\n      <td>N</td>\n      <td>NaN</td>\n      <td>NaN</td>\n      <td>NaN</td>\n      <td>NaN</td>\n      <td>NaN</td>\n      <td>NaN</td>\n    </tr>\n    <tr>\n      <th>904263</th>\n      <td>15000</td>\n      <td>15000</td>\n      <td>15000.0</td>\n      <td>36 months</td>\n      <td>12.12</td>\n      <td>499.08</td>\n      <td>B</td>\n      <td>B3</td>\n      <td>WDAC Radio Compnay</td>\n      <td>10+ years</td>\n      <td>...</td>\n      <td>NaN</td>\n      <td>NaN</td>\n      <td>Cash</td>\n      <td>N</td>\n      <td>NaN</td>\n      <td>NaN</td>\n      <td>NaN</td>\n      <td>NaN</td>\n      <td>NaN</td>\n      <td>NaN</td>\n    </tr>\n    <tr>\n      <th>904264</th>\n      <td>8725</td>\n      <td>8725</td>\n      <td>8725.0</td>\n      <td>36 months</td>\n      <td>17.27</td>\n      <td>312.25</td>\n      <td>D</td>\n      <td>D1</td>\n      <td>Clovis Unified School District</td>\n      <td>7 years</td>\n      <td>...</td>\n      <td>NaN</td>\n      <td>NaN</td>\n      <td>Cash</td>\n      <td>N</td>\n      <td>NaN</td>\n      <td>NaN</td>\n      <td>NaN</td>\n      <td>NaN</td>\n      <td>NaN</td>\n      <td>NaN</td>\n    </tr>\n    <tr>\n      <th>904265</th>\n      <td>15000</td>\n      <td>15000</td>\n      <td>15000.0</td>\n      <td>36 months</td>\n      <td>17.09</td>\n      <td>535.47</td>\n      <td>D</td>\n      <td>D1</td>\n      <td>Educator</td>\n      <td>2 years</td>\n      <td>...</td>\n      <td>NaN</td>\n      <td>NaN</td>\n      <td>Cash</td>\n      <td>N</td>\n      <td>NaN</td>\n      <td>NaN</td>\n      <td>NaN</td>\n      <td>NaN</td>\n      <td>NaN</td>\n      <td>NaN</td>\n    </tr>\n    <tr>\n      <th>904266</th>\n      <td>15000</td>\n      <td>15000</td>\n      <td>15000.0</td>\n      <td>60 months</td>\n      <td>17.09</td>\n      <td>373.52</td>\n      <td>D</td>\n      <td>D1</td>\n      <td>officer</td>\n      <td>10+ years</td>\n      <td>...</td>\n      <td>NaN</td>\n      <td>NaN</td>\n      <td>Cash</td>\n      <td>N</td>\n      <td>NaN</td>\n      <td>NaN</td>\n      <td>NaN</td>\n      <td>NaN</td>\n      <td>NaN</td>\n      <td>NaN</td>\n    </tr>\n  </tbody>\n</table>\n<p>904267 rows × 143 columns</p>\n</div>"
     },
     "execution_count": 4,
     "metadata": {},
     "output_type": "execute_result"
    }
   ],
   "source": [
    "train.set_index('id',inplace=True)\n",
    "train"
   ],
   "metadata": {
    "collapsed": false,
    "pycharm": {
     "name": "#%%\n"
    }
   }
  },
  {
   "cell_type": "code",
   "execution_count": 5,
   "outputs": [
    {
     "data": {
      "text/plain": "        loan_amnt  funded_amnt  funded_amnt_inv       terms  int_rate  \\\nid                                                                      \n0           32000        32000          32000.0   36 months     10.90   \n1           11500        11500          11500.0   36 months     15.80   \n2           10000        10000          10000.0   36 months      6.49   \n3           28000        28000          28000.0   36 months      7.69   \n4           28000        28000          28000.0   60 months     17.97   \n...           ...          ...              ...         ...       ...   \n904262      30000        30000          30000.0   60 months     16.55   \n904263      15000        15000          15000.0   36 months     12.12   \n904264       8725         8725           8725.0   36 months     17.27   \n904265      15000        15000          15000.0   36 months     17.09   \n904266      15000        15000          15000.0   60 months     17.09   \n\n        installment grade sub_grade                       emp_title  \\\nid                                                                    \n0           1046.13     B        B4           plasma\\brake operator   \n1            403.18     C        C3                        CableOne   \n2            306.45     A        A2                             NaN   \n3            873.42     A        A4        Human Resources Director   \n4            710.56     D        D1                     sales agent   \n...             ...   ...       ...                             ...   \n904262       738.34     D        D2                         Teacher   \n904263       499.08     B        B3              WDAC Radio Compnay   \n904264       312.25     D        D1  Clovis Unified School District   \n904265       535.47     D        D1                        Educator   \n904266       373.52     D        D1                        officer    \n\n       emp_length  ... hardship_payoff_balance_amount  \\\nid                 ...                                  \n0         2 years  ...                            NaN   \n1         6 years  ...                            NaN   \n2             NaN  ...                            NaN   \n3         3 years  ...                            NaN   \n4         2 years  ...                            NaN   \n...           ...  ...                            ...   \n904262  10+ years  ...                            NaN   \n904263  10+ years  ...                            NaN   \n904264    7 years  ...                            NaN   \n904265    2 years  ...                            NaN   \n904266  10+ years  ...                            NaN   \n\n        hardship_last_payment_amount disbursement_method debt_settlement_flag  \\\nid                                                                              \n0                                NaN                Cash                    N   \n1                                NaN                Cash                    N   \n2                                NaN                Cash                    N   \n3                                NaN                Cash                    N   \n4                                NaN                Cash                    N   \n...                              ...                 ...                  ...   \n904262                           NaN                Cash                    N   \n904263                           NaN                Cash                    N   \n904264                           NaN                Cash                    N   \n904265                           NaN                Cash                    N   \n904266                           NaN                Cash                    N   \n\n       debt_settlement_flag_date settlement_status  settlement_date  \\\nid                                                                    \n0                            NaN               NaN              NaN   \n1                            NaN               NaN              NaN   \n2                            NaN               NaN              NaN   \n3                            NaN               NaN              NaN   \n4                            NaN               NaN              NaN   \n...                          ...               ...              ...   \n904262                       NaN               NaN              NaN   \n904263                       NaN               NaN              NaN   \n904264                       NaN               NaN              NaN   \n904265                       NaN               NaN              NaN   \n904266                       NaN               NaN              NaN   \n\n       settlement_amount settlement_percentage settlement_term  \nid                                                              \n0                    NaN                   NaN             NaN  \n1                    NaN                   NaN             NaN  \n2                    NaN                   NaN             NaN  \n3                    NaN                   NaN             NaN  \n4                    NaN                   NaN             NaN  \n...                  ...                   ...             ...  \n904262               NaN                   NaN             NaN  \n904263               NaN                   NaN             NaN  \n904264               NaN                   NaN             NaN  \n904265               NaN                   NaN             NaN  \n904266               NaN                   NaN             NaN  \n\n[904267 rows x 143 columns]",
      "text/html": "<div>\n<style scoped>\n    .dataframe tbody tr th:only-of-type {\n        vertical-align: middle;\n    }\n\n    .dataframe tbody tr th {\n        vertical-align: top;\n    }\n\n    .dataframe thead th {\n        text-align: right;\n    }\n</style>\n<table border=\"1\" class=\"dataframe\">\n  <thead>\n    <tr style=\"text-align: right;\">\n      <th></th>\n      <th>loan_amnt</th>\n      <th>funded_amnt</th>\n      <th>funded_amnt_inv</th>\n      <th>terms</th>\n      <th>int_rate</th>\n      <th>installment</th>\n      <th>grade</th>\n      <th>sub_grade</th>\n      <th>emp_title</th>\n      <th>emp_length</th>\n      <th>...</th>\n      <th>hardship_payoff_balance_amount</th>\n      <th>hardship_last_payment_amount</th>\n      <th>disbursement_method</th>\n      <th>debt_settlement_flag</th>\n      <th>debt_settlement_flag_date</th>\n      <th>settlement_status</th>\n      <th>settlement_date</th>\n      <th>settlement_amount</th>\n      <th>settlement_percentage</th>\n      <th>settlement_term</th>\n    </tr>\n    <tr>\n      <th>id</th>\n      <th></th>\n      <th></th>\n      <th></th>\n      <th></th>\n      <th></th>\n      <th></th>\n      <th></th>\n      <th></th>\n      <th></th>\n      <th></th>\n      <th></th>\n      <th></th>\n      <th></th>\n      <th></th>\n      <th></th>\n      <th></th>\n      <th></th>\n      <th></th>\n      <th></th>\n      <th></th>\n      <th></th>\n    </tr>\n  </thead>\n  <tbody>\n    <tr>\n      <th>0</th>\n      <td>32000</td>\n      <td>32000</td>\n      <td>32000.0</td>\n      <td>36 months</td>\n      <td>10.90</td>\n      <td>1046.13</td>\n      <td>B</td>\n      <td>B4</td>\n      <td>plasma\\brake operator</td>\n      <td>2 years</td>\n      <td>...</td>\n      <td>NaN</td>\n      <td>NaN</td>\n      <td>Cash</td>\n      <td>N</td>\n      <td>NaN</td>\n      <td>NaN</td>\n      <td>NaN</td>\n      <td>NaN</td>\n      <td>NaN</td>\n      <td>NaN</td>\n    </tr>\n    <tr>\n      <th>1</th>\n      <td>11500</td>\n      <td>11500</td>\n      <td>11500.0</td>\n      <td>36 months</td>\n      <td>15.80</td>\n      <td>403.18</td>\n      <td>C</td>\n      <td>C3</td>\n      <td>CableOne</td>\n      <td>6 years</td>\n      <td>...</td>\n      <td>NaN</td>\n      <td>NaN</td>\n      <td>Cash</td>\n      <td>N</td>\n      <td>NaN</td>\n      <td>NaN</td>\n      <td>NaN</td>\n      <td>NaN</td>\n      <td>NaN</td>\n      <td>NaN</td>\n    </tr>\n    <tr>\n      <th>2</th>\n      <td>10000</td>\n      <td>10000</td>\n      <td>10000.0</td>\n      <td>36 months</td>\n      <td>6.49</td>\n      <td>306.45</td>\n      <td>A</td>\n      <td>A2</td>\n      <td>NaN</td>\n      <td>NaN</td>\n      <td>...</td>\n      <td>NaN</td>\n      <td>NaN</td>\n      <td>Cash</td>\n      <td>N</td>\n      <td>NaN</td>\n      <td>NaN</td>\n      <td>NaN</td>\n      <td>NaN</td>\n      <td>NaN</td>\n      <td>NaN</td>\n    </tr>\n    <tr>\n      <th>3</th>\n      <td>28000</td>\n      <td>28000</td>\n      <td>28000.0</td>\n      <td>36 months</td>\n      <td>7.69</td>\n      <td>873.42</td>\n      <td>A</td>\n      <td>A4</td>\n      <td>Human Resources Director</td>\n      <td>3 years</td>\n      <td>...</td>\n      <td>NaN</td>\n      <td>NaN</td>\n      <td>Cash</td>\n      <td>N</td>\n      <td>NaN</td>\n      <td>NaN</td>\n      <td>NaN</td>\n      <td>NaN</td>\n      <td>NaN</td>\n      <td>NaN</td>\n    </tr>\n    <tr>\n      <th>4</th>\n      <td>28000</td>\n      <td>28000</td>\n      <td>28000.0</td>\n      <td>60 months</td>\n      <td>17.97</td>\n      <td>710.56</td>\n      <td>D</td>\n      <td>D1</td>\n      <td>sales agent</td>\n      <td>2 years</td>\n      <td>...</td>\n      <td>NaN</td>\n      <td>NaN</td>\n      <td>Cash</td>\n      <td>N</td>\n      <td>NaN</td>\n      <td>NaN</td>\n      <td>NaN</td>\n      <td>NaN</td>\n      <td>NaN</td>\n      <td>NaN</td>\n    </tr>\n    <tr>\n      <th>...</th>\n      <td>...</td>\n      <td>...</td>\n      <td>...</td>\n      <td>...</td>\n      <td>...</td>\n      <td>...</td>\n      <td>...</td>\n      <td>...</td>\n      <td>...</td>\n      <td>...</td>\n      <td>...</td>\n      <td>...</td>\n      <td>...</td>\n      <td>...</td>\n      <td>...</td>\n      <td>...</td>\n      <td>...</td>\n      <td>...</td>\n      <td>...</td>\n      <td>...</td>\n      <td>...</td>\n    </tr>\n    <tr>\n      <th>904262</th>\n      <td>30000</td>\n      <td>30000</td>\n      <td>30000.0</td>\n      <td>60 months</td>\n      <td>16.55</td>\n      <td>738.34</td>\n      <td>D</td>\n      <td>D2</td>\n      <td>Teacher</td>\n      <td>10+ years</td>\n      <td>...</td>\n      <td>NaN</td>\n      <td>NaN</td>\n      <td>Cash</td>\n      <td>N</td>\n      <td>NaN</td>\n      <td>NaN</td>\n      <td>NaN</td>\n      <td>NaN</td>\n      <td>NaN</td>\n      <td>NaN</td>\n    </tr>\n    <tr>\n      <th>904263</th>\n      <td>15000</td>\n      <td>15000</td>\n      <td>15000.0</td>\n      <td>36 months</td>\n      <td>12.12</td>\n      <td>499.08</td>\n      <td>B</td>\n      <td>B3</td>\n      <td>WDAC Radio Compnay</td>\n      <td>10+ years</td>\n      <td>...</td>\n      <td>NaN</td>\n      <td>NaN</td>\n      <td>Cash</td>\n      <td>N</td>\n      <td>NaN</td>\n      <td>NaN</td>\n      <td>NaN</td>\n      <td>NaN</td>\n      <td>NaN</td>\n      <td>NaN</td>\n    </tr>\n    <tr>\n      <th>904264</th>\n      <td>8725</td>\n      <td>8725</td>\n      <td>8725.0</td>\n      <td>36 months</td>\n      <td>17.27</td>\n      <td>312.25</td>\n      <td>D</td>\n      <td>D1</td>\n      <td>Clovis Unified School District</td>\n      <td>7 years</td>\n      <td>...</td>\n      <td>NaN</td>\n      <td>NaN</td>\n      <td>Cash</td>\n      <td>N</td>\n      <td>NaN</td>\n      <td>NaN</td>\n      <td>NaN</td>\n      <td>NaN</td>\n      <td>NaN</td>\n      <td>NaN</td>\n    </tr>\n    <tr>\n      <th>904265</th>\n      <td>15000</td>\n      <td>15000</td>\n      <td>15000.0</td>\n      <td>36 months</td>\n      <td>17.09</td>\n      <td>535.47</td>\n      <td>D</td>\n      <td>D1</td>\n      <td>Educator</td>\n      <td>2 years</td>\n      <td>...</td>\n      <td>NaN</td>\n      <td>NaN</td>\n      <td>Cash</td>\n      <td>N</td>\n      <td>NaN</td>\n      <td>NaN</td>\n      <td>NaN</td>\n      <td>NaN</td>\n      <td>NaN</td>\n      <td>NaN</td>\n    </tr>\n    <tr>\n      <th>904266</th>\n      <td>15000</td>\n      <td>15000</td>\n      <td>15000.0</td>\n      <td>60 months</td>\n      <td>17.09</td>\n      <td>373.52</td>\n      <td>D</td>\n      <td>D1</td>\n      <td>officer</td>\n      <td>10+ years</td>\n      <td>...</td>\n      <td>NaN</td>\n      <td>NaN</td>\n      <td>Cash</td>\n      <td>N</td>\n      <td>NaN</td>\n      <td>NaN</td>\n      <td>NaN</td>\n      <td>NaN</td>\n      <td>NaN</td>\n      <td>NaN</td>\n    </tr>\n  </tbody>\n</table>\n<p>904267 rows × 143 columns</p>\n</div>"
     },
     "execution_count": 5,
     "metadata": {},
     "output_type": "execute_result"
    }
   ],
   "source": [
    "train.rename(columns={'term':'terms'},inplace=True)\n",
    "train"
   ],
   "metadata": {
    "collapsed": false,
    "pycharm": {
     "name": "#%%\n"
    }
   }
  },
  {
   "cell_type": "code",
   "execution_count": 6,
   "outputs": [
    {
     "data": {
      "text/plain": "                 loan_amnt\ngrade sub_grade           \nA     A1         533121725\n      A2         393436350\n      A3         416215800\n      A4         565730025\n      A5         618176225\nB     B1         714055625\n      B2         732633475\n      B3         747309325\n      B4         792828625\n      B5         779923200\nC     C1         845329425\n      C2         766241775\n      C3         790677650\n      C4         788041375\n      C5         723423175\nD     D1         497457150\n      D2         453039750\n      D3         407178525\n      D4         365771000\n      D5         319298800\nE     E1         224115675\n      E2         204715225\n      E3         188811100\n      E4         164329850\n      E5         164410725\nF     F1         102788850\n      F2          71384800\n      F3          57486825\n      F4          45355700\n      F5          41723025\nG     G1          34519375\n      G2          21307025\n      G3          17762550\n      G4          14431450\n      G5          13284750",
      "text/html": "<div>\n<style scoped>\n    .dataframe tbody tr th:only-of-type {\n        vertical-align: middle;\n    }\n\n    .dataframe tbody tr th {\n        vertical-align: top;\n    }\n\n    .dataframe thead th {\n        text-align: right;\n    }\n</style>\n<table border=\"1\" class=\"dataframe\">\n  <thead>\n    <tr style=\"text-align: right;\">\n      <th></th>\n      <th></th>\n      <th>loan_amnt</th>\n    </tr>\n    <tr>\n      <th>grade</th>\n      <th>sub_grade</th>\n      <th></th>\n    </tr>\n  </thead>\n  <tbody>\n    <tr>\n      <th rowspan=\"5\" valign=\"top\">A</th>\n      <th>A1</th>\n      <td>533121725</td>\n    </tr>\n    <tr>\n      <th>A2</th>\n      <td>393436350</td>\n    </tr>\n    <tr>\n      <th>A3</th>\n      <td>416215800</td>\n    </tr>\n    <tr>\n      <th>A4</th>\n      <td>565730025</td>\n    </tr>\n    <tr>\n      <th>A5</th>\n      <td>618176225</td>\n    </tr>\n    <tr>\n      <th rowspan=\"5\" valign=\"top\">B</th>\n      <th>B1</th>\n      <td>714055625</td>\n    </tr>\n    <tr>\n      <th>B2</th>\n      <td>732633475</td>\n    </tr>\n    <tr>\n      <th>B3</th>\n      <td>747309325</td>\n    </tr>\n    <tr>\n      <th>B4</th>\n      <td>792828625</td>\n    </tr>\n    <tr>\n      <th>B5</th>\n      <td>779923200</td>\n    </tr>\n    <tr>\n      <th rowspan=\"5\" valign=\"top\">C</th>\n      <th>C1</th>\n      <td>845329425</td>\n    </tr>\n    <tr>\n      <th>C2</th>\n      <td>766241775</td>\n    </tr>\n    <tr>\n      <th>C3</th>\n      <td>790677650</td>\n    </tr>\n    <tr>\n      <th>C4</th>\n      <td>788041375</td>\n    </tr>\n    <tr>\n      <th>C5</th>\n      <td>723423175</td>\n    </tr>\n    <tr>\n      <th rowspan=\"5\" valign=\"top\">D</th>\n      <th>D1</th>\n      <td>497457150</td>\n    </tr>\n    <tr>\n      <th>D2</th>\n      <td>453039750</td>\n    </tr>\n    <tr>\n      <th>D3</th>\n      <td>407178525</td>\n    </tr>\n    <tr>\n      <th>D4</th>\n      <td>365771000</td>\n    </tr>\n    <tr>\n      <th>D5</th>\n      <td>319298800</td>\n    </tr>\n    <tr>\n      <th rowspan=\"5\" valign=\"top\">E</th>\n      <th>E1</th>\n      <td>224115675</td>\n    </tr>\n    <tr>\n      <th>E2</th>\n      <td>204715225</td>\n    </tr>\n    <tr>\n      <th>E3</th>\n      <td>188811100</td>\n    </tr>\n    <tr>\n      <th>E4</th>\n      <td>164329850</td>\n    </tr>\n    <tr>\n      <th>E5</th>\n      <td>164410725</td>\n    </tr>\n    <tr>\n      <th rowspan=\"5\" valign=\"top\">F</th>\n      <th>F1</th>\n      <td>102788850</td>\n    </tr>\n    <tr>\n      <th>F2</th>\n      <td>71384800</td>\n    </tr>\n    <tr>\n      <th>F3</th>\n      <td>57486825</td>\n    </tr>\n    <tr>\n      <th>F4</th>\n      <td>45355700</td>\n    </tr>\n    <tr>\n      <th>F5</th>\n      <td>41723025</td>\n    </tr>\n    <tr>\n      <th rowspan=\"5\" valign=\"top\">G</th>\n      <th>G1</th>\n      <td>34519375</td>\n    </tr>\n    <tr>\n      <th>G2</th>\n      <td>21307025</td>\n    </tr>\n    <tr>\n      <th>G3</th>\n      <td>17762550</td>\n    </tr>\n    <tr>\n      <th>G4</th>\n      <td>14431450</td>\n    </tr>\n    <tr>\n      <th>G5</th>\n      <td>13284750</td>\n    </tr>\n  </tbody>\n</table>\n</div>"
     },
     "execution_count": 6,
     "metadata": {},
     "output_type": "execute_result"
    }
   ],
   "source": [
    "# group by\n",
    "train.groupby(by=['grade','sub_grade'])[['loan_amnt']].sum()"
   ],
   "metadata": {
    "collapsed": false,
    "pycharm": {
     "name": "#%%\n"
    }
   }
  },
  {
   "cell_type": "code",
   "execution_count": 7,
   "outputs": [
    {
     "data": {
      "text/plain": "                    loan_amnt\ngrade sub_grade              \nA     A1         15286.644444\n      A2         14213.740968\n      A3         14170.978176\n      A4         14866.506149\n      A5         14395.608612\nB     B1         14230.452091\n      B2         14488.371369\n      B3         14182.595555\n      B4         14167.520684\n      B5         13908.572448\nC     C1         14505.867439\n      C2         14578.420377\n      C3         15224.076748\n      C4         15588.419579\n      C5         15499.821631\nD     D1         15261.294331\n      D2         15367.177165\n      D3         15657.099323\n      D4         16079.259715\n      D5         16595.571726\nE     E1         16687.689873\n      E2         17100.929329\n      E3         17482.509259\n      E4         18149.972388\n      E5         18275.980992\nF     F1         18943.761519\n      F2         19056.273358\n      F3         19060.618369\n      F4         19001.131127\n      F5         20204.854722\nG     G1         20744.816707\n      G2         19913.107477\n      G3         21045.675355\n      G4         20884.876990\n      G5         20628.493789",
      "text/html": "<div>\n<style scoped>\n    .dataframe tbody tr th:only-of-type {\n        vertical-align: middle;\n    }\n\n    .dataframe tbody tr th {\n        vertical-align: top;\n    }\n\n    .dataframe thead th {\n        text-align: right;\n    }\n</style>\n<table border=\"1\" class=\"dataframe\">\n  <thead>\n    <tr style=\"text-align: right;\">\n      <th></th>\n      <th></th>\n      <th>loan_amnt</th>\n    </tr>\n    <tr>\n      <th>grade</th>\n      <th>sub_grade</th>\n      <th></th>\n    </tr>\n  </thead>\n  <tbody>\n    <tr>\n      <th rowspan=\"5\" valign=\"top\">A</th>\n      <th>A1</th>\n      <td>15286.644444</td>\n    </tr>\n    <tr>\n      <th>A2</th>\n      <td>14213.740968</td>\n    </tr>\n    <tr>\n      <th>A3</th>\n      <td>14170.978176</td>\n    </tr>\n    <tr>\n      <th>A4</th>\n      <td>14866.506149</td>\n    </tr>\n    <tr>\n      <th>A5</th>\n      <td>14395.608612</td>\n    </tr>\n    <tr>\n      <th rowspan=\"5\" valign=\"top\">B</th>\n      <th>B1</th>\n      <td>14230.452091</td>\n    </tr>\n    <tr>\n      <th>B2</th>\n      <td>14488.371369</td>\n    </tr>\n    <tr>\n      <th>B3</th>\n      <td>14182.595555</td>\n    </tr>\n    <tr>\n      <th>B4</th>\n      <td>14167.520684</td>\n    </tr>\n    <tr>\n      <th>B5</th>\n      <td>13908.572448</td>\n    </tr>\n    <tr>\n      <th rowspan=\"5\" valign=\"top\">C</th>\n      <th>C1</th>\n      <td>14505.867439</td>\n    </tr>\n    <tr>\n      <th>C2</th>\n      <td>14578.420377</td>\n    </tr>\n    <tr>\n      <th>C3</th>\n      <td>15224.076748</td>\n    </tr>\n    <tr>\n      <th>C4</th>\n      <td>15588.419579</td>\n    </tr>\n    <tr>\n      <th>C5</th>\n      <td>15499.821631</td>\n    </tr>\n    <tr>\n      <th rowspan=\"5\" valign=\"top\">D</th>\n      <th>D1</th>\n      <td>15261.294331</td>\n    </tr>\n    <tr>\n      <th>D2</th>\n      <td>15367.177165</td>\n    </tr>\n    <tr>\n      <th>D3</th>\n      <td>15657.099323</td>\n    </tr>\n    <tr>\n      <th>D4</th>\n      <td>16079.259715</td>\n    </tr>\n    <tr>\n      <th>D5</th>\n      <td>16595.571726</td>\n    </tr>\n    <tr>\n      <th rowspan=\"5\" valign=\"top\">E</th>\n      <th>E1</th>\n      <td>16687.689873</td>\n    </tr>\n    <tr>\n      <th>E2</th>\n      <td>17100.929329</td>\n    </tr>\n    <tr>\n      <th>E3</th>\n      <td>17482.509259</td>\n    </tr>\n    <tr>\n      <th>E4</th>\n      <td>18149.972388</td>\n    </tr>\n    <tr>\n      <th>E5</th>\n      <td>18275.980992</td>\n    </tr>\n    <tr>\n      <th rowspan=\"5\" valign=\"top\">F</th>\n      <th>F1</th>\n      <td>18943.761519</td>\n    </tr>\n    <tr>\n      <th>F2</th>\n      <td>19056.273358</td>\n    </tr>\n    <tr>\n      <th>F3</th>\n      <td>19060.618369</td>\n    </tr>\n    <tr>\n      <th>F4</th>\n      <td>19001.131127</td>\n    </tr>\n    <tr>\n      <th>F5</th>\n      <td>20204.854722</td>\n    </tr>\n    <tr>\n      <th rowspan=\"5\" valign=\"top\">G</th>\n      <th>G1</th>\n      <td>20744.816707</td>\n    </tr>\n    <tr>\n      <th>G2</th>\n      <td>19913.107477</td>\n    </tr>\n    <tr>\n      <th>G3</th>\n      <td>21045.675355</td>\n    </tr>\n    <tr>\n      <th>G4</th>\n      <td>20884.876990</td>\n    </tr>\n    <tr>\n      <th>G5</th>\n      <td>20628.493789</td>\n    </tr>\n  </tbody>\n</table>\n</div>"
     },
     "execution_count": 7,
     "metadata": {},
     "output_type": "execute_result"
    }
   ],
   "source": [
    "train.groupby(by=['grade','sub_grade'])[['loan_amnt']].mean()"
   ],
   "metadata": {
    "collapsed": false,
    "pycharm": {
     "name": "#%%\n"
    }
   }
  },
  {
   "cell_type": "code",
   "execution_count": 8,
   "outputs": [
    {
     "name": "stdout",
     "output_type": "stream",
     "text": [
      "(dtype('int64'),         loan_amnt  funded_amnt  revol_bal  policy_code\n",
      "id                                                    \n",
      "0           32000        32000       5055            1\n",
      "1           11500        11500      11134            1\n",
      "2           10000        10000       5802            1\n",
      "3           28000        28000      37040            1\n",
      "4           28000        28000      21817            1\n",
      "...           ...          ...        ...          ...\n",
      "904262      30000        30000      31817            1\n",
      "904263      15000        15000       8055            1\n",
      "904264       8725         8725       7399            1\n",
      "904265      15000        15000      52238            1\n",
      "904266      15000        15000      16390            1\n",
      "\n",
      "[904267 rows x 4 columns])\n",
      "(dtype('float64'),         funded_amnt_inv  int_rate  installment  annual_inc  url    dti  \\\n",
      "id                                                                       \n",
      "0               32000.0     10.90      1046.13     54000.0  NaN  14.80   \n",
      "1               11500.0     15.80       403.18     48000.0  NaN  10.48   \n",
      "2               10000.0      6.49       306.45     37000.0  NaN   7.64   \n",
      "3               28000.0      7.69       873.42    110000.0  NaN  10.05   \n",
      "4               28000.0     17.97       710.56    125000.0  NaN  18.19   \n",
      "...                 ...       ...          ...         ...  ...    ...   \n",
      "904262          30000.0     16.55       738.34     67000.0  NaN  24.22   \n",
      "904263          15000.0     12.12       499.08     55806.0  NaN  15.37   \n",
      "904264           8725.0     17.27       312.25     18314.0  NaN  11.99   \n",
      "904265          15000.0     17.09       535.47     60000.0  NaN  51.04   \n",
      "904266          15000.0     17.09       373.52     65250.0  NaN  19.55   \n",
      "\n",
      "        delinq_2yrs  inq_last_6mths  mths_since_last_delinq  \\\n",
      "id                                                            \n",
      "0               0.0             0.0                     NaN   \n",
      "1               0.0             0.0                    44.0   \n",
      "2               0.0             1.0                     NaN   \n",
      "3               0.0             0.0                     NaN   \n",
      "4               1.0             0.0                    14.0   \n",
      "...             ...             ...                     ...   \n",
      "904262          0.0             0.0                    44.0   \n",
      "904263          0.0             0.0                     NaN   \n",
      "904264          1.0             2.0                    22.0   \n",
      "904265          0.0             0.0                     NaN   \n",
      "904266          0.0             2.0                     NaN   \n",
      "\n",
      "        mths_since_last_record  ...  deferral_term  hardship_amount  \\\n",
      "id                              ...                                   \n",
      "0                          NaN  ...            NaN              NaN   \n",
      "1                          NaN  ...            NaN              NaN   \n",
      "2                          NaN  ...            NaN              NaN   \n",
      "3                          NaN  ...            NaN              NaN   \n",
      "4                         79.0  ...            NaN              NaN   \n",
      "...                        ...  ...            ...              ...   \n",
      "904262                     NaN  ...            NaN              NaN   \n",
      "904263                    84.0  ...            NaN              NaN   \n",
      "904264                     NaN  ...            NaN              NaN   \n",
      "904265                     NaN  ...            NaN              NaN   \n",
      "904266                    54.0  ...            NaN              NaN   \n",
      "\n",
      "        hardship_length  hardship_dpd  \\\n",
      "id                                      \n",
      "0                   NaN           NaN   \n",
      "1                   NaN           NaN   \n",
      "2                   NaN           NaN   \n",
      "3                   NaN           NaN   \n",
      "4                   NaN           NaN   \n",
      "...                 ...           ...   \n",
      "904262              NaN           NaN   \n",
      "904263              NaN           NaN   \n",
      "904264              NaN           NaN   \n",
      "904265              NaN           NaN   \n",
      "904266              NaN           NaN   \n",
      "\n",
      "        orig_projected_additional_accrued_interest  \\\n",
      "id                                                   \n",
      "0                                              NaN   \n",
      "1                                              NaN   \n",
      "2                                              NaN   \n",
      "3                                              NaN   \n",
      "4                                              NaN   \n",
      "...                                            ...   \n",
      "904262                                         NaN   \n",
      "904263                                         NaN   \n",
      "904264                                         NaN   \n",
      "904265                                         NaN   \n",
      "904266                                         NaN   \n",
      "\n",
      "        hardship_payoff_balance_amount  hardship_last_payment_amount  \\\n",
      "id                                                                     \n",
      "0                                  NaN                           NaN   \n",
      "1                                  NaN                           NaN   \n",
      "2                                  NaN                           NaN   \n",
      "3                                  NaN                           NaN   \n",
      "4                                  NaN                           NaN   \n",
      "...                                ...                           ...   \n",
      "904262                             NaN                           NaN   \n",
      "904263                             NaN                           NaN   \n",
      "904264                             NaN                           NaN   \n",
      "904265                             NaN                           NaN   \n",
      "904266                             NaN                           NaN   \n",
      "\n",
      "        settlement_amount  settlement_percentage  settlement_term  \n",
      "id                                                                 \n",
      "0                     NaN                    NaN              NaN  \n",
      "1                     NaN                    NaN              NaN  \n",
      "2                     NaN                    NaN              NaN  \n",
      "3                     NaN                    NaN              NaN  \n",
      "4                     NaN                    NaN              NaN  \n",
      "...                   ...                    ...              ...  \n",
      "904262                NaN                    NaN              NaN  \n",
      "904263                NaN                    NaN              NaN  \n",
      "904264                NaN                    NaN              NaN  \n",
      "904265                NaN                    NaN              NaN  \n",
      "904266                NaN                    NaN              NaN  \n",
      "\n",
      "[904267 rows x 103 columns])\n",
      "(dtype('O'),              terms grade sub_grade                       emp_title emp_length  \\\n",
      "id                                                                              \n",
      "0        36 months     B        B4           plasma\\brake operator    2 years   \n",
      "1        36 months     C        C3                        CableOne    6 years   \n",
      "2        36 months     A        A2                             NaN        NaN   \n",
      "3        36 months     A        A4        Human Resources Director    3 years   \n",
      "4        60 months     D        D1                     sales agent    2 years   \n",
      "...            ...   ...       ...                             ...        ...   \n",
      "904262   60 months     D        D2                         Teacher  10+ years   \n",
      "904263   36 months     B        B3              WDAC Radio Compnay  10+ years   \n",
      "904264   36 months     D        D1  Clovis Unified School District    7 years   \n",
      "904265   36 months     D        D1                        Educator    2 years   \n",
      "904266   60 months     D        D1                        officer   10+ years   \n",
      "\n",
      "       home_ownership verification_status   issue_d  loan_status pymnt_plan  \\\n",
      "id                                                                            \n",
      "0            MORTGAGE        Not Verified  Mar-2018      Current          n   \n",
      "1            MORTGAGE        Not Verified  Jun-2013   Fully Paid          n   \n",
      "2                 OWN        Not Verified  Mar-2016  Charged Off          n   \n",
      "3                RENT     Source Verified  Oct-2014   Fully Paid          n   \n",
      "4                RENT        Not Verified  Aug-2018      Current          n   \n",
      "...               ...                 ...       ...          ...        ...   \n",
      "904262       MORTGAGE            Verified  Jul-2015   Fully Paid          n   \n",
      "904263       MORTGAGE            Verified  Jun-2013   Fully Paid          n   \n",
      "904264            OWN     Source Verified  Apr-2012   Fully Paid          n   \n",
      "904265       MORTGAGE     Source Verified  Oct-2017      Current          n   \n",
      "904266       MORTGAGE     Source Verified  Sep-2017      Current          n   \n",
      "\n",
      "        ... hardship_status hardship_start_date hardship_end_date  \\\n",
      "id      ...                                                         \n",
      "0       ...             NaN                 NaN               NaN   \n",
      "1       ...             NaN                 NaN               NaN   \n",
      "2       ...             NaN                 NaN               NaN   \n",
      "3       ...             NaN                 NaN               NaN   \n",
      "4       ...             NaN                 NaN               NaN   \n",
      "...     ...             ...                 ...               ...   \n",
      "904262  ...             NaN                 NaN               NaN   \n",
      "904263  ...             NaN                 NaN               NaN   \n",
      "904264  ...             NaN                 NaN               NaN   \n",
      "904265  ...             NaN                 NaN               NaN   \n",
      "904266  ...             NaN                 NaN               NaN   \n",
      "\n",
      "       payment_plan_start_date hardship_loan_status disbursement_method  \\\n",
      "id                                                                        \n",
      "0                          NaN                  NaN                Cash   \n",
      "1                          NaN                  NaN                Cash   \n",
      "2                          NaN                  NaN                Cash   \n",
      "3                          NaN                  NaN                Cash   \n",
      "4                          NaN                  NaN                Cash   \n",
      "...                        ...                  ...                 ...   \n",
      "904262                     NaN                  NaN                Cash   \n",
      "904263                     NaN                  NaN                Cash   \n",
      "904264                     NaN                  NaN                Cash   \n",
      "904265                     NaN                  NaN                Cash   \n",
      "904266                     NaN                  NaN                Cash   \n",
      "\n",
      "       debt_settlement_flag debt_settlement_flag_date settlement_status  \\\n",
      "id                                                                        \n",
      "0                         N                       NaN               NaN   \n",
      "1                         N                       NaN               NaN   \n",
      "2                         N                       NaN               NaN   \n",
      "3                         N                       NaN               NaN   \n",
      "4                         N                       NaN               NaN   \n",
      "...                     ...                       ...               ...   \n",
      "904262                    N                       NaN               NaN   \n",
      "904263                    N                       NaN               NaN   \n",
      "904264                    N                       NaN               NaN   \n",
      "904265                    N                       NaN               NaN   \n",
      "904266                    N                       NaN               NaN   \n",
      "\n",
      "       settlement_date  \n",
      "id                      \n",
      "0                  NaN  \n",
      "1                  NaN  \n",
      "2                  NaN  \n",
      "3                  NaN  \n",
      "4                  NaN  \n",
      "...                ...  \n",
      "904262             NaN  \n",
      "904263             NaN  \n",
      "904264             NaN  \n",
      "904265             NaN  \n",
      "904266             NaN  \n",
      "\n",
      "[904267 rows x 36 columns])\n"
     ]
    }
   ],
   "source": [
    "for i in train.groupby(by=train.dtypes,axis=1):\n",
    "    print(i)"
   ],
   "metadata": {
    "collapsed": false,
    "pycharm": {
     "name": "#%%\n"
    }
   }
  },
  {
   "cell_type": "markdown",
   "source": [
    "### missing values\n",
    "can treat missing values two ways, either drop or impute"
   ],
   "metadata": {
    "collapsed": false,
    "pycharm": {
     "name": "#%% md\n"
    }
   }
  },
  {
   "cell_type": "code",
   "execution_count": 20,
   "outputs": [
    {
     "data": {
      "text/plain": "                                          index   count\n0                                     loan_amnt       0\n1                                   funded_amnt       0\n2                               funded_amnt_inv       0\n3                                         terms       0\n4                                      int_rate       0\n5                                   installment       0\n6                                         grade       0\n7                                     sub_grade       0\n8                                     emp_title   66777\n9                                    emp_length   58899\n10                               home_ownership       0\n11                                   annual_inc       4\n12                          verification_status       0\n13                                      issue_d       0\n14                                  loan_status       0\n15                                   pymnt_plan       0\n16                                          url  904267\n17                                         desc  854186\n18                                      purpose       0\n19                                        title    9299\n20                                     zip_code       0\n21                                   addr_state       0\n22                                          dti     742\n23                                  delinq_2yrs      14\n24                             earliest_cr_line      14\n25                               inq_last_6mths      14\n26                       mths_since_last_delinq  462950\n27                       mths_since_last_record  760034\n28                                     open_acc      14\n29                                      pub_rec      14\n30                                    revol_bal       0\n31                                   revol_util     731\n32                                    total_acc      14\n33                          initial_list_status       0\n34                                    out_prncp       0\n35                                out_prncp_inv       0\n36                                  total_pymnt       0\n37                              total_pymnt_inv       0\n38                              total_rec_prncp       0\n39                                total_rec_int       0\n40                           total_rec_late_fee       0\n41                                   recoveries       0\n42                      collection_recovery_fee       0\n43                                 last_pymnt_d     994\n44                              last_pymnt_amnt       0\n45                                 next_pymnt_d  522309\n46                           last_credit_pull_d      26\n47                   collections_12_mths_ex_med      63\n48                  mths_since_last_major_derog  672001\n49                                  policy_code       0\n50                             application_type       0\n51                             annual_inc_joint  855912\n52                                    dti_joint  855913\n53                    verification_status_joint  857847\n54                               acc_now_delinq      14\n55                                 tot_coll_amt   28071\n56                                  tot_cur_bal   28071\n57                                  open_acc_6m  347049\n58                                  open_act_il  347049\n59                                  open_il_12m  347049\n60                                  open_il_24m  347049\n61                           mths_since_rcnt_il  364325\n62                                 total_bal_il  347049\n63                                      il_util  428269\n64                                  open_rv_12m  347049\n65                                  open_rv_24m  347049\n66                                   max_bal_bc  347049\n67                                     all_util  347146\n68                             total_rev_hi_lim   28071\n69                                       inq_fi  347049\n70                                  total_cu_tl  347049\n71                                 inq_last_12m  347049\n72                         acc_open_past_24mths   19975\n73                                  avg_cur_bal   28102\n74                               bc_open_to_buy   29888\n75                                      bc_util   30314\n76                     chargeoff_within_12_mths      63\n77                                  delinq_amnt      14\n78                           mo_sin_old_il_acct   55275\n79                         mo_sin_old_rev_tl_op   28072\n80                        mo_sin_rcnt_rev_tl_op   28072\n81                               mo_sin_rcnt_tl   28071\n82                                     mort_acc   19975\n83                         mths_since_recent_bc   29245\n84                     mths_since_recent_bc_dlq  696473\n85                        mths_since_recent_inq  118008\n86               mths_since_recent_revol_delinq  608172\n87                        num_accts_ever_120_pd   28071\n88                               num_actv_bc_tl   28071\n89                              num_actv_rev_tl   28071\n90                                  num_bc_sats   23395\n91                                    num_bc_tl   28071\n92                                    num_il_tl   28071\n93                                num_op_rev_tl   28071\n94                                num_rev_accts   28072\n95                          num_rev_tl_bal_gt_0   28071\n96                                     num_sats   23395\n97                             num_tl_120dpd_2m   61001\n98                                 num_tl_30dpd   28071\n99                           num_tl_90g_dpd_24m   28071\n100                          num_tl_op_past_12m   28071\n101                              pct_tl_nvr_dlq   28128\n102                            percent_bc_gt_75   30078\n103                        pub_rec_bankruptcies     535\n104                                   tax_liens      47\n105                             tot_hi_cred_lim   28071\n106                           total_bal_ex_mort   19975\n107                              total_bc_limit   19975\n108                  total_il_high_credit_limit   28071\n109                             revol_bal_joint  861082\n110                    sec_app_earliest_cr_line  861081\n111                      sec_app_inq_last_6mths  861081\n112                            sec_app_mort_acc  861081\n113                            sec_app_open_acc  861081\n114                          sec_app_revol_util  861813\n115                         sec_app_open_act_il  861081\n116                       sec_app_num_rev_accts  861081\n117            sec_app_chargeoff_within_12_mths  861081\n118          sec_app_collections_12_mths_ex_med  861081\n119         sec_app_mths_since_last_major_derog  890026\n120                               hardship_flag       0\n121                               hardship_type  900051\n122                             hardship_reason  900051\n123                             hardship_status  900051\n124                               deferral_term  900051\n125                             hardship_amount  900051\n126                         hardship_start_date  900051\n127                           hardship_end_date  900051\n128                     payment_plan_start_date  900051\n129                             hardship_length  900051\n130                                hardship_dpd  900051\n131                        hardship_loan_status  900051\n132  orig_projected_additional_accrued_interest  900923\n133              hardship_payoff_balance_amount  900051\n134                hardship_last_payment_amount  900051\n135                         disbursement_method       0\n136                        debt_settlement_flag       0\n137                   debt_settlement_flag_date  890960\n138                           settlement_status  890960\n139                             settlement_date  890960\n140                           settlement_amount  890960\n141                       settlement_percentage  890960\n142                             settlement_term  890960",
      "text/html": "<div>\n<style scoped>\n    .dataframe tbody tr th:only-of-type {\n        vertical-align: middle;\n    }\n\n    .dataframe tbody tr th {\n        vertical-align: top;\n    }\n\n    .dataframe thead th {\n        text-align: right;\n    }\n</style>\n<table border=\"1\" class=\"dataframe\">\n  <thead>\n    <tr style=\"text-align: right;\">\n      <th></th>\n      <th>index</th>\n      <th>count</th>\n    </tr>\n  </thead>\n  <tbody>\n    <tr>\n      <th>0</th>\n      <td>loan_amnt</td>\n      <td>0</td>\n    </tr>\n    <tr>\n      <th>1</th>\n      <td>funded_amnt</td>\n      <td>0</td>\n    </tr>\n    <tr>\n      <th>2</th>\n      <td>funded_amnt_inv</td>\n      <td>0</td>\n    </tr>\n    <tr>\n      <th>3</th>\n      <td>terms</td>\n      <td>0</td>\n    </tr>\n    <tr>\n      <th>4</th>\n      <td>int_rate</td>\n      <td>0</td>\n    </tr>\n    <tr>\n      <th>5</th>\n      <td>installment</td>\n      <td>0</td>\n    </tr>\n    <tr>\n      <th>6</th>\n      <td>grade</td>\n      <td>0</td>\n    </tr>\n    <tr>\n      <th>7</th>\n      <td>sub_grade</td>\n      <td>0</td>\n    </tr>\n    <tr>\n      <th>8</th>\n      <td>emp_title</td>\n      <td>66777</td>\n    </tr>\n    <tr>\n      <th>9</th>\n      <td>emp_length</td>\n      <td>58899</td>\n    </tr>\n    <tr>\n      <th>10</th>\n      <td>home_ownership</td>\n      <td>0</td>\n    </tr>\n    <tr>\n      <th>11</th>\n      <td>annual_inc</td>\n      <td>4</td>\n    </tr>\n    <tr>\n      <th>12</th>\n      <td>verification_status</td>\n      <td>0</td>\n    </tr>\n    <tr>\n      <th>13</th>\n      <td>issue_d</td>\n      <td>0</td>\n    </tr>\n    <tr>\n      <th>14</th>\n      <td>loan_status</td>\n      <td>0</td>\n    </tr>\n    <tr>\n      <th>15</th>\n      <td>pymnt_plan</td>\n      <td>0</td>\n    </tr>\n    <tr>\n      <th>16</th>\n      <td>url</td>\n      <td>904267</td>\n    </tr>\n    <tr>\n      <th>17</th>\n      <td>desc</td>\n      <td>854186</td>\n    </tr>\n    <tr>\n      <th>18</th>\n      <td>purpose</td>\n      <td>0</td>\n    </tr>\n    <tr>\n      <th>19</th>\n      <td>title</td>\n      <td>9299</td>\n    </tr>\n    <tr>\n      <th>20</th>\n      <td>zip_code</td>\n      <td>0</td>\n    </tr>\n    <tr>\n      <th>21</th>\n      <td>addr_state</td>\n      <td>0</td>\n    </tr>\n    <tr>\n      <th>22</th>\n      <td>dti</td>\n      <td>742</td>\n    </tr>\n    <tr>\n      <th>23</th>\n      <td>delinq_2yrs</td>\n      <td>14</td>\n    </tr>\n    <tr>\n      <th>24</th>\n      <td>earliest_cr_line</td>\n      <td>14</td>\n    </tr>\n    <tr>\n      <th>25</th>\n      <td>inq_last_6mths</td>\n      <td>14</td>\n    </tr>\n    <tr>\n      <th>26</th>\n      <td>mths_since_last_delinq</td>\n      <td>462950</td>\n    </tr>\n    <tr>\n      <th>27</th>\n      <td>mths_since_last_record</td>\n      <td>760034</td>\n    </tr>\n    <tr>\n      <th>28</th>\n      <td>open_acc</td>\n      <td>14</td>\n    </tr>\n    <tr>\n      <th>29</th>\n      <td>pub_rec</td>\n      <td>14</td>\n    </tr>\n    <tr>\n      <th>30</th>\n      <td>revol_bal</td>\n      <td>0</td>\n    </tr>\n    <tr>\n      <th>31</th>\n      <td>revol_util</td>\n      <td>731</td>\n    </tr>\n    <tr>\n      <th>32</th>\n      <td>total_acc</td>\n      <td>14</td>\n    </tr>\n    <tr>\n      <th>33</th>\n      <td>initial_list_status</td>\n      <td>0</td>\n    </tr>\n    <tr>\n      <th>34</th>\n      <td>out_prncp</td>\n      <td>0</td>\n    </tr>\n    <tr>\n      <th>35</th>\n      <td>out_prncp_inv</td>\n      <td>0</td>\n    </tr>\n    <tr>\n      <th>36</th>\n      <td>total_pymnt</td>\n      <td>0</td>\n    </tr>\n    <tr>\n      <th>37</th>\n      <td>total_pymnt_inv</td>\n      <td>0</td>\n    </tr>\n    <tr>\n      <th>38</th>\n      <td>total_rec_prncp</td>\n      <td>0</td>\n    </tr>\n    <tr>\n      <th>39</th>\n      <td>total_rec_int</td>\n      <td>0</td>\n    </tr>\n    <tr>\n      <th>40</th>\n      <td>total_rec_late_fee</td>\n      <td>0</td>\n    </tr>\n    <tr>\n      <th>41</th>\n      <td>recoveries</td>\n      <td>0</td>\n    </tr>\n    <tr>\n      <th>42</th>\n      <td>collection_recovery_fee</td>\n      <td>0</td>\n    </tr>\n    <tr>\n      <th>43</th>\n      <td>last_pymnt_d</td>\n      <td>994</td>\n    </tr>\n    <tr>\n      <th>44</th>\n      <td>last_pymnt_amnt</td>\n      <td>0</td>\n    </tr>\n    <tr>\n      <th>45</th>\n      <td>next_pymnt_d</td>\n      <td>522309</td>\n    </tr>\n    <tr>\n      <th>46</th>\n      <td>last_credit_pull_d</td>\n      <td>26</td>\n    </tr>\n    <tr>\n      <th>47</th>\n      <td>collections_12_mths_ex_med</td>\n      <td>63</td>\n    </tr>\n    <tr>\n      <th>48</th>\n      <td>mths_since_last_major_derog</td>\n      <td>672001</td>\n    </tr>\n    <tr>\n      <th>49</th>\n      <td>policy_code</td>\n      <td>0</td>\n    </tr>\n    <tr>\n      <th>50</th>\n      <td>application_type</td>\n      <td>0</td>\n    </tr>\n    <tr>\n      <th>51</th>\n      <td>annual_inc_joint</td>\n      <td>855912</td>\n    </tr>\n    <tr>\n      <th>52</th>\n      <td>dti_joint</td>\n      <td>855913</td>\n    </tr>\n    <tr>\n      <th>53</th>\n      <td>verification_status_joint</td>\n      <td>857847</td>\n    </tr>\n    <tr>\n      <th>54</th>\n      <td>acc_now_delinq</td>\n      <td>14</td>\n    </tr>\n    <tr>\n      <th>55</th>\n      <td>tot_coll_amt</td>\n      <td>28071</td>\n    </tr>\n    <tr>\n      <th>56</th>\n      <td>tot_cur_bal</td>\n      <td>28071</td>\n    </tr>\n    <tr>\n      <th>57</th>\n      <td>open_acc_6m</td>\n      <td>347049</td>\n    </tr>\n    <tr>\n      <th>58</th>\n      <td>open_act_il</td>\n      <td>347049</td>\n    </tr>\n    <tr>\n      <th>59</th>\n      <td>open_il_12m</td>\n      <td>347049</td>\n    </tr>\n    <tr>\n      <th>60</th>\n      <td>open_il_24m</td>\n      <td>347049</td>\n    </tr>\n    <tr>\n      <th>61</th>\n      <td>mths_since_rcnt_il</td>\n      <td>364325</td>\n    </tr>\n    <tr>\n      <th>62</th>\n      <td>total_bal_il</td>\n      <td>347049</td>\n    </tr>\n    <tr>\n      <th>63</th>\n      <td>il_util</td>\n      <td>428269</td>\n    </tr>\n    <tr>\n      <th>64</th>\n      <td>open_rv_12m</td>\n      <td>347049</td>\n    </tr>\n    <tr>\n      <th>65</th>\n      <td>open_rv_24m</td>\n      <td>347049</td>\n    </tr>\n    <tr>\n      <th>66</th>\n      <td>max_bal_bc</td>\n      <td>347049</td>\n    </tr>\n    <tr>\n      <th>67</th>\n      <td>all_util</td>\n      <td>347146</td>\n    </tr>\n    <tr>\n      <th>68</th>\n      <td>total_rev_hi_lim</td>\n      <td>28071</td>\n    </tr>\n    <tr>\n      <th>69</th>\n      <td>inq_fi</td>\n      <td>347049</td>\n    </tr>\n    <tr>\n      <th>70</th>\n      <td>total_cu_tl</td>\n      <td>347049</td>\n    </tr>\n    <tr>\n      <th>71</th>\n      <td>inq_last_12m</td>\n      <td>347049</td>\n    </tr>\n    <tr>\n      <th>72</th>\n      <td>acc_open_past_24mths</td>\n      <td>19975</td>\n    </tr>\n    <tr>\n      <th>73</th>\n      <td>avg_cur_bal</td>\n      <td>28102</td>\n    </tr>\n    <tr>\n      <th>74</th>\n      <td>bc_open_to_buy</td>\n      <td>29888</td>\n    </tr>\n    <tr>\n      <th>75</th>\n      <td>bc_util</td>\n      <td>30314</td>\n    </tr>\n    <tr>\n      <th>76</th>\n      <td>chargeoff_within_12_mths</td>\n      <td>63</td>\n    </tr>\n    <tr>\n      <th>77</th>\n      <td>delinq_amnt</td>\n      <td>14</td>\n    </tr>\n    <tr>\n      <th>78</th>\n      <td>mo_sin_old_il_acct</td>\n      <td>55275</td>\n    </tr>\n    <tr>\n      <th>79</th>\n      <td>mo_sin_old_rev_tl_op</td>\n      <td>28072</td>\n    </tr>\n    <tr>\n      <th>80</th>\n      <td>mo_sin_rcnt_rev_tl_op</td>\n      <td>28072</td>\n    </tr>\n    <tr>\n      <th>81</th>\n      <td>mo_sin_rcnt_tl</td>\n      <td>28071</td>\n    </tr>\n    <tr>\n      <th>82</th>\n      <td>mort_acc</td>\n      <td>19975</td>\n    </tr>\n    <tr>\n      <th>83</th>\n      <td>mths_since_recent_bc</td>\n      <td>29245</td>\n    </tr>\n    <tr>\n      <th>84</th>\n      <td>mths_since_recent_bc_dlq</td>\n      <td>696473</td>\n    </tr>\n    <tr>\n      <th>85</th>\n      <td>mths_since_recent_inq</td>\n      <td>118008</td>\n    </tr>\n    <tr>\n      <th>86</th>\n      <td>mths_since_recent_revol_delinq</td>\n      <td>608172</td>\n    </tr>\n    <tr>\n      <th>87</th>\n      <td>num_accts_ever_120_pd</td>\n      <td>28071</td>\n    </tr>\n    <tr>\n      <th>88</th>\n      <td>num_actv_bc_tl</td>\n      <td>28071</td>\n    </tr>\n    <tr>\n      <th>89</th>\n      <td>num_actv_rev_tl</td>\n      <td>28071</td>\n    </tr>\n    <tr>\n      <th>90</th>\n      <td>num_bc_sats</td>\n      <td>23395</td>\n    </tr>\n    <tr>\n      <th>91</th>\n      <td>num_bc_tl</td>\n      <td>28071</td>\n    </tr>\n    <tr>\n      <th>92</th>\n      <td>num_il_tl</td>\n      <td>28071</td>\n    </tr>\n    <tr>\n      <th>93</th>\n      <td>num_op_rev_tl</td>\n      <td>28071</td>\n    </tr>\n    <tr>\n      <th>94</th>\n      <td>num_rev_accts</td>\n      <td>28072</td>\n    </tr>\n    <tr>\n      <th>95</th>\n      <td>num_rev_tl_bal_gt_0</td>\n      <td>28071</td>\n    </tr>\n    <tr>\n      <th>96</th>\n      <td>num_sats</td>\n      <td>23395</td>\n    </tr>\n    <tr>\n      <th>97</th>\n      <td>num_tl_120dpd_2m</td>\n      <td>61001</td>\n    </tr>\n    <tr>\n      <th>98</th>\n      <td>num_tl_30dpd</td>\n      <td>28071</td>\n    </tr>\n    <tr>\n      <th>99</th>\n      <td>num_tl_90g_dpd_24m</td>\n      <td>28071</td>\n    </tr>\n    <tr>\n      <th>100</th>\n      <td>num_tl_op_past_12m</td>\n      <td>28071</td>\n    </tr>\n    <tr>\n      <th>101</th>\n      <td>pct_tl_nvr_dlq</td>\n      <td>28128</td>\n    </tr>\n    <tr>\n      <th>102</th>\n      <td>percent_bc_gt_75</td>\n      <td>30078</td>\n    </tr>\n    <tr>\n      <th>103</th>\n      <td>pub_rec_bankruptcies</td>\n      <td>535</td>\n    </tr>\n    <tr>\n      <th>104</th>\n      <td>tax_liens</td>\n      <td>47</td>\n    </tr>\n    <tr>\n      <th>105</th>\n      <td>tot_hi_cred_lim</td>\n      <td>28071</td>\n    </tr>\n    <tr>\n      <th>106</th>\n      <td>total_bal_ex_mort</td>\n      <td>19975</td>\n    </tr>\n    <tr>\n      <th>107</th>\n      <td>total_bc_limit</td>\n      <td>19975</td>\n    </tr>\n    <tr>\n      <th>108</th>\n      <td>total_il_high_credit_limit</td>\n      <td>28071</td>\n    </tr>\n    <tr>\n      <th>109</th>\n      <td>revol_bal_joint</td>\n      <td>861082</td>\n    </tr>\n    <tr>\n      <th>110</th>\n      <td>sec_app_earliest_cr_line</td>\n      <td>861081</td>\n    </tr>\n    <tr>\n      <th>111</th>\n      <td>sec_app_inq_last_6mths</td>\n      <td>861081</td>\n    </tr>\n    <tr>\n      <th>112</th>\n      <td>sec_app_mort_acc</td>\n      <td>861081</td>\n    </tr>\n    <tr>\n      <th>113</th>\n      <td>sec_app_open_acc</td>\n      <td>861081</td>\n    </tr>\n    <tr>\n      <th>114</th>\n      <td>sec_app_revol_util</td>\n      <td>861813</td>\n    </tr>\n    <tr>\n      <th>115</th>\n      <td>sec_app_open_act_il</td>\n      <td>861081</td>\n    </tr>\n    <tr>\n      <th>116</th>\n      <td>sec_app_num_rev_accts</td>\n      <td>861081</td>\n    </tr>\n    <tr>\n      <th>117</th>\n      <td>sec_app_chargeoff_within_12_mths</td>\n      <td>861081</td>\n    </tr>\n    <tr>\n      <th>118</th>\n      <td>sec_app_collections_12_mths_ex_med</td>\n      <td>861081</td>\n    </tr>\n    <tr>\n      <th>119</th>\n      <td>sec_app_mths_since_last_major_derog</td>\n      <td>890026</td>\n    </tr>\n    <tr>\n      <th>120</th>\n      <td>hardship_flag</td>\n      <td>0</td>\n    </tr>\n    <tr>\n      <th>121</th>\n      <td>hardship_type</td>\n      <td>900051</td>\n    </tr>\n    <tr>\n      <th>122</th>\n      <td>hardship_reason</td>\n      <td>900051</td>\n    </tr>\n    <tr>\n      <th>123</th>\n      <td>hardship_status</td>\n      <td>900051</td>\n    </tr>\n    <tr>\n      <th>124</th>\n      <td>deferral_term</td>\n      <td>900051</td>\n    </tr>\n    <tr>\n      <th>125</th>\n      <td>hardship_amount</td>\n      <td>900051</td>\n    </tr>\n    <tr>\n      <th>126</th>\n      <td>hardship_start_date</td>\n      <td>900051</td>\n    </tr>\n    <tr>\n      <th>127</th>\n      <td>hardship_end_date</td>\n      <td>900051</td>\n    </tr>\n    <tr>\n      <th>128</th>\n      <td>payment_plan_start_date</td>\n      <td>900051</td>\n    </tr>\n    <tr>\n      <th>129</th>\n      <td>hardship_length</td>\n      <td>900051</td>\n    </tr>\n    <tr>\n      <th>130</th>\n      <td>hardship_dpd</td>\n      <td>900051</td>\n    </tr>\n    <tr>\n      <th>131</th>\n      <td>hardship_loan_status</td>\n      <td>900051</td>\n    </tr>\n    <tr>\n      <th>132</th>\n      <td>orig_projected_additional_accrued_interest</td>\n      <td>900923</td>\n    </tr>\n    <tr>\n      <th>133</th>\n      <td>hardship_payoff_balance_amount</td>\n      <td>900051</td>\n    </tr>\n    <tr>\n      <th>134</th>\n      <td>hardship_last_payment_amount</td>\n      <td>900051</td>\n    </tr>\n    <tr>\n      <th>135</th>\n      <td>disbursement_method</td>\n      <td>0</td>\n    </tr>\n    <tr>\n      <th>136</th>\n      <td>debt_settlement_flag</td>\n      <td>0</td>\n    </tr>\n    <tr>\n      <th>137</th>\n      <td>debt_settlement_flag_date</td>\n      <td>890960</td>\n    </tr>\n    <tr>\n      <th>138</th>\n      <td>settlement_status</td>\n      <td>890960</td>\n    </tr>\n    <tr>\n      <th>139</th>\n      <td>settlement_date</td>\n      <td>890960</td>\n    </tr>\n    <tr>\n      <th>140</th>\n      <td>settlement_amount</td>\n      <td>890960</td>\n    </tr>\n    <tr>\n      <th>141</th>\n      <td>settlement_percentage</td>\n      <td>890960</td>\n    </tr>\n    <tr>\n      <th>142</th>\n      <td>settlement_term</td>\n      <td>890960</td>\n    </tr>\n  </tbody>\n</table>\n</div>"
     },
     "execution_count": 20,
     "metadata": {},
     "output_type": "execute_result"
    }
   ],
   "source": [
    "# missing values by column\n",
    "pd.options.display.max_rows = 143\n",
    "na_col = pd.DataFrame(train.isna().sum(),columns=['count'])\n",
    "na_col.reset_index(inplace=True)\n",
    "na_col"
   ],
   "metadata": {
    "collapsed": false,
    "pycharm": {
     "name": "#%%\n"
    }
   }
  },
  {
   "cell_type": "code",
   "execution_count": 32,
   "outputs": [
    {
     "data": {
      "text/plain": "        count\nid           \n0           2\n1          15\n2           8\n3          18\n4           1\n...       ...\n904262     15\n904263     17\n904264     40\n904265      2\n904266      2\n\n[904267 rows x 1 columns]",
      "text/html": "<div>\n<style scoped>\n    .dataframe tbody tr th:only-of-type {\n        vertical-align: middle;\n    }\n\n    .dataframe tbody tr th {\n        vertical-align: top;\n    }\n\n    .dataframe thead th {\n        text-align: right;\n    }\n</style>\n<table border=\"1\" class=\"dataframe\">\n  <thead>\n    <tr style=\"text-align: right;\">\n      <th></th>\n      <th>count</th>\n    </tr>\n    <tr>\n      <th>id</th>\n      <th></th>\n    </tr>\n  </thead>\n  <tbody>\n    <tr>\n      <th>0</th>\n      <td>2</td>\n    </tr>\n    <tr>\n      <th>1</th>\n      <td>15</td>\n    </tr>\n    <tr>\n      <th>2</th>\n      <td>8</td>\n    </tr>\n    <tr>\n      <th>3</th>\n      <td>18</td>\n    </tr>\n    <tr>\n      <th>4</th>\n      <td>1</td>\n    </tr>\n    <tr>\n      <th>...</th>\n      <td>...</td>\n    </tr>\n    <tr>\n      <th>904262</th>\n      <td>15</td>\n    </tr>\n    <tr>\n      <th>904263</th>\n      <td>17</td>\n    </tr>\n    <tr>\n      <th>904264</th>\n      <td>40</td>\n    </tr>\n    <tr>\n      <th>904265</th>\n      <td>2</td>\n    </tr>\n    <tr>\n      <th>904266</th>\n      <td>2</td>\n    </tr>\n  </tbody>\n</table>\n<p>904267 rows × 1 columns</p>\n</div>"
     },
     "execution_count": 32,
     "metadata": {},
     "output_type": "execute_result"
    }
   ],
   "source": [
    "na_row = pd.DataFrame(train.isna().sum(axis=1),columns=['count'])\n",
    "na_row"
   ],
   "metadata": {
    "collapsed": false,
    "pycharm": {
     "name": "#%%\n"
    }
   }
  },
  {
   "cell_type": "code",
   "execution_count": 29,
   "outputs": [
    {
     "data": {
      "text/plain": "array(['url', 'desc', 'mths_since_last_record',\n       'mths_since_last_major_derog', 'annual_inc_joint', 'dti_joint',\n       'verification_status_joint', 'mths_since_recent_bc_dlq',\n       'revol_bal_joint', 'sec_app_earliest_cr_line',\n       'sec_app_inq_last_6mths', 'sec_app_mort_acc', 'sec_app_open_acc',\n       'sec_app_revol_util', 'sec_app_open_act_il',\n       'sec_app_num_rev_accts', 'sec_app_chargeoff_within_12_mths',\n       'sec_app_collections_12_mths_ex_med',\n       'sec_app_mths_since_last_major_derog', 'hardship_type',\n       'hardship_reason', 'hardship_status', 'deferral_term',\n       'hardship_amount', 'hardship_start_date', 'hardship_end_date',\n       'payment_plan_start_date', 'hardship_length', 'hardship_dpd',\n       'hardship_loan_status',\n       'orig_projected_additional_accrued_interest',\n       'hardship_payoff_balance_amount', 'hardship_last_payment_amount',\n       'debt_settlement_flag_date', 'settlement_status',\n       'settlement_date', 'settlement_amount', 'settlement_percentage',\n       'settlement_term'], dtype=object)"
     },
     "execution_count": 29,
     "metadata": {},
     "output_type": "execute_result"
    }
   ],
   "source": [
    "# dropping missing values\n",
    "# standard is 25-30% missing values approved and can impute\n",
    "# so, more than 70% missing rows and columns can drop\n",
    "# columns drop\n",
    "drop_col = na_col[na_col['count']>632987]['index'].values\n",
    "drop_col"
   ],
   "metadata": {
    "collapsed": false,
    "pycharm": {
     "name": "#%%\n"
    }
   }
  },
  {
   "cell_type": "code",
   "execution_count": 31,
   "outputs": [
    {
     "data": {
      "text/plain": "        loan_amnt  funded_amnt  funded_amnt_inv       terms  int_rate  \\\nid                                                                      \n0           32000        32000          32000.0   36 months     10.90   \n1           11500        11500          11500.0   36 months     15.80   \n2           10000        10000          10000.0   36 months      6.49   \n3           28000        28000          28000.0   36 months      7.69   \n4           28000        28000          28000.0   60 months     17.97   \n...           ...          ...              ...         ...       ...   \n904262      30000        30000          30000.0   60 months     16.55   \n904263      15000        15000          15000.0   36 months     12.12   \n904264       8725         8725           8725.0   36 months     17.27   \n904265      15000        15000          15000.0   36 months     17.09   \n904266      15000        15000          15000.0   60 months     17.09   \n\n        installment grade sub_grade                       emp_title  \\\nid                                                                    \n0           1046.13     B        B4           plasma\\brake operator   \n1            403.18     C        C3                        CableOne   \n2            306.45     A        A2                             NaN   \n3            873.42     A        A4        Human Resources Director   \n4            710.56     D        D1                     sales agent   \n...             ...   ...       ...                             ...   \n904262       738.34     D        D2                         Teacher   \n904263       499.08     B        B3              WDAC Radio Compnay   \n904264       312.25     D        D1  Clovis Unified School District   \n904265       535.47     D        D1                        Educator   \n904266       373.52     D        D1                        officer    \n\n       emp_length  ... percent_bc_gt_75  pub_rec_bankruptcies tax_liens  \\\nid                 ...                                                    \n0         2 years  ...            100.0                   0.0       0.0   \n1         6 years  ...            100.0                   0.0       0.0   \n2             NaN  ...              0.0                   0.0       0.0   \n3         3 years  ...             80.0                   0.0       0.0   \n4         2 years  ...            100.0                   1.0       0.0   \n...           ...  ...              ...                   ...       ...   \n904262  10+ years  ...            100.0                   0.0       0.0   \n904263  10+ years  ...            100.0                   1.0       0.0   \n904264    7 years  ...            100.0                   0.0       0.0   \n904265    2 years  ...            100.0                   0.0       0.0   \n904266  10+ years  ...             11.1                   1.0       0.0   \n\n       tot_hi_cred_lim total_bal_ex_mort total_bc_limit  \\\nid                                                        \n0             118075.0           23652.0         3000.0   \n1             146713.0           13024.0        11000.0   \n2             120453.0            6518.0       107500.0   \n3              89415.0           77974.0        42100.0   \n4             117172.0           95798.0        15600.0   \n...                ...               ...            ...   \n904262        317687.0           98712.0        32300.0   \n904263        286357.0           17736.0         8400.0   \n904264             NaN           21761.0         5700.0   \n904265        356490.0          113421.0        48600.0   \n904266         80179.0           39691.0        41600.0   \n\n       total_il_high_credit_limit hardship_flag disbursement_method  \\\nid                                                                    \n0                         26161.0             N                Cash   \n1                          3250.0             N                Cash   \n2                             0.0             N                Cash   \n3                         41000.0             N                Cash   \n4                         87372.0             N                Cash   \n...                           ...           ...                 ...   \n904262                    79608.0             N                Cash   \n904263                    21670.0             N                Cash   \n904264                        NaN             N                Cash   \n904265                    66676.0             N                Cash   \n904266                    30779.0             N                Cash   \n\n       debt_settlement_flag  \nid                           \n0                         N  \n1                         N  \n2                         N  \n3                         N  \n4                         N  \n...                     ...  \n904262                    N  \n904263                    N  \n904264                    N  \n904265                    N  \n904266                    N  \n\n[904267 rows x 104 columns]",
      "text/html": "<div>\n<style scoped>\n    .dataframe tbody tr th:only-of-type {\n        vertical-align: middle;\n    }\n\n    .dataframe tbody tr th {\n        vertical-align: top;\n    }\n\n    .dataframe thead th {\n        text-align: right;\n    }\n</style>\n<table border=\"1\" class=\"dataframe\">\n  <thead>\n    <tr style=\"text-align: right;\">\n      <th></th>\n      <th>loan_amnt</th>\n      <th>funded_amnt</th>\n      <th>funded_amnt_inv</th>\n      <th>terms</th>\n      <th>int_rate</th>\n      <th>installment</th>\n      <th>grade</th>\n      <th>sub_grade</th>\n      <th>emp_title</th>\n      <th>emp_length</th>\n      <th>...</th>\n      <th>percent_bc_gt_75</th>\n      <th>pub_rec_bankruptcies</th>\n      <th>tax_liens</th>\n      <th>tot_hi_cred_lim</th>\n      <th>total_bal_ex_mort</th>\n      <th>total_bc_limit</th>\n      <th>total_il_high_credit_limit</th>\n      <th>hardship_flag</th>\n      <th>disbursement_method</th>\n      <th>debt_settlement_flag</th>\n    </tr>\n    <tr>\n      <th>id</th>\n      <th></th>\n      <th></th>\n      <th></th>\n      <th></th>\n      <th></th>\n      <th></th>\n      <th></th>\n      <th></th>\n      <th></th>\n      <th></th>\n      <th></th>\n      <th></th>\n      <th></th>\n      <th></th>\n      <th></th>\n      <th></th>\n      <th></th>\n      <th></th>\n      <th></th>\n      <th></th>\n      <th></th>\n    </tr>\n  </thead>\n  <tbody>\n    <tr>\n      <th>0</th>\n      <td>32000</td>\n      <td>32000</td>\n      <td>32000.0</td>\n      <td>36 months</td>\n      <td>10.90</td>\n      <td>1046.13</td>\n      <td>B</td>\n      <td>B4</td>\n      <td>plasma\\brake operator</td>\n      <td>2 years</td>\n      <td>...</td>\n      <td>100.0</td>\n      <td>0.0</td>\n      <td>0.0</td>\n      <td>118075.0</td>\n      <td>23652.0</td>\n      <td>3000.0</td>\n      <td>26161.0</td>\n      <td>N</td>\n      <td>Cash</td>\n      <td>N</td>\n    </tr>\n    <tr>\n      <th>1</th>\n      <td>11500</td>\n      <td>11500</td>\n      <td>11500.0</td>\n      <td>36 months</td>\n      <td>15.80</td>\n      <td>403.18</td>\n      <td>C</td>\n      <td>C3</td>\n      <td>CableOne</td>\n      <td>6 years</td>\n      <td>...</td>\n      <td>100.0</td>\n      <td>0.0</td>\n      <td>0.0</td>\n      <td>146713.0</td>\n      <td>13024.0</td>\n      <td>11000.0</td>\n      <td>3250.0</td>\n      <td>N</td>\n      <td>Cash</td>\n      <td>N</td>\n    </tr>\n    <tr>\n      <th>2</th>\n      <td>10000</td>\n      <td>10000</td>\n      <td>10000.0</td>\n      <td>36 months</td>\n      <td>6.49</td>\n      <td>306.45</td>\n      <td>A</td>\n      <td>A2</td>\n      <td>NaN</td>\n      <td>NaN</td>\n      <td>...</td>\n      <td>0.0</td>\n      <td>0.0</td>\n      <td>0.0</td>\n      <td>120453.0</td>\n      <td>6518.0</td>\n      <td>107500.0</td>\n      <td>0.0</td>\n      <td>N</td>\n      <td>Cash</td>\n      <td>N</td>\n    </tr>\n    <tr>\n      <th>3</th>\n      <td>28000</td>\n      <td>28000</td>\n      <td>28000.0</td>\n      <td>36 months</td>\n      <td>7.69</td>\n      <td>873.42</td>\n      <td>A</td>\n      <td>A4</td>\n      <td>Human Resources Director</td>\n      <td>3 years</td>\n      <td>...</td>\n      <td>80.0</td>\n      <td>0.0</td>\n      <td>0.0</td>\n      <td>89415.0</td>\n      <td>77974.0</td>\n      <td>42100.0</td>\n      <td>41000.0</td>\n      <td>N</td>\n      <td>Cash</td>\n      <td>N</td>\n    </tr>\n    <tr>\n      <th>4</th>\n      <td>28000</td>\n      <td>28000</td>\n      <td>28000.0</td>\n      <td>60 months</td>\n      <td>17.97</td>\n      <td>710.56</td>\n      <td>D</td>\n      <td>D1</td>\n      <td>sales agent</td>\n      <td>2 years</td>\n      <td>...</td>\n      <td>100.0</td>\n      <td>1.0</td>\n      <td>0.0</td>\n      <td>117172.0</td>\n      <td>95798.0</td>\n      <td>15600.0</td>\n      <td>87372.0</td>\n      <td>N</td>\n      <td>Cash</td>\n      <td>N</td>\n    </tr>\n    <tr>\n      <th>...</th>\n      <td>...</td>\n      <td>...</td>\n      <td>...</td>\n      <td>...</td>\n      <td>...</td>\n      <td>...</td>\n      <td>...</td>\n      <td>...</td>\n      <td>...</td>\n      <td>...</td>\n      <td>...</td>\n      <td>...</td>\n      <td>...</td>\n      <td>...</td>\n      <td>...</td>\n      <td>...</td>\n      <td>...</td>\n      <td>...</td>\n      <td>...</td>\n      <td>...</td>\n      <td>...</td>\n    </tr>\n    <tr>\n      <th>904262</th>\n      <td>30000</td>\n      <td>30000</td>\n      <td>30000.0</td>\n      <td>60 months</td>\n      <td>16.55</td>\n      <td>738.34</td>\n      <td>D</td>\n      <td>D2</td>\n      <td>Teacher</td>\n      <td>10+ years</td>\n      <td>...</td>\n      <td>100.0</td>\n      <td>0.0</td>\n      <td>0.0</td>\n      <td>317687.0</td>\n      <td>98712.0</td>\n      <td>32300.0</td>\n      <td>79608.0</td>\n      <td>N</td>\n      <td>Cash</td>\n      <td>N</td>\n    </tr>\n    <tr>\n      <th>904263</th>\n      <td>15000</td>\n      <td>15000</td>\n      <td>15000.0</td>\n      <td>36 months</td>\n      <td>12.12</td>\n      <td>499.08</td>\n      <td>B</td>\n      <td>B3</td>\n      <td>WDAC Radio Compnay</td>\n      <td>10+ years</td>\n      <td>...</td>\n      <td>100.0</td>\n      <td>1.0</td>\n      <td>0.0</td>\n      <td>286357.0</td>\n      <td>17736.0</td>\n      <td>8400.0</td>\n      <td>21670.0</td>\n      <td>N</td>\n      <td>Cash</td>\n      <td>N</td>\n    </tr>\n    <tr>\n      <th>904264</th>\n      <td>8725</td>\n      <td>8725</td>\n      <td>8725.0</td>\n      <td>36 months</td>\n      <td>17.27</td>\n      <td>312.25</td>\n      <td>D</td>\n      <td>D1</td>\n      <td>Clovis Unified School District</td>\n      <td>7 years</td>\n      <td>...</td>\n      <td>100.0</td>\n      <td>0.0</td>\n      <td>0.0</td>\n      <td>NaN</td>\n      <td>21761.0</td>\n      <td>5700.0</td>\n      <td>NaN</td>\n      <td>N</td>\n      <td>Cash</td>\n      <td>N</td>\n    </tr>\n    <tr>\n      <th>904265</th>\n      <td>15000</td>\n      <td>15000</td>\n      <td>15000.0</td>\n      <td>36 months</td>\n      <td>17.09</td>\n      <td>535.47</td>\n      <td>D</td>\n      <td>D1</td>\n      <td>Educator</td>\n      <td>2 years</td>\n      <td>...</td>\n      <td>100.0</td>\n      <td>0.0</td>\n      <td>0.0</td>\n      <td>356490.0</td>\n      <td>113421.0</td>\n      <td>48600.0</td>\n      <td>66676.0</td>\n      <td>N</td>\n      <td>Cash</td>\n      <td>N</td>\n    </tr>\n    <tr>\n      <th>904266</th>\n      <td>15000</td>\n      <td>15000</td>\n      <td>15000.0</td>\n      <td>60 months</td>\n      <td>17.09</td>\n      <td>373.52</td>\n      <td>D</td>\n      <td>D1</td>\n      <td>officer</td>\n      <td>10+ years</td>\n      <td>...</td>\n      <td>11.1</td>\n      <td>1.0</td>\n      <td>0.0</td>\n      <td>80179.0</td>\n      <td>39691.0</td>\n      <td>41600.0</td>\n      <td>30779.0</td>\n      <td>N</td>\n      <td>Cash</td>\n      <td>N</td>\n    </tr>\n  </tbody>\n</table>\n<p>904267 rows × 104 columns</p>\n</div>"
     },
     "execution_count": 31,
     "metadata": {},
     "output_type": "execute_result"
    }
   ],
   "source": [
    "train.drop(drop_col,axis=1,inplace=True)\n",
    "train"
   ],
   "metadata": {
    "collapsed": false,
    "pycharm": {
     "name": "#%%\n"
    }
   }
  },
  {
   "cell_type": "code",
   "execution_count": 33,
   "outputs": [
    {
     "data": {
      "text/plain": "Empty DataFrame\nColumns: [count]\nIndex: []",
      "text/html": "<div>\n<style scoped>\n    .dataframe tbody tr th:only-of-type {\n        vertical-align: middle;\n    }\n\n    .dataframe tbody tr th {\n        vertical-align: top;\n    }\n\n    .dataframe thead th {\n        text-align: right;\n    }\n</style>\n<table border=\"1\" class=\"dataframe\">\n  <thead>\n    <tr style=\"text-align: right;\">\n      <th></th>\n      <th>count</th>\n    </tr>\n    <tr>\n      <th>id</th>\n      <th></th>\n    </tr>\n  </thead>\n  <tbody>\n  </tbody>\n</table>\n</div>"
     },
     "execution_count": 33,
     "metadata": {},
     "output_type": "execute_result"
    }
   ],
   "source": [
    "na_row[na_row['count']>100]"
   ],
   "metadata": {
    "collapsed": false,
    "pycharm": {
     "name": "#%%\n"
    }
   }
  }
 ],
 "metadata": {
  "kernelspec": {
   "display_name": "Python 3",
   "language": "python",
   "name": "python3"
  },
  "language_info": {
   "codemirror_mode": {
    "name": "ipython",
    "version": 2
   },
   "file_extension": ".py",
   "mimetype": "text/x-python",
   "name": "python",
   "nbconvert_exporter": "python",
   "pygments_lexer": "ipython2",
   "version": "2.7.6"
  }
 },
 "nbformat": 4,
 "nbformat_minor": 0
}