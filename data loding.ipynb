{
 "cells": [
  {
   "cell_type": "code",
   "execution_count": 1,
   "metadata": {
    "collapsed": true
   },
   "outputs": [],
   "source": [
    "import numpy as np\n",
    "import pandas as pd"
   ]
  },
  {
   "cell_type": "markdown",
   "source": [
    "# read CSV"
   ],
   "metadata": {
    "collapsed": false,
    "pycharm": {
     "name": "#%% md\n"
    }
   }
  },
  {
   "cell_type": "code",
   "execution_count": 2,
   "outputs": [
    {
     "data": {
      "text/plain": "            id  member_id  loan_amnt  funded_amnt  funded_amnt_inv  \\\n0            0        NaN      20000        20000          20000.0   \n1            1        NaN       7800         7800           7800.0   \n2            2        NaN       5000         5000           5000.0   \n3            3        NaN      22800        22800          22800.0   \n4            4        NaN      25000        25000          24950.0   \n...        ...        ...        ...          ...              ...   \n226062  226062        NaN      16000        16000          16000.0   \n226063  226063        NaN      12000        12000          12000.0   \n226064  226064        NaN      24000        24000          24000.0   \n226065  226065        NaN      25000        25000          25000.0   \n226066  226066        NaN      10000        10000          10000.0   \n\n              term  installment grade sub_grade  \\\n0        60 months       482.02     C        C5   \n1        36 months       240.81     A        A2   \n2        36 months       178.24     D        D3   \n3        36 months       812.77     D        D3   \n4        60 months       585.61     C        C1   \n...            ...          ...   ...       ...   \n226062   60 months       361.52     B        B5   \n226063   60 months       307.93     D        D5   \n226064   60 months       566.56     C        C5   \n226065   36 months       818.35     B        B3   \n226066   36 months       329.67     B        B5   \n\n                                 emp_title  ...  \\\n0       Director Of Finance and Operations  ...   \n1                                  Teacher  ...   \n2                             truck driver  ...   \n3                          yard supervisor  ...   \n4                      Associate Professor  ...   \n...                                    ...  ...   \n226062                      Anderson Honda  ...   \n226063                  Correction officer  ...   \n226064                           Processor  ...   \n226065                            Director  ...   \n226066                      Head Custodian  ...   \n\n       hardship_payoff_balance_amount hardship_last_payment_amount  \\\n0                                 NaN                          NaN   \n1                                 NaN                          NaN   \n2                                 NaN                          NaN   \n3                                 NaN                          NaN   \n4                                 NaN                          NaN   \n...                               ...                          ...   \n226062                            NaN                          NaN   \n226063                            NaN                          NaN   \n226064                            NaN                          NaN   \n226065                            NaN                          NaN   \n226066                            NaN                          NaN   \n\n        disbursement_method debt_settlement_flag debt_settlement_flag_date  \\\n0                      Cash                    N                       NaN   \n1                      Cash                    N                       NaN   \n2                      Cash                    N                       NaN   \n3                      Cash                    Y                  Jan-2018   \n4                      Cash                    N                       NaN   \n...                     ...                  ...                       ...   \n226062                 Cash                    N                       NaN   \n226063                 Cash                    Y                  Aug-2018   \n226064                 Cash                    N                       NaN   \n226065                 Cash                    N                       NaN   \n226066                 Cash                    N                       NaN   \n\n       settlement_status settlement_date  settlement_amount  \\\n0                    NaN             NaN                NaN   \n1                    NaN             NaN                NaN   \n2                    NaN             NaN                NaN   \n3               COMPLETE        Oct-2017            3628.00   \n4                    NaN             NaN                NaN   \n...                  ...             ...                ...   \n226062               NaN             NaN                NaN   \n226063            ACTIVE        Jul-2018            5463.55   \n226064               NaN             NaN                NaN   \n226065               NaN             NaN                NaN   \n226066               NaN             NaN                NaN   \n\n       settlement_percentage settlement_term  \n0                        NaN             NaN  \n1                        NaN             NaN  \n2                        NaN             NaN  \n3                       45.0             1.0  \n4                        NaN             NaN  \n...                      ...             ...  \n226062                   NaN             NaN  \n226063                  45.0            14.0  \n226064                   NaN             NaN  \n226065                   NaN             NaN  \n226066                   NaN             NaN  \n\n[226067 rows x 144 columns]",
      "text/html": "<div>\n<style scoped>\n    .dataframe tbody tr th:only-of-type {\n        vertical-align: middle;\n    }\n\n    .dataframe tbody tr th {\n        vertical-align: top;\n    }\n\n    .dataframe thead th {\n        text-align: right;\n    }\n</style>\n<table border=\"1\" class=\"dataframe\">\n  <thead>\n    <tr style=\"text-align: right;\">\n      <th></th>\n      <th>id</th>\n      <th>member_id</th>\n      <th>loan_amnt</th>\n      <th>funded_amnt</th>\n      <th>funded_amnt_inv</th>\n      <th>term</th>\n      <th>installment</th>\n      <th>grade</th>\n      <th>sub_grade</th>\n      <th>emp_title</th>\n      <th>...</th>\n      <th>hardship_payoff_balance_amount</th>\n      <th>hardship_last_payment_amount</th>\n      <th>disbursement_method</th>\n      <th>debt_settlement_flag</th>\n      <th>debt_settlement_flag_date</th>\n      <th>settlement_status</th>\n      <th>settlement_date</th>\n      <th>settlement_amount</th>\n      <th>settlement_percentage</th>\n      <th>settlement_term</th>\n    </tr>\n  </thead>\n  <tbody>\n    <tr>\n      <th>0</th>\n      <td>0</td>\n      <td>NaN</td>\n      <td>20000</td>\n      <td>20000</td>\n      <td>20000.0</td>\n      <td>60 months</td>\n      <td>482.02</td>\n      <td>C</td>\n      <td>C5</td>\n      <td>Director Of Finance and Operations</td>\n      <td>...</td>\n      <td>NaN</td>\n      <td>NaN</td>\n      <td>Cash</td>\n      <td>N</td>\n      <td>NaN</td>\n      <td>NaN</td>\n      <td>NaN</td>\n      <td>NaN</td>\n      <td>NaN</td>\n      <td>NaN</td>\n    </tr>\n    <tr>\n      <th>1</th>\n      <td>1</td>\n      <td>NaN</td>\n      <td>7800</td>\n      <td>7800</td>\n      <td>7800.0</td>\n      <td>36 months</td>\n      <td>240.81</td>\n      <td>A</td>\n      <td>A2</td>\n      <td>Teacher</td>\n      <td>...</td>\n      <td>NaN</td>\n      <td>NaN</td>\n      <td>Cash</td>\n      <td>N</td>\n      <td>NaN</td>\n      <td>NaN</td>\n      <td>NaN</td>\n      <td>NaN</td>\n      <td>NaN</td>\n      <td>NaN</td>\n    </tr>\n    <tr>\n      <th>2</th>\n      <td>2</td>\n      <td>NaN</td>\n      <td>5000</td>\n      <td>5000</td>\n      <td>5000.0</td>\n      <td>36 months</td>\n      <td>178.24</td>\n      <td>D</td>\n      <td>D3</td>\n      <td>truck driver</td>\n      <td>...</td>\n      <td>NaN</td>\n      <td>NaN</td>\n      <td>Cash</td>\n      <td>N</td>\n      <td>NaN</td>\n      <td>NaN</td>\n      <td>NaN</td>\n      <td>NaN</td>\n      <td>NaN</td>\n      <td>NaN</td>\n    </tr>\n    <tr>\n      <th>3</th>\n      <td>3</td>\n      <td>NaN</td>\n      <td>22800</td>\n      <td>22800</td>\n      <td>22800.0</td>\n      <td>36 months</td>\n      <td>812.77</td>\n      <td>D</td>\n      <td>D3</td>\n      <td>yard supervisor</td>\n      <td>...</td>\n      <td>NaN</td>\n      <td>NaN</td>\n      <td>Cash</td>\n      <td>Y</td>\n      <td>Jan-2018</td>\n      <td>COMPLETE</td>\n      <td>Oct-2017</td>\n      <td>3628.00</td>\n      <td>45.0</td>\n      <td>1.0</td>\n    </tr>\n    <tr>\n      <th>4</th>\n      <td>4</td>\n      <td>NaN</td>\n      <td>25000</td>\n      <td>25000</td>\n      <td>24950.0</td>\n      <td>60 months</td>\n      <td>585.61</td>\n      <td>C</td>\n      <td>C1</td>\n      <td>Associate Professor</td>\n      <td>...</td>\n      <td>NaN</td>\n      <td>NaN</td>\n      <td>Cash</td>\n      <td>N</td>\n      <td>NaN</td>\n      <td>NaN</td>\n      <td>NaN</td>\n      <td>NaN</td>\n      <td>NaN</td>\n      <td>NaN</td>\n    </tr>\n    <tr>\n      <th>...</th>\n      <td>...</td>\n      <td>...</td>\n      <td>...</td>\n      <td>...</td>\n      <td>...</td>\n      <td>...</td>\n      <td>...</td>\n      <td>...</td>\n      <td>...</td>\n      <td>...</td>\n      <td>...</td>\n      <td>...</td>\n      <td>...</td>\n      <td>...</td>\n      <td>...</td>\n      <td>...</td>\n      <td>...</td>\n      <td>...</td>\n      <td>...</td>\n      <td>...</td>\n      <td>...</td>\n    </tr>\n    <tr>\n      <th>226062</th>\n      <td>226062</td>\n      <td>NaN</td>\n      <td>16000</td>\n      <td>16000</td>\n      <td>16000.0</td>\n      <td>60 months</td>\n      <td>361.52</td>\n      <td>B</td>\n      <td>B5</td>\n      <td>Anderson Honda</td>\n      <td>...</td>\n      <td>NaN</td>\n      <td>NaN</td>\n      <td>Cash</td>\n      <td>N</td>\n      <td>NaN</td>\n      <td>NaN</td>\n      <td>NaN</td>\n      <td>NaN</td>\n      <td>NaN</td>\n      <td>NaN</td>\n    </tr>\n    <tr>\n      <th>226063</th>\n      <td>226063</td>\n      <td>NaN</td>\n      <td>12000</td>\n      <td>12000</td>\n      <td>12000.0</td>\n      <td>60 months</td>\n      <td>307.93</td>\n      <td>D</td>\n      <td>D5</td>\n      <td>Correction officer</td>\n      <td>...</td>\n      <td>NaN</td>\n      <td>NaN</td>\n      <td>Cash</td>\n      <td>Y</td>\n      <td>Aug-2018</td>\n      <td>ACTIVE</td>\n      <td>Jul-2018</td>\n      <td>5463.55</td>\n      <td>45.0</td>\n      <td>14.0</td>\n    </tr>\n    <tr>\n      <th>226064</th>\n      <td>226064</td>\n      <td>NaN</td>\n      <td>24000</td>\n      <td>24000</td>\n      <td>24000.0</td>\n      <td>60 months</td>\n      <td>566.56</td>\n      <td>C</td>\n      <td>C5</td>\n      <td>Processor</td>\n      <td>...</td>\n      <td>NaN</td>\n      <td>NaN</td>\n      <td>Cash</td>\n      <td>N</td>\n      <td>NaN</td>\n      <td>NaN</td>\n      <td>NaN</td>\n      <td>NaN</td>\n      <td>NaN</td>\n      <td>NaN</td>\n    </tr>\n    <tr>\n      <th>226065</th>\n      <td>226065</td>\n      <td>NaN</td>\n      <td>25000</td>\n      <td>25000</td>\n      <td>25000.0</td>\n      <td>36 months</td>\n      <td>818.35</td>\n      <td>B</td>\n      <td>B3</td>\n      <td>Director</td>\n      <td>...</td>\n      <td>NaN</td>\n      <td>NaN</td>\n      <td>Cash</td>\n      <td>N</td>\n      <td>NaN</td>\n      <td>NaN</td>\n      <td>NaN</td>\n      <td>NaN</td>\n      <td>NaN</td>\n      <td>NaN</td>\n    </tr>\n    <tr>\n      <th>226066</th>\n      <td>226066</td>\n      <td>NaN</td>\n      <td>10000</td>\n      <td>10000</td>\n      <td>10000.0</td>\n      <td>36 months</td>\n      <td>329.67</td>\n      <td>B</td>\n      <td>B5</td>\n      <td>Head Custodian</td>\n      <td>...</td>\n      <td>NaN</td>\n      <td>NaN</td>\n      <td>Cash</td>\n      <td>N</td>\n      <td>NaN</td>\n      <td>NaN</td>\n      <td>NaN</td>\n      <td>NaN</td>\n      <td>NaN</td>\n      <td>NaN</td>\n    </tr>\n  </tbody>\n</table>\n<p>226067 rows × 144 columns</p>\n</div>"
     },
     "execution_count": 2,
     "metadata": {},
     "output_type": "execute_result"
    }
   ],
   "source": [
    "pd.read_csv('./data/p1_test.csv')"
   ],
   "metadata": {
    "collapsed": false,
    "pycharm": {
     "name": "#%%\n"
    }
   }
  },
  {
   "cell_type": "code",
   "execution_count": 3,
   "outputs": [
    {
     "data": {
      "text/plain": "            id  member_id  loan_amnt  funded_amnt  funded_amnt_inv  \\\n0            0        NaN      20000        20000          20000.0   \n1            1        NaN       7800         7800           7800.0   \n2            2        NaN       5000         5000           5000.0   \n3            3        NaN      22800        22800          22800.0   \n4            4        NaN      25000        25000          24950.0   \n...        ...        ...        ...          ...              ...   \n226062  226062        NaN      16000        16000          16000.0   \n226063  226063        NaN      12000        12000          12000.0   \n226064  226064        NaN      24000        24000          24000.0   \n226065  226065        NaN      25000        25000          25000.0   \n226066  226066        NaN      10000        10000          10000.0   \n\n              term  installment grade sub_grade  \\\n0        60 months       482.02     C        C5   \n1        36 months       240.81     A        A2   \n2        36 months       178.24     D        D3   \n3        36 months       812.77     D        D3   \n4        60 months       585.61     C        C1   \n...            ...          ...   ...       ...   \n226062   60 months       361.52     B        B5   \n226063   60 months       307.93     D        D5   \n226064   60 months       566.56     C        C5   \n226065   36 months       818.35     B        B3   \n226066   36 months       329.67     B        B5   \n\n                                 emp_title  ...  \\\n0       Director Of Finance and Operations  ...   \n1                                  Teacher  ...   \n2                             truck driver  ...   \n3                          yard supervisor  ...   \n4                      Associate Professor  ...   \n...                                    ...  ...   \n226062                      Anderson Honda  ...   \n226063                  Correction officer  ...   \n226064                           Processor  ...   \n226065                            Director  ...   \n226066                      Head Custodian  ...   \n\n       hardship_payoff_balance_amount hardship_last_payment_amount  \\\n0                                 NaN                          NaN   \n1                                 NaN                          NaN   \n2                                 NaN                          NaN   \n3                                 NaN                          NaN   \n4                                 NaN                          NaN   \n...                               ...                          ...   \n226062                            NaN                          NaN   \n226063                            NaN                          NaN   \n226064                            NaN                          NaN   \n226065                            NaN                          NaN   \n226066                            NaN                          NaN   \n\n        disbursement_method debt_settlement_flag debt_settlement_flag_date  \\\n0                      Cash                    N                       NaN   \n1                      Cash                    N                       NaN   \n2                      Cash                    N                       NaN   \n3                      Cash                    Y                  Jan-2018   \n4                      Cash                    N                       NaN   \n...                     ...                  ...                       ...   \n226062                 Cash                    N                       NaN   \n226063                 Cash                    Y                  Aug-2018   \n226064                 Cash                    N                       NaN   \n226065                 Cash                    N                       NaN   \n226066                 Cash                    N                       NaN   \n\n       settlement_status settlement_date  settlement_amount  \\\n0                    NaN             NaN                NaN   \n1                    NaN             NaN                NaN   \n2                    NaN             NaN                NaN   \n3               COMPLETE        Oct-2017            3628.00   \n4                    NaN             NaN                NaN   \n...                  ...             ...                ...   \n226062               NaN             NaN                NaN   \n226063            ACTIVE        Jul-2018            5463.55   \n226064               NaN             NaN                NaN   \n226065               NaN             NaN                NaN   \n226066               NaN             NaN                NaN   \n\n       settlement_percentage settlement_term  \n0                        NaN             NaN  \n1                        NaN             NaN  \n2                        NaN             NaN  \n3                       45.0             1.0  \n4                        NaN             NaN  \n...                      ...             ...  \n226062                   NaN             NaN  \n226063                  45.0            14.0  \n226064                   NaN             NaN  \n226065                   NaN             NaN  \n226066                   NaN             NaN  \n\n[226067 rows x 144 columns]",
      "text/html": "<div>\n<style scoped>\n    .dataframe tbody tr th:only-of-type {\n        vertical-align: middle;\n    }\n\n    .dataframe tbody tr th {\n        vertical-align: top;\n    }\n\n    .dataframe thead th {\n        text-align: right;\n    }\n</style>\n<table border=\"1\" class=\"dataframe\">\n  <thead>\n    <tr style=\"text-align: right;\">\n      <th></th>\n      <th>id</th>\n      <th>member_id</th>\n      <th>loan_amnt</th>\n      <th>funded_amnt</th>\n      <th>funded_amnt_inv</th>\n      <th>term</th>\n      <th>installment</th>\n      <th>grade</th>\n      <th>sub_grade</th>\n      <th>emp_title</th>\n      <th>...</th>\n      <th>hardship_payoff_balance_amount</th>\n      <th>hardship_last_payment_amount</th>\n      <th>disbursement_method</th>\n      <th>debt_settlement_flag</th>\n      <th>debt_settlement_flag_date</th>\n      <th>settlement_status</th>\n      <th>settlement_date</th>\n      <th>settlement_amount</th>\n      <th>settlement_percentage</th>\n      <th>settlement_term</th>\n    </tr>\n  </thead>\n  <tbody>\n    <tr>\n      <th>0</th>\n      <td>0</td>\n      <td>NaN</td>\n      <td>20000</td>\n      <td>20000</td>\n      <td>20000.0</td>\n      <td>60 months</td>\n      <td>482.02</td>\n      <td>C</td>\n      <td>C5</td>\n      <td>Director Of Finance and Operations</td>\n      <td>...</td>\n      <td>NaN</td>\n      <td>NaN</td>\n      <td>Cash</td>\n      <td>N</td>\n      <td>NaN</td>\n      <td>NaN</td>\n      <td>NaN</td>\n      <td>NaN</td>\n      <td>NaN</td>\n      <td>NaN</td>\n    </tr>\n    <tr>\n      <th>1</th>\n      <td>1</td>\n      <td>NaN</td>\n      <td>7800</td>\n      <td>7800</td>\n      <td>7800.0</td>\n      <td>36 months</td>\n      <td>240.81</td>\n      <td>A</td>\n      <td>A2</td>\n      <td>Teacher</td>\n      <td>...</td>\n      <td>NaN</td>\n      <td>NaN</td>\n      <td>Cash</td>\n      <td>N</td>\n      <td>NaN</td>\n      <td>NaN</td>\n      <td>NaN</td>\n      <td>NaN</td>\n      <td>NaN</td>\n      <td>NaN</td>\n    </tr>\n    <tr>\n      <th>2</th>\n      <td>2</td>\n      <td>NaN</td>\n      <td>5000</td>\n      <td>5000</td>\n      <td>5000.0</td>\n      <td>36 months</td>\n      <td>178.24</td>\n      <td>D</td>\n      <td>D3</td>\n      <td>truck driver</td>\n      <td>...</td>\n      <td>NaN</td>\n      <td>NaN</td>\n      <td>Cash</td>\n      <td>N</td>\n      <td>NaN</td>\n      <td>NaN</td>\n      <td>NaN</td>\n      <td>NaN</td>\n      <td>NaN</td>\n      <td>NaN</td>\n    </tr>\n    <tr>\n      <th>3</th>\n      <td>3</td>\n      <td>NaN</td>\n      <td>22800</td>\n      <td>22800</td>\n      <td>22800.0</td>\n      <td>36 months</td>\n      <td>812.77</td>\n      <td>D</td>\n      <td>D3</td>\n      <td>yard supervisor</td>\n      <td>...</td>\n      <td>NaN</td>\n      <td>NaN</td>\n      <td>Cash</td>\n      <td>Y</td>\n      <td>Jan-2018</td>\n      <td>COMPLETE</td>\n      <td>Oct-2017</td>\n      <td>3628.00</td>\n      <td>45.0</td>\n      <td>1.0</td>\n    </tr>\n    <tr>\n      <th>4</th>\n      <td>4</td>\n      <td>NaN</td>\n      <td>25000</td>\n      <td>25000</td>\n      <td>24950.0</td>\n      <td>60 months</td>\n      <td>585.61</td>\n      <td>C</td>\n      <td>C1</td>\n      <td>Associate Professor</td>\n      <td>...</td>\n      <td>NaN</td>\n      <td>NaN</td>\n      <td>Cash</td>\n      <td>N</td>\n      <td>NaN</td>\n      <td>NaN</td>\n      <td>NaN</td>\n      <td>NaN</td>\n      <td>NaN</td>\n      <td>NaN</td>\n    </tr>\n    <tr>\n      <th>...</th>\n      <td>...</td>\n      <td>...</td>\n      <td>...</td>\n      <td>...</td>\n      <td>...</td>\n      <td>...</td>\n      <td>...</td>\n      <td>...</td>\n      <td>...</td>\n      <td>...</td>\n      <td>...</td>\n      <td>...</td>\n      <td>...</td>\n      <td>...</td>\n      <td>...</td>\n      <td>...</td>\n      <td>...</td>\n      <td>...</td>\n      <td>...</td>\n      <td>...</td>\n      <td>...</td>\n    </tr>\n    <tr>\n      <th>226062</th>\n      <td>226062</td>\n      <td>NaN</td>\n      <td>16000</td>\n      <td>16000</td>\n      <td>16000.0</td>\n      <td>60 months</td>\n      <td>361.52</td>\n      <td>B</td>\n      <td>B5</td>\n      <td>Anderson Honda</td>\n      <td>...</td>\n      <td>NaN</td>\n      <td>NaN</td>\n      <td>Cash</td>\n      <td>N</td>\n      <td>NaN</td>\n      <td>NaN</td>\n      <td>NaN</td>\n      <td>NaN</td>\n      <td>NaN</td>\n      <td>NaN</td>\n    </tr>\n    <tr>\n      <th>226063</th>\n      <td>226063</td>\n      <td>NaN</td>\n      <td>12000</td>\n      <td>12000</td>\n      <td>12000.0</td>\n      <td>60 months</td>\n      <td>307.93</td>\n      <td>D</td>\n      <td>D5</td>\n      <td>Correction officer</td>\n      <td>...</td>\n      <td>NaN</td>\n      <td>NaN</td>\n      <td>Cash</td>\n      <td>Y</td>\n      <td>Aug-2018</td>\n      <td>ACTIVE</td>\n      <td>Jul-2018</td>\n      <td>5463.55</td>\n      <td>45.0</td>\n      <td>14.0</td>\n    </tr>\n    <tr>\n      <th>226064</th>\n      <td>226064</td>\n      <td>NaN</td>\n      <td>24000</td>\n      <td>24000</td>\n      <td>24000.0</td>\n      <td>60 months</td>\n      <td>566.56</td>\n      <td>C</td>\n      <td>C5</td>\n      <td>Processor</td>\n      <td>...</td>\n      <td>NaN</td>\n      <td>NaN</td>\n      <td>Cash</td>\n      <td>N</td>\n      <td>NaN</td>\n      <td>NaN</td>\n      <td>NaN</td>\n      <td>NaN</td>\n      <td>NaN</td>\n      <td>NaN</td>\n    </tr>\n    <tr>\n      <th>226065</th>\n      <td>226065</td>\n      <td>NaN</td>\n      <td>25000</td>\n      <td>25000</td>\n      <td>25000.0</td>\n      <td>36 months</td>\n      <td>818.35</td>\n      <td>B</td>\n      <td>B3</td>\n      <td>Director</td>\n      <td>...</td>\n      <td>NaN</td>\n      <td>NaN</td>\n      <td>Cash</td>\n      <td>N</td>\n      <td>NaN</td>\n      <td>NaN</td>\n      <td>NaN</td>\n      <td>NaN</td>\n      <td>NaN</td>\n      <td>NaN</td>\n    </tr>\n    <tr>\n      <th>226066</th>\n      <td>226066</td>\n      <td>NaN</td>\n      <td>10000</td>\n      <td>10000</td>\n      <td>10000.0</td>\n      <td>36 months</td>\n      <td>329.67</td>\n      <td>B</td>\n      <td>B5</td>\n      <td>Head Custodian</td>\n      <td>...</td>\n      <td>NaN</td>\n      <td>NaN</td>\n      <td>Cash</td>\n      <td>N</td>\n      <td>NaN</td>\n      <td>NaN</td>\n      <td>NaN</td>\n      <td>NaN</td>\n      <td>NaN</td>\n      <td>NaN</td>\n    </tr>\n  </tbody>\n</table>\n<p>226067 rows × 144 columns</p>\n</div>"
     },
     "execution_count": 3,
     "metadata": {},
     "output_type": "execute_result"
    }
   ],
   "source": [
    "pd.read_table('./data/p1_test.csv',sep=',')"
   ],
   "metadata": {
    "collapsed": false,
    "pycharm": {
     "name": "#%%\n"
    }
   }
  },
  {
   "cell_type": "code",
   "execution_count": 4,
   "outputs": [
    {
     "data": {
      "text/plain": "        member_id  loan_amnt  funded_amnt  funded_amnt_inv        term  \\\nid                                                                       \n0             NaN      20000        20000          20000.0   60 months   \n1             NaN       7800         7800           7800.0   36 months   \n2             NaN       5000         5000           5000.0   36 months   \n3             NaN      22800        22800          22800.0   36 months   \n4             NaN      25000        25000          24950.0   60 months   \n...           ...        ...          ...              ...         ...   \n226062        NaN      16000        16000          16000.0   60 months   \n226063        NaN      12000        12000          12000.0   60 months   \n226064        NaN      24000        24000          24000.0   60 months   \n226065        NaN      25000        25000          25000.0   36 months   \n226066        NaN      10000        10000          10000.0   36 months   \n\n        installment grade sub_grade                           emp_title  \\\nid                                                                        \n0            482.02     C        C5  Director Of Finance and Operations   \n1            240.81     A        A2                             Teacher   \n2            178.24     D        D3                        truck driver   \n3            812.77     D        D3                     yard supervisor   \n4            585.61     C        C1                 Associate Professor   \n...             ...   ...       ...                                 ...   \n226062       361.52     B        B5                      Anderson Honda   \n226063       307.93     D        D5                  Correction officer   \n226064       566.56     C        C5                           Processor   \n226065       818.35     B        B3                            Director   \n226066       329.67     B        B5                      Head Custodian   \n\n       emp_length  ... hardship_payoff_balance_amount  \\\nid                 ...                                  \n0       10+ years  ...                            NaN   \n1         9 years  ...                            NaN   \n2        < 1 year  ...                            NaN   \n3         8 years  ...                            NaN   \n4       10+ years  ...                            NaN   \n...           ...  ...                            ...   \n226062    2 years  ...                            NaN   \n226063  10+ years  ...                            NaN   \n226064    9 years  ...                            NaN   \n226065    7 years  ...                            NaN   \n226066    5 years  ...                            NaN   \n\n        hardship_last_payment_amount disbursement_method debt_settlement_flag  \\\nid                                                                              \n0                                NaN                Cash                    N   \n1                                NaN                Cash                    N   \n2                                NaN                Cash                    N   \n3                                NaN                Cash                    Y   \n4                                NaN                Cash                    N   \n...                              ...                 ...                  ...   \n226062                           NaN                Cash                    N   \n226063                           NaN                Cash                    Y   \n226064                           NaN                Cash                    N   \n226065                           NaN                Cash                    N   \n226066                           NaN                Cash                    N   \n\n       debt_settlement_flag_date settlement_status  settlement_date  \\\nid                                                                    \n0                            NaN               NaN              NaN   \n1                            NaN               NaN              NaN   \n2                            NaN               NaN              NaN   \n3                       Jan-2018          COMPLETE         Oct-2017   \n4                            NaN               NaN              NaN   \n...                          ...               ...              ...   \n226062                       NaN               NaN              NaN   \n226063                  Aug-2018            ACTIVE         Jul-2018   \n226064                       NaN               NaN              NaN   \n226065                       NaN               NaN              NaN   \n226066                       NaN               NaN              NaN   \n\n       settlement_amount settlement_percentage settlement_term  \nid                                                              \n0                    NaN                   NaN             NaN  \n1                    NaN                   NaN             NaN  \n2                    NaN                   NaN             NaN  \n3                3628.00                  45.0             1.0  \n4                    NaN                   NaN             NaN  \n...                  ...                   ...             ...  \n226062               NaN                   NaN             NaN  \n226063           5463.55                  45.0            14.0  \n226064               NaN                   NaN             NaN  \n226065               NaN                   NaN             NaN  \n226066               NaN                   NaN             NaN  \n\n[226067 rows x 143 columns]",
      "text/html": "<div>\n<style scoped>\n    .dataframe tbody tr th:only-of-type {\n        vertical-align: middle;\n    }\n\n    .dataframe tbody tr th {\n        vertical-align: top;\n    }\n\n    .dataframe thead th {\n        text-align: right;\n    }\n</style>\n<table border=\"1\" class=\"dataframe\">\n  <thead>\n    <tr style=\"text-align: right;\">\n      <th></th>\n      <th>member_id</th>\n      <th>loan_amnt</th>\n      <th>funded_amnt</th>\n      <th>funded_amnt_inv</th>\n      <th>term</th>\n      <th>installment</th>\n      <th>grade</th>\n      <th>sub_grade</th>\n      <th>emp_title</th>\n      <th>emp_length</th>\n      <th>...</th>\n      <th>hardship_payoff_balance_amount</th>\n      <th>hardship_last_payment_amount</th>\n      <th>disbursement_method</th>\n      <th>debt_settlement_flag</th>\n      <th>debt_settlement_flag_date</th>\n      <th>settlement_status</th>\n      <th>settlement_date</th>\n      <th>settlement_amount</th>\n      <th>settlement_percentage</th>\n      <th>settlement_term</th>\n    </tr>\n    <tr>\n      <th>id</th>\n      <th></th>\n      <th></th>\n      <th></th>\n      <th></th>\n      <th></th>\n      <th></th>\n      <th></th>\n      <th></th>\n      <th></th>\n      <th></th>\n      <th></th>\n      <th></th>\n      <th></th>\n      <th></th>\n      <th></th>\n      <th></th>\n      <th></th>\n      <th></th>\n      <th></th>\n      <th></th>\n      <th></th>\n    </tr>\n  </thead>\n  <tbody>\n    <tr>\n      <th>0</th>\n      <td>NaN</td>\n      <td>20000</td>\n      <td>20000</td>\n      <td>20000.0</td>\n      <td>60 months</td>\n      <td>482.02</td>\n      <td>C</td>\n      <td>C5</td>\n      <td>Director Of Finance and Operations</td>\n      <td>10+ years</td>\n      <td>...</td>\n      <td>NaN</td>\n      <td>NaN</td>\n      <td>Cash</td>\n      <td>N</td>\n      <td>NaN</td>\n      <td>NaN</td>\n      <td>NaN</td>\n      <td>NaN</td>\n      <td>NaN</td>\n      <td>NaN</td>\n    </tr>\n    <tr>\n      <th>1</th>\n      <td>NaN</td>\n      <td>7800</td>\n      <td>7800</td>\n      <td>7800.0</td>\n      <td>36 months</td>\n      <td>240.81</td>\n      <td>A</td>\n      <td>A2</td>\n      <td>Teacher</td>\n      <td>9 years</td>\n      <td>...</td>\n      <td>NaN</td>\n      <td>NaN</td>\n      <td>Cash</td>\n      <td>N</td>\n      <td>NaN</td>\n      <td>NaN</td>\n      <td>NaN</td>\n      <td>NaN</td>\n      <td>NaN</td>\n      <td>NaN</td>\n    </tr>\n    <tr>\n      <th>2</th>\n      <td>NaN</td>\n      <td>5000</td>\n      <td>5000</td>\n      <td>5000.0</td>\n      <td>36 months</td>\n      <td>178.24</td>\n      <td>D</td>\n      <td>D3</td>\n      <td>truck driver</td>\n      <td>&lt; 1 year</td>\n      <td>...</td>\n      <td>NaN</td>\n      <td>NaN</td>\n      <td>Cash</td>\n      <td>N</td>\n      <td>NaN</td>\n      <td>NaN</td>\n      <td>NaN</td>\n      <td>NaN</td>\n      <td>NaN</td>\n      <td>NaN</td>\n    </tr>\n    <tr>\n      <th>3</th>\n      <td>NaN</td>\n      <td>22800</td>\n      <td>22800</td>\n      <td>22800.0</td>\n      <td>36 months</td>\n      <td>812.77</td>\n      <td>D</td>\n      <td>D3</td>\n      <td>yard supervisor</td>\n      <td>8 years</td>\n      <td>...</td>\n      <td>NaN</td>\n      <td>NaN</td>\n      <td>Cash</td>\n      <td>Y</td>\n      <td>Jan-2018</td>\n      <td>COMPLETE</td>\n      <td>Oct-2017</td>\n      <td>3628.00</td>\n      <td>45.0</td>\n      <td>1.0</td>\n    </tr>\n    <tr>\n      <th>4</th>\n      <td>NaN</td>\n      <td>25000</td>\n      <td>25000</td>\n      <td>24950.0</td>\n      <td>60 months</td>\n      <td>585.61</td>\n      <td>C</td>\n      <td>C1</td>\n      <td>Associate Professor</td>\n      <td>10+ years</td>\n      <td>...</td>\n      <td>NaN</td>\n      <td>NaN</td>\n      <td>Cash</td>\n      <td>N</td>\n      <td>NaN</td>\n      <td>NaN</td>\n      <td>NaN</td>\n      <td>NaN</td>\n      <td>NaN</td>\n      <td>NaN</td>\n    </tr>\n    <tr>\n      <th>...</th>\n      <td>...</td>\n      <td>...</td>\n      <td>...</td>\n      <td>...</td>\n      <td>...</td>\n      <td>...</td>\n      <td>...</td>\n      <td>...</td>\n      <td>...</td>\n      <td>...</td>\n      <td>...</td>\n      <td>...</td>\n      <td>...</td>\n      <td>...</td>\n      <td>...</td>\n      <td>...</td>\n      <td>...</td>\n      <td>...</td>\n      <td>...</td>\n      <td>...</td>\n      <td>...</td>\n    </tr>\n    <tr>\n      <th>226062</th>\n      <td>NaN</td>\n      <td>16000</td>\n      <td>16000</td>\n      <td>16000.0</td>\n      <td>60 months</td>\n      <td>361.52</td>\n      <td>B</td>\n      <td>B5</td>\n      <td>Anderson Honda</td>\n      <td>2 years</td>\n      <td>...</td>\n      <td>NaN</td>\n      <td>NaN</td>\n      <td>Cash</td>\n      <td>N</td>\n      <td>NaN</td>\n      <td>NaN</td>\n      <td>NaN</td>\n      <td>NaN</td>\n      <td>NaN</td>\n      <td>NaN</td>\n    </tr>\n    <tr>\n      <th>226063</th>\n      <td>NaN</td>\n      <td>12000</td>\n      <td>12000</td>\n      <td>12000.0</td>\n      <td>60 months</td>\n      <td>307.93</td>\n      <td>D</td>\n      <td>D5</td>\n      <td>Correction officer</td>\n      <td>10+ years</td>\n      <td>...</td>\n      <td>NaN</td>\n      <td>NaN</td>\n      <td>Cash</td>\n      <td>Y</td>\n      <td>Aug-2018</td>\n      <td>ACTIVE</td>\n      <td>Jul-2018</td>\n      <td>5463.55</td>\n      <td>45.0</td>\n      <td>14.0</td>\n    </tr>\n    <tr>\n      <th>226064</th>\n      <td>NaN</td>\n      <td>24000</td>\n      <td>24000</td>\n      <td>24000.0</td>\n      <td>60 months</td>\n      <td>566.56</td>\n      <td>C</td>\n      <td>C5</td>\n      <td>Processor</td>\n      <td>9 years</td>\n      <td>...</td>\n      <td>NaN</td>\n      <td>NaN</td>\n      <td>Cash</td>\n      <td>N</td>\n      <td>NaN</td>\n      <td>NaN</td>\n      <td>NaN</td>\n      <td>NaN</td>\n      <td>NaN</td>\n      <td>NaN</td>\n    </tr>\n    <tr>\n      <th>226065</th>\n      <td>NaN</td>\n      <td>25000</td>\n      <td>25000</td>\n      <td>25000.0</td>\n      <td>36 months</td>\n      <td>818.35</td>\n      <td>B</td>\n      <td>B3</td>\n      <td>Director</td>\n      <td>7 years</td>\n      <td>...</td>\n      <td>NaN</td>\n      <td>NaN</td>\n      <td>Cash</td>\n      <td>N</td>\n      <td>NaN</td>\n      <td>NaN</td>\n      <td>NaN</td>\n      <td>NaN</td>\n      <td>NaN</td>\n      <td>NaN</td>\n    </tr>\n    <tr>\n      <th>226066</th>\n      <td>NaN</td>\n      <td>10000</td>\n      <td>10000</td>\n      <td>10000.0</td>\n      <td>36 months</td>\n      <td>329.67</td>\n      <td>B</td>\n      <td>B5</td>\n      <td>Head Custodian</td>\n      <td>5 years</td>\n      <td>...</td>\n      <td>NaN</td>\n      <td>NaN</td>\n      <td>Cash</td>\n      <td>N</td>\n      <td>NaN</td>\n      <td>NaN</td>\n      <td>NaN</td>\n      <td>NaN</td>\n      <td>NaN</td>\n      <td>NaN</td>\n    </tr>\n  </tbody>\n</table>\n<p>226067 rows × 143 columns</p>\n</div>"
     },
     "execution_count": 4,
     "metadata": {},
     "output_type": "execute_result"
    }
   ],
   "source": [
    "pd.read_csv('./data/p1_test.csv',index_col='id')"
   ],
   "metadata": {
    "collapsed": false,
    "pycharm": {
     "name": "#%%\n"
    }
   }
  },
  {
   "cell_type": "code",
   "execution_count": 5,
   "outputs": [
    {
     "data": {
      "text/plain": "                  loan_amnt  funded_amnt  funded_amnt_inv        term  \\\nid     member_id                                                        \n0      NaN            20000        20000          20000.0   60 months   \n1      NaN             7800         7800           7800.0   36 months   \n2      NaN             5000         5000           5000.0   36 months   \n3      NaN            22800        22800          22800.0   36 months   \n4      NaN            25000        25000          24950.0   60 months   \n...                     ...          ...              ...         ...   \n226062 NaN            16000        16000          16000.0   60 months   \n226063 NaN            12000        12000          12000.0   60 months   \n226064 NaN            24000        24000          24000.0   60 months   \n226065 NaN            25000        25000          25000.0   36 months   \n226066 NaN            10000        10000          10000.0   36 months   \n\n                  installment grade sub_grade  \\\nid     member_id                                \n0      NaN             482.02     C        C5   \n1      NaN             240.81     A        A2   \n2      NaN             178.24     D        D3   \n3      NaN             812.77     D        D3   \n4      NaN             585.61     C        C1   \n...                       ...   ...       ...   \n226062 NaN             361.52     B        B5   \n226063 NaN             307.93     D        D5   \n226064 NaN             566.56     C        C5   \n226065 NaN             818.35     B        B3   \n226066 NaN             329.67     B        B5   \n\n                                           emp_title emp_length  \\\nid     member_id                                                  \n0      NaN        Director Of Finance and Operations  10+ years   \n1      NaN                                   Teacher    9 years   \n2      NaN                              truck driver   < 1 year   \n3      NaN                           yard supervisor    8 years   \n4      NaN                       Associate Professor  10+ years   \n...                                              ...        ...   \n226062 NaN                            Anderson Honda    2 years   \n226063 NaN                        Correction officer  10+ years   \n226064 NaN                                 Processor    9 years   \n226065 NaN                                  Director    7 years   \n226066 NaN                            Head Custodian    5 years   \n\n                 home_ownership  ...  hardship_payoff_balance_amount  \\\nid     member_id                 ...                                   \n0      NaN             MORTGAGE  ...                             NaN   \n1      NaN                 RENT  ...                             NaN   \n2      NaN                 RENT  ...                             NaN   \n3      NaN                 RENT  ...                             NaN   \n4      NaN             MORTGAGE  ...                             NaN   \n...                         ...  ...                             ...   \n226062 NaN                 RENT  ...                             NaN   \n226063 NaN             MORTGAGE  ...                             NaN   \n226064 NaN             MORTGAGE  ...                             NaN   \n226065 NaN             MORTGAGE  ...                             NaN   \n226066 NaN             MORTGAGE  ...                             NaN   \n\n                 hardship_last_payment_amount disbursement_method  \\\nid     member_id                                                    \n0      NaN                                NaN                Cash   \n1      NaN                                NaN                Cash   \n2      NaN                                NaN                Cash   \n3      NaN                                NaN                Cash   \n4      NaN                                NaN                Cash   \n...                                       ...                 ...   \n226062 NaN                                NaN                Cash   \n226063 NaN                                NaN                Cash   \n226064 NaN                                NaN                Cash   \n226065 NaN                                NaN                Cash   \n226066 NaN                                NaN                Cash   \n\n                 debt_settlement_flag debt_settlement_flag_date  \\\nid     member_id                                                  \n0      NaN                          N                       NaN   \n1      NaN                          N                       NaN   \n2      NaN                          N                       NaN   \n3      NaN                          Y                  Jan-2018   \n4      NaN                          N                       NaN   \n...                               ...                       ...   \n226062 NaN                          N                       NaN   \n226063 NaN                          Y                  Aug-2018   \n226064 NaN                          N                       NaN   \n226065 NaN                          N                       NaN   \n226066 NaN                          N                       NaN   \n\n                  settlement_status settlement_date settlement_amount  \\\nid     member_id                                                        \n0      NaN                      NaN             NaN               NaN   \n1      NaN                      NaN             NaN               NaN   \n2      NaN                      NaN             NaN               NaN   \n3      NaN                 COMPLETE        Oct-2017           3628.00   \n4      NaN                      NaN             NaN               NaN   \n...                             ...             ...               ...   \n226062 NaN                      NaN             NaN               NaN   \n226063 NaN                   ACTIVE        Jul-2018           5463.55   \n226064 NaN                      NaN             NaN               NaN   \n226065 NaN                      NaN             NaN               NaN   \n226066 NaN                      NaN             NaN               NaN   \n\n                 settlement_percentage settlement_term  \nid     member_id                                        \n0      NaN                         NaN             NaN  \n1      NaN                         NaN             NaN  \n2      NaN                         NaN             NaN  \n3      NaN                        45.0             1.0  \n4      NaN                         NaN             NaN  \n...                                ...             ...  \n226062 NaN                         NaN             NaN  \n226063 NaN                        45.0            14.0  \n226064 NaN                         NaN             NaN  \n226065 NaN                         NaN             NaN  \n226066 NaN                         NaN             NaN  \n\n[226067 rows x 142 columns]",
      "text/html": "<div>\n<style scoped>\n    .dataframe tbody tr th:only-of-type {\n        vertical-align: middle;\n    }\n\n    .dataframe tbody tr th {\n        vertical-align: top;\n    }\n\n    .dataframe thead th {\n        text-align: right;\n    }\n</style>\n<table border=\"1\" class=\"dataframe\">\n  <thead>\n    <tr style=\"text-align: right;\">\n      <th></th>\n      <th></th>\n      <th>loan_amnt</th>\n      <th>funded_amnt</th>\n      <th>funded_amnt_inv</th>\n      <th>term</th>\n      <th>installment</th>\n      <th>grade</th>\n      <th>sub_grade</th>\n      <th>emp_title</th>\n      <th>emp_length</th>\n      <th>home_ownership</th>\n      <th>...</th>\n      <th>hardship_payoff_balance_amount</th>\n      <th>hardship_last_payment_amount</th>\n      <th>disbursement_method</th>\n      <th>debt_settlement_flag</th>\n      <th>debt_settlement_flag_date</th>\n      <th>settlement_status</th>\n      <th>settlement_date</th>\n      <th>settlement_amount</th>\n      <th>settlement_percentage</th>\n      <th>settlement_term</th>\n    </tr>\n    <tr>\n      <th>id</th>\n      <th>member_id</th>\n      <th></th>\n      <th></th>\n      <th></th>\n      <th></th>\n      <th></th>\n      <th></th>\n      <th></th>\n      <th></th>\n      <th></th>\n      <th></th>\n      <th></th>\n      <th></th>\n      <th></th>\n      <th></th>\n      <th></th>\n      <th></th>\n      <th></th>\n      <th></th>\n      <th></th>\n      <th></th>\n      <th></th>\n    </tr>\n  </thead>\n  <tbody>\n    <tr>\n      <th>0</th>\n      <th>NaN</th>\n      <td>20000</td>\n      <td>20000</td>\n      <td>20000.0</td>\n      <td>60 months</td>\n      <td>482.02</td>\n      <td>C</td>\n      <td>C5</td>\n      <td>Director Of Finance and Operations</td>\n      <td>10+ years</td>\n      <td>MORTGAGE</td>\n      <td>...</td>\n      <td>NaN</td>\n      <td>NaN</td>\n      <td>Cash</td>\n      <td>N</td>\n      <td>NaN</td>\n      <td>NaN</td>\n      <td>NaN</td>\n      <td>NaN</td>\n      <td>NaN</td>\n      <td>NaN</td>\n    </tr>\n    <tr>\n      <th>1</th>\n      <th>NaN</th>\n      <td>7800</td>\n      <td>7800</td>\n      <td>7800.0</td>\n      <td>36 months</td>\n      <td>240.81</td>\n      <td>A</td>\n      <td>A2</td>\n      <td>Teacher</td>\n      <td>9 years</td>\n      <td>RENT</td>\n      <td>...</td>\n      <td>NaN</td>\n      <td>NaN</td>\n      <td>Cash</td>\n      <td>N</td>\n      <td>NaN</td>\n      <td>NaN</td>\n      <td>NaN</td>\n      <td>NaN</td>\n      <td>NaN</td>\n      <td>NaN</td>\n    </tr>\n    <tr>\n      <th>2</th>\n      <th>NaN</th>\n      <td>5000</td>\n      <td>5000</td>\n      <td>5000.0</td>\n      <td>36 months</td>\n      <td>178.24</td>\n      <td>D</td>\n      <td>D3</td>\n      <td>truck driver</td>\n      <td>&lt; 1 year</td>\n      <td>RENT</td>\n      <td>...</td>\n      <td>NaN</td>\n      <td>NaN</td>\n      <td>Cash</td>\n      <td>N</td>\n      <td>NaN</td>\n      <td>NaN</td>\n      <td>NaN</td>\n      <td>NaN</td>\n      <td>NaN</td>\n      <td>NaN</td>\n    </tr>\n    <tr>\n      <th>3</th>\n      <th>NaN</th>\n      <td>22800</td>\n      <td>22800</td>\n      <td>22800.0</td>\n      <td>36 months</td>\n      <td>812.77</td>\n      <td>D</td>\n      <td>D3</td>\n      <td>yard supervisor</td>\n      <td>8 years</td>\n      <td>RENT</td>\n      <td>...</td>\n      <td>NaN</td>\n      <td>NaN</td>\n      <td>Cash</td>\n      <td>Y</td>\n      <td>Jan-2018</td>\n      <td>COMPLETE</td>\n      <td>Oct-2017</td>\n      <td>3628.00</td>\n      <td>45.0</td>\n      <td>1.0</td>\n    </tr>\n    <tr>\n      <th>4</th>\n      <th>NaN</th>\n      <td>25000</td>\n      <td>25000</td>\n      <td>24950.0</td>\n      <td>60 months</td>\n      <td>585.61</td>\n      <td>C</td>\n      <td>C1</td>\n      <td>Associate Professor</td>\n      <td>10+ years</td>\n      <td>MORTGAGE</td>\n      <td>...</td>\n      <td>NaN</td>\n      <td>NaN</td>\n      <td>Cash</td>\n      <td>N</td>\n      <td>NaN</td>\n      <td>NaN</td>\n      <td>NaN</td>\n      <td>NaN</td>\n      <td>NaN</td>\n      <td>NaN</td>\n    </tr>\n    <tr>\n      <th>...</th>\n      <th>...</th>\n      <td>...</td>\n      <td>...</td>\n      <td>...</td>\n      <td>...</td>\n      <td>...</td>\n      <td>...</td>\n      <td>...</td>\n      <td>...</td>\n      <td>...</td>\n      <td>...</td>\n      <td>...</td>\n      <td>...</td>\n      <td>...</td>\n      <td>...</td>\n      <td>...</td>\n      <td>...</td>\n      <td>...</td>\n      <td>...</td>\n      <td>...</td>\n      <td>...</td>\n      <td>...</td>\n    </tr>\n    <tr>\n      <th>226062</th>\n      <th>NaN</th>\n      <td>16000</td>\n      <td>16000</td>\n      <td>16000.0</td>\n      <td>60 months</td>\n      <td>361.52</td>\n      <td>B</td>\n      <td>B5</td>\n      <td>Anderson Honda</td>\n      <td>2 years</td>\n      <td>RENT</td>\n      <td>...</td>\n      <td>NaN</td>\n      <td>NaN</td>\n      <td>Cash</td>\n      <td>N</td>\n      <td>NaN</td>\n      <td>NaN</td>\n      <td>NaN</td>\n      <td>NaN</td>\n      <td>NaN</td>\n      <td>NaN</td>\n    </tr>\n    <tr>\n      <th>226063</th>\n      <th>NaN</th>\n      <td>12000</td>\n      <td>12000</td>\n      <td>12000.0</td>\n      <td>60 months</td>\n      <td>307.93</td>\n      <td>D</td>\n      <td>D5</td>\n      <td>Correction officer</td>\n      <td>10+ years</td>\n      <td>MORTGAGE</td>\n      <td>...</td>\n      <td>NaN</td>\n      <td>NaN</td>\n      <td>Cash</td>\n      <td>Y</td>\n      <td>Aug-2018</td>\n      <td>ACTIVE</td>\n      <td>Jul-2018</td>\n      <td>5463.55</td>\n      <td>45.0</td>\n      <td>14.0</td>\n    </tr>\n    <tr>\n      <th>226064</th>\n      <th>NaN</th>\n      <td>24000</td>\n      <td>24000</td>\n      <td>24000.0</td>\n      <td>60 months</td>\n      <td>566.56</td>\n      <td>C</td>\n      <td>C5</td>\n      <td>Processor</td>\n      <td>9 years</td>\n      <td>MORTGAGE</td>\n      <td>...</td>\n      <td>NaN</td>\n      <td>NaN</td>\n      <td>Cash</td>\n      <td>N</td>\n      <td>NaN</td>\n      <td>NaN</td>\n      <td>NaN</td>\n      <td>NaN</td>\n      <td>NaN</td>\n      <td>NaN</td>\n    </tr>\n    <tr>\n      <th>226065</th>\n      <th>NaN</th>\n      <td>25000</td>\n      <td>25000</td>\n      <td>25000.0</td>\n      <td>36 months</td>\n      <td>818.35</td>\n      <td>B</td>\n      <td>B3</td>\n      <td>Director</td>\n      <td>7 years</td>\n      <td>MORTGAGE</td>\n      <td>...</td>\n      <td>NaN</td>\n      <td>NaN</td>\n      <td>Cash</td>\n      <td>N</td>\n      <td>NaN</td>\n      <td>NaN</td>\n      <td>NaN</td>\n      <td>NaN</td>\n      <td>NaN</td>\n      <td>NaN</td>\n    </tr>\n    <tr>\n      <th>226066</th>\n      <th>NaN</th>\n      <td>10000</td>\n      <td>10000</td>\n      <td>10000.0</td>\n      <td>36 months</td>\n      <td>329.67</td>\n      <td>B</td>\n      <td>B5</td>\n      <td>Head Custodian</td>\n      <td>5 years</td>\n      <td>MORTGAGE</td>\n      <td>...</td>\n      <td>NaN</td>\n      <td>NaN</td>\n      <td>Cash</td>\n      <td>N</td>\n      <td>NaN</td>\n      <td>NaN</td>\n      <td>NaN</td>\n      <td>NaN</td>\n      <td>NaN</td>\n      <td>NaN</td>\n    </tr>\n  </tbody>\n</table>\n<p>226067 rows × 142 columns</p>\n</div>"
     },
     "execution_count": 5,
     "metadata": {},
     "output_type": "execute_result"
    }
   ],
   "source": [
    "pd.read_csv('./data/p1_test.csv',index_col=['id','member_id'])"
   ],
   "metadata": {
    "collapsed": false,
    "pycharm": {
     "name": "#%%\n"
    }
   }
  },
  {
   "cell_type": "code",
   "execution_count": 7,
   "outputs": [
    {
     "data": {
      "text/plain": "        member_id  loan_amnt  ...  settlement_percentage  settlement_term\nid                            ...                                        \n0             NaN      20000  ...                    NaN              NaN\n1             NaN       7800  ...                    NaN              NaN\n2             NaN       5000  ...                    NaN              NaN\n3             NaN      22800  ...                   45.0              1.0\n4             NaN      25000  ...                    NaN              NaN\n...           ...        ...  ...                    ...              ...\n226062        NaN      16000  ...                    NaN              NaN\n226063        NaN      12000  ...                   45.0             14.0\n226064        NaN      24000  ...                    NaN              NaN\n226065        NaN      25000  ...                    NaN              NaN\n226066        NaN      10000  ...                    NaN              NaN\n\n[226067 rows x 143 columns]",
      "text/html": "<div>\n<style scoped>\n    .dataframe tbody tr th:only-of-type {\n        vertical-align: middle;\n    }\n\n    .dataframe tbody tr th {\n        vertical-align: top;\n    }\n\n    .dataframe thead th {\n        text-align: right;\n    }\n</style>\n<table border=\"1\" class=\"dataframe\">\n  <thead>\n    <tr style=\"text-align: right;\">\n      <th></th>\n      <th>member_id</th>\n      <th>loan_amnt</th>\n      <th>...</th>\n      <th>settlement_percentage</th>\n      <th>settlement_term</th>\n    </tr>\n    <tr>\n      <th>id</th>\n      <th></th>\n      <th></th>\n      <th></th>\n      <th></th>\n      <th></th>\n    </tr>\n  </thead>\n  <tbody>\n    <tr>\n      <th>0</th>\n      <td>NaN</td>\n      <td>20000</td>\n      <td>...</td>\n      <td>NaN</td>\n      <td>NaN</td>\n    </tr>\n    <tr>\n      <th>1</th>\n      <td>NaN</td>\n      <td>7800</td>\n      <td>...</td>\n      <td>NaN</td>\n      <td>NaN</td>\n    </tr>\n    <tr>\n      <th>2</th>\n      <td>NaN</td>\n      <td>5000</td>\n      <td>...</td>\n      <td>NaN</td>\n      <td>NaN</td>\n    </tr>\n    <tr>\n      <th>3</th>\n      <td>NaN</td>\n      <td>22800</td>\n      <td>...</td>\n      <td>45.0</td>\n      <td>1.0</td>\n    </tr>\n    <tr>\n      <th>4</th>\n      <td>NaN</td>\n      <td>25000</td>\n      <td>...</td>\n      <td>NaN</td>\n      <td>NaN</td>\n    </tr>\n    <tr>\n      <th>...</th>\n      <td>...</td>\n      <td>...</td>\n      <td>...</td>\n      <td>...</td>\n      <td>...</td>\n    </tr>\n    <tr>\n      <th>226062</th>\n      <td>NaN</td>\n      <td>16000</td>\n      <td>...</td>\n      <td>NaN</td>\n      <td>NaN</td>\n    </tr>\n    <tr>\n      <th>226063</th>\n      <td>NaN</td>\n      <td>12000</td>\n      <td>...</td>\n      <td>45.0</td>\n      <td>14.0</td>\n    </tr>\n    <tr>\n      <th>226064</th>\n      <td>NaN</td>\n      <td>24000</td>\n      <td>...</td>\n      <td>NaN</td>\n      <td>NaN</td>\n    </tr>\n    <tr>\n      <th>226065</th>\n      <td>NaN</td>\n      <td>25000</td>\n      <td>...</td>\n      <td>NaN</td>\n      <td>NaN</td>\n    </tr>\n    <tr>\n      <th>226066</th>\n      <td>NaN</td>\n      <td>10000</td>\n      <td>...</td>\n      <td>NaN</td>\n      <td>NaN</td>\n    </tr>\n  </tbody>\n</table>\n<p>226067 rows × 143 columns</p>\n</div>"
     },
     "execution_count": 7,
     "metadata": {},
     "output_type": "execute_result"
    }
   ],
   "source": [
    "# reading large files\n",
    "pd.options.display.max_rows = 10\n",
    "pd.options.display.max_columns = 5\n",
    "pd.read_csv('./data/p1_test.csv',index_col='id')"
   ],
   "metadata": {
    "collapsed": false,
    "pycharm": {
     "name": "#%%\n"
    }
   }
  },
  {
   "cell_type": "code",
   "execution_count": 8,
   "outputs": [
    {
     "data": {
      "text/plain": "   id  member_id  ...  settlement_percentage  settlement_term\n0   0        NaN  ...                    NaN              NaN\n1   1        NaN  ...                    NaN              NaN\n2   2        NaN  ...                    NaN              NaN\n3   3        NaN  ...                   45.0              1.0\n4   4        NaN  ...                    NaN              NaN\n\n[5 rows x 144 columns]",
      "text/html": "<div>\n<style scoped>\n    .dataframe tbody tr th:only-of-type {\n        vertical-align: middle;\n    }\n\n    .dataframe tbody tr th {\n        vertical-align: top;\n    }\n\n    .dataframe thead th {\n        text-align: right;\n    }\n</style>\n<table border=\"1\" class=\"dataframe\">\n  <thead>\n    <tr style=\"text-align: right;\">\n      <th></th>\n      <th>id</th>\n      <th>member_id</th>\n      <th>...</th>\n      <th>settlement_percentage</th>\n      <th>settlement_term</th>\n    </tr>\n  </thead>\n  <tbody>\n    <tr>\n      <th>0</th>\n      <td>0</td>\n      <td>NaN</td>\n      <td>...</td>\n      <td>NaN</td>\n      <td>NaN</td>\n    </tr>\n    <tr>\n      <th>1</th>\n      <td>1</td>\n      <td>NaN</td>\n      <td>...</td>\n      <td>NaN</td>\n      <td>NaN</td>\n    </tr>\n    <tr>\n      <th>2</th>\n      <td>2</td>\n      <td>NaN</td>\n      <td>...</td>\n      <td>NaN</td>\n      <td>NaN</td>\n    </tr>\n    <tr>\n      <th>3</th>\n      <td>3</td>\n      <td>NaN</td>\n      <td>...</td>\n      <td>45.0</td>\n      <td>1.0</td>\n    </tr>\n    <tr>\n      <th>4</th>\n      <td>4</td>\n      <td>NaN</td>\n      <td>...</td>\n      <td>NaN</td>\n      <td>NaN</td>\n    </tr>\n  </tbody>\n</table>\n<p>5 rows × 144 columns</p>\n</div>"
     },
     "execution_count": 8,
     "metadata": {},
     "output_type": "execute_result"
    }
   ],
   "source": [
    "pd.read_csv('./data/p1_test.csv',nrows=5)"
   ],
   "metadata": {
    "collapsed": false,
    "pycharm": {
     "name": "#%%\n"
    }
   }
  },
  {
   "cell_type": "code",
   "execution_count": 12,
   "outputs": [
    {
     "data": {
      "text/plain": "<pandas.io.parsers.TextFileReader at 0x156bb8ba9e8>"
     },
     "execution_count": 12,
     "metadata": {},
     "output_type": "execute_result"
    }
   ],
   "source": [
    "chunker = pd.read_csv('./data/p1_test.csv',chunksize=1000)\n",
    "chunker"
   ],
   "metadata": {
    "collapsed": false,
    "pycharm": {
     "name": "#%%\n"
    }
   }
  },
  {
   "cell_type": "code",
   "execution_count": 15,
   "outputs": [
    {
     "name": "stderr",
     "output_type": "stream",
     "text": [
      "c:\\users\\ashen\\appdata\\local\\programs\\python\\python37\\lib\\site-packages\\ipykernel_launcher.py:1: DeprecationWarning: The default dtype for empty Series will be 'object' instead of 'float64' in a future version. Specify a dtype explicitly to silence this warning.\n",
      "  \"\"\"Entry point for launching an IPython kernel.\n"
     ]
    },
    {
     "data": {
      "text/plain": "Series([], dtype: float64)"
     },
     "execution_count": 15,
     "metadata": {},
     "output_type": "execute_result"
    }
   ],
   "source": [
    "chunk_content_size = pd.Series()\n",
    "\n",
    "for i in chunker:\n",
    "    chunk_content_size = chunk_content_size.add(i['grade'].value_counts(),fill_value=0)\n",
    "\n",
    "chunk_content_size"
   ],
   "metadata": {
    "collapsed": false,
    "pycharm": {
     "name": "#%%\n"
    }
   }
  },
  {
   "cell_type": "markdown",
   "source": [
    "# read JSON"
   ],
   "metadata": {
    "collapsed": false,
    "pycharm": {
     "name": "#%% md\n"
    }
   }
  },
  {
   "cell_type": "code",
   "execution_count": 17,
   "outputs": [
    {
     "data": {
      "text/plain": "                                          conformsTo  \\\n0      https://project-open-data.cio.gov/v1.1/schema   \n1      https://project-open-data.cio.gov/v1.1/schema   \n2      https://project-open-data.cio.gov/v1.1/schema   \n3      https://project-open-data.cio.gov/v1.1/schema   \n4      https://project-open-data.cio.gov/v1.1/schema   \n...                                              ...   \n39083  https://project-open-data.cio.gov/v1.1/schema   \n39084  https://project-open-data.cio.gov/v1.1/schema   \n39085  https://project-open-data.cio.gov/v1.1/schema   \n39086  https://project-open-data.cio.gov/v1.1/schema   \n39087  https://project-open-data.cio.gov/v1.1/schema   \n\n                                             describedBy  \\\n0      https://project-open-data.cio.gov/v1.1/schema/...   \n1      https://project-open-data.cio.gov/v1.1/schema/...   \n2      https://project-open-data.cio.gov/v1.1/schema/...   \n3      https://project-open-data.cio.gov/v1.1/schema/...   \n4      https://project-open-data.cio.gov/v1.1/schema/...   \n...                                                  ...   \n39083  https://project-open-data.cio.gov/v1.1/schema/...   \n39084  https://project-open-data.cio.gov/v1.1/schema/...   \n39085  https://project-open-data.cio.gov/v1.1/schema/...   \n39086  https://project-open-data.cio.gov/v1.1/schema/...   \n39087  https://project-open-data.cio.gov/v1.1/schema/...   \n\n                                                @context         @type  \\\n0      https://project-open-data.cio.gov/v1.1/schema/...  dcat:Catalog   \n1      https://project-open-data.cio.gov/v1.1/schema/...  dcat:Catalog   \n2      https://project-open-data.cio.gov/v1.1/schema/...  dcat:Catalog   \n3      https://project-open-data.cio.gov/v1.1/schema/...  dcat:Catalog   \n4      https://project-open-data.cio.gov/v1.1/schema/...  dcat:Catalog   \n...                                                  ...           ...   \n39083  https://project-open-data.cio.gov/v1.1/schema/...  dcat:Catalog   \n39084  https://project-open-data.cio.gov/v1.1/schema/...  dcat:Catalog   \n39085  https://project-open-data.cio.gov/v1.1/schema/...  dcat:Catalog   \n39086  https://project-open-data.cio.gov/v1.1/schema/...  dcat:Catalog   \n39087  https://project-open-data.cio.gov/v1.1/schema/...  dcat:Catalog   \n\n                                                 dataset  \n0      {'@type': 'dcat:Dataset', 'title': 'Temperatur...  \n1      {'@type': 'dcat:Dataset', 'title': 'Temperatur...  \n2      {'@type': 'dcat:Dataset', 'title': 'Meteorolog...  \n3      {'@type': 'dcat:Dataset', 'title': 'Temperatur...  \n4      {'@type': 'dcat:Dataset', 'title': 'Underway b...  \n...                                                  ...  \n39083  {'@type': 'dcat:Dataset', 'theme': ['Factory o...  \n39084  {'@type': 'dcat:Dataset', 'theme': ['Manufactu...  \n39085  {'@type': 'dcat:Dataset', 'theme': ['Factory o...  \n39086  {'@type': 'dcat:Dataset', 'theme': ['Modeling ...  \n39087  {'@type': 'dcat:Dataset', 'theme': ['Biometric...  \n\n[39088 rows x 5 columns]",
      "text/html": "<div>\n<style scoped>\n    .dataframe tbody tr th:only-of-type {\n        vertical-align: middle;\n    }\n\n    .dataframe tbody tr th {\n        vertical-align: top;\n    }\n\n    .dataframe thead th {\n        text-align: right;\n    }\n</style>\n<table border=\"1\" class=\"dataframe\">\n  <thead>\n    <tr style=\"text-align: right;\">\n      <th></th>\n      <th>conformsTo</th>\n      <th>describedBy</th>\n      <th>@context</th>\n      <th>@type</th>\n      <th>dataset</th>\n    </tr>\n  </thead>\n  <tbody>\n    <tr>\n      <th>0</th>\n      <td>https://project-open-data.cio.gov/v1.1/schema</td>\n      <td>https://project-open-data.cio.gov/v1.1/schema/...</td>\n      <td>https://project-open-data.cio.gov/v1.1/schema/...</td>\n      <td>dcat:Catalog</td>\n      <td>{'@type': 'dcat:Dataset', 'title': 'Temperatur...</td>\n    </tr>\n    <tr>\n      <th>1</th>\n      <td>https://project-open-data.cio.gov/v1.1/schema</td>\n      <td>https://project-open-data.cio.gov/v1.1/schema/...</td>\n      <td>https://project-open-data.cio.gov/v1.1/schema/...</td>\n      <td>dcat:Catalog</td>\n      <td>{'@type': 'dcat:Dataset', 'title': 'Temperatur...</td>\n    </tr>\n    <tr>\n      <th>2</th>\n      <td>https://project-open-data.cio.gov/v1.1/schema</td>\n      <td>https://project-open-data.cio.gov/v1.1/schema/...</td>\n      <td>https://project-open-data.cio.gov/v1.1/schema/...</td>\n      <td>dcat:Catalog</td>\n      <td>{'@type': 'dcat:Dataset', 'title': 'Meteorolog...</td>\n    </tr>\n    <tr>\n      <th>3</th>\n      <td>https://project-open-data.cio.gov/v1.1/schema</td>\n      <td>https://project-open-data.cio.gov/v1.1/schema/...</td>\n      <td>https://project-open-data.cio.gov/v1.1/schema/...</td>\n      <td>dcat:Catalog</td>\n      <td>{'@type': 'dcat:Dataset', 'title': 'Temperatur...</td>\n    </tr>\n    <tr>\n      <th>4</th>\n      <td>https://project-open-data.cio.gov/v1.1/schema</td>\n      <td>https://project-open-data.cio.gov/v1.1/schema/...</td>\n      <td>https://project-open-data.cio.gov/v1.1/schema/...</td>\n      <td>dcat:Catalog</td>\n      <td>{'@type': 'dcat:Dataset', 'title': 'Underway b...</td>\n    </tr>\n    <tr>\n      <th>...</th>\n      <td>...</td>\n      <td>...</td>\n      <td>...</td>\n      <td>...</td>\n      <td>...</td>\n    </tr>\n    <tr>\n      <th>39083</th>\n      <td>https://project-open-data.cio.gov/v1.1/schema</td>\n      <td>https://project-open-data.cio.gov/v1.1/schema/...</td>\n      <td>https://project-open-data.cio.gov/v1.1/schema/...</td>\n      <td>dcat:Catalog</td>\n      <td>{'@type': 'dcat:Dataset', 'theme': ['Factory o...</td>\n    </tr>\n    <tr>\n      <th>39084</th>\n      <td>https://project-open-data.cio.gov/v1.1/schema</td>\n      <td>https://project-open-data.cio.gov/v1.1/schema/...</td>\n      <td>https://project-open-data.cio.gov/v1.1/schema/...</td>\n      <td>dcat:Catalog</td>\n      <td>{'@type': 'dcat:Dataset', 'theme': ['Manufactu...</td>\n    </tr>\n    <tr>\n      <th>39085</th>\n      <td>https://project-open-data.cio.gov/v1.1/schema</td>\n      <td>https://project-open-data.cio.gov/v1.1/schema/...</td>\n      <td>https://project-open-data.cio.gov/v1.1/schema/...</td>\n      <td>dcat:Catalog</td>\n      <td>{'@type': 'dcat:Dataset', 'theme': ['Factory o...</td>\n    </tr>\n    <tr>\n      <th>39086</th>\n      <td>https://project-open-data.cio.gov/v1.1/schema</td>\n      <td>https://project-open-data.cio.gov/v1.1/schema/...</td>\n      <td>https://project-open-data.cio.gov/v1.1/schema/...</td>\n      <td>dcat:Catalog</td>\n      <td>{'@type': 'dcat:Dataset', 'theme': ['Modeling ...</td>\n    </tr>\n    <tr>\n      <th>39087</th>\n      <td>https://project-open-data.cio.gov/v1.1/schema</td>\n      <td>https://project-open-data.cio.gov/v1.1/schema/...</td>\n      <td>https://project-open-data.cio.gov/v1.1/schema/...</td>\n      <td>dcat:Catalog</td>\n      <td>{'@type': 'dcat:Dataset', 'theme': ['Biometric...</td>\n    </tr>\n  </tbody>\n</table>\n<p>39088 rows × 5 columns</p>\n</div>"
     },
     "execution_count": 17,
     "metadata": {},
     "output_type": "execute_result"
    }
   ],
   "source": [
    "pd.read_json('../../../../data visualition/sample datasets/data.json')"
   ],
   "metadata": {
    "collapsed": false,
    "pycharm": {
     "name": "#%%\n"
    }
   }
  },
  {
   "cell_type": "markdown",
   "source": [
    "# read HTML and XML"
   ],
   "metadata": {
    "collapsed": false,
    "pycharm": {
     "name": "#%% md\n"
    }
   }
  },
  {
   "cell_type": "code",
   "execution_count": 18,
   "outputs": [
    {
     "data": {
      "text/plain": "15"
     },
     "execution_count": 18,
     "metadata": {},
     "output_type": "execute_result"
    }
   ],
   "source": [
    "tables = pd.read_html('https://en.wikipedia.org/wiki/List_of_2020_albums')\n",
    "len(tables)"
   ],
   "metadata": {
    "collapsed": false,
    "pycharm": {
     "name": "#%%\n"
    }
   }
  },
  {
   "cell_type": "code",
   "execution_count": 33,
   "outputs": [
    {
     "data": {
      "text/plain": "             0                    1  ...                 4       5\n2    December1                  BoA  ...                SM  [1034]\n3    December1     Drakeo the Ruler  ...               NaN  [1035]\n4    December3                 Tini  ...         Hollywood  [1036]\n5    December4  Death Cab for Cutie  ...               NaN  [1037]\n6    December4           Geographer  ...               NaN  [1038]\n..         ...                  ...  ...               ...     ...\n40  December18       Paul McCartney  ...           Capitol  [1072]\n41  December23            Navy Blue  ...    Freedom Sounds  [1073]\n42  December24           Elva Hsiao  ...     TakeOne Music  [1074]\n43  December24                 Moby  ...       Mobyambient  [1075]\n44  December25        Playboi Carti  ...  AWGE, Interscope  [1076]\n\n[43 rows x 6 columns]",
      "text/html": "<div>\n<style scoped>\n    .dataframe tbody tr th:only-of-type {\n        vertical-align: middle;\n    }\n\n    .dataframe tbody tr th {\n        vertical-align: top;\n    }\n\n    .dataframe thead th {\n        text-align: right;\n    }\n</style>\n<table border=\"1\" class=\"dataframe\">\n  <thead>\n    <tr style=\"text-align: right;\">\n      <th></th>\n      <th>0</th>\n      <th>1</th>\n      <th>...</th>\n      <th>4</th>\n      <th>5</th>\n    </tr>\n  </thead>\n  <tbody>\n    <tr>\n      <th>2</th>\n      <td>December1</td>\n      <td>BoA</td>\n      <td>...</td>\n      <td>SM</td>\n      <td>[1034]</td>\n    </tr>\n    <tr>\n      <th>3</th>\n      <td>December1</td>\n      <td>Drakeo the Ruler</td>\n      <td>...</td>\n      <td>NaN</td>\n      <td>[1035]</td>\n    </tr>\n    <tr>\n      <th>4</th>\n      <td>December3</td>\n      <td>Tini</td>\n      <td>...</td>\n      <td>Hollywood</td>\n      <td>[1036]</td>\n    </tr>\n    <tr>\n      <th>5</th>\n      <td>December4</td>\n      <td>Death Cab for Cutie</td>\n      <td>...</td>\n      <td>NaN</td>\n      <td>[1037]</td>\n    </tr>\n    <tr>\n      <th>6</th>\n      <td>December4</td>\n      <td>Geographer</td>\n      <td>...</td>\n      <td>NaN</td>\n      <td>[1038]</td>\n    </tr>\n    <tr>\n      <th>...</th>\n      <td>...</td>\n      <td>...</td>\n      <td>...</td>\n      <td>...</td>\n      <td>...</td>\n    </tr>\n    <tr>\n      <th>40</th>\n      <td>December18</td>\n      <td>Paul McCartney</td>\n      <td>...</td>\n      <td>Capitol</td>\n      <td>[1072]</td>\n    </tr>\n    <tr>\n      <th>41</th>\n      <td>December23</td>\n      <td>Navy Blue</td>\n      <td>...</td>\n      <td>Freedom Sounds</td>\n      <td>[1073]</td>\n    </tr>\n    <tr>\n      <th>42</th>\n      <td>December24</td>\n      <td>Elva Hsiao</td>\n      <td>...</td>\n      <td>TakeOne Music</td>\n      <td>[1074]</td>\n    </tr>\n    <tr>\n      <th>43</th>\n      <td>December24</td>\n      <td>Moby</td>\n      <td>...</td>\n      <td>Mobyambient</td>\n      <td>[1075]</td>\n    </tr>\n    <tr>\n      <th>44</th>\n      <td>December25</td>\n      <td>Playboi Carti</td>\n      <td>...</td>\n      <td>AWGE, Interscope</td>\n      <td>[1076]</td>\n    </tr>\n  </tbody>\n</table>\n<p>43 rows × 6 columns</p>\n</div>"
     },
     "execution_count": 33,
     "metadata": {},
     "output_type": "execute_result"
    }
   ],
   "source": [
    "table_13 = tables[13].drop([0,1],axis=0)\n",
    "table_13"
   ],
   "metadata": {
    "collapsed": false,
    "pycharm": {
     "name": "#%%\n"
    }
   }
  },
  {
   "cell_type": "code",
   "execution_count": null,
   "outputs": [],
   "source": [],
   "metadata": {
    "collapsed": false,
    "pycharm": {
     "name": "#%%\n"
    }
   }
  }
 ],
 "metadata": {
  "kernelspec": {
   "display_name": "Python 3",
   "language": "python",
   "name": "python3"
  },
  "language_info": {
   "codemirror_mode": {
    "name": "ipython",
    "version": 2
   },
   "file_extension": ".py",
   "mimetype": "text/x-python",
   "name": "python",
   "nbconvert_exporter": "python",
   "pygments_lexer": "ipython2",
   "version": "2.7.6"
  }
 },
 "nbformat": 4,
 "nbformat_minor": 0
}