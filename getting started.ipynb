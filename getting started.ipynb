{
 "cells": [
  {
   "cell_type": "markdown",
   "metadata": {
    "collapsed": true,
    "pycharm": {
     "name": "#%% md\n"
    }
   },
   "source": [
    "# import"
   ]
  },
  {
   "cell_type": "code",
   "execution_count": 1,
   "outputs": [],
   "source": [
    "import numpy as np\n",
    "import pandas as pd"
   ],
   "metadata": {
    "collapsed": false,
    "pycharm": {
     "name": "#%%\n"
    }
   }
  },
  {
   "cell_type": "code",
   "execution_count": 2,
   "outputs": [
    {
     "data": {
      "text/plain": "       country_or_area                                       element_code  \\\n0          Afghanistan                                                 11   \n1          Afghanistan                                                 11   \n2          Afghanistan                                                 11   \n3          Afghanistan                                                 11   \n4          Afghanistan                                                 11   \n...                ...                                                ...   \n104779              A   May include official, semi-official or estimat...   \n104780              F                                        FAO Estimate   \n104781              Q   Official data reported on FAO Questionnaires f...   \n104782              Fm                                  Manual Estimation   \n104783              I   Country data reported by International Organiz...   \n\n       element    year     unit    value value_footnotes  \\\n0         Area  2007.0  1000 Ha  38661.0              Q    \n1         Area  2006.0  1000 Ha  38659.0              Fm   \n2         Area  2005.0  1000 Ha  38515.0              Fm   \n3         Area  2004.0  1000 Ha  38064.0              Fm   \n4         Area  2003.0  1000 Ha  38899.0              Fm   \n...        ...     ...      ...      ...             ...   \n104779     NaN     NaN      NaN      NaN             NaN   \n104780     NaN     NaN      NaN      NaN             NaN   \n104781     NaN     NaN      NaN      NaN             NaN   \n104782     NaN     NaN      NaN      NaN             NaN   \n104783     NaN     NaN      NaN      NaN             NaN   \n\n                                  category  \n0                        agricultural_area  \n1                        agricultural_area  \n2                        agricultural_area  \n3                        agricultural_area  \n4                        agricultural_area  \n...                                    ...  \n104779  total_area_equipped_for_irrigation  \n104780  total_area_equipped_for_irrigation  \n104781  total_area_equipped_for_irrigation  \n104782  total_area_equipped_for_irrigation  \n104783  total_area_equipped_for_irrigation  \n\n[104784 rows x 8 columns]",
      "text/html": "<div>\n<style scoped>\n    .dataframe tbody tr th:only-of-type {\n        vertical-align: middle;\n    }\n\n    .dataframe tbody tr th {\n        vertical-align: top;\n    }\n\n    .dataframe thead th {\n        text-align: right;\n    }\n</style>\n<table border=\"1\" class=\"dataframe\">\n  <thead>\n    <tr style=\"text-align: right;\">\n      <th></th>\n      <th>country_or_area</th>\n      <th>element_code</th>\n      <th>element</th>\n      <th>year</th>\n      <th>unit</th>\n      <th>value</th>\n      <th>value_footnotes</th>\n      <th>category</th>\n    </tr>\n  </thead>\n  <tbody>\n    <tr>\n      <th>0</th>\n      <td>Afghanistan</td>\n      <td>11</td>\n      <td>Area</td>\n      <td>2007.0</td>\n      <td>1000 Ha</td>\n      <td>38661.0</td>\n      <td>Q</td>\n      <td>agricultural_area</td>\n    </tr>\n    <tr>\n      <th>1</th>\n      <td>Afghanistan</td>\n      <td>11</td>\n      <td>Area</td>\n      <td>2006.0</td>\n      <td>1000 Ha</td>\n      <td>38659.0</td>\n      <td>Fm</td>\n      <td>agricultural_area</td>\n    </tr>\n    <tr>\n      <th>2</th>\n      <td>Afghanistan</td>\n      <td>11</td>\n      <td>Area</td>\n      <td>2005.0</td>\n      <td>1000 Ha</td>\n      <td>38515.0</td>\n      <td>Fm</td>\n      <td>agricultural_area</td>\n    </tr>\n    <tr>\n      <th>3</th>\n      <td>Afghanistan</td>\n      <td>11</td>\n      <td>Area</td>\n      <td>2004.0</td>\n      <td>1000 Ha</td>\n      <td>38064.0</td>\n      <td>Fm</td>\n      <td>agricultural_area</td>\n    </tr>\n    <tr>\n      <th>4</th>\n      <td>Afghanistan</td>\n      <td>11</td>\n      <td>Area</td>\n      <td>2003.0</td>\n      <td>1000 Ha</td>\n      <td>38899.0</td>\n      <td>Fm</td>\n      <td>agricultural_area</td>\n    </tr>\n    <tr>\n      <th>...</th>\n      <td>...</td>\n      <td>...</td>\n      <td>...</td>\n      <td>...</td>\n      <td>...</td>\n      <td>...</td>\n      <td>...</td>\n      <td>...</td>\n    </tr>\n    <tr>\n      <th>104779</th>\n      <td>A</td>\n      <td>May include official, semi-official or estimat...</td>\n      <td>NaN</td>\n      <td>NaN</td>\n      <td>NaN</td>\n      <td>NaN</td>\n      <td>NaN</td>\n      <td>total_area_equipped_for_irrigation</td>\n    </tr>\n    <tr>\n      <th>104780</th>\n      <td>F</td>\n      <td>FAO Estimate</td>\n      <td>NaN</td>\n      <td>NaN</td>\n      <td>NaN</td>\n      <td>NaN</td>\n      <td>NaN</td>\n      <td>total_area_equipped_for_irrigation</td>\n    </tr>\n    <tr>\n      <th>104781</th>\n      <td>Q</td>\n      <td>Official data reported on FAO Questionnaires f...</td>\n      <td>NaN</td>\n      <td>NaN</td>\n      <td>NaN</td>\n      <td>NaN</td>\n      <td>NaN</td>\n      <td>total_area_equipped_for_irrigation</td>\n    </tr>\n    <tr>\n      <th>104782</th>\n      <td>Fm</td>\n      <td>Manual Estimation</td>\n      <td>NaN</td>\n      <td>NaN</td>\n      <td>NaN</td>\n      <td>NaN</td>\n      <td>NaN</td>\n      <td>total_area_equipped_for_irrigation</td>\n    </tr>\n    <tr>\n      <th>104783</th>\n      <td>I</td>\n      <td>Country data reported by International Organiz...</td>\n      <td>NaN</td>\n      <td>NaN</td>\n      <td>NaN</td>\n      <td>NaN</td>\n      <td>NaN</td>\n      <td>total_area_equipped_for_irrigation</td>\n    </tr>\n  </tbody>\n</table>\n<p>104784 rows × 8 columns</p>\n</div>"
     },
     "execution_count": 2,
     "metadata": {},
     "output_type": "execute_result"
    }
   ],
   "source": [
    "data = pd.read_csv('../../../../Data Sets/world agriculture/fao_data_land_data.csv')\n",
    "data"
   ],
   "metadata": {
    "collapsed": false,
    "pycharm": {
     "name": "#%%\n"
    }
   }
  },
  {
   "cell_type": "code",
   "execution_count": 3,
   "outputs": [
    {
     "data": {
      "text/plain": "0         2007.0\n1         2006.0\n2         2005.0\n3         2004.0\n4         2003.0\n           ...  \n104779       NaN\n104780       NaN\n104781       NaN\n104782       NaN\n104783       NaN\nName: year, Length: 104784, dtype: float64"
     },
     "execution_count": 3,
     "metadata": {},
     "output_type": "execute_result"
    }
   ],
   "source": [
    "obj = pd.Series(data['year'])\n",
    "obj"
   ],
   "metadata": {
    "collapsed": false,
    "pycharm": {
     "name": "#%%\n"
    }
   }
  },
  {
   "cell_type": "code",
   "execution_count": 4,
   "outputs": [
    {
     "data": {
      "text/plain": "(array([2007., 2006., 2005., ...,   nan,   nan,   nan]),\n RangeIndex(start=0, stop=104784, step=1))"
     },
     "execution_count": 4,
     "metadata": {},
     "output_type": "execute_result"
    }
   ],
   "source": [
    "obj.values, obj.index"
   ],
   "metadata": {
    "collapsed": false,
    "pycharm": {
     "name": "#%%\n"
    }
   }
  },
  {
   "cell_type": "markdown",
   "source": [
    "# filtering and indices of series"
   ],
   "metadata": {
    "collapsed": false,
    "pycharm": {
     "name": "#%% md\n"
    }
   }
  },
  {
   "cell_type": "code",
   "execution_count": 5,
   "outputs": [
    {
     "data": {
      "text/plain": "1996.0"
     },
     "execution_count": 5,
     "metadata": {},
     "output_type": "execute_result"
    }
   ],
   "source": [
    "obj[11]"
   ],
   "metadata": {
    "collapsed": false,
    "pycharm": {
     "name": "#%%\n"
    }
   }
  },
  {
   "cell_type": "code",
   "execution_count": 6,
   "outputs": [
    {
     "data": {
      "text/plain": "1997.0"
     },
     "execution_count": 6,
     "metadata": {},
     "output_type": "execute_result"
    }
   ],
   "source": [
    "obj[11] = 1997\n",
    "obj[11]"
   ],
   "metadata": {
    "collapsed": false,
    "pycharm": {
     "name": "#%%\n"
    }
   }
  },
  {
   "cell_type": "code",
   "execution_count": 7,
   "outputs": [
    {
     "data": {
      "text/plain": "11      1997.0\n111     1990.0\n1111    1978.0\nName: year, dtype: float64"
     },
     "execution_count": 7,
     "metadata": {},
     "output_type": "execute_result"
    }
   ],
   "source": [
    "obj[[11,111,1111]]"
   ],
   "metadata": {
    "collapsed": false,
    "pycharm": {
     "name": "#%%\n"
    }
   }
  },
  {
   "cell_type": "code",
   "execution_count": 8,
   "outputs": [
    {
     "data": {
      "text/plain": "0         2007.0\n1         2006.0\n2         2005.0\n3         2004.0\n4         2003.0\n           ...  \n104736    2000.0\n104737    1999.0\n104738    1998.0\n104739    1997.0\n104740    1996.0\nName: year, Length: 34115, dtype: float64"
     },
     "execution_count": 8,
     "metadata": {},
     "output_type": "execute_result"
    }
   ],
   "source": [
    "obj[obj>1995]"
   ],
   "metadata": {
    "collapsed": false,
    "pycharm": {
     "name": "#%%\n"
    }
   }
  },
  {
   "cell_type": "code",
   "execution_count": 9,
   "outputs": [
    {
     "data": {
      "text/plain": "1    7.603898\n2    7.603399\n3    7.602900\n4    7.602401\nName: year, dtype: float64"
     },
     "execution_count": 9,
     "metadata": {},
     "output_type": "execute_result"
    }
   ],
   "source": [
    "np.log(obj)[1:5]"
   ],
   "metadata": {
    "collapsed": false,
    "pycharm": {
     "name": "#%%\n"
    }
   }
  },
  {
   "cell_type": "markdown",
   "source": [
    "# check for missing values"
   ],
   "metadata": {
    "collapsed": false,
    "pycharm": {
     "name": "#%% md\n"
    }
   }
  },
  {
   "cell_type": "code",
   "execution_count": 10,
   "outputs": [
    {
     "data": {
      "text/plain": "0         False\n1         False\n2         False\n3         False\n4         False\n          ...  \n104779     True\n104780     True\n104781     True\n104782     True\n104783     True\nName: year, Length: 104784, dtype: bool"
     },
     "execution_count": 10,
     "metadata": {},
     "output_type": "execute_result"
    }
   ],
   "source": [
    "obj.isna()"
   ],
   "metadata": {
    "collapsed": false,
    "pycharm": {
     "name": "#%%\n"
    }
   }
  },
  {
   "cell_type": "code",
   "execution_count": 11,
   "outputs": [
    {
     "data": {
      "text/plain": "0         False\n1         False\n2         False\n3         False\n4         False\n          ...  \n104779     True\n104780     True\n104781     True\n104782     True\n104783     True\nName: year, Length: 104784, dtype: bool"
     },
     "execution_count": 11,
     "metadata": {},
     "output_type": "execute_result"
    }
   ],
   "source": [
    "obj.isnull()"
   ],
   "metadata": {
    "collapsed": false,
    "pycharm": {
     "name": "#%%\n"
    }
   }
  },
  {
   "cell_type": "markdown",
   "source": [
    "# dataframe"
   ],
   "metadata": {
    "collapsed": false,
    "pycharm": {
     "name": "#%% md\n"
    }
   }
  },
  {
   "cell_type": "code",
   "execution_count": 12,
   "outputs": [
    {
     "data": {
      "text/plain": "(Index(['country_or_area', 'element_code', 'element', 'year', 'unit', 'value',\n        'value_footnotes', 'category'],\n       dtype='object'),\n RangeIndex(start=0, stop=104784, step=1))"
     },
     "execution_count": 12,
     "metadata": {},
     "output_type": "execute_result"
    }
   ],
   "source": [
    "data.columns, data.index"
   ],
   "metadata": {
    "collapsed": false,
    "pycharm": {
     "name": "#%%\n"
    }
   }
  },
  {
   "cell_type": "code",
   "execution_count": 13,
   "outputs": [
    {
     "data": {
      "text/plain": "(pandas.core.series.Series, pandas.core.frame.DataFrame)"
     },
     "execution_count": 13,
     "metadata": {},
     "output_type": "execute_result"
    }
   ],
   "source": [
    "type(data['value']), type(data[['value']])"
   ],
   "metadata": {
    "collapsed": false,
    "pycharm": {
     "name": "#%%\n"
    }
   }
  },
  {
   "cell_type": "code",
   "execution_count": 14,
   "outputs": [
    {
     "data": {
      "text/plain": "pandas.core.series.Series"
     },
     "execution_count": 14,
     "metadata": {},
     "output_type": "execute_result"
    }
   ],
   "source": [
    "type(data.value)"
   ],
   "metadata": {
    "collapsed": false,
    "pycharm": {
     "name": "#%%\n"
    }
   }
  },
  {
   "cell_type": "code",
   "execution_count": 15,
   "outputs": [
    {
     "data": {
      "text/plain": "  country_or_area element_code element    year     unit    value  \\\n0     Afghanistan           11    Area  2007.0  1000 Ha  38661.0   \n1     Afghanistan           11    Area  2006.0  1000 Ha  38659.0   \n2     Afghanistan           11    Area  2005.0  1000 Ha  38515.0   \n3     Afghanistan           11    Area  2004.0  1000 Ha  38064.0   \n4     Afghanistan           11    Area  2003.0  1000 Ha  38899.0   \n\n  value_footnotes           category  \n0              Q   agricultural_area  \n1              Fm  agricultural_area  \n2              Fm  agricultural_area  \n3              Fm  agricultural_area  \n4              Fm  agricultural_area  ",
      "text/html": "<div>\n<style scoped>\n    .dataframe tbody tr th:only-of-type {\n        vertical-align: middle;\n    }\n\n    .dataframe tbody tr th {\n        vertical-align: top;\n    }\n\n    .dataframe thead th {\n        text-align: right;\n    }\n</style>\n<table border=\"1\" class=\"dataframe\">\n  <thead>\n    <tr style=\"text-align: right;\">\n      <th></th>\n      <th>country_or_area</th>\n      <th>element_code</th>\n      <th>element</th>\n      <th>year</th>\n      <th>unit</th>\n      <th>value</th>\n      <th>value_footnotes</th>\n      <th>category</th>\n    </tr>\n  </thead>\n  <tbody>\n    <tr>\n      <th>0</th>\n      <td>Afghanistan</td>\n      <td>11</td>\n      <td>Area</td>\n      <td>2007.0</td>\n      <td>1000 Ha</td>\n      <td>38661.0</td>\n      <td>Q</td>\n      <td>agricultural_area</td>\n    </tr>\n    <tr>\n      <th>1</th>\n      <td>Afghanistan</td>\n      <td>11</td>\n      <td>Area</td>\n      <td>2006.0</td>\n      <td>1000 Ha</td>\n      <td>38659.0</td>\n      <td>Fm</td>\n      <td>agricultural_area</td>\n    </tr>\n    <tr>\n      <th>2</th>\n      <td>Afghanistan</td>\n      <td>11</td>\n      <td>Area</td>\n      <td>2005.0</td>\n      <td>1000 Ha</td>\n      <td>38515.0</td>\n      <td>Fm</td>\n      <td>agricultural_area</td>\n    </tr>\n    <tr>\n      <th>3</th>\n      <td>Afghanistan</td>\n      <td>11</td>\n      <td>Area</td>\n      <td>2004.0</td>\n      <td>1000 Ha</td>\n      <td>38064.0</td>\n      <td>Fm</td>\n      <td>agricultural_area</td>\n    </tr>\n    <tr>\n      <th>4</th>\n      <td>Afghanistan</td>\n      <td>11</td>\n      <td>Area</td>\n      <td>2003.0</td>\n      <td>1000 Ha</td>\n      <td>38899.0</td>\n      <td>Fm</td>\n      <td>agricultural_area</td>\n    </tr>\n  </tbody>\n</table>\n</div>"
     },
     "execution_count": 15,
     "metadata": {},
     "output_type": "execute_result"
    }
   ],
   "source": [
    "data.head()"
   ],
   "metadata": {
    "collapsed": false,
    "pycharm": {
     "name": "#%%\n"
    }
   }
  },
  {
   "cell_type": "code",
   "execution_count": 16,
   "outputs": [
    {
     "data": {
      "text/plain": "       country_or_area                                       element_code  \\\n104779              A   May include official, semi-official or estimat...   \n104780              F                                        FAO Estimate   \n104781              Q   Official data reported on FAO Questionnaires f...   \n104782              Fm                                  Manual Estimation   \n104783              I   Country data reported by International Organiz...   \n\n       element  year unit  value value_footnotes  \\\n104779     NaN   NaN  NaN    NaN             NaN   \n104780     NaN   NaN  NaN    NaN             NaN   \n104781     NaN   NaN  NaN    NaN             NaN   \n104782     NaN   NaN  NaN    NaN             NaN   \n104783     NaN   NaN  NaN    NaN             NaN   \n\n                                  category  \n104779  total_area_equipped_for_irrigation  \n104780  total_area_equipped_for_irrigation  \n104781  total_area_equipped_for_irrigation  \n104782  total_area_equipped_for_irrigation  \n104783  total_area_equipped_for_irrigation  ",
      "text/html": "<div>\n<style scoped>\n    .dataframe tbody tr th:only-of-type {\n        vertical-align: middle;\n    }\n\n    .dataframe tbody tr th {\n        vertical-align: top;\n    }\n\n    .dataframe thead th {\n        text-align: right;\n    }\n</style>\n<table border=\"1\" class=\"dataframe\">\n  <thead>\n    <tr style=\"text-align: right;\">\n      <th></th>\n      <th>country_or_area</th>\n      <th>element_code</th>\n      <th>element</th>\n      <th>year</th>\n      <th>unit</th>\n      <th>value</th>\n      <th>value_footnotes</th>\n      <th>category</th>\n    </tr>\n  </thead>\n  <tbody>\n    <tr>\n      <th>104779</th>\n      <td>A</td>\n      <td>May include official, semi-official or estimat...</td>\n      <td>NaN</td>\n      <td>NaN</td>\n      <td>NaN</td>\n      <td>NaN</td>\n      <td>NaN</td>\n      <td>total_area_equipped_for_irrigation</td>\n    </tr>\n    <tr>\n      <th>104780</th>\n      <td>F</td>\n      <td>FAO Estimate</td>\n      <td>NaN</td>\n      <td>NaN</td>\n      <td>NaN</td>\n      <td>NaN</td>\n      <td>NaN</td>\n      <td>total_area_equipped_for_irrigation</td>\n    </tr>\n    <tr>\n      <th>104781</th>\n      <td>Q</td>\n      <td>Official data reported on FAO Questionnaires f...</td>\n      <td>NaN</td>\n      <td>NaN</td>\n      <td>NaN</td>\n      <td>NaN</td>\n      <td>NaN</td>\n      <td>total_area_equipped_for_irrigation</td>\n    </tr>\n    <tr>\n      <th>104782</th>\n      <td>Fm</td>\n      <td>Manual Estimation</td>\n      <td>NaN</td>\n      <td>NaN</td>\n      <td>NaN</td>\n      <td>NaN</td>\n      <td>NaN</td>\n      <td>total_area_equipped_for_irrigation</td>\n    </tr>\n    <tr>\n      <th>104783</th>\n      <td>I</td>\n      <td>Country data reported by International Organiz...</td>\n      <td>NaN</td>\n      <td>NaN</td>\n      <td>NaN</td>\n      <td>NaN</td>\n      <td>NaN</td>\n      <td>total_area_equipped_for_irrigation</td>\n    </tr>\n  </tbody>\n</table>\n</div>"
     },
     "execution_count": 16,
     "metadata": {},
     "output_type": "execute_result"
    }
   ],
   "source": [
    "data.tail()"
   ],
   "metadata": {
    "collapsed": false,
    "pycharm": {
     "name": "#%%\n"
    }
   }
  },
  {
   "cell_type": "code",
   "execution_count": 17,
   "outputs": [
    {
     "data": {
      "text/plain": "country_or_area          Afghanistan\nelement_code                      11\nelement                         Area\nyear                          2006.0\nunit                         1000 Ha\nvalue                        38659.0\nvalue_footnotes                   Fm\ncategory           agricultural_area\nName: 1, dtype: object"
     },
     "execution_count": 17,
     "metadata": {},
     "output_type": "execute_result"
    }
   ],
   "source": [
    "data.iloc[1]"
   ],
   "metadata": {
    "collapsed": false,
    "pycharm": {
     "name": "#%%\n"
    }
   }
  },
  {
   "cell_type": "code",
   "execution_count": 18,
   "outputs": [
    {
     "data": {
      "text/plain": "       country_or_area                                       element_code  \\\n0          Afghanistan                                                 11   \n1          Afghanistan                                                 11   \n2          Afghanistan                                                 11   \n3          Afghanistan                                                 11   \n4          Afghanistan                                                 11   \n...                ...                                                ...   \n104779              A   May include official, semi-official or estimat...   \n104780              F                                        FAO Estimate   \n104781              Q   Official data reported on FAO Questionnaires f...   \n104782              Fm                                  Manual Estimation   \n104783              I   Country data reported by International Organiz...   \n\n       element    year     unit    value value_footnotes  \\\n0         Area  2007.0  1000 Ha  38661.0              Q    \n1         Area  2006.0  1000 Ha  38659.0              Fm   \n2         Area  2005.0  1000 Ha  38515.0              Fm   \n3         Area  2004.0  1000 Ha  38064.0              Fm   \n4         Area  2003.0  1000 Ha  38899.0              Fm   \n...        ...     ...      ...      ...             ...   \n104779     NaN     NaN      NaN      NaN             NaN   \n104780     NaN     NaN      NaN      NaN             NaN   \n104781     NaN     NaN      NaN      NaN             NaN   \n104782     NaN     NaN      NaN      NaN             NaN   \n104783     NaN     NaN      NaN      NaN             NaN   \n\n                                  category  dummy  \n0                        agricultural_area    1.0  \n1                        agricultural_area    1.0  \n2                        agricultural_area    1.0  \n3                        agricultural_area    1.0  \n4                        agricultural_area    1.0  \n...                                    ...    ...  \n104779  total_area_equipped_for_irrigation    1.0  \n104780  total_area_equipped_for_irrigation    1.0  \n104781  total_area_equipped_for_irrigation    1.0  \n104782  total_area_equipped_for_irrigation    1.0  \n104783  total_area_equipped_for_irrigation    1.0  \n\n[104784 rows x 9 columns]",
      "text/html": "<div>\n<style scoped>\n    .dataframe tbody tr th:only-of-type {\n        vertical-align: middle;\n    }\n\n    .dataframe tbody tr th {\n        vertical-align: top;\n    }\n\n    .dataframe thead th {\n        text-align: right;\n    }\n</style>\n<table border=\"1\" class=\"dataframe\">\n  <thead>\n    <tr style=\"text-align: right;\">\n      <th></th>\n      <th>country_or_area</th>\n      <th>element_code</th>\n      <th>element</th>\n      <th>year</th>\n      <th>unit</th>\n      <th>value</th>\n      <th>value_footnotes</th>\n      <th>category</th>\n      <th>dummy</th>\n    </tr>\n  </thead>\n  <tbody>\n    <tr>\n      <th>0</th>\n      <td>Afghanistan</td>\n      <td>11</td>\n      <td>Area</td>\n      <td>2007.0</td>\n      <td>1000 Ha</td>\n      <td>38661.0</td>\n      <td>Q</td>\n      <td>agricultural_area</td>\n      <td>1.0</td>\n    </tr>\n    <tr>\n      <th>1</th>\n      <td>Afghanistan</td>\n      <td>11</td>\n      <td>Area</td>\n      <td>2006.0</td>\n      <td>1000 Ha</td>\n      <td>38659.0</td>\n      <td>Fm</td>\n      <td>agricultural_area</td>\n      <td>1.0</td>\n    </tr>\n    <tr>\n      <th>2</th>\n      <td>Afghanistan</td>\n      <td>11</td>\n      <td>Area</td>\n      <td>2005.0</td>\n      <td>1000 Ha</td>\n      <td>38515.0</td>\n      <td>Fm</td>\n      <td>agricultural_area</td>\n      <td>1.0</td>\n    </tr>\n    <tr>\n      <th>3</th>\n      <td>Afghanistan</td>\n      <td>11</td>\n      <td>Area</td>\n      <td>2004.0</td>\n      <td>1000 Ha</td>\n      <td>38064.0</td>\n      <td>Fm</td>\n      <td>agricultural_area</td>\n      <td>1.0</td>\n    </tr>\n    <tr>\n      <th>4</th>\n      <td>Afghanistan</td>\n      <td>11</td>\n      <td>Area</td>\n      <td>2003.0</td>\n      <td>1000 Ha</td>\n      <td>38899.0</td>\n      <td>Fm</td>\n      <td>agricultural_area</td>\n      <td>1.0</td>\n    </tr>\n    <tr>\n      <th>...</th>\n      <td>...</td>\n      <td>...</td>\n      <td>...</td>\n      <td>...</td>\n      <td>...</td>\n      <td>...</td>\n      <td>...</td>\n      <td>...</td>\n      <td>...</td>\n    </tr>\n    <tr>\n      <th>104779</th>\n      <td>A</td>\n      <td>May include official, semi-official or estimat...</td>\n      <td>NaN</td>\n      <td>NaN</td>\n      <td>NaN</td>\n      <td>NaN</td>\n      <td>NaN</td>\n      <td>total_area_equipped_for_irrigation</td>\n      <td>1.0</td>\n    </tr>\n    <tr>\n      <th>104780</th>\n      <td>F</td>\n      <td>FAO Estimate</td>\n      <td>NaN</td>\n      <td>NaN</td>\n      <td>NaN</td>\n      <td>NaN</td>\n      <td>NaN</td>\n      <td>total_area_equipped_for_irrigation</td>\n      <td>1.0</td>\n    </tr>\n    <tr>\n      <th>104781</th>\n      <td>Q</td>\n      <td>Official data reported on FAO Questionnaires f...</td>\n      <td>NaN</td>\n      <td>NaN</td>\n      <td>NaN</td>\n      <td>NaN</td>\n      <td>NaN</td>\n      <td>total_area_equipped_for_irrigation</td>\n      <td>1.0</td>\n    </tr>\n    <tr>\n      <th>104782</th>\n      <td>Fm</td>\n      <td>Manual Estimation</td>\n      <td>NaN</td>\n      <td>NaN</td>\n      <td>NaN</td>\n      <td>NaN</td>\n      <td>NaN</td>\n      <td>total_area_equipped_for_irrigation</td>\n      <td>1.0</td>\n    </tr>\n    <tr>\n      <th>104783</th>\n      <td>I</td>\n      <td>Country data reported by International Organiz...</td>\n      <td>NaN</td>\n      <td>NaN</td>\n      <td>NaN</td>\n      <td>NaN</td>\n      <td>NaN</td>\n      <td>total_area_equipped_for_irrigation</td>\n      <td>1.0</td>\n    </tr>\n  </tbody>\n</table>\n<p>104784 rows × 9 columns</p>\n</div>"
     },
     "execution_count": 18,
     "metadata": {},
     "output_type": "execute_result"
    }
   ],
   "source": [
    "# remove\n",
    "dummy_col = pd.DataFrame(np.ones(data.shape[0]),columns=['dummy'])\n",
    "data_c = data.join(dummy_col)\n",
    "data_c"
   ],
   "metadata": {
    "collapsed": false,
    "pycharm": {
     "name": "#%%\n"
    }
   }
  },
  {
   "cell_type": "code",
   "execution_count": 19,
   "outputs": [
    {
     "data": {
      "text/plain": "(104784, 8)"
     },
     "execution_count": 19,
     "metadata": {},
     "output_type": "execute_result"
    }
   ],
   "source": [
    "del data_c['dummy']\n",
    "data.shape"
   ],
   "metadata": {
    "collapsed": false,
    "pycharm": {
     "name": "#%%\n"
    }
   }
  },
  {
   "cell_type": "code",
   "execution_count": 20,
   "outputs": [
    {
     "data": {
      "text/plain": "         country_or_area element_code element    year     unit      value  \\\n6            Afghanistan           11    Area  2001.0  1000 Ha    37564.0   \n53              Africa +           11    Area  2001.0  1000 Ha  1130835.0   \n100              Albania           11    Area  2001.0  1000 Ha     1139.0   \n147              Algeria           11    Area  2001.0  1000 Ha    40109.0   \n194       American Samoa           11    Area  2001.0  1000 Ha        5.0   \n241           Americas +           11    Area  2001.0  1000 Ha  1195889.0   \n288              Andorra           11    Area  2001.0  1000 Ha       26.0   \n335               Angola           11    Area  2001.0  1000 Ha    57300.0   \n382  Antigua and Barbuda           11    Area  2001.0  1000 Ha       13.0   \n429            Argentina           11    Area  2001.0  1000 Ha   128860.0   \n\n    value_footnotes           category  \n6                Fm  agricultural_area  \n53               A   agricultural_area  \n100              Q   agricultural_area  \n147              Q   agricultural_area  \n194              F   agricultural_area  \n241              A   agricultural_area  \n288              F   agricultural_area  \n335              F   agricultural_area  \n382              Fm  agricultural_area  \n429              Fm  agricultural_area  ",
      "text/html": "<div>\n<style scoped>\n    .dataframe tbody tr th:only-of-type {\n        vertical-align: middle;\n    }\n\n    .dataframe tbody tr th {\n        vertical-align: top;\n    }\n\n    .dataframe thead th {\n        text-align: right;\n    }\n</style>\n<table border=\"1\" class=\"dataframe\">\n  <thead>\n    <tr style=\"text-align: right;\">\n      <th></th>\n      <th>country_or_area</th>\n      <th>element_code</th>\n      <th>element</th>\n      <th>year</th>\n      <th>unit</th>\n      <th>value</th>\n      <th>value_footnotes</th>\n      <th>category</th>\n    </tr>\n  </thead>\n  <tbody>\n    <tr>\n      <th>6</th>\n      <td>Afghanistan</td>\n      <td>11</td>\n      <td>Area</td>\n      <td>2001.0</td>\n      <td>1000 Ha</td>\n      <td>37564.0</td>\n      <td>Fm</td>\n      <td>agricultural_area</td>\n    </tr>\n    <tr>\n      <th>53</th>\n      <td>Africa +</td>\n      <td>11</td>\n      <td>Area</td>\n      <td>2001.0</td>\n      <td>1000 Ha</td>\n      <td>1130835.0</td>\n      <td>A</td>\n      <td>agricultural_area</td>\n    </tr>\n    <tr>\n      <th>100</th>\n      <td>Albania</td>\n      <td>11</td>\n      <td>Area</td>\n      <td>2001.0</td>\n      <td>1000 Ha</td>\n      <td>1139.0</td>\n      <td>Q</td>\n      <td>agricultural_area</td>\n    </tr>\n    <tr>\n      <th>147</th>\n      <td>Algeria</td>\n      <td>11</td>\n      <td>Area</td>\n      <td>2001.0</td>\n      <td>1000 Ha</td>\n      <td>40109.0</td>\n      <td>Q</td>\n      <td>agricultural_area</td>\n    </tr>\n    <tr>\n      <th>194</th>\n      <td>American Samoa</td>\n      <td>11</td>\n      <td>Area</td>\n      <td>2001.0</td>\n      <td>1000 Ha</td>\n      <td>5.0</td>\n      <td>F</td>\n      <td>agricultural_area</td>\n    </tr>\n    <tr>\n      <th>241</th>\n      <td>Americas +</td>\n      <td>11</td>\n      <td>Area</td>\n      <td>2001.0</td>\n      <td>1000 Ha</td>\n      <td>1195889.0</td>\n      <td>A</td>\n      <td>agricultural_area</td>\n    </tr>\n    <tr>\n      <th>288</th>\n      <td>Andorra</td>\n      <td>11</td>\n      <td>Area</td>\n      <td>2001.0</td>\n      <td>1000 Ha</td>\n      <td>26.0</td>\n      <td>F</td>\n      <td>agricultural_area</td>\n    </tr>\n    <tr>\n      <th>335</th>\n      <td>Angola</td>\n      <td>11</td>\n      <td>Area</td>\n      <td>2001.0</td>\n      <td>1000 Ha</td>\n      <td>57300.0</td>\n      <td>F</td>\n      <td>agricultural_area</td>\n    </tr>\n    <tr>\n      <th>382</th>\n      <td>Antigua and Barbuda</td>\n      <td>11</td>\n      <td>Area</td>\n      <td>2001.0</td>\n      <td>1000 Ha</td>\n      <td>13.0</td>\n      <td>Fm</td>\n      <td>agricultural_area</td>\n    </tr>\n    <tr>\n      <th>429</th>\n      <td>Argentina</td>\n      <td>11</td>\n      <td>Area</td>\n      <td>2001.0</td>\n      <td>1000 Ha</td>\n      <td>128860.0</td>\n      <td>Fm</td>\n      <td>agricultural_area</td>\n    </tr>\n  </tbody>\n</table>\n</div>"
     },
     "execution_count": 20,
     "metadata": {},
     "output_type": "execute_result"
    }
   ],
   "source": [
    "# reindexing\n",
    "data_c = data[data['year'] == 2001]\n",
    "data_c[:10]"
   ],
   "metadata": {
    "collapsed": false,
    "pycharm": {
     "name": "#%%\n"
    }
   }
  },
  {
   "cell_type": "code",
   "execution_count": 21,
   "outputs": [
    {
     "data": {
      "text/plain": "  country_or_area element_code element    year     unit    value  \\\n0             NaN          NaN     NaN     NaN      NaN      NaN   \n1             NaN          NaN     NaN     NaN      NaN      NaN   \n2             NaN          NaN     NaN     NaN      NaN      NaN   \n3             NaN          NaN     NaN     NaN      NaN      NaN   \n4             NaN          NaN     NaN     NaN      NaN      NaN   \n5             NaN          NaN     NaN     NaN      NaN      NaN   \n6     Afghanistan           11    Area  2001.0  1000 Ha  37564.0   \n7     Afghanistan           11    Area  2001.0  1000 Ha  37564.0   \n8     Afghanistan           11    Area  2001.0  1000 Ha  37564.0   \n9     Afghanistan           11    Area  2001.0  1000 Ha  37564.0   \n\n  value_footnotes           category  \n0             NaN                NaN  \n1             NaN                NaN  \n2             NaN                NaN  \n3             NaN                NaN  \n4             NaN                NaN  \n5             NaN                NaN  \n6              Fm  agricultural_area  \n7              Fm  agricultural_area  \n8              Fm  agricultural_area  \n9              Fm  agricultural_area  ",
      "text/html": "<div>\n<style scoped>\n    .dataframe tbody tr th:only-of-type {\n        vertical-align: middle;\n    }\n\n    .dataframe tbody tr th {\n        vertical-align: top;\n    }\n\n    .dataframe thead th {\n        text-align: right;\n    }\n</style>\n<table border=\"1\" class=\"dataframe\">\n  <thead>\n    <tr style=\"text-align: right;\">\n      <th></th>\n      <th>country_or_area</th>\n      <th>element_code</th>\n      <th>element</th>\n      <th>year</th>\n      <th>unit</th>\n      <th>value</th>\n      <th>value_footnotes</th>\n      <th>category</th>\n    </tr>\n  </thead>\n  <tbody>\n    <tr>\n      <th>0</th>\n      <td>NaN</td>\n      <td>NaN</td>\n      <td>NaN</td>\n      <td>NaN</td>\n      <td>NaN</td>\n      <td>NaN</td>\n      <td>NaN</td>\n      <td>NaN</td>\n    </tr>\n    <tr>\n      <th>1</th>\n      <td>NaN</td>\n      <td>NaN</td>\n      <td>NaN</td>\n      <td>NaN</td>\n      <td>NaN</td>\n      <td>NaN</td>\n      <td>NaN</td>\n      <td>NaN</td>\n    </tr>\n    <tr>\n      <th>2</th>\n      <td>NaN</td>\n      <td>NaN</td>\n      <td>NaN</td>\n      <td>NaN</td>\n      <td>NaN</td>\n      <td>NaN</td>\n      <td>NaN</td>\n      <td>NaN</td>\n    </tr>\n    <tr>\n      <th>3</th>\n      <td>NaN</td>\n      <td>NaN</td>\n      <td>NaN</td>\n      <td>NaN</td>\n      <td>NaN</td>\n      <td>NaN</td>\n      <td>NaN</td>\n      <td>NaN</td>\n    </tr>\n    <tr>\n      <th>4</th>\n      <td>NaN</td>\n      <td>NaN</td>\n      <td>NaN</td>\n      <td>NaN</td>\n      <td>NaN</td>\n      <td>NaN</td>\n      <td>NaN</td>\n      <td>NaN</td>\n    </tr>\n    <tr>\n      <th>5</th>\n      <td>NaN</td>\n      <td>NaN</td>\n      <td>NaN</td>\n      <td>NaN</td>\n      <td>NaN</td>\n      <td>NaN</td>\n      <td>NaN</td>\n      <td>NaN</td>\n    </tr>\n    <tr>\n      <th>6</th>\n      <td>Afghanistan</td>\n      <td>11</td>\n      <td>Area</td>\n      <td>2001.0</td>\n      <td>1000 Ha</td>\n      <td>37564.0</td>\n      <td>Fm</td>\n      <td>agricultural_area</td>\n    </tr>\n    <tr>\n      <th>7</th>\n      <td>Afghanistan</td>\n      <td>11</td>\n      <td>Area</td>\n      <td>2001.0</td>\n      <td>1000 Ha</td>\n      <td>37564.0</td>\n      <td>Fm</td>\n      <td>agricultural_area</td>\n    </tr>\n    <tr>\n      <th>8</th>\n      <td>Afghanistan</td>\n      <td>11</td>\n      <td>Area</td>\n      <td>2001.0</td>\n      <td>1000 Ha</td>\n      <td>37564.0</td>\n      <td>Fm</td>\n      <td>agricultural_area</td>\n    </tr>\n    <tr>\n      <th>9</th>\n      <td>Afghanistan</td>\n      <td>11</td>\n      <td>Area</td>\n      <td>2001.0</td>\n      <td>1000 Ha</td>\n      <td>37564.0</td>\n      <td>Fm</td>\n      <td>agricultural_area</td>\n    </tr>\n  </tbody>\n</table>\n</div>"
     },
     "execution_count": 21,
     "metadata": {},
     "output_type": "execute_result"
    }
   ],
   "source": [
    "data_c[:10].reindex(range(10),method='ffill')"
   ],
   "metadata": {
    "collapsed": false,
    "pycharm": {
     "name": "#%%\n"
    }
   }
  },
  {
   "cell_type": "code",
   "execution_count": 25,
   "outputs": [
    {
     "data": {
      "text/plain": "         country_or_area element_code element    year     unit      value  \\\n6            Afghanistan           11    Area  2001.0  1000 Ha    37564.0   \n53              Africa +           11    Area  2001.0  1000 Ha  1130835.0   \n100              Albania           11    Area  2001.0  1000 Ha     1139.0   \n147              Algeria           11    Area  2001.0  1000 Ha    40109.0   \n194       American Samoa           11    Area  2001.0  1000 Ha        5.0   \n241           Americas +           11    Area  2001.0  1000 Ha  1195889.0   \n288              Andorra           11    Area  2001.0  1000 Ha       26.0   \n335               Angola           11    Area  2001.0  1000 Ha    57300.0   \n382  Antigua and Barbuda           11    Area  2001.0  1000 Ha       13.0   \n\n    value_footnotes           category  \n6                Fm  agricultural_area  \n53               A   agricultural_area  \n100              Q   agricultural_area  \n147              Q   agricultural_area  \n194              F   agricultural_area  \n241              A   agricultural_area  \n288              F   agricultural_area  \n335              F   agricultural_area  \n382              Fm  agricultural_area  ",
      "text/html": "<div>\n<style scoped>\n    .dataframe tbody tr th:only-of-type {\n        vertical-align: middle;\n    }\n\n    .dataframe tbody tr th {\n        vertical-align: top;\n    }\n\n    .dataframe thead th {\n        text-align: right;\n    }\n</style>\n<table border=\"1\" class=\"dataframe\">\n  <thead>\n    <tr style=\"text-align: right;\">\n      <th></th>\n      <th>country_or_area</th>\n      <th>element_code</th>\n      <th>element</th>\n      <th>year</th>\n      <th>unit</th>\n      <th>value</th>\n      <th>value_footnotes</th>\n      <th>category</th>\n    </tr>\n  </thead>\n  <tbody>\n    <tr>\n      <th>6</th>\n      <td>Afghanistan</td>\n      <td>11</td>\n      <td>Area</td>\n      <td>2001.0</td>\n      <td>1000 Ha</td>\n      <td>37564.0</td>\n      <td>Fm</td>\n      <td>agricultural_area</td>\n    </tr>\n    <tr>\n      <th>53</th>\n      <td>Africa +</td>\n      <td>11</td>\n      <td>Area</td>\n      <td>2001.0</td>\n      <td>1000 Ha</td>\n      <td>1130835.0</td>\n      <td>A</td>\n      <td>agricultural_area</td>\n    </tr>\n    <tr>\n      <th>100</th>\n      <td>Albania</td>\n      <td>11</td>\n      <td>Area</td>\n      <td>2001.0</td>\n      <td>1000 Ha</td>\n      <td>1139.0</td>\n      <td>Q</td>\n      <td>agricultural_area</td>\n    </tr>\n    <tr>\n      <th>147</th>\n      <td>Algeria</td>\n      <td>11</td>\n      <td>Area</td>\n      <td>2001.0</td>\n      <td>1000 Ha</td>\n      <td>40109.0</td>\n      <td>Q</td>\n      <td>agricultural_area</td>\n    </tr>\n    <tr>\n      <th>194</th>\n      <td>American Samoa</td>\n      <td>11</td>\n      <td>Area</td>\n      <td>2001.0</td>\n      <td>1000 Ha</td>\n      <td>5.0</td>\n      <td>F</td>\n      <td>agricultural_area</td>\n    </tr>\n    <tr>\n      <th>241</th>\n      <td>Americas +</td>\n      <td>11</td>\n      <td>Area</td>\n      <td>2001.0</td>\n      <td>1000 Ha</td>\n      <td>1195889.0</td>\n      <td>A</td>\n      <td>agricultural_area</td>\n    </tr>\n    <tr>\n      <th>288</th>\n      <td>Andorra</td>\n      <td>11</td>\n      <td>Area</td>\n      <td>2001.0</td>\n      <td>1000 Ha</td>\n      <td>26.0</td>\n      <td>F</td>\n      <td>agricultural_area</td>\n    </tr>\n    <tr>\n      <th>335</th>\n      <td>Angola</td>\n      <td>11</td>\n      <td>Area</td>\n      <td>2001.0</td>\n      <td>1000 Ha</td>\n      <td>57300.0</td>\n      <td>F</td>\n      <td>agricultural_area</td>\n    </tr>\n    <tr>\n      <th>382</th>\n      <td>Antigua and Barbuda</td>\n      <td>11</td>\n      <td>Area</td>\n      <td>2001.0</td>\n      <td>1000 Ha</td>\n      <td>13.0</td>\n      <td>Fm</td>\n      <td>agricultural_area</td>\n    </tr>\n  </tbody>\n</table>\n</div>"
     },
     "execution_count": 25,
     "metadata": {},
     "output_type": "execute_result"
    }
   ],
   "source": [
    "data_c[:10].drop(429)"
   ],
   "metadata": {
    "collapsed": false,
    "pycharm": {
     "name": "#%%\n"
    }
   }
  },
  {
   "cell_type": "code",
   "execution_count": 27,
   "outputs": [
    {
     "data": {
      "text/plain": "    country_or_area element_code element    year     unit      value  \\\n6       Afghanistan           11    Area  2001.0  1000 Ha    37564.0   \n53         Africa +           11    Area  2001.0  1000 Ha  1130835.0   \n100         Albania           11    Area  2001.0  1000 Ha     1139.0   \n147         Algeria           11    Area  2001.0  1000 Ha    40109.0   \n194  American Samoa           11    Area  2001.0  1000 Ha        5.0   \n241      Americas +           11    Area  2001.0  1000 Ha  1195889.0   \n288         Andorra           11    Area  2001.0  1000 Ha       26.0   \n\n    value_footnotes           category  \n6                Fm  agricultural_area  \n53               A   agricultural_area  \n100              Q   agricultural_area  \n147              Q   agricultural_area  \n194              F   agricultural_area  \n241              A   agricultural_area  \n288              F   agricultural_area  ",
      "text/html": "<div>\n<style scoped>\n    .dataframe tbody tr th:only-of-type {\n        vertical-align: middle;\n    }\n\n    .dataframe tbody tr th {\n        vertical-align: top;\n    }\n\n    .dataframe thead th {\n        text-align: right;\n    }\n</style>\n<table border=\"1\" class=\"dataframe\">\n  <thead>\n    <tr style=\"text-align: right;\">\n      <th></th>\n      <th>country_or_area</th>\n      <th>element_code</th>\n      <th>element</th>\n      <th>year</th>\n      <th>unit</th>\n      <th>value</th>\n      <th>value_footnotes</th>\n      <th>category</th>\n    </tr>\n  </thead>\n  <tbody>\n    <tr>\n      <th>6</th>\n      <td>Afghanistan</td>\n      <td>11</td>\n      <td>Area</td>\n      <td>2001.0</td>\n      <td>1000 Ha</td>\n      <td>37564.0</td>\n      <td>Fm</td>\n      <td>agricultural_area</td>\n    </tr>\n    <tr>\n      <th>53</th>\n      <td>Africa +</td>\n      <td>11</td>\n      <td>Area</td>\n      <td>2001.0</td>\n      <td>1000 Ha</td>\n      <td>1130835.0</td>\n      <td>A</td>\n      <td>agricultural_area</td>\n    </tr>\n    <tr>\n      <th>100</th>\n      <td>Albania</td>\n      <td>11</td>\n      <td>Area</td>\n      <td>2001.0</td>\n      <td>1000 Ha</td>\n      <td>1139.0</td>\n      <td>Q</td>\n      <td>agricultural_area</td>\n    </tr>\n    <tr>\n      <th>147</th>\n      <td>Algeria</td>\n      <td>11</td>\n      <td>Area</td>\n      <td>2001.0</td>\n      <td>1000 Ha</td>\n      <td>40109.0</td>\n      <td>Q</td>\n      <td>agricultural_area</td>\n    </tr>\n    <tr>\n      <th>194</th>\n      <td>American Samoa</td>\n      <td>11</td>\n      <td>Area</td>\n      <td>2001.0</td>\n      <td>1000 Ha</td>\n      <td>5.0</td>\n      <td>F</td>\n      <td>agricultural_area</td>\n    </tr>\n    <tr>\n      <th>241</th>\n      <td>Americas +</td>\n      <td>11</td>\n      <td>Area</td>\n      <td>2001.0</td>\n      <td>1000 Ha</td>\n      <td>1195889.0</td>\n      <td>A</td>\n      <td>agricultural_area</td>\n    </tr>\n    <tr>\n      <th>288</th>\n      <td>Andorra</td>\n      <td>11</td>\n      <td>Area</td>\n      <td>2001.0</td>\n      <td>1000 Ha</td>\n      <td>26.0</td>\n      <td>F</td>\n      <td>agricultural_area</td>\n    </tr>\n  </tbody>\n</table>\n</div>"
     },
     "execution_count": 27,
     "metadata": {},
     "output_type": "execute_result"
    }
   ],
   "source": [
    "data_c[:10].drop([335,382,429])"
   ],
   "metadata": {
    "collapsed": false,
    "pycharm": {
     "name": "#%%\n"
    }
   }
  },
  {
   "cell_type": "code",
   "execution_count": 30,
   "outputs": [
    {
     "name": "stderr",
     "output_type": "stream",
     "text": [
      "c:\\users\\ashen\\appdata\\local\\programs\\python\\python37\\lib\\site-packages\\pandas\\core\\frame.py:4312: SettingWithCopyWarning: \n",
      "A value is trying to be set on a copy of a slice from a DataFrame\n",
      "\n",
      "See the caveats in the documentation: https://pandas.pydata.org/pandas-docs/stable/user_guide/indexing.html#returning-a-view-versus-a-copy\n",
      "  errors=errors,\n"
     ]
    }
   ],
   "source": [
    "data_c.drop('unit',axis=1,inplace=True)"
   ],
   "metadata": {
    "collapsed": false,
    "pycharm": {
     "name": "#%%\n"
    }
   }
  },
  {
   "cell_type": "code",
   "execution_count": 32,
   "outputs": [
    {
     "data": {
      "text/plain": "  country_or_area element_code element    year     unit    value  \\\n1     Afghanistan           11    Area  2006.0  1000 Ha  38659.0   \n2     Afghanistan           11    Area  2005.0  1000 Ha  38515.0   \n3     Afghanistan           11    Area  2004.0  1000 Ha  38064.0   \n\n  value_footnotes           category  \n1              Fm  agricultural_area  \n2              Fm  agricultural_area  \n3              Fm  agricultural_area  ",
      "text/html": "<div>\n<style scoped>\n    .dataframe tbody tr th:only-of-type {\n        vertical-align: middle;\n    }\n\n    .dataframe tbody tr th {\n        vertical-align: top;\n    }\n\n    .dataframe thead th {\n        text-align: right;\n    }\n</style>\n<table border=\"1\" class=\"dataframe\">\n  <thead>\n    <tr style=\"text-align: right;\">\n      <th></th>\n      <th>country_or_area</th>\n      <th>element_code</th>\n      <th>element</th>\n      <th>year</th>\n      <th>unit</th>\n      <th>value</th>\n      <th>value_footnotes</th>\n      <th>category</th>\n    </tr>\n  </thead>\n  <tbody>\n    <tr>\n      <th>1</th>\n      <td>Afghanistan</td>\n      <td>11</td>\n      <td>Area</td>\n      <td>2006.0</td>\n      <td>1000 Ha</td>\n      <td>38659.0</td>\n      <td>Fm</td>\n      <td>agricultural_area</td>\n    </tr>\n    <tr>\n      <th>2</th>\n      <td>Afghanistan</td>\n      <td>11</td>\n      <td>Area</td>\n      <td>2005.0</td>\n      <td>1000 Ha</td>\n      <td>38515.0</td>\n      <td>Fm</td>\n      <td>agricultural_area</td>\n    </tr>\n    <tr>\n      <th>3</th>\n      <td>Afghanistan</td>\n      <td>11</td>\n      <td>Area</td>\n      <td>2004.0</td>\n      <td>1000 Ha</td>\n      <td>38064.0</td>\n      <td>Fm</td>\n      <td>agricultural_area</td>\n    </tr>\n  </tbody>\n</table>\n</div>"
     },
     "execution_count": 32,
     "metadata": {},
     "output_type": "execute_result"
    }
   ],
   "source": [
    "data[1:4]"
   ],
   "metadata": {
    "collapsed": false,
    "pycharm": {
     "name": "#%%\n"
    }
   }
  },
  {
   "cell_type": "code",
   "execution_count": 33,
   "outputs": [
    {
     "data": {
      "text/plain": "       element     unit    value\n0         Area  1000 Ha  38661.0\n1         Area  1000 Ha  38659.0\n2         Area  1000 Ha  38515.0\n3         Area  1000 Ha  38064.0\n4         Area  1000 Ha  38899.0\n...        ...      ...      ...\n104779     NaN      NaN      NaN\n104780     NaN      NaN      NaN\n104781     NaN      NaN      NaN\n104782     NaN      NaN      NaN\n104783     NaN      NaN      NaN\n\n[104784 rows x 3 columns]",
      "text/html": "<div>\n<style scoped>\n    .dataframe tbody tr th:only-of-type {\n        vertical-align: middle;\n    }\n\n    .dataframe tbody tr th {\n        vertical-align: top;\n    }\n\n    .dataframe thead th {\n        text-align: right;\n    }\n</style>\n<table border=\"1\" class=\"dataframe\">\n  <thead>\n    <tr style=\"text-align: right;\">\n      <th></th>\n      <th>element</th>\n      <th>unit</th>\n      <th>value</th>\n    </tr>\n  </thead>\n  <tbody>\n    <tr>\n      <th>0</th>\n      <td>Area</td>\n      <td>1000 Ha</td>\n      <td>38661.0</td>\n    </tr>\n    <tr>\n      <th>1</th>\n      <td>Area</td>\n      <td>1000 Ha</td>\n      <td>38659.0</td>\n    </tr>\n    <tr>\n      <th>2</th>\n      <td>Area</td>\n      <td>1000 Ha</td>\n      <td>38515.0</td>\n    </tr>\n    <tr>\n      <th>3</th>\n      <td>Area</td>\n      <td>1000 Ha</td>\n      <td>38064.0</td>\n    </tr>\n    <tr>\n      <th>4</th>\n      <td>Area</td>\n      <td>1000 Ha</td>\n      <td>38899.0</td>\n    </tr>\n    <tr>\n      <th>...</th>\n      <td>...</td>\n      <td>...</td>\n      <td>...</td>\n    </tr>\n    <tr>\n      <th>104779</th>\n      <td>NaN</td>\n      <td>NaN</td>\n      <td>NaN</td>\n    </tr>\n    <tr>\n      <th>104780</th>\n      <td>NaN</td>\n      <td>NaN</td>\n      <td>NaN</td>\n    </tr>\n    <tr>\n      <th>104781</th>\n      <td>NaN</td>\n      <td>NaN</td>\n      <td>NaN</td>\n    </tr>\n    <tr>\n      <th>104782</th>\n      <td>NaN</td>\n      <td>NaN</td>\n      <td>NaN</td>\n    </tr>\n    <tr>\n      <th>104783</th>\n      <td>NaN</td>\n      <td>NaN</td>\n      <td>NaN</td>\n    </tr>\n  </tbody>\n</table>\n<p>104784 rows × 3 columns</p>\n</div>"
     },
     "execution_count": 33,
     "metadata": {},
     "output_type": "execute_result"
    }
   ],
   "source": [
    "data[['element','unit','value']]"
   ],
   "metadata": {
    "collapsed": false,
    "pycharm": {
     "name": "#%%\n"
    }
   }
  },
  {
   "cell_type": "code",
   "execution_count": 36,
   "outputs": [
    {
     "data": {
      "text/plain": "     value\n0  38661.0\n1  38659.0\n2  38515.0\n3  38064.0\n4  38899.0",
      "text/html": "<div>\n<style scoped>\n    .dataframe tbody tr th:only-of-type {\n        vertical-align: middle;\n    }\n\n    .dataframe tbody tr th {\n        vertical-align: top;\n    }\n\n    .dataframe thead th {\n        text-align: right;\n    }\n</style>\n<table border=\"1\" class=\"dataframe\">\n  <thead>\n    <tr style=\"text-align: right;\">\n      <th></th>\n      <th>value</th>\n    </tr>\n  </thead>\n  <tbody>\n    <tr>\n      <th>0</th>\n      <td>38661.0</td>\n    </tr>\n    <tr>\n      <th>1</th>\n      <td>38659.0</td>\n    </tr>\n    <tr>\n      <th>2</th>\n      <td>38515.0</td>\n    </tr>\n    <tr>\n      <th>3</th>\n      <td>38064.0</td>\n    </tr>\n    <tr>\n      <th>4</th>\n      <td>38899.0</td>\n    </tr>\n  </tbody>\n</table>\n</div>"
     },
     "execution_count": 36,
     "metadata": {},
     "output_type": "execute_result"
    }
   ],
   "source": [
    "data[['value']][:5]"
   ],
   "metadata": {
    "collapsed": false,
    "pycharm": {
     "name": "#%%\n"
    }
   }
  },
  {
   "cell_type": "code",
   "execution_count": 41,
   "outputs": [
    {
     "data": {
      "text/plain": "country_or_area          Afghanistan\ncategory           agricultural_area\nName: 1, dtype: object"
     },
     "execution_count": 41,
     "metadata": {},
     "output_type": "execute_result"
    }
   ],
   "source": [
    "data.loc[1,['country_or_area','category']]"
   ],
   "metadata": {
    "collapsed": false,
    "pycharm": {
     "name": "#%%\n"
    }
   }
  },
  {
   "cell_type": "code",
   "execution_count": 42,
   "outputs": [
    {
     "data": {
      "text/plain": "country_or_area          Afghanistan\nelement_code                      11\nelement                         Area\nyear                          2006.0\nunit                         1000 Ha\nvalue                        38659.0\nvalue_footnotes                   Fm\ncategory           agricultural_area\nName: 1, dtype: object"
     },
     "execution_count": 42,
     "metadata": {},
     "output_type": "execute_result"
    }
   ],
   "source": [
    "data.iloc[1]"
   ],
   "metadata": {
    "collapsed": false,
    "pycharm": {
     "name": "#%%\n"
    }
   }
  },
  {
   "cell_type": "code",
   "execution_count": 45,
   "outputs": [
    {
     "data": {
      "text/plain": "   country_or_area           category\n0      Afghanistan  agricultural_area\n5      Afghanistan  agricultural_area\n10     Afghanistan  agricultural_area",
      "text/html": "<div>\n<style scoped>\n    .dataframe tbody tr th:only-of-type {\n        vertical-align: middle;\n    }\n\n    .dataframe tbody tr th {\n        vertical-align: top;\n    }\n\n    .dataframe thead th {\n        text-align: right;\n    }\n</style>\n<table border=\"1\" class=\"dataframe\">\n  <thead>\n    <tr style=\"text-align: right;\">\n      <th></th>\n      <th>country_or_area</th>\n      <th>category</th>\n    </tr>\n  </thead>\n  <tbody>\n    <tr>\n      <th>0</th>\n      <td>Afghanistan</td>\n      <td>agricultural_area</td>\n    </tr>\n    <tr>\n      <th>5</th>\n      <td>Afghanistan</td>\n      <td>agricultural_area</td>\n    </tr>\n    <tr>\n      <th>10</th>\n      <td>Afghanistan</td>\n      <td>agricultural_area</td>\n    </tr>\n  </tbody>\n</table>\n</div>"
     },
     "execution_count": 45,
     "metadata": {},
     "output_type": "execute_result"
    }
   ],
   "source": [
    "data.loc[[0,5,10],['country_or_area','category']]"
   ],
   "metadata": {
    "collapsed": false,
    "pycharm": {
     "name": "#%%\n"
    }
   }
  },
  {
   "cell_type": "code",
   "execution_count": 46,
   "outputs": [
    {
     "data": {
      "text/plain": "0     Afghanistan\n1     Afghanistan\n2     Afghanistan\n3     Afghanistan\n4     Afghanistan\n5     Afghanistan\n6     Afghanistan\n7     Afghanistan\n8     Afghanistan\n9     Afghanistan\n10    Afghanistan\nName: country_or_area, dtype: object"
     },
     "execution_count": 46,
     "metadata": {},
     "output_type": "execute_result"
    }
   ],
   "source": [
    "data.loc[:10,'country_or_area']"
   ],
   "metadata": {
    "collapsed": false,
    "pycharm": {
     "name": "#%%\n"
    }
   }
  },
  {
   "cell_type": "code",
   "execution_count": 47,
   "outputs": [
    {
     "data": {
      "text/plain": "7       37838.0\n54    1126222.0\nName: value, dtype: float64"
     },
     "execution_count": 47,
     "metadata": {},
     "output_type": "execute_result"
    }
   ],
   "source": [
    "data.loc[:100,'value'][data.year==2000]"
   ],
   "metadata": {
    "collapsed": false,
    "pycharm": {
     "name": "#%%\n"
    }
   }
  },
  {
   "cell_type": "code",
   "execution_count": 50,
   "outputs": [
    {
     "data": {
      "text/plain": "       country_or_area element_code element    year     unit    value  \\\n0          Afghanistan           11    Area  2007.0  1000 Ha  38661.0   \n1          Afghanistan           11    Area  2006.0  1000 Ha  38659.0   \n2          Afghanistan           11    Area  2005.0  1000 Ha  38515.0   \n3          Afghanistan           11    Area  2004.0  1000 Ha  38064.0   \n4          Afghanistan           11    Area  2003.0  1000 Ha  38899.0   \n...                ...          ...     ...     ...      ...      ...   \n104731        Zimbabwe           11    Area  2005.0  1000 Ha    174.0   \n104732        Zimbabwe           11    Area  2004.0  1000 Ha    174.0   \n104733        Zimbabwe           11    Area  2003.0  1000 Ha    174.0   \n104734        Zimbabwe           11    Area  2002.0  1000 Ha    174.0   \n104735        Zimbabwe           11    Area  2001.0  1000 Ha    174.0   \n\n       value_footnotes                            category  \n0                   Q                    agricultural_area  \n1                   Fm                   agricultural_area  \n2                   Fm                   agricultural_area  \n3                   Fm                   agricultural_area  \n4                   Fm                   agricultural_area  \n...                ...                                 ...  \n104731              Fm  total_area_equipped_for_irrigation  \n104732              Fm  total_area_equipped_for_irrigation  \n104733              F   total_area_equipped_for_irrigation  \n104734              F   total_area_equipped_for_irrigation  \n104735              F   total_area_equipped_for_irrigation  \n\n[20845 rows x 8 columns]",
      "text/html": "<div>\n<style scoped>\n    .dataframe tbody tr th:only-of-type {\n        vertical-align: middle;\n    }\n\n    .dataframe tbody tr th {\n        vertical-align: top;\n    }\n\n    .dataframe thead th {\n        text-align: right;\n    }\n</style>\n<table border=\"1\" class=\"dataframe\">\n  <thead>\n    <tr style=\"text-align: right;\">\n      <th></th>\n      <th>country_or_area</th>\n      <th>element_code</th>\n      <th>element</th>\n      <th>year</th>\n      <th>unit</th>\n      <th>value</th>\n      <th>value_footnotes</th>\n      <th>category</th>\n    </tr>\n  </thead>\n  <tbody>\n    <tr>\n      <th>0</th>\n      <td>Afghanistan</td>\n      <td>11</td>\n      <td>Area</td>\n      <td>2007.0</td>\n      <td>1000 Ha</td>\n      <td>38661.0</td>\n      <td>Q</td>\n      <td>agricultural_area</td>\n    </tr>\n    <tr>\n      <th>1</th>\n      <td>Afghanistan</td>\n      <td>11</td>\n      <td>Area</td>\n      <td>2006.0</td>\n      <td>1000 Ha</td>\n      <td>38659.0</td>\n      <td>Fm</td>\n      <td>agricultural_area</td>\n    </tr>\n    <tr>\n      <th>2</th>\n      <td>Afghanistan</td>\n      <td>11</td>\n      <td>Area</td>\n      <td>2005.0</td>\n      <td>1000 Ha</td>\n      <td>38515.0</td>\n      <td>Fm</td>\n      <td>agricultural_area</td>\n    </tr>\n    <tr>\n      <th>3</th>\n      <td>Afghanistan</td>\n      <td>11</td>\n      <td>Area</td>\n      <td>2004.0</td>\n      <td>1000 Ha</td>\n      <td>38064.0</td>\n      <td>Fm</td>\n      <td>agricultural_area</td>\n    </tr>\n    <tr>\n      <th>4</th>\n      <td>Afghanistan</td>\n      <td>11</td>\n      <td>Area</td>\n      <td>2003.0</td>\n      <td>1000 Ha</td>\n      <td>38899.0</td>\n      <td>Fm</td>\n      <td>agricultural_area</td>\n    </tr>\n    <tr>\n      <th>...</th>\n      <td>...</td>\n      <td>...</td>\n      <td>...</td>\n      <td>...</td>\n      <td>...</td>\n      <td>...</td>\n      <td>...</td>\n      <td>...</td>\n    </tr>\n    <tr>\n      <th>104731</th>\n      <td>Zimbabwe</td>\n      <td>11</td>\n      <td>Area</td>\n      <td>2005.0</td>\n      <td>1000 Ha</td>\n      <td>174.0</td>\n      <td>Fm</td>\n      <td>total_area_equipped_for_irrigation</td>\n    </tr>\n    <tr>\n      <th>104732</th>\n      <td>Zimbabwe</td>\n      <td>11</td>\n      <td>Area</td>\n      <td>2004.0</td>\n      <td>1000 Ha</td>\n      <td>174.0</td>\n      <td>Fm</td>\n      <td>total_area_equipped_for_irrigation</td>\n    </tr>\n    <tr>\n      <th>104733</th>\n      <td>Zimbabwe</td>\n      <td>11</td>\n      <td>Area</td>\n      <td>2003.0</td>\n      <td>1000 Ha</td>\n      <td>174.0</td>\n      <td>F</td>\n      <td>total_area_equipped_for_irrigation</td>\n    </tr>\n    <tr>\n      <th>104734</th>\n      <td>Zimbabwe</td>\n      <td>11</td>\n      <td>Area</td>\n      <td>2002.0</td>\n      <td>1000 Ha</td>\n      <td>174.0</td>\n      <td>F</td>\n      <td>total_area_equipped_for_irrigation</td>\n    </tr>\n    <tr>\n      <th>104735</th>\n      <td>Zimbabwe</td>\n      <td>11</td>\n      <td>Area</td>\n      <td>2001.0</td>\n      <td>1000 Ha</td>\n      <td>174.0</td>\n      <td>F</td>\n      <td>total_area_equipped_for_irrigation</td>\n    </tr>\n  </tbody>\n</table>\n<p>20845 rows × 8 columns</p>\n</div>"
     },
     "execution_count": 50,
     "metadata": {},
     "output_type": "execute_result"
    }
   ],
   "source": [
    "data.iloc[np.where(data.year>2000)]"
   ],
   "metadata": {
    "collapsed": false,
    "pycharm": {
     "name": "#%%\n"
    }
   }
  },
  {
   "cell_type": "code",
   "execution_count": 52,
   "outputs": [
    {
     "data": {
      "text/plain": "    category country_or_area element element_code  unit  value  \\\n0        NaN             NaN     NaN          NaN   NaN    NaN   \n1        NaN             NaN     NaN          NaN   NaN    NaN   \n2        NaN             NaN     NaN          NaN   NaN    NaN   \n3        NaN             NaN     NaN          NaN   NaN    NaN   \n4        NaN             NaN     NaN          NaN   NaN    NaN   \n6        NaN             NaN     NaN          NaN   NaN    NaN   \n53       NaN             NaN     NaN          NaN   NaN    NaN   \n100      NaN             NaN     NaN          NaN   NaN    NaN   \n147      NaN             NaN     NaN          NaN   NaN    NaN   \n194      NaN             NaN     NaN          NaN   NaN    NaN   \n\n    value_footnotes  year  \n0               NaN   NaN  \n1               NaN   NaN  \n2               NaN   NaN  \n3               NaN   NaN  \n4               NaN   NaN  \n6               NaN   NaN  \n53              NaN   NaN  \n100             NaN   NaN  \n147             NaN   NaN  \n194             NaN   NaN  ",
      "text/html": "<div>\n<style scoped>\n    .dataframe tbody tr th:only-of-type {\n        vertical-align: middle;\n    }\n\n    .dataframe tbody tr th {\n        vertical-align: top;\n    }\n\n    .dataframe thead th {\n        text-align: right;\n    }\n</style>\n<table border=\"1\" class=\"dataframe\">\n  <thead>\n    <tr style=\"text-align: right;\">\n      <th></th>\n      <th>category</th>\n      <th>country_or_area</th>\n      <th>element</th>\n      <th>element_code</th>\n      <th>unit</th>\n      <th>value</th>\n      <th>value_footnotes</th>\n      <th>year</th>\n    </tr>\n  </thead>\n  <tbody>\n    <tr>\n      <th>0</th>\n      <td>NaN</td>\n      <td>NaN</td>\n      <td>NaN</td>\n      <td>NaN</td>\n      <td>NaN</td>\n      <td>NaN</td>\n      <td>NaN</td>\n      <td>NaN</td>\n    </tr>\n    <tr>\n      <th>1</th>\n      <td>NaN</td>\n      <td>NaN</td>\n      <td>NaN</td>\n      <td>NaN</td>\n      <td>NaN</td>\n      <td>NaN</td>\n      <td>NaN</td>\n      <td>NaN</td>\n    </tr>\n    <tr>\n      <th>2</th>\n      <td>NaN</td>\n      <td>NaN</td>\n      <td>NaN</td>\n      <td>NaN</td>\n      <td>NaN</td>\n      <td>NaN</td>\n      <td>NaN</td>\n      <td>NaN</td>\n    </tr>\n    <tr>\n      <th>3</th>\n      <td>NaN</td>\n      <td>NaN</td>\n      <td>NaN</td>\n      <td>NaN</td>\n      <td>NaN</td>\n      <td>NaN</td>\n      <td>NaN</td>\n      <td>NaN</td>\n    </tr>\n    <tr>\n      <th>4</th>\n      <td>NaN</td>\n      <td>NaN</td>\n      <td>NaN</td>\n      <td>NaN</td>\n      <td>NaN</td>\n      <td>NaN</td>\n      <td>NaN</td>\n      <td>NaN</td>\n    </tr>\n    <tr>\n      <th>6</th>\n      <td>NaN</td>\n      <td>NaN</td>\n      <td>NaN</td>\n      <td>NaN</td>\n      <td>NaN</td>\n      <td>NaN</td>\n      <td>NaN</td>\n      <td>NaN</td>\n    </tr>\n    <tr>\n      <th>53</th>\n      <td>NaN</td>\n      <td>NaN</td>\n      <td>NaN</td>\n      <td>NaN</td>\n      <td>NaN</td>\n      <td>NaN</td>\n      <td>NaN</td>\n      <td>NaN</td>\n    </tr>\n    <tr>\n      <th>100</th>\n      <td>NaN</td>\n      <td>NaN</td>\n      <td>NaN</td>\n      <td>NaN</td>\n      <td>NaN</td>\n      <td>NaN</td>\n      <td>NaN</td>\n      <td>NaN</td>\n    </tr>\n    <tr>\n      <th>147</th>\n      <td>NaN</td>\n      <td>NaN</td>\n      <td>NaN</td>\n      <td>NaN</td>\n      <td>NaN</td>\n      <td>NaN</td>\n      <td>NaN</td>\n      <td>NaN</td>\n    </tr>\n    <tr>\n      <th>194</th>\n      <td>NaN</td>\n      <td>NaN</td>\n      <td>NaN</td>\n      <td>NaN</td>\n      <td>NaN</td>\n      <td>NaN</td>\n      <td>NaN</td>\n      <td>NaN</td>\n    </tr>\n  </tbody>\n</table>\n</div>"
     },
     "execution_count": 52,
     "metadata": {},
     "output_type": "execute_result"
    }
   ],
   "source": [
    "data[:5] + data_c[:5]"
   ],
   "metadata": {
    "collapsed": false,
    "pycharm": {
     "name": "#%%\n"
    }
   }
  },
  {
   "cell_type": "code",
   "execution_count": 56,
   "outputs": [
    {
     "data": {
      "text/plain": "     value\n0  38661.0\n1  38659.0\n2  38515.0\n3  38064.0\n4  38899.0\n5  37514.0",
      "text/html": "<div>\n<style scoped>\n    .dataframe tbody tr th:only-of-type {\n        vertical-align: middle;\n    }\n\n    .dataframe tbody tr th {\n        vertical-align: top;\n    }\n\n    .dataframe thead th {\n        text-align: right;\n    }\n</style>\n<table border=\"1\" class=\"dataframe\">\n  <thead>\n    <tr style=\"text-align: right;\">\n      <th></th>\n      <th>value</th>\n    </tr>\n  </thead>\n  <tbody>\n    <tr>\n      <th>0</th>\n      <td>38661.0</td>\n    </tr>\n    <tr>\n      <th>1</th>\n      <td>38659.0</td>\n    </tr>\n    <tr>\n      <th>2</th>\n      <td>38515.0</td>\n    </tr>\n    <tr>\n      <th>3</th>\n      <td>38064.0</td>\n    </tr>\n    <tr>\n      <th>4</th>\n      <td>38899.0</td>\n    </tr>\n    <tr>\n      <th>5</th>\n      <td>37514.0</td>\n    </tr>\n  </tbody>\n</table>\n</div>"
     },
     "execution_count": 56,
     "metadata": {},
     "output_type": "execute_result"
    }
   ],
   "source": [
    "df1 = data[['value']].loc[:5]\n",
    "df2 = data_c[['value']].loc[:5]\n",
    "df1.add(df2,fill_value=0)"
   ],
   "metadata": {
    "collapsed": false,
    "pycharm": {
     "name": "#%%\n"
    }
   }
  },
  {
   "cell_type": "code",
   "execution_count": 58,
   "outputs": [
    {
     "data": {
      "text/plain": "   value   6  53  100  147  194  241  288  335  382  ...  104312  104328  \\\n0    NaN NaN NaN  NaN  NaN  NaN  NaN  NaN  NaN  NaN  ...     NaN     NaN   \n1    NaN NaN NaN  NaN  NaN  NaN  NaN  NaN  NaN  NaN  ...     NaN     NaN   \n2    NaN NaN NaN  NaN  NaN  NaN  NaN  NaN  NaN  NaN  ...     NaN     NaN   \n3    NaN NaN NaN  NaN  NaN  NaN  NaN  NaN  NaN  NaN  ...     NaN     NaN   \n4    NaN NaN NaN  NaN  NaN  NaN  NaN  NaN  NaN  NaN  ...     NaN     NaN   \n5    NaN NaN NaN  NaN  NaN  NaN  NaN  NaN  NaN  NaN  ...     NaN     NaN   \n\n   104375  104422  104469  104516  104563  104610  104688  104735  \n0     NaN     NaN     NaN     NaN     NaN     NaN     NaN     NaN  \n1     NaN     NaN     NaN     NaN     NaN     NaN     NaN     NaN  \n2     NaN     NaN     NaN     NaN     NaN     NaN     NaN     NaN  \n3     NaN     NaN     NaN     NaN     NaN     NaN     NaN     NaN  \n4     NaN     NaN     NaN     NaN     NaN     NaN     NaN     NaN  \n5     NaN     NaN     NaN     NaN     NaN     NaN     NaN     NaN  \n\n[6 rows x 2871 columns]",
      "text/html": "<div>\n<style scoped>\n    .dataframe tbody tr th:only-of-type {\n        vertical-align: middle;\n    }\n\n    .dataframe tbody tr th {\n        vertical-align: top;\n    }\n\n    .dataframe thead th {\n        text-align: right;\n    }\n</style>\n<table border=\"1\" class=\"dataframe\">\n  <thead>\n    <tr style=\"text-align: right;\">\n      <th></th>\n      <th>value</th>\n      <th>6</th>\n      <th>53</th>\n      <th>100</th>\n      <th>147</th>\n      <th>194</th>\n      <th>241</th>\n      <th>288</th>\n      <th>335</th>\n      <th>382</th>\n      <th>...</th>\n      <th>104312</th>\n      <th>104328</th>\n      <th>104375</th>\n      <th>104422</th>\n      <th>104469</th>\n      <th>104516</th>\n      <th>104563</th>\n      <th>104610</th>\n      <th>104688</th>\n      <th>104735</th>\n    </tr>\n  </thead>\n  <tbody>\n    <tr>\n      <th>0</th>\n      <td>NaN</td>\n      <td>NaN</td>\n      <td>NaN</td>\n      <td>NaN</td>\n      <td>NaN</td>\n      <td>NaN</td>\n      <td>NaN</td>\n      <td>NaN</td>\n      <td>NaN</td>\n      <td>NaN</td>\n      <td>...</td>\n      <td>NaN</td>\n      <td>NaN</td>\n      <td>NaN</td>\n      <td>NaN</td>\n      <td>NaN</td>\n      <td>NaN</td>\n      <td>NaN</td>\n      <td>NaN</td>\n      <td>NaN</td>\n      <td>NaN</td>\n    </tr>\n    <tr>\n      <th>1</th>\n      <td>NaN</td>\n      <td>NaN</td>\n      <td>NaN</td>\n      <td>NaN</td>\n      <td>NaN</td>\n      <td>NaN</td>\n      <td>NaN</td>\n      <td>NaN</td>\n      <td>NaN</td>\n      <td>NaN</td>\n      <td>...</td>\n      <td>NaN</td>\n      <td>NaN</td>\n      <td>NaN</td>\n      <td>NaN</td>\n      <td>NaN</td>\n      <td>NaN</td>\n      <td>NaN</td>\n      <td>NaN</td>\n      <td>NaN</td>\n      <td>NaN</td>\n    </tr>\n    <tr>\n      <th>2</th>\n      <td>NaN</td>\n      <td>NaN</td>\n      <td>NaN</td>\n      <td>NaN</td>\n      <td>NaN</td>\n      <td>NaN</td>\n      <td>NaN</td>\n      <td>NaN</td>\n      <td>NaN</td>\n      <td>NaN</td>\n      <td>...</td>\n      <td>NaN</td>\n      <td>NaN</td>\n      <td>NaN</td>\n      <td>NaN</td>\n      <td>NaN</td>\n      <td>NaN</td>\n      <td>NaN</td>\n      <td>NaN</td>\n      <td>NaN</td>\n      <td>NaN</td>\n    </tr>\n    <tr>\n      <th>3</th>\n      <td>NaN</td>\n      <td>NaN</td>\n      <td>NaN</td>\n      <td>NaN</td>\n      <td>NaN</td>\n      <td>NaN</td>\n      <td>NaN</td>\n      <td>NaN</td>\n      <td>NaN</td>\n      <td>NaN</td>\n      <td>...</td>\n      <td>NaN</td>\n      <td>NaN</td>\n      <td>NaN</td>\n      <td>NaN</td>\n      <td>NaN</td>\n      <td>NaN</td>\n      <td>NaN</td>\n      <td>NaN</td>\n      <td>NaN</td>\n      <td>NaN</td>\n    </tr>\n    <tr>\n      <th>4</th>\n      <td>NaN</td>\n      <td>NaN</td>\n      <td>NaN</td>\n      <td>NaN</td>\n      <td>NaN</td>\n      <td>NaN</td>\n      <td>NaN</td>\n      <td>NaN</td>\n      <td>NaN</td>\n      <td>NaN</td>\n      <td>...</td>\n      <td>NaN</td>\n      <td>NaN</td>\n      <td>NaN</td>\n      <td>NaN</td>\n      <td>NaN</td>\n      <td>NaN</td>\n      <td>NaN</td>\n      <td>NaN</td>\n      <td>NaN</td>\n      <td>NaN</td>\n    </tr>\n    <tr>\n      <th>5</th>\n      <td>NaN</td>\n      <td>NaN</td>\n      <td>NaN</td>\n      <td>NaN</td>\n      <td>NaN</td>\n      <td>NaN</td>\n      <td>NaN</td>\n      <td>NaN</td>\n      <td>NaN</td>\n      <td>NaN</td>\n      <td>...</td>\n      <td>NaN</td>\n      <td>NaN</td>\n      <td>NaN</td>\n      <td>NaN</td>\n      <td>NaN</td>\n      <td>NaN</td>\n      <td>NaN</td>\n      <td>NaN</td>\n      <td>NaN</td>\n      <td>NaN</td>\n    </tr>\n  </tbody>\n</table>\n<p>6 rows × 2871 columns</p>\n</div>"
     },
     "execution_count": 58,
     "metadata": {},
     "output_type": "execute_result"
    }
   ],
   "source": [
    "df2 = data_c['value']\n",
    "df1 + df2"
   ],
   "metadata": {
    "collapsed": false,
    "pycharm": {
     "name": "#%%\n"
    }
   }
  },
  {
   "cell_type": "code",
   "execution_count": null,
   "outputs": [],
   "source": [],
   "metadata": {
    "collapsed": false,
    "pycharm": {
     "name": "#%%\n"
    }
   }
  }
 ],
 "metadata": {
  "kernelspec": {
   "display_name": "Python 3",
   "language": "python",
   "name": "python3"
  },
  "language_info": {
   "codemirror_mode": {
    "name": "ipython",
    "version": 2
   },
   "file_extension": ".py",
   "mimetype": "text/x-python",
   "name": "python",
   "nbconvert_exporter": "python",
   "pygments_lexer": "ipython2",
   "version": "2.7.6"
  }
 },
 "nbformat": 4,
 "nbformat_minor": 0
}