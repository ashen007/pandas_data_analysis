{
 "cells": [
  {
   "cell_type": "markdown",
   "metadata": {
    "collapsed": true,
    "pycharm": {
     "name": "#%% md\n"
    }
   },
   "source": [
    "# import"
   ]
  },
  {
   "cell_type": "code",
   "execution_count": 1,
   "outputs": [],
   "source": [
    "import pandas as pd"
   ],
   "metadata": {
    "collapsed": false,
    "pycharm": {
     "name": "#%%\n"
    }
   }
  },
  {
   "cell_type": "code",
   "execution_count": 2,
   "outputs": [
    {
     "data": {
      "text/plain": "       country_or_area                                       element_code  \\\n0          Afghanistan                                                 11   \n1          Afghanistan                                                 11   \n2          Afghanistan                                                 11   \n3          Afghanistan                                                 11   \n4          Afghanistan                                                 11   \n...                ...                                                ...   \n104779              A   May include official, semi-official or estimat...   \n104780              F                                        FAO Estimate   \n104781              Q   Official data reported on FAO Questionnaires f...   \n104782              Fm                                  Manual Estimation   \n104783              I   Country data reported by International Organiz...   \n\n       element    year     unit    value value_footnotes  \\\n0         Area  2007.0  1000 Ha  38661.0              Q    \n1         Area  2006.0  1000 Ha  38659.0              Fm   \n2         Area  2005.0  1000 Ha  38515.0              Fm   \n3         Area  2004.0  1000 Ha  38064.0              Fm   \n4         Area  2003.0  1000 Ha  38899.0              Fm   \n...        ...     ...      ...      ...             ...   \n104779     NaN     NaN      NaN      NaN             NaN   \n104780     NaN     NaN      NaN      NaN             NaN   \n104781     NaN     NaN      NaN      NaN             NaN   \n104782     NaN     NaN      NaN      NaN             NaN   \n104783     NaN     NaN      NaN      NaN             NaN   \n\n                                  category  \n0                        agricultural_area  \n1                        agricultural_area  \n2                        agricultural_area  \n3                        agricultural_area  \n4                        agricultural_area  \n...                                    ...  \n104779  total_area_equipped_for_irrigation  \n104780  total_area_equipped_for_irrigation  \n104781  total_area_equipped_for_irrigation  \n104782  total_area_equipped_for_irrigation  \n104783  total_area_equipped_for_irrigation  \n\n[104784 rows x 8 columns]",
      "text/html": "<div>\n<style scoped>\n    .dataframe tbody tr th:only-of-type {\n        vertical-align: middle;\n    }\n\n    .dataframe tbody tr th {\n        vertical-align: top;\n    }\n\n    .dataframe thead th {\n        text-align: right;\n    }\n</style>\n<table border=\"1\" class=\"dataframe\">\n  <thead>\n    <tr style=\"text-align: right;\">\n      <th></th>\n      <th>country_or_area</th>\n      <th>element_code</th>\n      <th>element</th>\n      <th>year</th>\n      <th>unit</th>\n      <th>value</th>\n      <th>value_footnotes</th>\n      <th>category</th>\n    </tr>\n  </thead>\n  <tbody>\n    <tr>\n      <th>0</th>\n      <td>Afghanistan</td>\n      <td>11</td>\n      <td>Area</td>\n      <td>2007.0</td>\n      <td>1000 Ha</td>\n      <td>38661.0</td>\n      <td>Q</td>\n      <td>agricultural_area</td>\n    </tr>\n    <tr>\n      <th>1</th>\n      <td>Afghanistan</td>\n      <td>11</td>\n      <td>Area</td>\n      <td>2006.0</td>\n      <td>1000 Ha</td>\n      <td>38659.0</td>\n      <td>Fm</td>\n      <td>agricultural_area</td>\n    </tr>\n    <tr>\n      <th>2</th>\n      <td>Afghanistan</td>\n      <td>11</td>\n      <td>Area</td>\n      <td>2005.0</td>\n      <td>1000 Ha</td>\n      <td>38515.0</td>\n      <td>Fm</td>\n      <td>agricultural_area</td>\n    </tr>\n    <tr>\n      <th>3</th>\n      <td>Afghanistan</td>\n      <td>11</td>\n      <td>Area</td>\n      <td>2004.0</td>\n      <td>1000 Ha</td>\n      <td>38064.0</td>\n      <td>Fm</td>\n      <td>agricultural_area</td>\n    </tr>\n    <tr>\n      <th>4</th>\n      <td>Afghanistan</td>\n      <td>11</td>\n      <td>Area</td>\n      <td>2003.0</td>\n      <td>1000 Ha</td>\n      <td>38899.0</td>\n      <td>Fm</td>\n      <td>agricultural_area</td>\n    </tr>\n    <tr>\n      <th>...</th>\n      <td>...</td>\n      <td>...</td>\n      <td>...</td>\n      <td>...</td>\n      <td>...</td>\n      <td>...</td>\n      <td>...</td>\n      <td>...</td>\n    </tr>\n    <tr>\n      <th>104779</th>\n      <td>A</td>\n      <td>May include official, semi-official or estimat...</td>\n      <td>NaN</td>\n      <td>NaN</td>\n      <td>NaN</td>\n      <td>NaN</td>\n      <td>NaN</td>\n      <td>total_area_equipped_for_irrigation</td>\n    </tr>\n    <tr>\n      <th>104780</th>\n      <td>F</td>\n      <td>FAO Estimate</td>\n      <td>NaN</td>\n      <td>NaN</td>\n      <td>NaN</td>\n      <td>NaN</td>\n      <td>NaN</td>\n      <td>total_area_equipped_for_irrigation</td>\n    </tr>\n    <tr>\n      <th>104781</th>\n      <td>Q</td>\n      <td>Official data reported on FAO Questionnaires f...</td>\n      <td>NaN</td>\n      <td>NaN</td>\n      <td>NaN</td>\n      <td>NaN</td>\n      <td>NaN</td>\n      <td>total_area_equipped_for_irrigation</td>\n    </tr>\n    <tr>\n      <th>104782</th>\n      <td>Fm</td>\n      <td>Manual Estimation</td>\n      <td>NaN</td>\n      <td>NaN</td>\n      <td>NaN</td>\n      <td>NaN</td>\n      <td>NaN</td>\n      <td>total_area_equipped_for_irrigation</td>\n    </tr>\n    <tr>\n      <th>104783</th>\n      <td>I</td>\n      <td>Country data reported by International Organiz...</td>\n      <td>NaN</td>\n      <td>NaN</td>\n      <td>NaN</td>\n      <td>NaN</td>\n      <td>NaN</td>\n      <td>total_area_equipped_for_irrigation</td>\n    </tr>\n  </tbody>\n</table>\n<p>104784 rows × 8 columns</p>\n</div>"
     },
     "execution_count": 2,
     "metadata": {},
     "output_type": "execute_result"
    }
   ],
   "source": [
    "data = pd.read_csv('../../../../Data Sets/world agriculture/fao_data_land_data.csv')\n",
    "data"
   ],
   "metadata": {
    "collapsed": false,
    "pycharm": {
     "name": "#%%\n"
    }
   }
  },
  {
   "cell_type": "code",
   "execution_count": 3,
   "outputs": [
    {
     "data": {
      "text/plain": "0         2007.0\n1         2006.0\n2         2005.0\n3         2004.0\n4         2003.0\n           ...  \n104779       NaN\n104780       NaN\n104781       NaN\n104782       NaN\n104783       NaN\nName: year, Length: 104784, dtype: float64"
     },
     "execution_count": 3,
     "metadata": {},
     "output_type": "execute_result"
    }
   ],
   "source": [
    "obj = pd.Series(data['year'])\n",
    "obj"
   ],
   "metadata": {
    "collapsed": false,
    "pycharm": {
     "name": "#%%\n"
    }
   }
  },
  {
   "cell_type": "code",
   "execution_count": 4,
   "outputs": [
    {
     "data": {
      "text/plain": "(array([2007., 2006., 2005., ...,   nan,   nan,   nan]),\n RangeIndex(start=0, stop=104784, step=1))"
     },
     "execution_count": 4,
     "metadata": {},
     "output_type": "execute_result"
    }
   ],
   "source": [
    "obj.values, obj.index"
   ],
   "metadata": {
    "collapsed": false,
    "pycharm": {
     "name": "#%%\n"
    }
   }
  },
  {
   "cell_type": "code",
   "execution_count": null,
   "outputs": [],
   "source": [],
   "metadata": {
    "collapsed": false,
    "pycharm": {
     "name": "#%%\n"
    }
   }
  }
 ],
 "metadata": {
  "kernelspec": {
   "display_name": "Python 3",
   "language": "python",
   "name": "python3"
  },
  "language_info": {
   "codemirror_mode": {
    "name": "ipython",
    "version": 2
   },
   "file_extension": ".py",
   "mimetype": "text/x-python",
   "name": "python",
   "nbconvert_exporter": "python",
   "pygments_lexer": "ipython2",
   "version": "2.7.6"
  }
 },
 "nbformat": 4,
 "nbformat_minor": 0
}